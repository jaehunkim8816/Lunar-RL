{
 "cells": [
  {
   "cell_type": "code",
   "execution_count": 1,
   "metadata": {},
   "outputs": [
    {
     "name": "stdout",
     "output_type": "stream",
     "text": [
      "사용 가능한 GPU 수: 1\n",
      "현재 선택된 GPU: 0\n",
      "GPU 0: GeForce GTX 1060 6GB\n"
     ]
    },
    {
     "name": "stderr",
     "output_type": "stream",
     "text": [
      "c:\\Users\\user\\anaconda3\\envs\\test_RL\\lib\\site-packages\\tqdm\\auto.py:21: TqdmWarning: IProgress not found. Please update jupyter and ipywidgets. See https://ipywidgets.readthedocs.io/en/stable/user_install.html\n",
      "  from .autonotebook import tqdm as notebook_tqdm\n"
     ]
    }
   ],
   "source": [
    "import torch\n",
    "\n",
    "# GPU를 사용할 수 있는지 확인\n",
    "if torch.cuda.is_available():\n",
    "    # 사용 가능한 GPU 디바이스 개수 확인\n",
    "    num_gpu = torch.cuda.device_count()\n",
    "    print(f\"사용 가능한 GPU 수: {num_gpu}\")\n",
    "\n",
    "    # 현재 선택된 GPU 디바이스 확인\n",
    "    current_gpu = torch.cuda.current_device()\n",
    "    print(f\"현재 선택된 GPU: {current_gpu}\")\n",
    "\n",
    "    # 사용 가능한 GPU 디바이스 목록 확인\n",
    "    for i in range(num_gpu):\n",
    "        print(f\"GPU {i}: {torch.cuda.get_device_name(i)}\")\n",
    "else:\n",
    "    print(\"GPU를 사용할 수 없습니다.\")\n"
   ]
  },
  {
   "cell_type": "code",
   "execution_count": 2,
   "metadata": {},
   "outputs": [],
   "source": [
    "# !pip install opencv-python\n",
    "# !pip install gym[all,accept-rom-license]\n",
    "# !pip install swig\n",
    "# !pip install --upgrade pip setuptools wheel\n",
    "# !pip install --upgrade gym\n",
    "# !pip install tqdm\n",
    "# !pip install gym[box2d]\n",
    "# !pip install pyvirtualdisplay moviepy\n",
    "# !pip install pandas"
   ]
  },
  {
   "cell_type": "code",
   "execution_count": 3,
   "metadata": {},
   "outputs": [],
   "source": [
    "import gym\n",
    "import torch\n",
    "import torch.nn as nn\n",
    "import torch.optim as optim\n",
    "import torch.nn.functional as F\n",
    "import numpy as np\n",
    "from collections import deque\n",
    "import random\n",
    "from tqdm import tqdm\n",
    "import collections\n",
    "import matplotlib.pyplot as plt\n",
    "import pandas as pd\n",
    "import time"
   ]
  },
  {
   "cell_type": "code",
   "execution_count": 6,
   "metadata": {},
   "outputs": [
    {
     "name": "stdout",
     "output_type": "stream",
     "text": [
      "설치된 환경 목록: [('ALE/Adventure-v5', EnvSpec(id='ALE/Adventure-v5', entry_point='ale_py.env.gym:AtariEnv', reward_threshold=None, nondeterministic=False, max_episode_steps=None, order_enforce=True, autoreset=False, disable_env_checker=False, apply_api_compatibility=False, kwargs={'game': 'adventure', 'obs_type': 'rgb', 'repeat_action_probability': 0.25, 'full_action_space': False, 'frameskip': 4, 'max_num_frames_per_episode': 108000}, namespace='ALE', name='Adventure', version=5)), ('ALE/Adventure-ram-v5', EnvSpec(id='ALE/Adventure-ram-v5', entry_point='ale_py.env.gym:AtariEnv', reward_threshold=None, nondeterministic=False, max_episode_steps=None, order_enforce=True, autoreset=False, disable_env_checker=False, apply_api_compatibility=False, kwargs={'game': 'adventure', 'obs_type': 'ram', 'repeat_action_probability': 0.25, 'full_action_space': False, 'frameskip': 4, 'max_num_frames_per_episode': 108000}, namespace='ALE', name='Adventure-ram', version=5)), ('ALE/AirRaid-v5', EnvSpec(id='ALE/AirRaid-v5', entry_point='ale_py.env.gym:AtariEnv', reward_threshold=None, nondeterministic=False, max_episode_steps=None, order_enforce=True, autoreset=False, disable_env_checker=False, apply_api_compatibility=False, kwargs={'game': 'air_raid', 'obs_type': 'rgb', 'repeat_action_probability': 0.25, 'full_action_space': False, 'frameskip': 4, 'max_num_frames_per_episode': 108000}, namespace='ALE', name='AirRaid', version=5)), ('ALE/AirRaid-ram-v5', EnvSpec(id='ALE/AirRaid-ram-v5', entry_point='ale_py.env.gym:AtariEnv', reward_threshold=None, nondeterministic=False, max_episode_steps=None, order_enforce=True, autoreset=False, disable_env_checker=False, apply_api_compatibility=False, kwargs={'game': 'air_raid', 'obs_type': 'ram', 'repeat_action_probability': 0.25, 'full_action_space': False, 'frameskip': 4, 'max_num_frames_per_episode': 108000}, namespace='ALE', name='AirRaid-ram', version=5)), ('ALE/Alien-v5', EnvSpec(id='ALE/Alien-v5', entry_point='ale_py.env.gym:AtariEnv', reward_threshold=None, nondeterministic=False, max_episode_steps=None, order_enforce=True, autoreset=False, disable_env_checker=False, apply_api_compatibility=False, kwargs={'game': 'alien', 'obs_type': 'rgb', 'repeat_action_probability': 0.25, 'full_action_space': False, 'frameskip': 4, 'max_num_frames_per_episode': 108000}, namespace='ALE', name='Alien', version=5)), ('ALE/Alien-ram-v5', EnvSpec(id='ALE/Alien-ram-v5', entry_point='ale_py.env.gym:AtariEnv', reward_threshold=None, nondeterministic=False, max_episode_steps=None, order_enforce=True, autoreset=False, disable_env_checker=False, apply_api_compatibility=False, kwargs={'game': 'alien', 'obs_type': 'ram', 'repeat_action_probability': 0.25, 'full_action_space': False, 'frameskip': 4, 'max_num_frames_per_episode': 108000}, namespace='ALE', name='Alien-ram', version=5)), ('ALE/Amidar-v5', EnvSpec(id='ALE/Amidar-v5', entry_point='ale_py.env.gym:AtariEnv', reward_threshold=None, nondeterministic=False, max_episode_steps=None, order_enforce=True, autoreset=False, disable_env_checker=False, apply_api_compatibility=False, kwargs={'game': 'amidar', 'obs_type': 'rgb', 'repeat_action_probability': 0.25, 'full_action_space': False, 'frameskip': 4, 'max_num_frames_per_episode': 108000}, namespace='ALE', name='Amidar', version=5)), ('ALE/Amidar-ram-v5', EnvSpec(id='ALE/Amidar-ram-v5', entry_point='ale_py.env.gym:AtariEnv', reward_threshold=None, nondeterministic=False, max_episode_steps=None, order_enforce=True, autoreset=False, disable_env_checker=False, apply_api_compatibility=False, kwargs={'game': 'amidar', 'obs_type': 'ram', 'repeat_action_probability': 0.25, 'full_action_space': False, 'frameskip': 4, 'max_num_frames_per_episode': 108000}, namespace='ALE', name='Amidar-ram', version=5)), ('ALE/Assault-v5', EnvSpec(id='ALE/Assault-v5', entry_point='ale_py.env.gym:AtariEnv', reward_threshold=None, nondeterministic=False, max_episode_steps=None, order_enforce=True, autoreset=False, disable_env_checker=False, apply_api_compatibility=False, kwargs={'game': 'assault', 'obs_type': 'rgb', 'repeat_action_probability': 0.25, 'full_action_space': False, 'frameskip': 4, 'max_num_frames_per_episode': 108000}, namespace='ALE', name='Assault', version=5)), ('ALE/Assault-ram-v5', EnvSpec(id='ALE/Assault-ram-v5', entry_point='ale_py.env.gym:AtariEnv', reward_threshold=None, nondeterministic=False, max_episode_steps=None, order_enforce=True, autoreset=False, disable_env_checker=False, apply_api_compatibility=False, kwargs={'game': 'assault', 'obs_type': 'ram', 'repeat_action_probability': 0.25, 'full_action_space': False, 'frameskip': 4, 'max_num_frames_per_episode': 108000}, namespace='ALE', name='Assault-ram', version=5)), ('ALE/Asterix-v5', EnvSpec(id='ALE/Asterix-v5', entry_point='ale_py.env.gym:AtariEnv', reward_threshold=None, nondeterministic=False, max_episode_steps=None, order_enforce=True, autoreset=False, disable_env_checker=False, apply_api_compatibility=False, kwargs={'game': 'asterix', 'obs_type': 'rgb', 'repeat_action_probability': 0.25, 'full_action_space': False, 'frameskip': 4, 'max_num_frames_per_episode': 108000}, namespace='ALE', name='Asterix', version=5)), ('ALE/Asterix-ram-v5', EnvSpec(id='ALE/Asterix-ram-v5', entry_point='ale_py.env.gym:AtariEnv', reward_threshold=None, nondeterministic=False, max_episode_steps=None, order_enforce=True, autoreset=False, disable_env_checker=False, apply_api_compatibility=False, kwargs={'game': 'asterix', 'obs_type': 'ram', 'repeat_action_probability': 0.25, 'full_action_space': False, 'frameskip': 4, 'max_num_frames_per_episode': 108000}, namespace='ALE', name='Asterix-ram', version=5)), ('ALE/Asteroids-v5', EnvSpec(id='ALE/Asteroids-v5', entry_point='ale_py.env.gym:AtariEnv', reward_threshold=None, nondeterministic=False, max_episode_steps=None, order_enforce=True, autoreset=False, disable_env_checker=False, apply_api_compatibility=False, kwargs={'game': 'asteroids', 'obs_type': 'rgb', 'repeat_action_probability': 0.25, 'full_action_space': False, 'frameskip': 4, 'max_num_frames_per_episode': 108000}, namespace='ALE', name='Asteroids', version=5)), ('ALE/Asteroids-ram-v5', EnvSpec(id='ALE/Asteroids-ram-v5', entry_point='ale_py.env.gym:AtariEnv', reward_threshold=None, nondeterministic=False, max_episode_steps=None, order_enforce=True, autoreset=False, disable_env_checker=False, apply_api_compatibility=False, kwargs={'game': 'asteroids', 'obs_type': 'ram', 'repeat_action_probability': 0.25, 'full_action_space': False, 'frameskip': 4, 'max_num_frames_per_episode': 108000}, namespace='ALE', name='Asteroids-ram', version=5)), ('ALE/Atlantis-v5', EnvSpec(id='ALE/Atlantis-v5', entry_point='ale_py.env.gym:AtariEnv', reward_threshold=None, nondeterministic=False, max_episode_steps=None, order_enforce=True, autoreset=False, disable_env_checker=False, apply_api_compatibility=False, kwargs={'game': 'atlantis', 'obs_type': 'rgb', 'repeat_action_probability': 0.25, 'full_action_space': False, 'frameskip': 4, 'max_num_frames_per_episode': 108000}, namespace='ALE', name='Atlantis', version=5)), ('ALE/Atlantis-ram-v5', EnvSpec(id='ALE/Atlantis-ram-v5', entry_point='ale_py.env.gym:AtariEnv', reward_threshold=None, nondeterministic=False, max_episode_steps=None, order_enforce=True, autoreset=False, disable_env_checker=False, apply_api_compatibility=False, kwargs={'game': 'atlantis', 'obs_type': 'ram', 'repeat_action_probability': 0.25, 'full_action_space': False, 'frameskip': 4, 'max_num_frames_per_episode': 108000}, namespace='ALE', name='Atlantis-ram', version=5)), ('ALE/Atlantis2-v5', EnvSpec(id='ALE/Atlantis2-v5', entry_point='ale_py.env.gym:AtariEnv', reward_threshold=None, nondeterministic=False, max_episode_steps=None, order_enforce=True, autoreset=False, disable_env_checker=False, apply_api_compatibility=False, kwargs={'game': 'atlantis2', 'obs_type': 'rgb', 'repeat_action_probability': 0.25, 'full_action_space': False, 'frameskip': 4, 'max_num_frames_per_episode': 108000}, namespace='ALE', name='Atlantis2', version=5)), ('ALE/Atlantis2-ram-v5', EnvSpec(id='ALE/Atlantis2-ram-v5', entry_point='ale_py.env.gym:AtariEnv', reward_threshold=None, nondeterministic=False, max_episode_steps=None, order_enforce=True, autoreset=False, disable_env_checker=False, apply_api_compatibility=False, kwargs={'game': 'atlantis2', 'obs_type': 'ram', 'repeat_action_probability': 0.25, 'full_action_space': False, 'frameskip': 4, 'max_num_frames_per_episode': 108000}, namespace='ALE', name='Atlantis2-ram', version=5)), ('ALE/Backgammon-v5', EnvSpec(id='ALE/Backgammon-v5', entry_point='ale_py.env.gym:AtariEnv', reward_threshold=None, nondeterministic=False, max_episode_steps=None, order_enforce=True, autoreset=False, disable_env_checker=False, apply_api_compatibility=False, kwargs={'game': 'backgammon', 'obs_type': 'rgb', 'repeat_action_probability': 0.25, 'full_action_space': False, 'frameskip': 4, 'max_num_frames_per_episode': 108000}, namespace='ALE', name='Backgammon', version=5)), ('ALE/Backgammon-ram-v5', EnvSpec(id='ALE/Backgammon-ram-v5', entry_point='ale_py.env.gym:AtariEnv', reward_threshold=None, nondeterministic=False, max_episode_steps=None, order_enforce=True, autoreset=False, disable_env_checker=False, apply_api_compatibility=False, kwargs={'game': 'backgammon', 'obs_type': 'ram', 'repeat_action_probability': 0.25, 'full_action_space': False, 'frameskip': 4, 'max_num_frames_per_episode': 108000}, namespace='ALE', name='Backgammon-ram', version=5)), ('ALE/BankHeist-v5', EnvSpec(id='ALE/BankHeist-v5', entry_point='ale_py.env.gym:AtariEnv', reward_threshold=None, nondeterministic=False, max_episode_steps=None, order_enforce=True, autoreset=False, disable_env_checker=False, apply_api_compatibility=False, kwargs={'game': 'bank_heist', 'obs_type': 'rgb', 'repeat_action_probability': 0.25, 'full_action_space': False, 'frameskip': 4, 'max_num_frames_per_episode': 108000}, namespace='ALE', name='BankHeist', version=5)), ('ALE/BankHeist-ram-v5', EnvSpec(id='ALE/BankHeist-ram-v5', entry_point='ale_py.env.gym:AtariEnv', reward_threshold=None, nondeterministic=False, max_episode_steps=None, order_enforce=True, autoreset=False, disable_env_checker=False, apply_api_compatibility=False, kwargs={'game': 'bank_heist', 'obs_type': 'ram', 'repeat_action_probability': 0.25, 'full_action_space': False, 'frameskip': 4, 'max_num_frames_per_episode': 108000}, namespace='ALE', name='BankHeist-ram', version=5)), ('ALE/BasicMath-v5', EnvSpec(id='ALE/BasicMath-v5', entry_point='ale_py.env.gym:AtariEnv', reward_threshold=None, nondeterministic=False, max_episode_steps=None, order_enforce=True, autoreset=False, disable_env_checker=False, apply_api_compatibility=False, kwargs={'game': 'basic_math', 'obs_type': 'rgb', 'repeat_action_probability': 0.25, 'full_action_space': False, 'frameskip': 4, 'max_num_frames_per_episode': 108000}, namespace='ALE', name='BasicMath', version=5)), ('ALE/BasicMath-ram-v5', EnvSpec(id='ALE/BasicMath-ram-v5', entry_point='ale_py.env.gym:AtariEnv', reward_threshold=None, nondeterministic=False, max_episode_steps=None, order_enforce=True, autoreset=False, disable_env_checker=False, apply_api_compatibility=False, kwargs={'game': 'basic_math', 'obs_type': 'ram', 'repeat_action_probability': 0.25, 'full_action_space': False, 'frameskip': 4, 'max_num_frames_per_episode': 108000}, namespace='ALE', name='BasicMath-ram', version=5)), ('ALE/BattleZone-v5', EnvSpec(id='ALE/BattleZone-v5', entry_point='ale_py.env.gym:AtariEnv', reward_threshold=None, nondeterministic=False, max_episode_steps=None, order_enforce=True, autoreset=False, disable_env_checker=False, apply_api_compatibility=False, kwargs={'game': 'battle_zone', 'obs_type': 'rgb', 'repeat_action_probability': 0.25, 'full_action_space': False, 'frameskip': 4, 'max_num_frames_per_episode': 108000}, namespace='ALE', name='BattleZone', version=5)), ('ALE/BattleZone-ram-v5', EnvSpec(id='ALE/BattleZone-ram-v5', entry_point='ale_py.env.gym:AtariEnv', reward_threshold=None, nondeterministic=False, max_episode_steps=None, order_enforce=True, autoreset=False, disable_env_checker=False, apply_api_compatibility=False, kwargs={'game': 'battle_zone', 'obs_type': 'ram', 'repeat_action_probability': 0.25, 'full_action_space': False, 'frameskip': 4, 'max_num_frames_per_episode': 108000}, namespace='ALE', name='BattleZone-ram', version=5)), ('ALE/BeamRider-v5', EnvSpec(id='ALE/BeamRider-v5', entry_point='ale_py.env.gym:AtariEnv', reward_threshold=None, nondeterministic=False, max_episode_steps=None, order_enforce=True, autoreset=False, disable_env_checker=False, apply_api_compatibility=False, kwargs={'game': 'beam_rider', 'obs_type': 'rgb', 'repeat_action_probability': 0.25, 'full_action_space': False, 'frameskip': 4, 'max_num_frames_per_episode': 108000}, namespace='ALE', name='BeamRider', version=5)), ('ALE/BeamRider-ram-v5', EnvSpec(id='ALE/BeamRider-ram-v5', entry_point='ale_py.env.gym:AtariEnv', reward_threshold=None, nondeterministic=False, max_episode_steps=None, order_enforce=True, autoreset=False, disable_env_checker=False, apply_api_compatibility=False, kwargs={'game': 'beam_rider', 'obs_type': 'ram', 'repeat_action_probability': 0.25, 'full_action_space': False, 'frameskip': 4, 'max_num_frames_per_episode': 108000}, namespace='ALE', name='BeamRider-ram', version=5)), ('ALE/Berzerk-v5', EnvSpec(id='ALE/Berzerk-v5', entry_point='ale_py.env.gym:AtariEnv', reward_threshold=None, nondeterministic=False, max_episode_steps=None, order_enforce=True, autoreset=False, disable_env_checker=False, apply_api_compatibility=False, kwargs={'game': 'berzerk', 'obs_type': 'rgb', 'repeat_action_probability': 0.25, 'full_action_space': False, 'frameskip': 4, 'max_num_frames_per_episode': 108000}, namespace='ALE', name='Berzerk', version=5)), ('ALE/Berzerk-ram-v5', EnvSpec(id='ALE/Berzerk-ram-v5', entry_point='ale_py.env.gym:AtariEnv', reward_threshold=None, nondeterministic=False, max_episode_steps=None, order_enforce=True, autoreset=False, disable_env_checker=False, apply_api_compatibility=False, kwargs={'game': 'berzerk', 'obs_type': 'ram', 'repeat_action_probability': 0.25, 'full_action_space': False, 'frameskip': 4, 'max_num_frames_per_episode': 108000}, namespace='ALE', name='Berzerk-ram', version=5)), ('ALE/Blackjack-v5', EnvSpec(id='ALE/Blackjack-v5', entry_point='ale_py.env.gym:AtariEnv', reward_threshold=None, nondeterministic=False, max_episode_steps=None, order_enforce=True, autoreset=False, disable_env_checker=False, apply_api_compatibility=False, kwargs={'game': 'blackjack', 'obs_type': 'rgb', 'repeat_action_probability': 0.25, 'full_action_space': False, 'frameskip': 4, 'max_num_frames_per_episode': 108000}, namespace='ALE', name='Blackjack', version=5)), ('ALE/Blackjack-ram-v5', EnvSpec(id='ALE/Blackjack-ram-v5', entry_point='ale_py.env.gym:AtariEnv', reward_threshold=None, nondeterministic=False, max_episode_steps=None, order_enforce=True, autoreset=False, disable_env_checker=False, apply_api_compatibility=False, kwargs={'game': 'blackjack', 'obs_type': 'ram', 'repeat_action_probability': 0.25, 'full_action_space': False, 'frameskip': 4, 'max_num_frames_per_episode': 108000}, namespace='ALE', name='Blackjack-ram', version=5)), ('ALE/Bowling-v5', EnvSpec(id='ALE/Bowling-v5', entry_point='ale_py.env.gym:AtariEnv', reward_threshold=None, nondeterministic=False, max_episode_steps=None, order_enforce=True, autoreset=False, disable_env_checker=False, apply_api_compatibility=False, kwargs={'game': 'bowling', 'obs_type': 'rgb', 'repeat_action_probability': 0.25, 'full_action_space': False, 'frameskip': 4, 'max_num_frames_per_episode': 108000}, namespace='ALE', name='Bowling', version=5)), ('ALE/Bowling-ram-v5', EnvSpec(id='ALE/Bowling-ram-v5', entry_point='ale_py.env.gym:AtariEnv', reward_threshold=None, nondeterministic=False, max_episode_steps=None, order_enforce=True, autoreset=False, disable_env_checker=False, apply_api_compatibility=False, kwargs={'game': 'bowling', 'obs_type': 'ram', 'repeat_action_probability': 0.25, 'full_action_space': False, 'frameskip': 4, 'max_num_frames_per_episode': 108000}, namespace='ALE', name='Bowling-ram', version=5)), ('ALE/Boxing-v5', EnvSpec(id='ALE/Boxing-v5', entry_point='ale_py.env.gym:AtariEnv', reward_threshold=None, nondeterministic=False, max_episode_steps=None, order_enforce=True, autoreset=False, disable_env_checker=False, apply_api_compatibility=False, kwargs={'game': 'boxing', 'obs_type': 'rgb', 'repeat_action_probability': 0.25, 'full_action_space': False, 'frameskip': 4, 'max_num_frames_per_episode': 108000}, namespace='ALE', name='Boxing', version=5)), ('ALE/Boxing-ram-v5', EnvSpec(id='ALE/Boxing-ram-v5', entry_point='ale_py.env.gym:AtariEnv', reward_threshold=None, nondeterministic=False, max_episode_steps=None, order_enforce=True, autoreset=False, disable_env_checker=False, apply_api_compatibility=False, kwargs={'game': 'boxing', 'obs_type': 'ram', 'repeat_action_probability': 0.25, 'full_action_space': False, 'frameskip': 4, 'max_num_frames_per_episode': 108000}, namespace='ALE', name='Boxing-ram', version=5)), ('ALE/Breakout-v5', EnvSpec(id='ALE/Breakout-v5', entry_point='ale_py.env.gym:AtariEnv', reward_threshold=None, nondeterministic=False, max_episode_steps=None, order_enforce=True, autoreset=False, disable_env_checker=False, apply_api_compatibility=False, kwargs={'game': 'breakout', 'obs_type': 'rgb', 'repeat_action_probability': 0.25, 'full_action_space': False, 'frameskip': 4, 'max_num_frames_per_episode': 108000}, namespace='ALE', name='Breakout', version=5)), ('ALE/Breakout-ram-v5', EnvSpec(id='ALE/Breakout-ram-v5', entry_point='ale_py.env.gym:AtariEnv', reward_threshold=None, nondeterministic=False, max_episode_steps=None, order_enforce=True, autoreset=False, disable_env_checker=False, apply_api_compatibility=False, kwargs={'game': 'breakout', 'obs_type': 'ram', 'repeat_action_probability': 0.25, 'full_action_space': False, 'frameskip': 4, 'max_num_frames_per_episode': 108000}, namespace='ALE', name='Breakout-ram', version=5)), ('ALE/Carnival-v5', EnvSpec(id='ALE/Carnival-v5', entry_point='ale_py.env.gym:AtariEnv', reward_threshold=None, nondeterministic=False, max_episode_steps=None, order_enforce=True, autoreset=False, disable_env_checker=False, apply_api_compatibility=False, kwargs={'game': 'carnival', 'obs_type': 'rgb', 'repeat_action_probability': 0.25, 'full_action_space': False, 'frameskip': 4, 'max_num_frames_per_episode': 108000}, namespace='ALE', name='Carnival', version=5)), ('ALE/Carnival-ram-v5', EnvSpec(id='ALE/Carnival-ram-v5', entry_point='ale_py.env.gym:AtariEnv', reward_threshold=None, nondeterministic=False, max_episode_steps=None, order_enforce=True, autoreset=False, disable_env_checker=False, apply_api_compatibility=False, kwargs={'game': 'carnival', 'obs_type': 'ram', 'repeat_action_probability': 0.25, 'full_action_space': False, 'frameskip': 4, 'max_num_frames_per_episode': 108000}, namespace='ALE', name='Carnival-ram', version=5)), ('ALE/Casino-v5', EnvSpec(id='ALE/Casino-v5', entry_point='ale_py.env.gym:AtariEnv', reward_threshold=None, nondeterministic=False, max_episode_steps=None, order_enforce=True, autoreset=False, disable_env_checker=False, apply_api_compatibility=False, kwargs={'game': 'casino', 'obs_type': 'rgb', 'repeat_action_probability': 0.25, 'full_action_space': False, 'frameskip': 4, 'max_num_frames_per_episode': 108000}, namespace='ALE', name='Casino', version=5)), ('ALE/Casino-ram-v5', EnvSpec(id='ALE/Casino-ram-v5', entry_point='ale_py.env.gym:AtariEnv', reward_threshold=None, nondeterministic=False, max_episode_steps=None, order_enforce=True, autoreset=False, disable_env_checker=False, apply_api_compatibility=False, kwargs={'game': 'casino', 'obs_type': 'ram', 'repeat_action_probability': 0.25, 'full_action_space': False, 'frameskip': 4, 'max_num_frames_per_episode': 108000}, namespace='ALE', name='Casino-ram', version=5)), ('ALE/Centipede-v5', EnvSpec(id='ALE/Centipede-v5', entry_point='ale_py.env.gym:AtariEnv', reward_threshold=None, nondeterministic=False, max_episode_steps=None, order_enforce=True, autoreset=False, disable_env_checker=False, apply_api_compatibility=False, kwargs={'game': 'centipede', 'obs_type': 'rgb', 'repeat_action_probability': 0.25, 'full_action_space': False, 'frameskip': 4, 'max_num_frames_per_episode': 108000}, namespace='ALE', name='Centipede', version=5)), ('ALE/Centipede-ram-v5', EnvSpec(id='ALE/Centipede-ram-v5', entry_point='ale_py.env.gym:AtariEnv', reward_threshold=None, nondeterministic=False, max_episode_steps=None, order_enforce=True, autoreset=False, disable_env_checker=False, apply_api_compatibility=False, kwargs={'game': 'centipede', 'obs_type': 'ram', 'repeat_action_probability': 0.25, 'full_action_space': False, 'frameskip': 4, 'max_num_frames_per_episode': 108000}, namespace='ALE', name='Centipede-ram', version=5)), ('ALE/ChopperCommand-v5', EnvSpec(id='ALE/ChopperCommand-v5', entry_point='ale_py.env.gym:AtariEnv', reward_threshold=None, nondeterministic=False, max_episode_steps=None, order_enforce=True, autoreset=False, disable_env_checker=False, apply_api_compatibility=False, kwargs={'game': 'chopper_command', 'obs_type': 'rgb', 'repeat_action_probability': 0.25, 'full_action_space': False, 'frameskip': 4, 'max_num_frames_per_episode': 108000}, namespace='ALE', name='ChopperCommand', version=5)), ('ALE/ChopperCommand-ram-v5', EnvSpec(id='ALE/ChopperCommand-ram-v5', entry_point='ale_py.env.gym:AtariEnv', reward_threshold=None, nondeterministic=False, max_episode_steps=None, order_enforce=True, autoreset=False, disable_env_checker=False, apply_api_compatibility=False, kwargs={'game': 'chopper_command', 'obs_type': 'ram', 'repeat_action_probability': 0.25, 'full_action_space': False, 'frameskip': 4, 'max_num_frames_per_episode': 108000}, namespace='ALE', name='ChopperCommand-ram', version=5)), ('ALE/CrazyClimber-v5', EnvSpec(id='ALE/CrazyClimber-v5', entry_point='ale_py.env.gym:AtariEnv', reward_threshold=None, nondeterministic=False, max_episode_steps=None, order_enforce=True, autoreset=False, disable_env_checker=False, apply_api_compatibility=False, kwargs={'game': 'crazy_climber', 'obs_type': 'rgb', 'repeat_action_probability': 0.25, 'full_action_space': False, 'frameskip': 4, 'max_num_frames_per_episode': 108000}, namespace='ALE', name='CrazyClimber', version=5)), ('ALE/CrazyClimber-ram-v5', EnvSpec(id='ALE/CrazyClimber-ram-v5', entry_point='ale_py.env.gym:AtariEnv', reward_threshold=None, nondeterministic=False, max_episode_steps=None, order_enforce=True, autoreset=False, disable_env_checker=False, apply_api_compatibility=False, kwargs={'game': 'crazy_climber', 'obs_type': 'ram', 'repeat_action_probability': 0.25, 'full_action_space': False, 'frameskip': 4, 'max_num_frames_per_episode': 108000}, namespace='ALE', name='CrazyClimber-ram', version=5)), ('ALE/Crossbow-v5', EnvSpec(id='ALE/Crossbow-v5', entry_point='ale_py.env.gym:AtariEnv', reward_threshold=None, nondeterministic=False, max_episode_steps=None, order_enforce=True, autoreset=False, disable_env_checker=False, apply_api_compatibility=False, kwargs={'game': 'crossbow', 'obs_type': 'rgb', 'repeat_action_probability': 0.25, 'full_action_space': False, 'frameskip': 4, 'max_num_frames_per_episode': 108000}, namespace='ALE', name='Crossbow', version=5)), ('ALE/Crossbow-ram-v5', EnvSpec(id='ALE/Crossbow-ram-v5', entry_point='ale_py.env.gym:AtariEnv', reward_threshold=None, nondeterministic=False, max_episode_steps=None, order_enforce=True, autoreset=False, disable_env_checker=False, apply_api_compatibility=False, kwargs={'game': 'crossbow', 'obs_type': 'ram', 'repeat_action_probability': 0.25, 'full_action_space': False, 'frameskip': 4, 'max_num_frames_per_episode': 108000}, namespace='ALE', name='Crossbow-ram', version=5)), ('ALE/Darkchambers-v5', EnvSpec(id='ALE/Darkchambers-v5', entry_point='ale_py.env.gym:AtariEnv', reward_threshold=None, nondeterministic=False, max_episode_steps=None, order_enforce=True, autoreset=False, disable_env_checker=False, apply_api_compatibility=False, kwargs={'game': 'darkchambers', 'obs_type': 'rgb', 'repeat_action_probability': 0.25, 'full_action_space': False, 'frameskip': 4, 'max_num_frames_per_episode': 108000}, namespace='ALE', name='Darkchambers', version=5)), ('ALE/Darkchambers-ram-v5', EnvSpec(id='ALE/Darkchambers-ram-v5', entry_point='ale_py.env.gym:AtariEnv', reward_threshold=None, nondeterministic=False, max_episode_steps=None, order_enforce=True, autoreset=False, disable_env_checker=False, apply_api_compatibility=False, kwargs={'game': 'darkchambers', 'obs_type': 'ram', 'repeat_action_probability': 0.25, 'full_action_space': False, 'frameskip': 4, 'max_num_frames_per_episode': 108000}, namespace='ALE', name='Darkchambers-ram', version=5)), ('ALE/Defender-v5', EnvSpec(id='ALE/Defender-v5', entry_point='ale_py.env.gym:AtariEnv', reward_threshold=None, nondeterministic=False, max_episode_steps=None, order_enforce=True, autoreset=False, disable_env_checker=False, apply_api_compatibility=False, kwargs={'game': 'defender', 'obs_type': 'rgb', 'repeat_action_probability': 0.25, 'full_action_space': False, 'frameskip': 4, 'max_num_frames_per_episode': 108000}, namespace='ALE', name='Defender', version=5)), ('ALE/Defender-ram-v5', EnvSpec(id='ALE/Defender-ram-v5', entry_point='ale_py.env.gym:AtariEnv', reward_threshold=None, nondeterministic=False, max_episode_steps=None, order_enforce=True, autoreset=False, disable_env_checker=False, apply_api_compatibility=False, kwargs={'game': 'defender', 'obs_type': 'ram', 'repeat_action_probability': 0.25, 'full_action_space': False, 'frameskip': 4, 'max_num_frames_per_episode': 108000}, namespace='ALE', name='Defender-ram', version=5)), ('ALE/DemonAttack-v5', EnvSpec(id='ALE/DemonAttack-v5', entry_point='ale_py.env.gym:AtariEnv', reward_threshold=None, nondeterministic=False, max_episode_steps=None, order_enforce=True, autoreset=False, disable_env_checker=False, apply_api_compatibility=False, kwargs={'game': 'demon_attack', 'obs_type': 'rgb', 'repeat_action_probability': 0.25, 'full_action_space': False, 'frameskip': 4, 'max_num_frames_per_episode': 108000}, namespace='ALE', name='DemonAttack', version=5)), ('ALE/DemonAttack-ram-v5', EnvSpec(id='ALE/DemonAttack-ram-v5', entry_point='ale_py.env.gym:AtariEnv', reward_threshold=None, nondeterministic=False, max_episode_steps=None, order_enforce=True, autoreset=False, disable_env_checker=False, apply_api_compatibility=False, kwargs={'game': 'demon_attack', 'obs_type': 'ram', 'repeat_action_probability': 0.25, 'full_action_space': False, 'frameskip': 4, 'max_num_frames_per_episode': 108000}, namespace='ALE', name='DemonAttack-ram', version=5)), ('ALE/DonkeyKong-v5', EnvSpec(id='ALE/DonkeyKong-v5', entry_point='ale_py.env.gym:AtariEnv', reward_threshold=None, nondeterministic=False, max_episode_steps=None, order_enforce=True, autoreset=False, disable_env_checker=False, apply_api_compatibility=False, kwargs={'game': 'donkey_kong', 'obs_type': 'rgb', 'repeat_action_probability': 0.25, 'full_action_space': False, 'frameskip': 4, 'max_num_frames_per_episode': 108000}, namespace='ALE', name='DonkeyKong', version=5)), ('ALE/DonkeyKong-ram-v5', EnvSpec(id='ALE/DonkeyKong-ram-v5', entry_point='ale_py.env.gym:AtariEnv', reward_threshold=None, nondeterministic=False, max_episode_steps=None, order_enforce=True, autoreset=False, disable_env_checker=False, apply_api_compatibility=False, kwargs={'game': 'donkey_kong', 'obs_type': 'ram', 'repeat_action_probability': 0.25, 'full_action_space': False, 'frameskip': 4, 'max_num_frames_per_episode': 108000}, namespace='ALE', name='DonkeyKong-ram', version=5)), ('ALE/DoubleDunk-v5', EnvSpec(id='ALE/DoubleDunk-v5', entry_point='ale_py.env.gym:AtariEnv', reward_threshold=None, nondeterministic=False, max_episode_steps=None, order_enforce=True, autoreset=False, disable_env_checker=False, apply_api_compatibility=False, kwargs={'game': 'double_dunk', 'obs_type': 'rgb', 'repeat_action_probability': 0.25, 'full_action_space': False, 'frameskip': 4, 'max_num_frames_per_episode': 108000}, namespace='ALE', name='DoubleDunk', version=5)), ('ALE/DoubleDunk-ram-v5', EnvSpec(id='ALE/DoubleDunk-ram-v5', entry_point='ale_py.env.gym:AtariEnv', reward_threshold=None, nondeterministic=False, max_episode_steps=None, order_enforce=True, autoreset=False, disable_env_checker=False, apply_api_compatibility=False, kwargs={'game': 'double_dunk', 'obs_type': 'ram', 'repeat_action_probability': 0.25, 'full_action_space': False, 'frameskip': 4, 'max_num_frames_per_episode': 108000}, namespace='ALE', name='DoubleDunk-ram', version=5)), ('ALE/Earthworld-v5', EnvSpec(id='ALE/Earthworld-v5', entry_point='ale_py.env.gym:AtariEnv', reward_threshold=None, nondeterministic=False, max_episode_steps=None, order_enforce=True, autoreset=False, disable_env_checker=False, apply_api_compatibility=False, kwargs={'game': 'earthworld', 'obs_type': 'rgb', 'repeat_action_probability': 0.25, 'full_action_space': False, 'frameskip': 4, 'max_num_frames_per_episode': 108000}, namespace='ALE', name='Earthworld', version=5)), ('ALE/Earthworld-ram-v5', EnvSpec(id='ALE/Earthworld-ram-v5', entry_point='ale_py.env.gym:AtariEnv', reward_threshold=None, nondeterministic=False, max_episode_steps=None, order_enforce=True, autoreset=False, disable_env_checker=False, apply_api_compatibility=False, kwargs={'game': 'earthworld', 'obs_type': 'ram', 'repeat_action_probability': 0.25, 'full_action_space': False, 'frameskip': 4, 'max_num_frames_per_episode': 108000}, namespace='ALE', name='Earthworld-ram', version=5)), ('ALE/ElevatorAction-v5', EnvSpec(id='ALE/ElevatorAction-v5', entry_point='ale_py.env.gym:AtariEnv', reward_threshold=None, nondeterministic=False, max_episode_steps=None, order_enforce=True, autoreset=False, disable_env_checker=False, apply_api_compatibility=False, kwargs={'game': 'elevator_action', 'obs_type': 'rgb', 'repeat_action_probability': 0.25, 'full_action_space': False, 'frameskip': 4, 'max_num_frames_per_episode': 108000}, namespace='ALE', name='ElevatorAction', version=5)), ('ALE/ElevatorAction-ram-v5', EnvSpec(id='ALE/ElevatorAction-ram-v5', entry_point='ale_py.env.gym:AtariEnv', reward_threshold=None, nondeterministic=False, max_episode_steps=None, order_enforce=True, autoreset=False, disable_env_checker=False, apply_api_compatibility=False, kwargs={'game': 'elevator_action', 'obs_type': 'ram', 'repeat_action_probability': 0.25, 'full_action_space': False, 'frameskip': 4, 'max_num_frames_per_episode': 108000}, namespace='ALE', name='ElevatorAction-ram', version=5)), ('ALE/Enduro-v5', EnvSpec(id='ALE/Enduro-v5', entry_point='ale_py.env.gym:AtariEnv', reward_threshold=None, nondeterministic=False, max_episode_steps=None, order_enforce=True, autoreset=False, disable_env_checker=False, apply_api_compatibility=False, kwargs={'game': 'enduro', 'obs_type': 'rgb', 'repeat_action_probability': 0.25, 'full_action_space': False, 'frameskip': 4, 'max_num_frames_per_episode': 108000}, namespace='ALE', name='Enduro', version=5)), ('ALE/Enduro-ram-v5', EnvSpec(id='ALE/Enduro-ram-v5', entry_point='ale_py.env.gym:AtariEnv', reward_threshold=None, nondeterministic=False, max_episode_steps=None, order_enforce=True, autoreset=False, disable_env_checker=False, apply_api_compatibility=False, kwargs={'game': 'enduro', 'obs_type': 'ram', 'repeat_action_probability': 0.25, 'full_action_space': False, 'frameskip': 4, 'max_num_frames_per_episode': 108000}, namespace='ALE', name='Enduro-ram', version=5)), ('ALE/Entombed-v5', EnvSpec(id='ALE/Entombed-v5', entry_point='ale_py.env.gym:AtariEnv', reward_threshold=None, nondeterministic=False, max_episode_steps=None, order_enforce=True, autoreset=False, disable_env_checker=False, apply_api_compatibility=False, kwargs={'game': 'entombed', 'obs_type': 'rgb', 'repeat_action_probability': 0.25, 'full_action_space': False, 'frameskip': 4, 'max_num_frames_per_episode': 108000}, namespace='ALE', name='Entombed', version=5)), ('ALE/Entombed-ram-v5', EnvSpec(id='ALE/Entombed-ram-v5', entry_point='ale_py.env.gym:AtariEnv', reward_threshold=None, nondeterministic=False, max_episode_steps=None, order_enforce=True, autoreset=False, disable_env_checker=False, apply_api_compatibility=False, kwargs={'game': 'entombed', 'obs_type': 'ram', 'repeat_action_probability': 0.25, 'full_action_space': False, 'frameskip': 4, 'max_num_frames_per_episode': 108000}, namespace='ALE', name='Entombed-ram', version=5)), ('ALE/Et-v5', EnvSpec(id='ALE/Et-v5', entry_point='ale_py.env.gym:AtariEnv', reward_threshold=None, nondeterministic=False, max_episode_steps=None, order_enforce=True, autoreset=False, disable_env_checker=False, apply_api_compatibility=False, kwargs={'game': 'et', 'obs_type': 'rgb', 'repeat_action_probability': 0.25, 'full_action_space': False, 'frameskip': 4, 'max_num_frames_per_episode': 108000}, namespace='ALE', name='Et', version=5)), ('ALE/Et-ram-v5', EnvSpec(id='ALE/Et-ram-v5', entry_point='ale_py.env.gym:AtariEnv', reward_threshold=None, nondeterministic=False, max_episode_steps=None, order_enforce=True, autoreset=False, disable_env_checker=False, apply_api_compatibility=False, kwargs={'game': 'et', 'obs_type': 'ram', 'repeat_action_probability': 0.25, 'full_action_space': False, 'frameskip': 4, 'max_num_frames_per_episode': 108000}, namespace='ALE', name='Et-ram', version=5)), ('ALE/FishingDerby-v5', EnvSpec(id='ALE/FishingDerby-v5', entry_point='ale_py.env.gym:AtariEnv', reward_threshold=None, nondeterministic=False, max_episode_steps=None, order_enforce=True, autoreset=False, disable_env_checker=False, apply_api_compatibility=False, kwargs={'game': 'fishing_derby', 'obs_type': 'rgb', 'repeat_action_probability': 0.25, 'full_action_space': False, 'frameskip': 4, 'max_num_frames_per_episode': 108000}, namespace='ALE', name='FishingDerby', version=5)), ('ALE/FishingDerby-ram-v5', EnvSpec(id='ALE/FishingDerby-ram-v5', entry_point='ale_py.env.gym:AtariEnv', reward_threshold=None, nondeterministic=False, max_episode_steps=None, order_enforce=True, autoreset=False, disable_env_checker=False, apply_api_compatibility=False, kwargs={'game': 'fishing_derby', 'obs_type': 'ram', 'repeat_action_probability': 0.25, 'full_action_space': False, 'frameskip': 4, 'max_num_frames_per_episode': 108000}, namespace='ALE', name='FishingDerby-ram', version=5)), ('ALE/FlagCapture-v5', EnvSpec(id='ALE/FlagCapture-v5', entry_point='ale_py.env.gym:AtariEnv', reward_threshold=None, nondeterministic=False, max_episode_steps=None, order_enforce=True, autoreset=False, disable_env_checker=False, apply_api_compatibility=False, kwargs={'game': 'flag_capture', 'obs_type': 'rgb', 'repeat_action_probability': 0.25, 'full_action_space': False, 'frameskip': 4, 'max_num_frames_per_episode': 108000}, namespace='ALE', name='FlagCapture', version=5)), ('ALE/FlagCapture-ram-v5', EnvSpec(id='ALE/FlagCapture-ram-v5', entry_point='ale_py.env.gym:AtariEnv', reward_threshold=None, nondeterministic=False, max_episode_steps=None, order_enforce=True, autoreset=False, disable_env_checker=False, apply_api_compatibility=False, kwargs={'game': 'flag_capture', 'obs_type': 'ram', 'repeat_action_probability': 0.25, 'full_action_space': False, 'frameskip': 4, 'max_num_frames_per_episode': 108000}, namespace='ALE', name='FlagCapture-ram', version=5)), ('ALE/Freeway-v5', EnvSpec(id='ALE/Freeway-v5', entry_point='ale_py.env.gym:AtariEnv', reward_threshold=None, nondeterministic=False, max_episode_steps=None, order_enforce=True, autoreset=False, disable_env_checker=False, apply_api_compatibility=False, kwargs={'game': 'freeway', 'obs_type': 'rgb', 'repeat_action_probability': 0.25, 'full_action_space': False, 'frameskip': 4, 'max_num_frames_per_episode': 108000}, namespace='ALE', name='Freeway', version=5)), ('ALE/Freeway-ram-v5', EnvSpec(id='ALE/Freeway-ram-v5', entry_point='ale_py.env.gym:AtariEnv', reward_threshold=None, nondeterministic=False, max_episode_steps=None, order_enforce=True, autoreset=False, disable_env_checker=False, apply_api_compatibility=False, kwargs={'game': 'freeway', 'obs_type': 'ram', 'repeat_action_probability': 0.25, 'full_action_space': False, 'frameskip': 4, 'max_num_frames_per_episode': 108000}, namespace='ALE', name='Freeway-ram', version=5)), ('ALE/Frogger-v5', EnvSpec(id='ALE/Frogger-v5', entry_point='ale_py.env.gym:AtariEnv', reward_threshold=None, nondeterministic=False, max_episode_steps=None, order_enforce=True, autoreset=False, disable_env_checker=False, apply_api_compatibility=False, kwargs={'game': 'frogger', 'obs_type': 'rgb', 'repeat_action_probability': 0.25, 'full_action_space': False, 'frameskip': 4, 'max_num_frames_per_episode': 108000}, namespace='ALE', name='Frogger', version=5)), ('ALE/Frogger-ram-v5', EnvSpec(id='ALE/Frogger-ram-v5', entry_point='ale_py.env.gym:AtariEnv', reward_threshold=None, nondeterministic=False, max_episode_steps=None, order_enforce=True, autoreset=False, disable_env_checker=False, apply_api_compatibility=False, kwargs={'game': 'frogger', 'obs_type': 'ram', 'repeat_action_probability': 0.25, 'full_action_space': False, 'frameskip': 4, 'max_num_frames_per_episode': 108000}, namespace='ALE', name='Frogger-ram', version=5)), ('ALE/Frostbite-v5', EnvSpec(id='ALE/Frostbite-v5', entry_point='ale_py.env.gym:AtariEnv', reward_threshold=None, nondeterministic=False, max_episode_steps=None, order_enforce=True, autoreset=False, disable_env_checker=False, apply_api_compatibility=False, kwargs={'game': 'frostbite', 'obs_type': 'rgb', 'repeat_action_probability': 0.25, 'full_action_space': False, 'frameskip': 4, 'max_num_frames_per_episode': 108000}, namespace='ALE', name='Frostbite', version=5)), ('ALE/Frostbite-ram-v5', EnvSpec(id='ALE/Frostbite-ram-v5', entry_point='ale_py.env.gym:AtariEnv', reward_threshold=None, nondeterministic=False, max_episode_steps=None, order_enforce=True, autoreset=False, disable_env_checker=False, apply_api_compatibility=False, kwargs={'game': 'frostbite', 'obs_type': 'ram', 'repeat_action_probability': 0.25, 'full_action_space': False, 'frameskip': 4, 'max_num_frames_per_episode': 108000}, namespace='ALE', name='Frostbite-ram', version=5)), ('ALE/Galaxian-v5', EnvSpec(id='ALE/Galaxian-v5', entry_point='ale_py.env.gym:AtariEnv', reward_threshold=None, nondeterministic=False, max_episode_steps=None, order_enforce=True, autoreset=False, disable_env_checker=False, apply_api_compatibility=False, kwargs={'game': 'galaxian', 'obs_type': 'rgb', 'repeat_action_probability': 0.25, 'full_action_space': False, 'frameskip': 4, 'max_num_frames_per_episode': 108000}, namespace='ALE', name='Galaxian', version=5)), ('ALE/Galaxian-ram-v5', EnvSpec(id='ALE/Galaxian-ram-v5', entry_point='ale_py.env.gym:AtariEnv', reward_threshold=None, nondeterministic=False, max_episode_steps=None, order_enforce=True, autoreset=False, disable_env_checker=False, apply_api_compatibility=False, kwargs={'game': 'galaxian', 'obs_type': 'ram', 'repeat_action_probability': 0.25, 'full_action_space': False, 'frameskip': 4, 'max_num_frames_per_episode': 108000}, namespace='ALE', name='Galaxian-ram', version=5)), ('ALE/Gopher-v5', EnvSpec(id='ALE/Gopher-v5', entry_point='ale_py.env.gym:AtariEnv', reward_threshold=None, nondeterministic=False, max_episode_steps=None, order_enforce=True, autoreset=False, disable_env_checker=False, apply_api_compatibility=False, kwargs={'game': 'gopher', 'obs_type': 'rgb', 'repeat_action_probability': 0.25, 'full_action_space': False, 'frameskip': 4, 'max_num_frames_per_episode': 108000}, namespace='ALE', name='Gopher', version=5)), ('ALE/Gopher-ram-v5', EnvSpec(id='ALE/Gopher-ram-v5', entry_point='ale_py.env.gym:AtariEnv', reward_threshold=None, nondeterministic=False, max_episode_steps=None, order_enforce=True, autoreset=False, disable_env_checker=False, apply_api_compatibility=False, kwargs={'game': 'gopher', 'obs_type': 'ram', 'repeat_action_probability': 0.25, 'full_action_space': False, 'frameskip': 4, 'max_num_frames_per_episode': 108000}, namespace='ALE', name='Gopher-ram', version=5)), ('ALE/Gravitar-v5', EnvSpec(id='ALE/Gravitar-v5', entry_point='ale_py.env.gym:AtariEnv', reward_threshold=None, nondeterministic=False, max_episode_steps=None, order_enforce=True, autoreset=False, disable_env_checker=False, apply_api_compatibility=False, kwargs={'game': 'gravitar', 'obs_type': 'rgb', 'repeat_action_probability': 0.25, 'full_action_space': False, 'frameskip': 4, 'max_num_frames_per_episode': 108000}, namespace='ALE', name='Gravitar', version=5)), ('ALE/Gravitar-ram-v5', EnvSpec(id='ALE/Gravitar-ram-v5', entry_point='ale_py.env.gym:AtariEnv', reward_threshold=None, nondeterministic=False, max_episode_steps=None, order_enforce=True, autoreset=False, disable_env_checker=False, apply_api_compatibility=False, kwargs={'game': 'gravitar', 'obs_type': 'ram', 'repeat_action_probability': 0.25, 'full_action_space': False, 'frameskip': 4, 'max_num_frames_per_episode': 108000}, namespace='ALE', name='Gravitar-ram', version=5)), ('ALE/Hangman-v5', EnvSpec(id='ALE/Hangman-v5', entry_point='ale_py.env.gym:AtariEnv', reward_threshold=None, nondeterministic=False, max_episode_steps=None, order_enforce=True, autoreset=False, disable_env_checker=False, apply_api_compatibility=False, kwargs={'game': 'hangman', 'obs_type': 'rgb', 'repeat_action_probability': 0.25, 'full_action_space': False, 'frameskip': 4, 'max_num_frames_per_episode': 108000}, namespace='ALE', name='Hangman', version=5)), ('ALE/Hangman-ram-v5', EnvSpec(id='ALE/Hangman-ram-v5', entry_point='ale_py.env.gym:AtariEnv', reward_threshold=None, nondeterministic=False, max_episode_steps=None, order_enforce=True, autoreset=False, disable_env_checker=False, apply_api_compatibility=False, kwargs={'game': 'hangman', 'obs_type': 'ram', 'repeat_action_probability': 0.25, 'full_action_space': False, 'frameskip': 4, 'max_num_frames_per_episode': 108000}, namespace='ALE', name='Hangman-ram', version=5)), ('ALE/HauntedHouse-v5', EnvSpec(id='ALE/HauntedHouse-v5', entry_point='ale_py.env.gym:AtariEnv', reward_threshold=None, nondeterministic=False, max_episode_steps=None, order_enforce=True, autoreset=False, disable_env_checker=False, apply_api_compatibility=False, kwargs={'game': 'haunted_house', 'obs_type': 'rgb', 'repeat_action_probability': 0.25, 'full_action_space': False, 'frameskip': 4, 'max_num_frames_per_episode': 108000}, namespace='ALE', name='HauntedHouse', version=5)), ('ALE/HauntedHouse-ram-v5', EnvSpec(id='ALE/HauntedHouse-ram-v5', entry_point='ale_py.env.gym:AtariEnv', reward_threshold=None, nondeterministic=False, max_episode_steps=None, order_enforce=True, autoreset=False, disable_env_checker=False, apply_api_compatibility=False, kwargs={'game': 'haunted_house', 'obs_type': 'ram', 'repeat_action_probability': 0.25, 'full_action_space': False, 'frameskip': 4, 'max_num_frames_per_episode': 108000}, namespace='ALE', name='HauntedHouse-ram', version=5)), ('ALE/Hero-v5', EnvSpec(id='ALE/Hero-v5', entry_point='ale_py.env.gym:AtariEnv', reward_threshold=None, nondeterministic=False, max_episode_steps=None, order_enforce=True, autoreset=False, disable_env_checker=False, apply_api_compatibility=False, kwargs={'game': 'hero', 'obs_type': 'rgb', 'repeat_action_probability': 0.25, 'full_action_space': False, 'frameskip': 4, 'max_num_frames_per_episode': 108000}, namespace='ALE', name='Hero', version=5)), ('ALE/Hero-ram-v5', EnvSpec(id='ALE/Hero-ram-v5', entry_point='ale_py.env.gym:AtariEnv', reward_threshold=None, nondeterministic=False, max_episode_steps=None, order_enforce=True, autoreset=False, disable_env_checker=False, apply_api_compatibility=False, kwargs={'game': 'hero', 'obs_type': 'ram', 'repeat_action_probability': 0.25, 'full_action_space': False, 'frameskip': 4, 'max_num_frames_per_episode': 108000}, namespace='ALE', name='Hero-ram', version=5)), ('ALE/HumanCannonball-v5', EnvSpec(id='ALE/HumanCannonball-v5', entry_point='ale_py.env.gym:AtariEnv', reward_threshold=None, nondeterministic=False, max_episode_steps=None, order_enforce=True, autoreset=False, disable_env_checker=False, apply_api_compatibility=False, kwargs={'game': 'human_cannonball', 'obs_type': 'rgb', 'repeat_action_probability': 0.25, 'full_action_space': False, 'frameskip': 4, 'max_num_frames_per_episode': 108000}, namespace='ALE', name='HumanCannonball', version=5)), ('ALE/HumanCannonball-ram-v5', EnvSpec(id='ALE/HumanCannonball-ram-v5', entry_point='ale_py.env.gym:AtariEnv', reward_threshold=None, nondeterministic=False, max_episode_steps=None, order_enforce=True, autoreset=False, disable_env_checker=False, apply_api_compatibility=False, kwargs={'game': 'human_cannonball', 'obs_type': 'ram', 'repeat_action_probability': 0.25, 'full_action_space': False, 'frameskip': 4, 'max_num_frames_per_episode': 108000}, namespace='ALE', name='HumanCannonball-ram', version=5)), ('ALE/IceHockey-v5', EnvSpec(id='ALE/IceHockey-v5', entry_point='ale_py.env.gym:AtariEnv', reward_threshold=None, nondeterministic=False, max_episode_steps=None, order_enforce=True, autoreset=False, disable_env_checker=False, apply_api_compatibility=False, kwargs={'game': 'ice_hockey', 'obs_type': 'rgb', 'repeat_action_probability': 0.25, 'full_action_space': False, 'frameskip': 4, 'max_num_frames_per_episode': 108000}, namespace='ALE', name='IceHockey', version=5)), ('ALE/IceHockey-ram-v5', EnvSpec(id='ALE/IceHockey-ram-v5', entry_point='ale_py.env.gym:AtariEnv', reward_threshold=None, nondeterministic=False, max_episode_steps=None, order_enforce=True, autoreset=False, disable_env_checker=False, apply_api_compatibility=False, kwargs={'game': 'ice_hockey', 'obs_type': 'ram', 'repeat_action_probability': 0.25, 'full_action_space': False, 'frameskip': 4, 'max_num_frames_per_episode': 108000}, namespace='ALE', name='IceHockey-ram', version=5)), ('ALE/Jamesbond-v5', EnvSpec(id='ALE/Jamesbond-v5', entry_point='ale_py.env.gym:AtariEnv', reward_threshold=None, nondeterministic=False, max_episode_steps=None, order_enforce=True, autoreset=False, disable_env_checker=False, apply_api_compatibility=False, kwargs={'game': 'jamesbond', 'obs_type': 'rgb', 'repeat_action_probability': 0.25, 'full_action_space': False, 'frameskip': 4, 'max_num_frames_per_episode': 108000}, namespace='ALE', name='Jamesbond', version=5)), ('ALE/Jamesbond-ram-v5', EnvSpec(id='ALE/Jamesbond-ram-v5', entry_point='ale_py.env.gym:AtariEnv', reward_threshold=None, nondeterministic=False, max_episode_steps=None, order_enforce=True, autoreset=False, disable_env_checker=False, apply_api_compatibility=False, kwargs={'game': 'jamesbond', 'obs_type': 'ram', 'repeat_action_probability': 0.25, 'full_action_space': False, 'frameskip': 4, 'max_num_frames_per_episode': 108000}, namespace='ALE', name='Jamesbond-ram', version=5)), ('ALE/JourneyEscape-v5', EnvSpec(id='ALE/JourneyEscape-v5', entry_point='ale_py.env.gym:AtariEnv', reward_threshold=None, nondeterministic=False, max_episode_steps=None, order_enforce=True, autoreset=False, disable_env_checker=False, apply_api_compatibility=False, kwargs={'game': 'journey_escape', 'obs_type': 'rgb', 'repeat_action_probability': 0.25, 'full_action_space': False, 'frameskip': 4, 'max_num_frames_per_episode': 108000}, namespace='ALE', name='JourneyEscape', version=5)), ('ALE/JourneyEscape-ram-v5', EnvSpec(id='ALE/JourneyEscape-ram-v5', entry_point='ale_py.env.gym:AtariEnv', reward_threshold=None, nondeterministic=False, max_episode_steps=None, order_enforce=True, autoreset=False, disable_env_checker=False, apply_api_compatibility=False, kwargs={'game': 'journey_escape', 'obs_type': 'ram', 'repeat_action_probability': 0.25, 'full_action_space': False, 'frameskip': 4, 'max_num_frames_per_episode': 108000}, namespace='ALE', name='JourneyEscape-ram', version=5)), ('ALE/Kaboom-v5', EnvSpec(id='ALE/Kaboom-v5', entry_point='ale_py.env.gym:AtariEnv', reward_threshold=None, nondeterministic=False, max_episode_steps=None, order_enforce=True, autoreset=False, disable_env_checker=False, apply_api_compatibility=False, kwargs={'game': 'kaboom', 'obs_type': 'rgb', 'repeat_action_probability': 0.25, 'full_action_space': False, 'frameskip': 4, 'max_num_frames_per_episode': 108000}, namespace='ALE', name='Kaboom', version=5)), ('ALE/Kaboom-ram-v5', EnvSpec(id='ALE/Kaboom-ram-v5', entry_point='ale_py.env.gym:AtariEnv', reward_threshold=None, nondeterministic=False, max_episode_steps=None, order_enforce=True, autoreset=False, disable_env_checker=False, apply_api_compatibility=False, kwargs={'game': 'kaboom', 'obs_type': 'ram', 'repeat_action_probability': 0.25, 'full_action_space': False, 'frameskip': 4, 'max_num_frames_per_episode': 108000}, namespace='ALE', name='Kaboom-ram', version=5)), ('ALE/Kangaroo-v5', EnvSpec(id='ALE/Kangaroo-v5', entry_point='ale_py.env.gym:AtariEnv', reward_threshold=None, nondeterministic=False, max_episode_steps=None, order_enforce=True, autoreset=False, disable_env_checker=False, apply_api_compatibility=False, kwargs={'game': 'kangaroo', 'obs_type': 'rgb', 'repeat_action_probability': 0.25, 'full_action_space': False, 'frameskip': 4, 'max_num_frames_per_episode': 108000}, namespace='ALE', name='Kangaroo', version=5)), ('ALE/Kangaroo-ram-v5', EnvSpec(id='ALE/Kangaroo-ram-v5', entry_point='ale_py.env.gym:AtariEnv', reward_threshold=None, nondeterministic=False, max_episode_steps=None, order_enforce=True, autoreset=False, disable_env_checker=False, apply_api_compatibility=False, kwargs={'game': 'kangaroo', 'obs_type': 'ram', 'repeat_action_probability': 0.25, 'full_action_space': False, 'frameskip': 4, 'max_num_frames_per_episode': 108000}, namespace='ALE', name='Kangaroo-ram', version=5)), ('ALE/KeystoneKapers-v5', EnvSpec(id='ALE/KeystoneKapers-v5', entry_point='ale_py.env.gym:AtariEnv', reward_threshold=None, nondeterministic=False, max_episode_steps=None, order_enforce=True, autoreset=False, disable_env_checker=False, apply_api_compatibility=False, kwargs={'game': 'keystone_kapers', 'obs_type': 'rgb', 'repeat_action_probability': 0.25, 'full_action_space': False, 'frameskip': 4, 'max_num_frames_per_episode': 108000}, namespace='ALE', name='KeystoneKapers', version=5)), ('ALE/KeystoneKapers-ram-v5', EnvSpec(id='ALE/KeystoneKapers-ram-v5', entry_point='ale_py.env.gym:AtariEnv', reward_threshold=None, nondeterministic=False, max_episode_steps=None, order_enforce=True, autoreset=False, disable_env_checker=False, apply_api_compatibility=False, kwargs={'game': 'keystone_kapers', 'obs_type': 'ram', 'repeat_action_probability': 0.25, 'full_action_space': False, 'frameskip': 4, 'max_num_frames_per_episode': 108000}, namespace='ALE', name='KeystoneKapers-ram', version=5)), ('ALE/KingKong-v5', EnvSpec(id='ALE/KingKong-v5', entry_point='ale_py.env.gym:AtariEnv', reward_threshold=None, nondeterministic=False, max_episode_steps=None, order_enforce=True, autoreset=False, disable_env_checker=False, apply_api_compatibility=False, kwargs={'game': 'king_kong', 'obs_type': 'rgb', 'repeat_action_probability': 0.25, 'full_action_space': False, 'frameskip': 4, 'max_num_frames_per_episode': 108000}, namespace='ALE', name='KingKong', version=5)), ('ALE/KingKong-ram-v5', EnvSpec(id='ALE/KingKong-ram-v5', entry_point='ale_py.env.gym:AtariEnv', reward_threshold=None, nondeterministic=False, max_episode_steps=None, order_enforce=True, autoreset=False, disable_env_checker=False, apply_api_compatibility=False, kwargs={'game': 'king_kong', 'obs_type': 'ram', 'repeat_action_probability': 0.25, 'full_action_space': False, 'frameskip': 4, 'max_num_frames_per_episode': 108000}, namespace='ALE', name='KingKong-ram', version=5)), ('ALE/Klax-v5', EnvSpec(id='ALE/Klax-v5', entry_point='ale_py.env.gym:AtariEnv', reward_threshold=None, nondeterministic=False, max_episode_steps=None, order_enforce=True, autoreset=False, disable_env_checker=False, apply_api_compatibility=False, kwargs={'game': 'klax', 'obs_type': 'rgb', 'repeat_action_probability': 0.25, 'full_action_space': False, 'frameskip': 4, 'max_num_frames_per_episode': 108000}, namespace='ALE', name='Klax', version=5)), ('ALE/Klax-ram-v5', EnvSpec(id='ALE/Klax-ram-v5', entry_point='ale_py.env.gym:AtariEnv', reward_threshold=None, nondeterministic=False, max_episode_steps=None, order_enforce=True, autoreset=False, disable_env_checker=False, apply_api_compatibility=False, kwargs={'game': 'klax', 'obs_type': 'ram', 'repeat_action_probability': 0.25, 'full_action_space': False, 'frameskip': 4, 'max_num_frames_per_episode': 108000}, namespace='ALE', name='Klax-ram', version=5)), ('ALE/Koolaid-v5', EnvSpec(id='ALE/Koolaid-v5', entry_point='ale_py.env.gym:AtariEnv', reward_threshold=None, nondeterministic=False, max_episode_steps=None, order_enforce=True, autoreset=False, disable_env_checker=False, apply_api_compatibility=False, kwargs={'game': 'koolaid', 'obs_type': 'rgb', 'repeat_action_probability': 0.25, 'full_action_space': False, 'frameskip': 4, 'max_num_frames_per_episode': 108000}, namespace='ALE', name='Koolaid', version=5)), ('ALE/Koolaid-ram-v5', EnvSpec(id='ALE/Koolaid-ram-v5', entry_point='ale_py.env.gym:AtariEnv', reward_threshold=None, nondeterministic=False, max_episode_steps=None, order_enforce=True, autoreset=False, disable_env_checker=False, apply_api_compatibility=False, kwargs={'game': 'koolaid', 'obs_type': 'ram', 'repeat_action_probability': 0.25, 'full_action_space': False, 'frameskip': 4, 'max_num_frames_per_episode': 108000}, namespace='ALE', name='Koolaid-ram', version=5)), ('ALE/Krull-v5', EnvSpec(id='ALE/Krull-v5', entry_point='ale_py.env.gym:AtariEnv', reward_threshold=None, nondeterministic=False, max_episode_steps=None, order_enforce=True, autoreset=False, disable_env_checker=False, apply_api_compatibility=False, kwargs={'game': 'krull', 'obs_type': 'rgb', 'repeat_action_probability': 0.25, 'full_action_space': False, 'frameskip': 4, 'max_num_frames_per_episode': 108000}, namespace='ALE', name='Krull', version=5)), ('ALE/Krull-ram-v5', EnvSpec(id='ALE/Krull-ram-v5', entry_point='ale_py.env.gym:AtariEnv', reward_threshold=None, nondeterministic=False, max_episode_steps=None, order_enforce=True, autoreset=False, disable_env_checker=False, apply_api_compatibility=False, kwargs={'game': 'krull', 'obs_type': 'ram', 'repeat_action_probability': 0.25, 'full_action_space': False, 'frameskip': 4, 'max_num_frames_per_episode': 108000}, namespace='ALE', name='Krull-ram', version=5)), ('ALE/KungFuMaster-v5', EnvSpec(id='ALE/KungFuMaster-v5', entry_point='ale_py.env.gym:AtariEnv', reward_threshold=None, nondeterministic=False, max_episode_steps=None, order_enforce=True, autoreset=False, disable_env_checker=False, apply_api_compatibility=False, kwargs={'game': 'kung_fu_master', 'obs_type': 'rgb', 'repeat_action_probability': 0.25, 'full_action_space': False, 'frameskip': 4, 'max_num_frames_per_episode': 108000}, namespace='ALE', name='KungFuMaster', version=5)), ('ALE/KungFuMaster-ram-v5', EnvSpec(id='ALE/KungFuMaster-ram-v5', entry_point='ale_py.env.gym:AtariEnv', reward_threshold=None, nondeterministic=False, max_episode_steps=None, order_enforce=True, autoreset=False, disable_env_checker=False, apply_api_compatibility=False, kwargs={'game': 'kung_fu_master', 'obs_type': 'ram', 'repeat_action_probability': 0.25, 'full_action_space': False, 'frameskip': 4, 'max_num_frames_per_episode': 108000}, namespace='ALE', name='KungFuMaster-ram', version=5)), ('ALE/LaserGates-v5', EnvSpec(id='ALE/LaserGates-v5', entry_point='ale_py.env.gym:AtariEnv', reward_threshold=None, nondeterministic=False, max_episode_steps=None, order_enforce=True, autoreset=False, disable_env_checker=False, apply_api_compatibility=False, kwargs={'game': 'laser_gates', 'obs_type': 'rgb', 'repeat_action_probability': 0.25, 'full_action_space': False, 'frameskip': 4, 'max_num_frames_per_episode': 108000}, namespace='ALE', name='LaserGates', version=5)), ('ALE/LaserGates-ram-v5', EnvSpec(id='ALE/LaserGates-ram-v5', entry_point='ale_py.env.gym:AtariEnv', reward_threshold=None, nondeterministic=False, max_episode_steps=None, order_enforce=True, autoreset=False, disable_env_checker=False, apply_api_compatibility=False, kwargs={'game': 'laser_gates', 'obs_type': 'ram', 'repeat_action_probability': 0.25, 'full_action_space': False, 'frameskip': 4, 'max_num_frames_per_episode': 108000}, namespace='ALE', name='LaserGates-ram', version=5)), ('ALE/LostLuggage-v5', EnvSpec(id='ALE/LostLuggage-v5', entry_point='ale_py.env.gym:AtariEnv', reward_threshold=None, nondeterministic=False, max_episode_steps=None, order_enforce=True, autoreset=False, disable_env_checker=False, apply_api_compatibility=False, kwargs={'game': 'lost_luggage', 'obs_type': 'rgb', 'repeat_action_probability': 0.25, 'full_action_space': False, 'frameskip': 4, 'max_num_frames_per_episode': 108000}, namespace='ALE', name='LostLuggage', version=5)), ('ALE/LostLuggage-ram-v5', EnvSpec(id='ALE/LostLuggage-ram-v5', entry_point='ale_py.env.gym:AtariEnv', reward_threshold=None, nondeterministic=False, max_episode_steps=None, order_enforce=True, autoreset=False, disable_env_checker=False, apply_api_compatibility=False, kwargs={'game': 'lost_luggage', 'obs_type': 'ram', 'repeat_action_probability': 0.25, 'full_action_space': False, 'frameskip': 4, 'max_num_frames_per_episode': 108000}, namespace='ALE', name='LostLuggage-ram', version=5)), ('ALE/MarioBros-v5', EnvSpec(id='ALE/MarioBros-v5', entry_point='ale_py.env.gym:AtariEnv', reward_threshold=None, nondeterministic=False, max_episode_steps=None, order_enforce=True, autoreset=False, disable_env_checker=False, apply_api_compatibility=False, kwargs={'game': 'mario_bros', 'obs_type': 'rgb', 'repeat_action_probability': 0.25, 'full_action_space': False, 'frameskip': 4, 'max_num_frames_per_episode': 108000}, namespace='ALE', name='MarioBros', version=5)), ('ALE/MarioBros-ram-v5', EnvSpec(id='ALE/MarioBros-ram-v5', entry_point='ale_py.env.gym:AtariEnv', reward_threshold=None, nondeterministic=False, max_episode_steps=None, order_enforce=True, autoreset=False, disable_env_checker=False, apply_api_compatibility=False, kwargs={'game': 'mario_bros', 'obs_type': 'ram', 'repeat_action_probability': 0.25, 'full_action_space': False, 'frameskip': 4, 'max_num_frames_per_episode': 108000}, namespace='ALE', name='MarioBros-ram', version=5)), ('ALE/MiniatureGolf-v5', EnvSpec(id='ALE/MiniatureGolf-v5', entry_point='ale_py.env.gym:AtariEnv', reward_threshold=None, nondeterministic=False, max_episode_steps=None, order_enforce=True, autoreset=False, disable_env_checker=False, apply_api_compatibility=False, kwargs={'game': 'miniature_golf', 'obs_type': 'rgb', 'repeat_action_probability': 0.25, 'full_action_space': False, 'frameskip': 4, 'max_num_frames_per_episode': 108000}, namespace='ALE', name='MiniatureGolf', version=5)), ('ALE/MiniatureGolf-ram-v5', EnvSpec(id='ALE/MiniatureGolf-ram-v5', entry_point='ale_py.env.gym:AtariEnv', reward_threshold=None, nondeterministic=False, max_episode_steps=None, order_enforce=True, autoreset=False, disable_env_checker=False, apply_api_compatibility=False, kwargs={'game': 'miniature_golf', 'obs_type': 'ram', 'repeat_action_probability': 0.25, 'full_action_space': False, 'frameskip': 4, 'max_num_frames_per_episode': 108000}, namespace='ALE', name='MiniatureGolf-ram', version=5)), ('ALE/MontezumaRevenge-v5', EnvSpec(id='ALE/MontezumaRevenge-v5', entry_point='ale_py.env.gym:AtariEnv', reward_threshold=None, nondeterministic=False, max_episode_steps=None, order_enforce=True, autoreset=False, disable_env_checker=False, apply_api_compatibility=False, kwargs={'game': 'montezuma_revenge', 'obs_type': 'rgb', 'repeat_action_probability': 0.25, 'full_action_space': False, 'frameskip': 4, 'max_num_frames_per_episode': 108000}, namespace='ALE', name='MontezumaRevenge', version=5)), ('ALE/MontezumaRevenge-ram-v5', EnvSpec(id='ALE/MontezumaRevenge-ram-v5', entry_point='ale_py.env.gym:AtariEnv', reward_threshold=None, nondeterministic=False, max_episode_steps=None, order_enforce=True, autoreset=False, disable_env_checker=False, apply_api_compatibility=False, kwargs={'game': 'montezuma_revenge', 'obs_type': 'ram', 'repeat_action_probability': 0.25, 'full_action_space': False, 'frameskip': 4, 'max_num_frames_per_episode': 108000}, namespace='ALE', name='MontezumaRevenge-ram', version=5)), ('ALE/MrDo-v5', EnvSpec(id='ALE/MrDo-v5', entry_point='ale_py.env.gym:AtariEnv', reward_threshold=None, nondeterministic=False, max_episode_steps=None, order_enforce=True, autoreset=False, disable_env_checker=False, apply_api_compatibility=False, kwargs={'game': 'mr_do', 'obs_type': 'rgb', 'repeat_action_probability': 0.25, 'full_action_space': False, 'frameskip': 4, 'max_num_frames_per_episode': 108000}, namespace='ALE', name='MrDo', version=5)), ('ALE/MrDo-ram-v5', EnvSpec(id='ALE/MrDo-ram-v5', entry_point='ale_py.env.gym:AtariEnv', reward_threshold=None, nondeterministic=False, max_episode_steps=None, order_enforce=True, autoreset=False, disable_env_checker=False, apply_api_compatibility=False, kwargs={'game': 'mr_do', 'obs_type': 'ram', 'repeat_action_probability': 0.25, 'full_action_space': False, 'frameskip': 4, 'max_num_frames_per_episode': 108000}, namespace='ALE', name='MrDo-ram', version=5)), ('ALE/MsPacman-v5', EnvSpec(id='ALE/MsPacman-v5', entry_point='ale_py.env.gym:AtariEnv', reward_threshold=None, nondeterministic=False, max_episode_steps=None, order_enforce=True, autoreset=False, disable_env_checker=False, apply_api_compatibility=False, kwargs={'game': 'ms_pacman', 'obs_type': 'rgb', 'repeat_action_probability': 0.25, 'full_action_space': False, 'frameskip': 4, 'max_num_frames_per_episode': 108000}, namespace='ALE', name='MsPacman', version=5)), ('ALE/MsPacman-ram-v5', EnvSpec(id='ALE/MsPacman-ram-v5', entry_point='ale_py.env.gym:AtariEnv', reward_threshold=None, nondeterministic=False, max_episode_steps=None, order_enforce=True, autoreset=False, disable_env_checker=False, apply_api_compatibility=False, kwargs={'game': 'ms_pacman', 'obs_type': 'ram', 'repeat_action_probability': 0.25, 'full_action_space': False, 'frameskip': 4, 'max_num_frames_per_episode': 108000}, namespace='ALE', name='MsPacman-ram', version=5)), ('ALE/NameThisGame-v5', EnvSpec(id='ALE/NameThisGame-v5', entry_point='ale_py.env.gym:AtariEnv', reward_threshold=None, nondeterministic=False, max_episode_steps=None, order_enforce=True, autoreset=False, disable_env_checker=False, apply_api_compatibility=False, kwargs={'game': 'name_this_game', 'obs_type': 'rgb', 'repeat_action_probability': 0.25, 'full_action_space': False, 'frameskip': 4, 'max_num_frames_per_episode': 108000}, namespace='ALE', name='NameThisGame', version=5)), ('ALE/NameThisGame-ram-v5', EnvSpec(id='ALE/NameThisGame-ram-v5', entry_point='ale_py.env.gym:AtariEnv', reward_threshold=None, nondeterministic=False, max_episode_steps=None, order_enforce=True, autoreset=False, disable_env_checker=False, apply_api_compatibility=False, kwargs={'game': 'name_this_game', 'obs_type': 'ram', 'repeat_action_probability': 0.25, 'full_action_space': False, 'frameskip': 4, 'max_num_frames_per_episode': 108000}, namespace='ALE', name='NameThisGame-ram', version=5)), ('ALE/Othello-v5', EnvSpec(id='ALE/Othello-v5', entry_point='ale_py.env.gym:AtariEnv', reward_threshold=None, nondeterministic=False, max_episode_steps=None, order_enforce=True, autoreset=False, disable_env_checker=False, apply_api_compatibility=False, kwargs={'game': 'othello', 'obs_type': 'rgb', 'repeat_action_probability': 0.25, 'full_action_space': False, 'frameskip': 4, 'max_num_frames_per_episode': 108000}, namespace='ALE', name='Othello', version=5)), ('ALE/Othello-ram-v5', EnvSpec(id='ALE/Othello-ram-v5', entry_point='ale_py.env.gym:AtariEnv', reward_threshold=None, nondeterministic=False, max_episode_steps=None, order_enforce=True, autoreset=False, disable_env_checker=False, apply_api_compatibility=False, kwargs={'game': 'othello', 'obs_type': 'ram', 'repeat_action_probability': 0.25, 'full_action_space': False, 'frameskip': 4, 'max_num_frames_per_episode': 108000}, namespace='ALE', name='Othello-ram', version=5)), ('ALE/Pacman-v5', EnvSpec(id='ALE/Pacman-v5', entry_point='ale_py.env.gym:AtariEnv', reward_threshold=None, nondeterministic=False, max_episode_steps=None, order_enforce=True, autoreset=False, disable_env_checker=False, apply_api_compatibility=False, kwargs={'game': 'pacman', 'obs_type': 'rgb', 'repeat_action_probability': 0.25, 'full_action_space': False, 'frameskip': 4, 'max_num_frames_per_episode': 108000}, namespace='ALE', name='Pacman', version=5)), ('ALE/Pacman-ram-v5', EnvSpec(id='ALE/Pacman-ram-v5', entry_point='ale_py.env.gym:AtariEnv', reward_threshold=None, nondeterministic=False, max_episode_steps=None, order_enforce=True, autoreset=False, disable_env_checker=False, apply_api_compatibility=False, kwargs={'game': 'pacman', 'obs_type': 'ram', 'repeat_action_probability': 0.25, 'full_action_space': False, 'frameskip': 4, 'max_num_frames_per_episode': 108000}, namespace='ALE', name='Pacman-ram', version=5)), ('ALE/Phoenix-v5', EnvSpec(id='ALE/Phoenix-v5', entry_point='ale_py.env.gym:AtariEnv', reward_threshold=None, nondeterministic=False, max_episode_steps=None, order_enforce=True, autoreset=False, disable_env_checker=False, apply_api_compatibility=False, kwargs={'game': 'phoenix', 'obs_type': 'rgb', 'repeat_action_probability': 0.25, 'full_action_space': False, 'frameskip': 4, 'max_num_frames_per_episode': 108000}, namespace='ALE', name='Phoenix', version=5)), ('ALE/Phoenix-ram-v5', EnvSpec(id='ALE/Phoenix-ram-v5', entry_point='ale_py.env.gym:AtariEnv', reward_threshold=None, nondeterministic=False, max_episode_steps=None, order_enforce=True, autoreset=False, disable_env_checker=False, apply_api_compatibility=False, kwargs={'game': 'phoenix', 'obs_type': 'ram', 'repeat_action_probability': 0.25, 'full_action_space': False, 'frameskip': 4, 'max_num_frames_per_episode': 108000}, namespace='ALE', name='Phoenix-ram', version=5)), ('ALE/Pitfall-v5', EnvSpec(id='ALE/Pitfall-v5', entry_point='ale_py.env.gym:AtariEnv', reward_threshold=None, nondeterministic=False, max_episode_steps=None, order_enforce=True, autoreset=False, disable_env_checker=False, apply_api_compatibility=False, kwargs={'game': 'pitfall', 'obs_type': 'rgb', 'repeat_action_probability': 0.25, 'full_action_space': False, 'frameskip': 4, 'max_num_frames_per_episode': 108000}, namespace='ALE', name='Pitfall', version=5)), ('ALE/Pitfall-ram-v5', EnvSpec(id='ALE/Pitfall-ram-v5', entry_point='ale_py.env.gym:AtariEnv', reward_threshold=None, nondeterministic=False, max_episode_steps=None, order_enforce=True, autoreset=False, disable_env_checker=False, apply_api_compatibility=False, kwargs={'game': 'pitfall', 'obs_type': 'ram', 'repeat_action_probability': 0.25, 'full_action_space': False, 'frameskip': 4, 'max_num_frames_per_episode': 108000}, namespace='ALE', name='Pitfall-ram', version=5)), ('ALE/Pitfall2-v5', EnvSpec(id='ALE/Pitfall2-v5', entry_point='ale_py.env.gym:AtariEnv', reward_threshold=None, nondeterministic=False, max_episode_steps=None, order_enforce=True, autoreset=False, disable_env_checker=False, apply_api_compatibility=False, kwargs={'game': 'pitfall2', 'obs_type': 'rgb', 'repeat_action_probability': 0.25, 'full_action_space': False, 'frameskip': 4, 'max_num_frames_per_episode': 108000}, namespace='ALE', name='Pitfall2', version=5)), ('ALE/Pitfall2-ram-v5', EnvSpec(id='ALE/Pitfall2-ram-v5', entry_point='ale_py.env.gym:AtariEnv', reward_threshold=None, nondeterministic=False, max_episode_steps=None, order_enforce=True, autoreset=False, disable_env_checker=False, apply_api_compatibility=False, kwargs={'game': 'pitfall2', 'obs_type': 'ram', 'repeat_action_probability': 0.25, 'full_action_space': False, 'frameskip': 4, 'max_num_frames_per_episode': 108000}, namespace='ALE', name='Pitfall2-ram', version=5)), ('ALE/Pong-v5', EnvSpec(id='ALE/Pong-v5', entry_point='ale_py.env.gym:AtariEnv', reward_threshold=None, nondeterministic=False, max_episode_steps=None, order_enforce=True, autoreset=False, disable_env_checker=False, apply_api_compatibility=False, kwargs={'game': 'pong', 'obs_type': 'rgb', 'repeat_action_probability': 0.25, 'full_action_space': False, 'frameskip': 4, 'max_num_frames_per_episode': 108000}, namespace='ALE', name='Pong', version=5)), ('ALE/Pong-ram-v5', EnvSpec(id='ALE/Pong-ram-v5', entry_point='ale_py.env.gym:AtariEnv', reward_threshold=None, nondeterministic=False, max_episode_steps=None, order_enforce=True, autoreset=False, disable_env_checker=False, apply_api_compatibility=False, kwargs={'game': 'pong', 'obs_type': 'ram', 'repeat_action_probability': 0.25, 'full_action_space': False, 'frameskip': 4, 'max_num_frames_per_episode': 108000}, namespace='ALE', name='Pong-ram', version=5)), ('ALE/Pooyan-v5', EnvSpec(id='ALE/Pooyan-v5', entry_point='ale_py.env.gym:AtariEnv', reward_threshold=None, nondeterministic=False, max_episode_steps=None, order_enforce=True, autoreset=False, disable_env_checker=False, apply_api_compatibility=False, kwargs={'game': 'pooyan', 'obs_type': 'rgb', 'repeat_action_probability': 0.25, 'full_action_space': False, 'frameskip': 4, 'max_num_frames_per_episode': 108000}, namespace='ALE', name='Pooyan', version=5)), ('ALE/Pooyan-ram-v5', EnvSpec(id='ALE/Pooyan-ram-v5', entry_point='ale_py.env.gym:AtariEnv', reward_threshold=None, nondeterministic=False, max_episode_steps=None, order_enforce=True, autoreset=False, disable_env_checker=False, apply_api_compatibility=False, kwargs={'game': 'pooyan', 'obs_type': 'ram', 'repeat_action_probability': 0.25, 'full_action_space': False, 'frameskip': 4, 'max_num_frames_per_episode': 108000}, namespace='ALE', name='Pooyan-ram', version=5)), ('ALE/PrivateEye-v5', EnvSpec(id='ALE/PrivateEye-v5', entry_point='ale_py.env.gym:AtariEnv', reward_threshold=None, nondeterministic=False, max_episode_steps=None, order_enforce=True, autoreset=False, disable_env_checker=False, apply_api_compatibility=False, kwargs={'game': 'private_eye', 'obs_type': 'rgb', 'repeat_action_probability': 0.25, 'full_action_space': False, 'frameskip': 4, 'max_num_frames_per_episode': 108000}, namespace='ALE', name='PrivateEye', version=5)), ('ALE/PrivateEye-ram-v5', EnvSpec(id='ALE/PrivateEye-ram-v5', entry_point='ale_py.env.gym:AtariEnv', reward_threshold=None, nondeterministic=False, max_episode_steps=None, order_enforce=True, autoreset=False, disable_env_checker=False, apply_api_compatibility=False, kwargs={'game': 'private_eye', 'obs_type': 'ram', 'repeat_action_probability': 0.25, 'full_action_space': False, 'frameskip': 4, 'max_num_frames_per_episode': 108000}, namespace='ALE', name='PrivateEye-ram', version=5)), ('ALE/Qbert-v5', EnvSpec(id='ALE/Qbert-v5', entry_point='ale_py.env.gym:AtariEnv', reward_threshold=None, nondeterministic=False, max_episode_steps=None, order_enforce=True, autoreset=False, disable_env_checker=False, apply_api_compatibility=False, kwargs={'game': 'qbert', 'obs_type': 'rgb', 'repeat_action_probability': 0.25, 'full_action_space': False, 'frameskip': 4, 'max_num_frames_per_episode': 108000}, namespace='ALE', name='Qbert', version=5)), ('ALE/Qbert-ram-v5', EnvSpec(id='ALE/Qbert-ram-v5', entry_point='ale_py.env.gym:AtariEnv', reward_threshold=None, nondeterministic=False, max_episode_steps=None, order_enforce=True, autoreset=False, disable_env_checker=False, apply_api_compatibility=False, kwargs={'game': 'qbert', 'obs_type': 'ram', 'repeat_action_probability': 0.25, 'full_action_space': False, 'frameskip': 4, 'max_num_frames_per_episode': 108000}, namespace='ALE', name='Qbert-ram', version=5)), ('ALE/Riverraid-v5', EnvSpec(id='ALE/Riverraid-v5', entry_point='ale_py.env.gym:AtariEnv', reward_threshold=None, nondeterministic=False, max_episode_steps=None, order_enforce=True, autoreset=False, disable_env_checker=False, apply_api_compatibility=False, kwargs={'game': 'riverraid', 'obs_type': 'rgb', 'repeat_action_probability': 0.25, 'full_action_space': False, 'frameskip': 4, 'max_num_frames_per_episode': 108000}, namespace='ALE', name='Riverraid', version=5)), ('ALE/Riverraid-ram-v5', EnvSpec(id='ALE/Riverraid-ram-v5', entry_point='ale_py.env.gym:AtariEnv', reward_threshold=None, nondeterministic=False, max_episode_steps=None, order_enforce=True, autoreset=False, disable_env_checker=False, apply_api_compatibility=False, kwargs={'game': 'riverraid', 'obs_type': 'ram', 'repeat_action_probability': 0.25, 'full_action_space': False, 'frameskip': 4, 'max_num_frames_per_episode': 108000}, namespace='ALE', name='Riverraid-ram', version=5)), ('ALE/RoadRunner-v5', EnvSpec(id='ALE/RoadRunner-v5', entry_point='ale_py.env.gym:AtariEnv', reward_threshold=None, nondeterministic=False, max_episode_steps=None, order_enforce=True, autoreset=False, disable_env_checker=False, apply_api_compatibility=False, kwargs={'game': 'road_runner', 'obs_type': 'rgb', 'repeat_action_probability': 0.25, 'full_action_space': False, 'frameskip': 4, 'max_num_frames_per_episode': 108000}, namespace='ALE', name='RoadRunner', version=5)), ('ALE/RoadRunner-ram-v5', EnvSpec(id='ALE/RoadRunner-ram-v5', entry_point='ale_py.env.gym:AtariEnv', reward_threshold=None, nondeterministic=False, max_episode_steps=None, order_enforce=True, autoreset=False, disable_env_checker=False, apply_api_compatibility=False, kwargs={'game': 'road_runner', 'obs_type': 'ram', 'repeat_action_probability': 0.25, 'full_action_space': False, 'frameskip': 4, 'max_num_frames_per_episode': 108000}, namespace='ALE', name='RoadRunner-ram', version=5)), ('ALE/Robotank-v5', EnvSpec(id='ALE/Robotank-v5', entry_point='ale_py.env.gym:AtariEnv', reward_threshold=None, nondeterministic=False, max_episode_steps=None, order_enforce=True, autoreset=False, disable_env_checker=False, apply_api_compatibility=False, kwargs={'game': 'robotank', 'obs_type': 'rgb', 'repeat_action_probability': 0.25, 'full_action_space': False, 'frameskip': 4, 'max_num_frames_per_episode': 108000}, namespace='ALE', name='Robotank', version=5)), ('ALE/Robotank-ram-v5', EnvSpec(id='ALE/Robotank-ram-v5', entry_point='ale_py.env.gym:AtariEnv', reward_threshold=None, nondeterministic=False, max_episode_steps=None, order_enforce=True, autoreset=False, disable_env_checker=False, apply_api_compatibility=False, kwargs={'game': 'robotank', 'obs_type': 'ram', 'repeat_action_probability': 0.25, 'full_action_space': False, 'frameskip': 4, 'max_num_frames_per_episode': 108000}, namespace='ALE', name='Robotank-ram', version=5)), ('ALE/Seaquest-v5', EnvSpec(id='ALE/Seaquest-v5', entry_point='ale_py.env.gym:AtariEnv', reward_threshold=None, nondeterministic=False, max_episode_steps=None, order_enforce=True, autoreset=False, disable_env_checker=False, apply_api_compatibility=False, kwargs={'game': 'seaquest', 'obs_type': 'rgb', 'repeat_action_probability': 0.25, 'full_action_space': False, 'frameskip': 4, 'max_num_frames_per_episode': 108000}, namespace='ALE', name='Seaquest', version=5)), ('ALE/Seaquest-ram-v5', EnvSpec(id='ALE/Seaquest-ram-v5', entry_point='ale_py.env.gym:AtariEnv', reward_threshold=None, nondeterministic=False, max_episode_steps=None, order_enforce=True, autoreset=False, disable_env_checker=False, apply_api_compatibility=False, kwargs={'game': 'seaquest', 'obs_type': 'ram', 'repeat_action_probability': 0.25, 'full_action_space': False, 'frameskip': 4, 'max_num_frames_per_episode': 108000}, namespace='ALE', name='Seaquest-ram', version=5)), ('ALE/SirLancelot-v5', EnvSpec(id='ALE/SirLancelot-v5', entry_point='ale_py.env.gym:AtariEnv', reward_threshold=None, nondeterministic=False, max_episode_steps=None, order_enforce=True, autoreset=False, disable_env_checker=False, apply_api_compatibility=False, kwargs={'game': 'sir_lancelot', 'obs_type': 'rgb', 'repeat_action_probability': 0.25, 'full_action_space': False, 'frameskip': 4, 'max_num_frames_per_episode': 108000}, namespace='ALE', name='SirLancelot', version=5)), ('ALE/SirLancelot-ram-v5', EnvSpec(id='ALE/SirLancelot-ram-v5', entry_point='ale_py.env.gym:AtariEnv', reward_threshold=None, nondeterministic=False, max_episode_steps=None, order_enforce=True, autoreset=False, disable_env_checker=False, apply_api_compatibility=False, kwargs={'game': 'sir_lancelot', 'obs_type': 'ram', 'repeat_action_probability': 0.25, 'full_action_space': False, 'frameskip': 4, 'max_num_frames_per_episode': 108000}, namespace='ALE', name='SirLancelot-ram', version=5)), ('ALE/Skiing-v5', EnvSpec(id='ALE/Skiing-v5', entry_point='ale_py.env.gym:AtariEnv', reward_threshold=None, nondeterministic=False, max_episode_steps=None, order_enforce=True, autoreset=False, disable_env_checker=False, apply_api_compatibility=False, kwargs={'game': 'skiing', 'obs_type': 'rgb', 'repeat_action_probability': 0.25, 'full_action_space': False, 'frameskip': 4, 'max_num_frames_per_episode': 108000}, namespace='ALE', name='Skiing', version=5)), ('ALE/Skiing-ram-v5', EnvSpec(id='ALE/Skiing-ram-v5', entry_point='ale_py.env.gym:AtariEnv', reward_threshold=None, nondeterministic=False, max_episode_steps=None, order_enforce=True, autoreset=False, disable_env_checker=False, apply_api_compatibility=False, kwargs={'game': 'skiing', 'obs_type': 'ram', 'repeat_action_probability': 0.25, 'full_action_space': False, 'frameskip': 4, 'max_num_frames_per_episode': 108000}, namespace='ALE', name='Skiing-ram', version=5)), ('ALE/Solaris-v5', EnvSpec(id='ALE/Solaris-v5', entry_point='ale_py.env.gym:AtariEnv', reward_threshold=None, nondeterministic=False, max_episode_steps=None, order_enforce=True, autoreset=False, disable_env_checker=False, apply_api_compatibility=False, kwargs={'game': 'solaris', 'obs_type': 'rgb', 'repeat_action_probability': 0.25, 'full_action_space': False, 'frameskip': 4, 'max_num_frames_per_episode': 108000}, namespace='ALE', name='Solaris', version=5)), ('ALE/Solaris-ram-v5', EnvSpec(id='ALE/Solaris-ram-v5', entry_point='ale_py.env.gym:AtariEnv', reward_threshold=None, nondeterministic=False, max_episode_steps=None, order_enforce=True, autoreset=False, disable_env_checker=False, apply_api_compatibility=False, kwargs={'game': 'solaris', 'obs_type': 'ram', 'repeat_action_probability': 0.25, 'full_action_space': False, 'frameskip': 4, 'max_num_frames_per_episode': 108000}, namespace='ALE', name='Solaris-ram', version=5)), ('ALE/SpaceInvaders-v5', EnvSpec(id='ALE/SpaceInvaders-v5', entry_point='ale_py.env.gym:AtariEnv', reward_threshold=None, nondeterministic=False, max_episode_steps=None, order_enforce=True, autoreset=False, disable_env_checker=False, apply_api_compatibility=False, kwargs={'game': 'space_invaders', 'obs_type': 'rgb', 'repeat_action_probability': 0.25, 'full_action_space': False, 'frameskip': 4, 'max_num_frames_per_episode': 108000}, namespace='ALE', name='SpaceInvaders', version=5)), ('ALE/SpaceInvaders-ram-v5', EnvSpec(id='ALE/SpaceInvaders-ram-v5', entry_point='ale_py.env.gym:AtariEnv', reward_threshold=None, nondeterministic=False, max_episode_steps=None, order_enforce=True, autoreset=False, disable_env_checker=False, apply_api_compatibility=False, kwargs={'game': 'space_invaders', 'obs_type': 'ram', 'repeat_action_probability': 0.25, 'full_action_space': False, 'frameskip': 4, 'max_num_frames_per_episode': 108000}, namespace='ALE', name='SpaceInvaders-ram', version=5)), ('ALE/SpaceWar-v5', EnvSpec(id='ALE/SpaceWar-v5', entry_point='ale_py.env.gym:AtariEnv', reward_threshold=None, nondeterministic=False, max_episode_steps=None, order_enforce=True, autoreset=False, disable_env_checker=False, apply_api_compatibility=False, kwargs={'game': 'space_war', 'obs_type': 'rgb', 'repeat_action_probability': 0.25, 'full_action_space': False, 'frameskip': 4, 'max_num_frames_per_episode': 108000}, namespace='ALE', name='SpaceWar', version=5)), ('ALE/SpaceWar-ram-v5', EnvSpec(id='ALE/SpaceWar-ram-v5', entry_point='ale_py.env.gym:AtariEnv', reward_threshold=None, nondeterministic=False, max_episode_steps=None, order_enforce=True, autoreset=False, disable_env_checker=False, apply_api_compatibility=False, kwargs={'game': 'space_war', 'obs_type': 'ram', 'repeat_action_probability': 0.25, 'full_action_space': False, 'frameskip': 4, 'max_num_frames_per_episode': 108000}, namespace='ALE', name='SpaceWar-ram', version=5)), ('ALE/StarGunner-v5', EnvSpec(id='ALE/StarGunner-v5', entry_point='ale_py.env.gym:AtariEnv', reward_threshold=None, nondeterministic=False, max_episode_steps=None, order_enforce=True, autoreset=False, disable_env_checker=False, apply_api_compatibility=False, kwargs={'game': 'star_gunner', 'obs_type': 'rgb', 'repeat_action_probability': 0.25, 'full_action_space': False, 'frameskip': 4, 'max_num_frames_per_episode': 108000}, namespace='ALE', name='StarGunner', version=5)), ('ALE/StarGunner-ram-v5', EnvSpec(id='ALE/StarGunner-ram-v5', entry_point='ale_py.env.gym:AtariEnv', reward_threshold=None, nondeterministic=False, max_episode_steps=None, order_enforce=True, autoreset=False, disable_env_checker=False, apply_api_compatibility=False, kwargs={'game': 'star_gunner', 'obs_type': 'ram', 'repeat_action_probability': 0.25, 'full_action_space': False, 'frameskip': 4, 'max_num_frames_per_episode': 108000}, namespace='ALE', name='StarGunner-ram', version=5)), ('ALE/Superman-v5', EnvSpec(id='ALE/Superman-v5', entry_point='ale_py.env.gym:AtariEnv', reward_threshold=None, nondeterministic=False, max_episode_steps=None, order_enforce=True, autoreset=False, disable_env_checker=False, apply_api_compatibility=False, kwargs={'game': 'superman', 'obs_type': 'rgb', 'repeat_action_probability': 0.25, 'full_action_space': False, 'frameskip': 4, 'max_num_frames_per_episode': 108000}, namespace='ALE', name='Superman', version=5)), ('ALE/Superman-ram-v5', EnvSpec(id='ALE/Superman-ram-v5', entry_point='ale_py.env.gym:AtariEnv', reward_threshold=None, nondeterministic=False, max_episode_steps=None, order_enforce=True, autoreset=False, disable_env_checker=False, apply_api_compatibility=False, kwargs={'game': 'superman', 'obs_type': 'ram', 'repeat_action_probability': 0.25, 'full_action_space': False, 'frameskip': 4, 'max_num_frames_per_episode': 108000}, namespace='ALE', name='Superman-ram', version=5)), ('ALE/Surround-v5', EnvSpec(id='ALE/Surround-v5', entry_point='ale_py.env.gym:AtariEnv', reward_threshold=None, nondeterministic=False, max_episode_steps=None, order_enforce=True, autoreset=False, disable_env_checker=False, apply_api_compatibility=False, kwargs={'game': 'surround', 'obs_type': 'rgb', 'repeat_action_probability': 0.25, 'full_action_space': False, 'frameskip': 4, 'max_num_frames_per_episode': 108000}, namespace='ALE', name='Surround', version=5)), ('ALE/Surround-ram-v5', EnvSpec(id='ALE/Surround-ram-v5', entry_point='ale_py.env.gym:AtariEnv', reward_threshold=None, nondeterministic=False, max_episode_steps=None, order_enforce=True, autoreset=False, disable_env_checker=False, apply_api_compatibility=False, kwargs={'game': 'surround', 'obs_type': 'ram', 'repeat_action_probability': 0.25, 'full_action_space': False, 'frameskip': 4, 'max_num_frames_per_episode': 108000}, namespace='ALE', name='Surround-ram', version=5)), ('ALE/Tennis-v5', EnvSpec(id='ALE/Tennis-v5', entry_point='ale_py.env.gym:AtariEnv', reward_threshold=None, nondeterministic=False, max_episode_steps=None, order_enforce=True, autoreset=False, disable_env_checker=False, apply_api_compatibility=False, kwargs={'game': 'tennis', 'obs_type': 'rgb', 'repeat_action_probability': 0.25, 'full_action_space': False, 'frameskip': 4, 'max_num_frames_per_episode': 108000}, namespace='ALE', name='Tennis', version=5)), ('ALE/Tennis-ram-v5', EnvSpec(id='ALE/Tennis-ram-v5', entry_point='ale_py.env.gym:AtariEnv', reward_threshold=None, nondeterministic=False, max_episode_steps=None, order_enforce=True, autoreset=False, disable_env_checker=False, apply_api_compatibility=False, kwargs={'game': 'tennis', 'obs_type': 'ram', 'repeat_action_probability': 0.25, 'full_action_space': False, 'frameskip': 4, 'max_num_frames_per_episode': 108000}, namespace='ALE', name='Tennis-ram', version=5)), ('ALE/Tetris-v5', EnvSpec(id='ALE/Tetris-v5', entry_point='ale_py.env.gym:AtariEnv', reward_threshold=None, nondeterministic=False, max_episode_steps=None, order_enforce=True, autoreset=False, disable_env_checker=False, apply_api_compatibility=False, kwargs={'game': 'tetris', 'obs_type': 'rgb', 'repeat_action_probability': 0.25, 'full_action_space': False, 'frameskip': 4, 'max_num_frames_per_episode': 108000}, namespace='ALE', name='Tetris', version=5)), ('ALE/Tetris-ram-v5', EnvSpec(id='ALE/Tetris-ram-v5', entry_point='ale_py.env.gym:AtariEnv', reward_threshold=None, nondeterministic=False, max_episode_steps=None, order_enforce=True, autoreset=False, disable_env_checker=False, apply_api_compatibility=False, kwargs={'game': 'tetris', 'obs_type': 'ram', 'repeat_action_probability': 0.25, 'full_action_space': False, 'frameskip': 4, 'max_num_frames_per_episode': 108000}, namespace='ALE', name='Tetris-ram', version=5)), ('ALE/TicTacToe3D-v5', EnvSpec(id='ALE/TicTacToe3D-v5', entry_point='ale_py.env.gym:AtariEnv', reward_threshold=None, nondeterministic=False, max_episode_steps=None, order_enforce=True, autoreset=False, disable_env_checker=False, apply_api_compatibility=False, kwargs={'game': 'tic_tac_toe_3d', 'obs_type': 'rgb', 'repeat_action_probability': 0.25, 'full_action_space': False, 'frameskip': 4, 'max_num_frames_per_episode': 108000}, namespace='ALE', name='TicTacToe3D', version=5)), ('ALE/TicTacToe3D-ram-v5', EnvSpec(id='ALE/TicTacToe3D-ram-v5', entry_point='ale_py.env.gym:AtariEnv', reward_threshold=None, nondeterministic=False, max_episode_steps=None, order_enforce=True, autoreset=False, disable_env_checker=False, apply_api_compatibility=False, kwargs={'game': 'tic_tac_toe_3d', 'obs_type': 'ram', 'repeat_action_probability': 0.25, 'full_action_space': False, 'frameskip': 4, 'max_num_frames_per_episode': 108000}, namespace='ALE', name='TicTacToe3D-ram', version=5)), ('ALE/TimePilot-v5', EnvSpec(id='ALE/TimePilot-v5', entry_point='ale_py.env.gym:AtariEnv', reward_threshold=None, nondeterministic=False, max_episode_steps=None, order_enforce=True, autoreset=False, disable_env_checker=False, apply_api_compatibility=False, kwargs={'game': 'time_pilot', 'obs_type': 'rgb', 'repeat_action_probability': 0.25, 'full_action_space': False, 'frameskip': 4, 'max_num_frames_per_episode': 108000}, namespace='ALE', name='TimePilot', version=5)), ('ALE/TimePilot-ram-v5', EnvSpec(id='ALE/TimePilot-ram-v5', entry_point='ale_py.env.gym:AtariEnv', reward_threshold=None, nondeterministic=False, max_episode_steps=None, order_enforce=True, autoreset=False, disable_env_checker=False, apply_api_compatibility=False, kwargs={'game': 'time_pilot', 'obs_type': 'ram', 'repeat_action_probability': 0.25, 'full_action_space': False, 'frameskip': 4, 'max_num_frames_per_episode': 108000}, namespace='ALE', name='TimePilot-ram', version=5)), ('ALE/Trondead-v5', EnvSpec(id='ALE/Trondead-v5', entry_point='ale_py.env.gym:AtariEnv', reward_threshold=None, nondeterministic=False, max_episode_steps=None, order_enforce=True, autoreset=False, disable_env_checker=False, apply_api_compatibility=False, kwargs={'game': 'trondead', 'obs_type': 'rgb', 'repeat_action_probability': 0.25, 'full_action_space': False, 'frameskip': 4, 'max_num_frames_per_episode': 108000}, namespace='ALE', name='Trondead', version=5)), ('ALE/Trondead-ram-v5', EnvSpec(id='ALE/Trondead-ram-v5', entry_point='ale_py.env.gym:AtariEnv', reward_threshold=None, nondeterministic=False, max_episode_steps=None, order_enforce=True, autoreset=False, disable_env_checker=False, apply_api_compatibility=False, kwargs={'game': 'trondead', 'obs_type': 'ram', 'repeat_action_probability': 0.25, 'full_action_space': False, 'frameskip': 4, 'max_num_frames_per_episode': 108000}, namespace='ALE', name='Trondead-ram', version=5)), ('ALE/Turmoil-v5', EnvSpec(id='ALE/Turmoil-v5', entry_point='ale_py.env.gym:AtariEnv', reward_threshold=None, nondeterministic=False, max_episode_steps=None, order_enforce=True, autoreset=False, disable_env_checker=False, apply_api_compatibility=False, kwargs={'game': 'turmoil', 'obs_type': 'rgb', 'repeat_action_probability': 0.25, 'full_action_space': False, 'frameskip': 4, 'max_num_frames_per_episode': 108000}, namespace='ALE', name='Turmoil', version=5)), ('ALE/Turmoil-ram-v5', EnvSpec(id='ALE/Turmoil-ram-v5', entry_point='ale_py.env.gym:AtariEnv', reward_threshold=None, nondeterministic=False, max_episode_steps=None, order_enforce=True, autoreset=False, disable_env_checker=False, apply_api_compatibility=False, kwargs={'game': 'turmoil', 'obs_type': 'ram', 'repeat_action_probability': 0.25, 'full_action_space': False, 'frameskip': 4, 'max_num_frames_per_episode': 108000}, namespace='ALE', name='Turmoil-ram', version=5)), ('ALE/Tutankham-v5', EnvSpec(id='ALE/Tutankham-v5', entry_point='ale_py.env.gym:AtariEnv', reward_threshold=None, nondeterministic=False, max_episode_steps=None, order_enforce=True, autoreset=False, disable_env_checker=False, apply_api_compatibility=False, kwargs={'game': 'tutankham', 'obs_type': 'rgb', 'repeat_action_probability': 0.25, 'full_action_space': False, 'frameskip': 4, 'max_num_frames_per_episode': 108000}, namespace='ALE', name='Tutankham', version=5)), ('ALE/Tutankham-ram-v5', EnvSpec(id='ALE/Tutankham-ram-v5', entry_point='ale_py.env.gym:AtariEnv', reward_threshold=None, nondeterministic=False, max_episode_steps=None, order_enforce=True, autoreset=False, disable_env_checker=False, apply_api_compatibility=False, kwargs={'game': 'tutankham', 'obs_type': 'ram', 'repeat_action_probability': 0.25, 'full_action_space': False, 'frameskip': 4, 'max_num_frames_per_episode': 108000}, namespace='ALE', name='Tutankham-ram', version=5)), ('ALE/UpNDown-v5', EnvSpec(id='ALE/UpNDown-v5', entry_point='ale_py.env.gym:AtariEnv', reward_threshold=None, nondeterministic=False, max_episode_steps=None, order_enforce=True, autoreset=False, disable_env_checker=False, apply_api_compatibility=False, kwargs={'game': 'up_n_down', 'obs_type': 'rgb', 'repeat_action_probability': 0.25, 'full_action_space': False, 'frameskip': 4, 'max_num_frames_per_episode': 108000}, namespace='ALE', name='UpNDown', version=5)), ('ALE/UpNDown-ram-v5', EnvSpec(id='ALE/UpNDown-ram-v5', entry_point='ale_py.env.gym:AtariEnv', reward_threshold=None, nondeterministic=False, max_episode_steps=None, order_enforce=True, autoreset=False, disable_env_checker=False, apply_api_compatibility=False, kwargs={'game': 'up_n_down', 'obs_type': 'ram', 'repeat_action_probability': 0.25, 'full_action_space': False, 'frameskip': 4, 'max_num_frames_per_episode': 108000}, namespace='ALE', name='UpNDown-ram', version=5)), ('ALE/Venture-v5', EnvSpec(id='ALE/Venture-v5', entry_point='ale_py.env.gym:AtariEnv', reward_threshold=None, nondeterministic=False, max_episode_steps=None, order_enforce=True, autoreset=False, disable_env_checker=False, apply_api_compatibility=False, kwargs={'game': 'venture', 'obs_type': 'rgb', 'repeat_action_probability': 0.25, 'full_action_space': False, 'frameskip': 4, 'max_num_frames_per_episode': 108000}, namespace='ALE', name='Venture', version=5)), ('ALE/Venture-ram-v5', EnvSpec(id='ALE/Venture-ram-v5', entry_point='ale_py.env.gym:AtariEnv', reward_threshold=None, nondeterministic=False, max_episode_steps=None, order_enforce=True, autoreset=False, disable_env_checker=False, apply_api_compatibility=False, kwargs={'game': 'venture', 'obs_type': 'ram', 'repeat_action_probability': 0.25, 'full_action_space': False, 'frameskip': 4, 'max_num_frames_per_episode': 108000}, namespace='ALE', name='Venture-ram', version=5)), ('ALE/VideoCheckers-v5', EnvSpec(id='ALE/VideoCheckers-v5', entry_point='ale_py.env.gym:AtariEnv', reward_threshold=None, nondeterministic=False, max_episode_steps=None, order_enforce=True, autoreset=False, disable_env_checker=False, apply_api_compatibility=False, kwargs={'game': 'video_checkers', 'obs_type': 'rgb', 'repeat_action_probability': 0.25, 'full_action_space': False, 'frameskip': 4, 'max_num_frames_per_episode': 108000}, namespace='ALE', name='VideoCheckers', version=5)), ('ALE/VideoCheckers-ram-v5', EnvSpec(id='ALE/VideoCheckers-ram-v5', entry_point='ale_py.env.gym:AtariEnv', reward_threshold=None, nondeterministic=False, max_episode_steps=None, order_enforce=True, autoreset=False, disable_env_checker=False, apply_api_compatibility=False, kwargs={'game': 'video_checkers', 'obs_type': 'ram', 'repeat_action_probability': 0.25, 'full_action_space': False, 'frameskip': 4, 'max_num_frames_per_episode': 108000}, namespace='ALE', name='VideoCheckers-ram', version=5)), ('ALE/VideoChess-v5', EnvSpec(id='ALE/VideoChess-v5', entry_point='ale_py.env.gym:AtariEnv', reward_threshold=None, nondeterministic=False, max_episode_steps=None, order_enforce=True, autoreset=False, disable_env_checker=False, apply_api_compatibility=False, kwargs={'game': 'video_chess', 'obs_type': 'rgb', 'repeat_action_probability': 0.25, 'full_action_space': False, 'frameskip': 4, 'max_num_frames_per_episode': 108000}, namespace='ALE', name='VideoChess', version=5)), ('ALE/VideoChess-ram-v5', EnvSpec(id='ALE/VideoChess-ram-v5', entry_point='ale_py.env.gym:AtariEnv', reward_threshold=None, nondeterministic=False, max_episode_steps=None, order_enforce=True, autoreset=False, disable_env_checker=False, apply_api_compatibility=False, kwargs={'game': 'video_chess', 'obs_type': 'ram', 'repeat_action_probability': 0.25, 'full_action_space': False, 'frameskip': 4, 'max_num_frames_per_episode': 108000}, namespace='ALE', name='VideoChess-ram', version=5)), ('ALE/VideoCube-v5', EnvSpec(id='ALE/VideoCube-v5', entry_point='ale_py.env.gym:AtariEnv', reward_threshold=None, nondeterministic=False, max_episode_steps=None, order_enforce=True, autoreset=False, disable_env_checker=False, apply_api_compatibility=False, kwargs={'game': 'video_cube', 'obs_type': 'rgb', 'repeat_action_probability': 0.25, 'full_action_space': False, 'frameskip': 4, 'max_num_frames_per_episode': 108000}, namespace='ALE', name='VideoCube', version=5)), ('ALE/VideoCube-ram-v5', EnvSpec(id='ALE/VideoCube-ram-v5', entry_point='ale_py.env.gym:AtariEnv', reward_threshold=None, nondeterministic=False, max_episode_steps=None, order_enforce=True, autoreset=False, disable_env_checker=False, apply_api_compatibility=False, kwargs={'game': 'video_cube', 'obs_type': 'ram', 'repeat_action_probability': 0.25, 'full_action_space': False, 'frameskip': 4, 'max_num_frames_per_episode': 108000}, namespace='ALE', name='VideoCube-ram', version=5)), ('ALE/VideoPinball-v5', EnvSpec(id='ALE/VideoPinball-v5', entry_point='ale_py.env.gym:AtariEnv', reward_threshold=None, nondeterministic=False, max_episode_steps=None, order_enforce=True, autoreset=False, disable_env_checker=False, apply_api_compatibility=False, kwargs={'game': 'video_pinball', 'obs_type': 'rgb', 'repeat_action_probability': 0.25, 'full_action_space': False, 'frameskip': 4, 'max_num_frames_per_episode': 108000}, namespace='ALE', name='VideoPinball', version=5)), ('ALE/VideoPinball-ram-v5', EnvSpec(id='ALE/VideoPinball-ram-v5', entry_point='ale_py.env.gym:AtariEnv', reward_threshold=None, nondeterministic=False, max_episode_steps=None, order_enforce=True, autoreset=False, disable_env_checker=False, apply_api_compatibility=False, kwargs={'game': 'video_pinball', 'obs_type': 'ram', 'repeat_action_probability': 0.25, 'full_action_space': False, 'frameskip': 4, 'max_num_frames_per_episode': 108000}, namespace='ALE', name='VideoPinball-ram', version=5)), ('ALE/WizardOfWor-v5', EnvSpec(id='ALE/WizardOfWor-v5', entry_point='ale_py.env.gym:AtariEnv', reward_threshold=None, nondeterministic=False, max_episode_steps=None, order_enforce=True, autoreset=False, disable_env_checker=False, apply_api_compatibility=False, kwargs={'game': 'wizard_of_wor', 'obs_type': 'rgb', 'repeat_action_probability': 0.25, 'full_action_space': False, 'frameskip': 4, 'max_num_frames_per_episode': 108000}, namespace='ALE', name='WizardOfWor', version=5)), ('ALE/WizardOfWor-ram-v5', EnvSpec(id='ALE/WizardOfWor-ram-v5', entry_point='ale_py.env.gym:AtariEnv', reward_threshold=None, nondeterministic=False, max_episode_steps=None, order_enforce=True, autoreset=False, disable_env_checker=False, apply_api_compatibility=False, kwargs={'game': 'wizard_of_wor', 'obs_type': 'ram', 'repeat_action_probability': 0.25, 'full_action_space': False, 'frameskip': 4, 'max_num_frames_per_episode': 108000}, namespace='ALE', name='WizardOfWor-ram', version=5)), ('ALE/WordZapper-v5', EnvSpec(id='ALE/WordZapper-v5', entry_point='ale_py.env.gym:AtariEnv', reward_threshold=None, nondeterministic=False, max_episode_steps=None, order_enforce=True, autoreset=False, disable_env_checker=False, apply_api_compatibility=False, kwargs={'game': 'word_zapper', 'obs_type': 'rgb', 'repeat_action_probability': 0.25, 'full_action_space': False, 'frameskip': 4, 'max_num_frames_per_episode': 108000}, namespace='ALE', name='WordZapper', version=5)), ('ALE/WordZapper-ram-v5', EnvSpec(id='ALE/WordZapper-ram-v5', entry_point='ale_py.env.gym:AtariEnv', reward_threshold=None, nondeterministic=False, max_episode_steps=None, order_enforce=True, autoreset=False, disable_env_checker=False, apply_api_compatibility=False, kwargs={'game': 'word_zapper', 'obs_type': 'ram', 'repeat_action_probability': 0.25, 'full_action_space': False, 'frameskip': 4, 'max_num_frames_per_episode': 108000}, namespace='ALE', name='WordZapper-ram', version=5)), ('ALE/YarsRevenge-v5', EnvSpec(id='ALE/YarsRevenge-v5', entry_point='ale_py.env.gym:AtariEnv', reward_threshold=None, nondeterministic=False, max_episode_steps=None, order_enforce=True, autoreset=False, disable_env_checker=False, apply_api_compatibility=False, kwargs={'game': 'yars_revenge', 'obs_type': 'rgb', 'repeat_action_probability': 0.25, 'full_action_space': False, 'frameskip': 4, 'max_num_frames_per_episode': 108000}, namespace='ALE', name='YarsRevenge', version=5)), ('ALE/YarsRevenge-ram-v5', EnvSpec(id='ALE/YarsRevenge-ram-v5', entry_point='ale_py.env.gym:AtariEnv', reward_threshold=None, nondeterministic=False, max_episode_steps=None, order_enforce=True, autoreset=False, disable_env_checker=False, apply_api_compatibility=False, kwargs={'game': 'yars_revenge', 'obs_type': 'ram', 'repeat_action_probability': 0.25, 'full_action_space': False, 'frameskip': 4, 'max_num_frames_per_episode': 108000}, namespace='ALE', name='YarsRevenge-ram', version=5)), ('ALE/Zaxxon-v5', EnvSpec(id='ALE/Zaxxon-v5', entry_point='ale_py.env.gym:AtariEnv', reward_threshold=None, nondeterministic=False, max_episode_steps=None, order_enforce=True, autoreset=False, disable_env_checker=False, apply_api_compatibility=False, kwargs={'game': 'zaxxon', 'obs_type': 'rgb', 'repeat_action_probability': 0.25, 'full_action_space': False, 'frameskip': 4, 'max_num_frames_per_episode': 108000}, namespace='ALE', name='Zaxxon', version=5)), ('ALE/Zaxxon-ram-v5', EnvSpec(id='ALE/Zaxxon-ram-v5', entry_point='ale_py.env.gym:AtariEnv', reward_threshold=None, nondeterministic=False, max_episode_steps=None, order_enforce=True, autoreset=False, disable_env_checker=False, apply_api_compatibility=False, kwargs={'game': 'zaxxon', 'obs_type': 'ram', 'repeat_action_probability': 0.25, 'full_action_space': False, 'frameskip': 4, 'max_num_frames_per_episode': 108000}, namespace='ALE', name='Zaxxon-ram', version=5)), ('Adventure-v0', EnvSpec(id='Adventure-v0', entry_point='ale_py.env.gym:AtariEnv', reward_threshold=None, nondeterministic=False, max_episode_steps=None, order_enforce=True, autoreset=False, disable_env_checker=False, apply_api_compatibility=False, kwargs={'game': 'adventure', 'obs_type': 'rgb', 'repeat_action_probability': 0.25, 'full_action_space': False, 'max_num_frames_per_episode': 108000, 'frameskip': (2, 5)}, namespace=None, name='Adventure', version=0)), ('AdventureDeterministic-v0', EnvSpec(id='AdventureDeterministic-v0', entry_point='ale_py.env.gym:AtariEnv', reward_threshold=None, nondeterministic=False, max_episode_steps=None, order_enforce=True, autoreset=False, disable_env_checker=False, apply_api_compatibility=False, kwargs={'game': 'adventure', 'obs_type': 'rgb', 'repeat_action_probability': 0.25, 'full_action_space': False, 'max_num_frames_per_episode': 108000, 'frameskip': 4}, namespace=None, name='AdventureDeterministic', version=0)), ('AdventureNoFrameskip-v0', EnvSpec(id='AdventureNoFrameskip-v0', entry_point='ale_py.env.gym:AtariEnv', reward_threshold=None, nondeterministic=False, max_episode_steps=None, order_enforce=True, autoreset=False, disable_env_checker=False, apply_api_compatibility=False, kwargs={'game': 'adventure', 'obs_type': 'rgb', 'repeat_action_probability': 0.25, 'full_action_space': False, 'max_num_frames_per_episode': 108000, 'frameskip': 1}, namespace=None, name='AdventureNoFrameskip', version=0)), ('Adventure-v4', EnvSpec(id='Adventure-v4', entry_point='ale_py.env.gym:AtariEnv', reward_threshold=None, nondeterministic=False, max_episode_steps=None, order_enforce=True, autoreset=False, disable_env_checker=False, apply_api_compatibility=False, kwargs={'game': 'adventure', 'obs_type': 'rgb', 'repeat_action_probability': 0.0, 'full_action_space': False, 'max_num_frames_per_episode': 108000, 'frameskip': (2, 5)}, namespace=None, name='Adventure', version=4)), ('AdventureDeterministic-v4', EnvSpec(id='AdventureDeterministic-v4', entry_point='ale_py.env.gym:AtariEnv', reward_threshold=None, nondeterministic=False, max_episode_steps=None, order_enforce=True, autoreset=False, disable_env_checker=False, apply_api_compatibility=False, kwargs={'game': 'adventure', 'obs_type': 'rgb', 'repeat_action_probability': 0.0, 'full_action_space': False, 'max_num_frames_per_episode': 108000, 'frameskip': 4}, namespace=None, name='AdventureDeterministic', version=4)), ('AdventureNoFrameskip-v4', EnvSpec(id='AdventureNoFrameskip-v4', entry_point='ale_py.env.gym:AtariEnv', reward_threshold=None, nondeterministic=False, max_episode_steps=None, order_enforce=True, autoreset=False, disable_env_checker=False, apply_api_compatibility=False, kwargs={'game': 'adventure', 'obs_type': 'rgb', 'repeat_action_probability': 0.0, 'full_action_space': False, 'max_num_frames_per_episode': 108000, 'frameskip': 1}, namespace=None, name='AdventureNoFrameskip', version=4)), ('Adventure-ram-v0', EnvSpec(id='Adventure-ram-v0', entry_point='ale_py.env.gym:AtariEnv', reward_threshold=None, nondeterministic=False, max_episode_steps=None, order_enforce=True, autoreset=False, disable_env_checker=False, apply_api_compatibility=False, kwargs={'game': 'adventure', 'obs_type': 'ram', 'repeat_action_probability': 0.25, 'full_action_space': False, 'max_num_frames_per_episode': 108000, 'frameskip': (2, 5)}, namespace=None, name='Adventure-ram', version=0)), ('Adventure-ramDeterministic-v0', EnvSpec(id='Adventure-ramDeterministic-v0', entry_point='ale_py.env.gym:AtariEnv', reward_threshold=None, nondeterministic=False, max_episode_steps=None, order_enforce=True, autoreset=False, disable_env_checker=False, apply_api_compatibility=False, kwargs={'game': 'adventure', 'obs_type': 'ram', 'repeat_action_probability': 0.25, 'full_action_space': False, 'max_num_frames_per_episode': 108000, 'frameskip': 4}, namespace=None, name='Adventure-ramDeterministic', version=0)), ('Adventure-ramNoFrameskip-v0', EnvSpec(id='Adventure-ramNoFrameskip-v0', entry_point='ale_py.env.gym:AtariEnv', reward_threshold=None, nondeterministic=False, max_episode_steps=None, order_enforce=True, autoreset=False, disable_env_checker=False, apply_api_compatibility=False, kwargs={'game': 'adventure', 'obs_type': 'ram', 'repeat_action_probability': 0.25, 'full_action_space': False, 'max_num_frames_per_episode': 108000, 'frameskip': 1}, namespace=None, name='Adventure-ramNoFrameskip', version=0)), ('Adventure-ram-v4', EnvSpec(id='Adventure-ram-v4', entry_point='ale_py.env.gym:AtariEnv', reward_threshold=None, nondeterministic=False, max_episode_steps=None, order_enforce=True, autoreset=False, disable_env_checker=False, apply_api_compatibility=False, kwargs={'game': 'adventure', 'obs_type': 'ram', 'repeat_action_probability': 0.0, 'full_action_space': False, 'max_num_frames_per_episode': 108000, 'frameskip': (2, 5)}, namespace=None, name='Adventure-ram', version=4)), ('Adventure-ramDeterministic-v4', EnvSpec(id='Adventure-ramDeterministic-v4', entry_point='ale_py.env.gym:AtariEnv', reward_threshold=None, nondeterministic=False, max_episode_steps=None, order_enforce=True, autoreset=False, disable_env_checker=False, apply_api_compatibility=False, kwargs={'game': 'adventure', 'obs_type': 'ram', 'repeat_action_probability': 0.0, 'full_action_space': False, 'max_num_frames_per_episode': 108000, 'frameskip': 4}, namespace=None, name='Adventure-ramDeterministic', version=4)), ('Adventure-ramNoFrameskip-v4', EnvSpec(id='Adventure-ramNoFrameskip-v4', entry_point='ale_py.env.gym:AtariEnv', reward_threshold=None, nondeterministic=False, max_episode_steps=None, order_enforce=True, autoreset=False, disable_env_checker=False, apply_api_compatibility=False, kwargs={'game': 'adventure', 'obs_type': 'ram', 'repeat_action_probability': 0.0, 'full_action_space': False, 'max_num_frames_per_episode': 108000, 'frameskip': 1}, namespace=None, name='Adventure-ramNoFrameskip', version=4)), ('AirRaid-v0', EnvSpec(id='AirRaid-v0', entry_point='ale_py.env.gym:AtariEnv', reward_threshold=None, nondeterministic=False, max_episode_steps=None, order_enforce=True, autoreset=False, disable_env_checker=False, apply_api_compatibility=False, kwargs={'game': 'air_raid', 'obs_type': 'rgb', 'repeat_action_probability': 0.25, 'full_action_space': False, 'max_num_frames_per_episode': 108000, 'frameskip': (2, 5)}, namespace=None, name='AirRaid', version=0)), ('AirRaidDeterministic-v0', EnvSpec(id='AirRaidDeterministic-v0', entry_point='ale_py.env.gym:AtariEnv', reward_threshold=None, nondeterministic=False, max_episode_steps=None, order_enforce=True, autoreset=False, disable_env_checker=False, apply_api_compatibility=False, kwargs={'game': 'air_raid', 'obs_type': 'rgb', 'repeat_action_probability': 0.25, 'full_action_space': False, 'max_num_frames_per_episode': 108000, 'frameskip': 4}, namespace=None, name='AirRaidDeterministic', version=0)), ('AirRaidNoFrameskip-v0', EnvSpec(id='AirRaidNoFrameskip-v0', entry_point='ale_py.env.gym:AtariEnv', reward_threshold=None, nondeterministic=False, max_episode_steps=None, order_enforce=True, autoreset=False, disable_env_checker=False, apply_api_compatibility=False, kwargs={'game': 'air_raid', 'obs_type': 'rgb', 'repeat_action_probability': 0.25, 'full_action_space': False, 'max_num_frames_per_episode': 108000, 'frameskip': 1}, namespace=None, name='AirRaidNoFrameskip', version=0)), ('AirRaid-v4', EnvSpec(id='AirRaid-v4', entry_point='ale_py.env.gym:AtariEnv', reward_threshold=None, nondeterministic=False, max_episode_steps=None, order_enforce=True, autoreset=False, disable_env_checker=False, apply_api_compatibility=False, kwargs={'game': 'air_raid', 'obs_type': 'rgb', 'repeat_action_probability': 0.0, 'full_action_space': False, 'max_num_frames_per_episode': 108000, 'frameskip': (2, 5)}, namespace=None, name='AirRaid', version=4)), ('AirRaidDeterministic-v4', EnvSpec(id='AirRaidDeterministic-v4', entry_point='ale_py.env.gym:AtariEnv', reward_threshold=None, nondeterministic=False, max_episode_steps=None, order_enforce=True, autoreset=False, disable_env_checker=False, apply_api_compatibility=False, kwargs={'game': 'air_raid', 'obs_type': 'rgb', 'repeat_action_probability': 0.0, 'full_action_space': False, 'max_num_frames_per_episode': 108000, 'frameskip': 4}, namespace=None, name='AirRaidDeterministic', version=4)), ('AirRaidNoFrameskip-v4', EnvSpec(id='AirRaidNoFrameskip-v4', entry_point='ale_py.env.gym:AtariEnv', reward_threshold=None, nondeterministic=False, max_episode_steps=None, order_enforce=True, autoreset=False, disable_env_checker=False, apply_api_compatibility=False, kwargs={'game': 'air_raid', 'obs_type': 'rgb', 'repeat_action_probability': 0.0, 'full_action_space': False, 'max_num_frames_per_episode': 108000, 'frameskip': 1}, namespace=None, name='AirRaidNoFrameskip', version=4)), ('AirRaid-ram-v0', EnvSpec(id='AirRaid-ram-v0', entry_point='ale_py.env.gym:AtariEnv', reward_threshold=None, nondeterministic=False, max_episode_steps=None, order_enforce=True, autoreset=False, disable_env_checker=False, apply_api_compatibility=False, kwargs={'game': 'air_raid', 'obs_type': 'ram', 'repeat_action_probability': 0.25, 'full_action_space': False, 'max_num_frames_per_episode': 108000, 'frameskip': (2, 5)}, namespace=None, name='AirRaid-ram', version=0)), ('AirRaid-ramDeterministic-v0', EnvSpec(id='AirRaid-ramDeterministic-v0', entry_point='ale_py.env.gym:AtariEnv', reward_threshold=None, nondeterministic=False, max_episode_steps=None, order_enforce=True, autoreset=False, disable_env_checker=False, apply_api_compatibility=False, kwargs={'game': 'air_raid', 'obs_type': 'ram', 'repeat_action_probability': 0.25, 'full_action_space': False, 'max_num_frames_per_episode': 108000, 'frameskip': 4}, namespace=None, name='AirRaid-ramDeterministic', version=0)), ('AirRaid-ramNoFrameskip-v0', EnvSpec(id='AirRaid-ramNoFrameskip-v0', entry_point='ale_py.env.gym:AtariEnv', reward_threshold=None, nondeterministic=False, max_episode_steps=None, order_enforce=True, autoreset=False, disable_env_checker=False, apply_api_compatibility=False, kwargs={'game': 'air_raid', 'obs_type': 'ram', 'repeat_action_probability': 0.25, 'full_action_space': False, 'max_num_frames_per_episode': 108000, 'frameskip': 1}, namespace=None, name='AirRaid-ramNoFrameskip', version=0)), ('AirRaid-ram-v4', EnvSpec(id='AirRaid-ram-v4', entry_point='ale_py.env.gym:AtariEnv', reward_threshold=None, nondeterministic=False, max_episode_steps=None, order_enforce=True, autoreset=False, disable_env_checker=False, apply_api_compatibility=False, kwargs={'game': 'air_raid', 'obs_type': 'ram', 'repeat_action_probability': 0.0, 'full_action_space': False, 'max_num_frames_per_episode': 108000, 'frameskip': (2, 5)}, namespace=None, name='AirRaid-ram', version=4)), ('AirRaid-ramDeterministic-v4', EnvSpec(id='AirRaid-ramDeterministic-v4', entry_point='ale_py.env.gym:AtariEnv', reward_threshold=None, nondeterministic=False, max_episode_steps=None, order_enforce=True, autoreset=False, disable_env_checker=False, apply_api_compatibility=False, kwargs={'game': 'air_raid', 'obs_type': 'ram', 'repeat_action_probability': 0.0, 'full_action_space': False, 'max_num_frames_per_episode': 108000, 'frameskip': 4}, namespace=None, name='AirRaid-ramDeterministic', version=4)), ('AirRaid-ramNoFrameskip-v4', EnvSpec(id='AirRaid-ramNoFrameskip-v4', entry_point='ale_py.env.gym:AtariEnv', reward_threshold=None, nondeterministic=False, max_episode_steps=None, order_enforce=True, autoreset=False, disable_env_checker=False, apply_api_compatibility=False, kwargs={'game': 'air_raid', 'obs_type': 'ram', 'repeat_action_probability': 0.0, 'full_action_space': False, 'max_num_frames_per_episode': 108000, 'frameskip': 1}, namespace=None, name='AirRaid-ramNoFrameskip', version=4)), ('Alien-v0', EnvSpec(id='Alien-v0', entry_point='ale_py.env.gym:AtariEnv', reward_threshold=None, nondeterministic=False, max_episode_steps=None, order_enforce=True, autoreset=False, disable_env_checker=False, apply_api_compatibility=False, kwargs={'game': 'alien', 'obs_type': 'rgb', 'repeat_action_probability': 0.25, 'full_action_space': False, 'max_num_frames_per_episode': 108000, 'frameskip': (2, 5)}, namespace=None, name='Alien', version=0)), ('AlienDeterministic-v0', EnvSpec(id='AlienDeterministic-v0', entry_point='ale_py.env.gym:AtariEnv', reward_threshold=None, nondeterministic=False, max_episode_steps=None, order_enforce=True, autoreset=False, disable_env_checker=False, apply_api_compatibility=False, kwargs={'game': 'alien', 'obs_type': 'rgb', 'repeat_action_probability': 0.25, 'full_action_space': False, 'max_num_frames_per_episode': 108000, 'frameskip': 4}, namespace=None, name='AlienDeterministic', version=0)), ('AlienNoFrameskip-v0', EnvSpec(id='AlienNoFrameskip-v0', entry_point='ale_py.env.gym:AtariEnv', reward_threshold=None, nondeterministic=False, max_episode_steps=None, order_enforce=True, autoreset=False, disable_env_checker=False, apply_api_compatibility=False, kwargs={'game': 'alien', 'obs_type': 'rgb', 'repeat_action_probability': 0.25, 'full_action_space': False, 'max_num_frames_per_episode': 108000, 'frameskip': 1}, namespace=None, name='AlienNoFrameskip', version=0)), ('Alien-v4', EnvSpec(id='Alien-v4', entry_point='ale_py.env.gym:AtariEnv', reward_threshold=None, nondeterministic=False, max_episode_steps=None, order_enforce=True, autoreset=False, disable_env_checker=False, apply_api_compatibility=False, kwargs={'game': 'alien', 'obs_type': 'rgb', 'repeat_action_probability': 0.0, 'full_action_space': False, 'max_num_frames_per_episode': 108000, 'frameskip': (2, 5)}, namespace=None, name='Alien', version=4)), ('AlienDeterministic-v4', EnvSpec(id='AlienDeterministic-v4', entry_point='ale_py.env.gym:AtariEnv', reward_threshold=None, nondeterministic=False, max_episode_steps=None, order_enforce=True, autoreset=False, disable_env_checker=False, apply_api_compatibility=False, kwargs={'game': 'alien', 'obs_type': 'rgb', 'repeat_action_probability': 0.0, 'full_action_space': False, 'max_num_frames_per_episode': 108000, 'frameskip': 4}, namespace=None, name='AlienDeterministic', version=4)), ('AlienNoFrameskip-v4', EnvSpec(id='AlienNoFrameskip-v4', entry_point='ale_py.env.gym:AtariEnv', reward_threshold=None, nondeterministic=False, max_episode_steps=None, order_enforce=True, autoreset=False, disable_env_checker=False, apply_api_compatibility=False, kwargs={'game': 'alien', 'obs_type': 'rgb', 'repeat_action_probability': 0.0, 'full_action_space': False, 'max_num_frames_per_episode': 108000, 'frameskip': 1}, namespace=None, name='AlienNoFrameskip', version=4)), ('Alien-ram-v0', EnvSpec(id='Alien-ram-v0', entry_point='ale_py.env.gym:AtariEnv', reward_threshold=None, nondeterministic=False, max_episode_steps=None, order_enforce=True, autoreset=False, disable_env_checker=False, apply_api_compatibility=False, kwargs={'game': 'alien', 'obs_type': 'ram', 'repeat_action_probability': 0.25, 'full_action_space': False, 'max_num_frames_per_episode': 108000, 'frameskip': (2, 5)}, namespace=None, name='Alien-ram', version=0)), ('Alien-ramDeterministic-v0', EnvSpec(id='Alien-ramDeterministic-v0', entry_point='ale_py.env.gym:AtariEnv', reward_threshold=None, nondeterministic=False, max_episode_steps=None, order_enforce=True, autoreset=False, disable_env_checker=False, apply_api_compatibility=False, kwargs={'game': 'alien', 'obs_type': 'ram', 'repeat_action_probability': 0.25, 'full_action_space': False, 'max_num_frames_per_episode': 108000, 'frameskip': 4}, namespace=None, name='Alien-ramDeterministic', version=0)), ('Alien-ramNoFrameskip-v0', EnvSpec(id='Alien-ramNoFrameskip-v0', entry_point='ale_py.env.gym:AtariEnv', reward_threshold=None, nondeterministic=False, max_episode_steps=None, order_enforce=True, autoreset=False, disable_env_checker=False, apply_api_compatibility=False, kwargs={'game': 'alien', 'obs_type': 'ram', 'repeat_action_probability': 0.25, 'full_action_space': False, 'max_num_frames_per_episode': 108000, 'frameskip': 1}, namespace=None, name='Alien-ramNoFrameskip', version=0)), ('Alien-ram-v4', EnvSpec(id='Alien-ram-v4', entry_point='ale_py.env.gym:AtariEnv', reward_threshold=None, nondeterministic=False, max_episode_steps=None, order_enforce=True, autoreset=False, disable_env_checker=False, apply_api_compatibility=False, kwargs={'game': 'alien', 'obs_type': 'ram', 'repeat_action_probability': 0.0, 'full_action_space': False, 'max_num_frames_per_episode': 108000, 'frameskip': (2, 5)}, namespace=None, name='Alien-ram', version=4)), ('Alien-ramDeterministic-v4', EnvSpec(id='Alien-ramDeterministic-v4', entry_point='ale_py.env.gym:AtariEnv', reward_threshold=None, nondeterministic=False, max_episode_steps=None, order_enforce=True, autoreset=False, disable_env_checker=False, apply_api_compatibility=False, kwargs={'game': 'alien', 'obs_type': 'ram', 'repeat_action_probability': 0.0, 'full_action_space': False, 'max_num_frames_per_episode': 108000, 'frameskip': 4}, namespace=None, name='Alien-ramDeterministic', version=4)), ('Alien-ramNoFrameskip-v4', EnvSpec(id='Alien-ramNoFrameskip-v4', entry_point='ale_py.env.gym:AtariEnv', reward_threshold=None, nondeterministic=False, max_episode_steps=None, order_enforce=True, autoreset=False, disable_env_checker=False, apply_api_compatibility=False, kwargs={'game': 'alien', 'obs_type': 'ram', 'repeat_action_probability': 0.0, 'full_action_space': False, 'max_num_frames_per_episode': 108000, 'frameskip': 1}, namespace=None, name='Alien-ramNoFrameskip', version=4)), ('Amidar-v0', EnvSpec(id='Amidar-v0', entry_point='ale_py.env.gym:AtariEnv', reward_threshold=None, nondeterministic=False, max_episode_steps=None, order_enforce=True, autoreset=False, disable_env_checker=False, apply_api_compatibility=False, kwargs={'game': 'amidar', 'obs_type': 'rgb', 'repeat_action_probability': 0.25, 'full_action_space': False, 'max_num_frames_per_episode': 108000, 'frameskip': (2, 5)}, namespace=None, name='Amidar', version=0)), ('AmidarDeterministic-v0', EnvSpec(id='AmidarDeterministic-v0', entry_point='ale_py.env.gym:AtariEnv', reward_threshold=None, nondeterministic=False, max_episode_steps=None, order_enforce=True, autoreset=False, disable_env_checker=False, apply_api_compatibility=False, kwargs={'game': 'amidar', 'obs_type': 'rgb', 'repeat_action_probability': 0.25, 'full_action_space': False, 'max_num_frames_per_episode': 108000, 'frameskip': 4}, namespace=None, name='AmidarDeterministic', version=0)), ('AmidarNoFrameskip-v0', EnvSpec(id='AmidarNoFrameskip-v0', entry_point='ale_py.env.gym:AtariEnv', reward_threshold=None, nondeterministic=False, max_episode_steps=None, order_enforce=True, autoreset=False, disable_env_checker=False, apply_api_compatibility=False, kwargs={'game': 'amidar', 'obs_type': 'rgb', 'repeat_action_probability': 0.25, 'full_action_space': False, 'max_num_frames_per_episode': 108000, 'frameskip': 1}, namespace=None, name='AmidarNoFrameskip', version=0)), ('Amidar-v4', EnvSpec(id='Amidar-v4', entry_point='ale_py.env.gym:AtariEnv', reward_threshold=None, nondeterministic=False, max_episode_steps=None, order_enforce=True, autoreset=False, disable_env_checker=False, apply_api_compatibility=False, kwargs={'game': 'amidar', 'obs_type': 'rgb', 'repeat_action_probability': 0.0, 'full_action_space': False, 'max_num_frames_per_episode': 108000, 'frameskip': (2, 5)}, namespace=None, name='Amidar', version=4)), ('AmidarDeterministic-v4', EnvSpec(id='AmidarDeterministic-v4', entry_point='ale_py.env.gym:AtariEnv', reward_threshold=None, nondeterministic=False, max_episode_steps=None, order_enforce=True, autoreset=False, disable_env_checker=False, apply_api_compatibility=False, kwargs={'game': 'amidar', 'obs_type': 'rgb', 'repeat_action_probability': 0.0, 'full_action_space': False, 'max_num_frames_per_episode': 108000, 'frameskip': 4}, namespace=None, name='AmidarDeterministic', version=4)), ('AmidarNoFrameskip-v4', EnvSpec(id='AmidarNoFrameskip-v4', entry_point='ale_py.env.gym:AtariEnv', reward_threshold=None, nondeterministic=False, max_episode_steps=None, order_enforce=True, autoreset=False, disable_env_checker=False, apply_api_compatibility=False, kwargs={'game': 'amidar', 'obs_type': 'rgb', 'repeat_action_probability': 0.0, 'full_action_space': False, 'max_num_frames_per_episode': 108000, 'frameskip': 1}, namespace=None, name='AmidarNoFrameskip', version=4)), ('Amidar-ram-v0', EnvSpec(id='Amidar-ram-v0', entry_point='ale_py.env.gym:AtariEnv', reward_threshold=None, nondeterministic=False, max_episode_steps=None, order_enforce=True, autoreset=False, disable_env_checker=False, apply_api_compatibility=False, kwargs={'game': 'amidar', 'obs_type': 'ram', 'repeat_action_probability': 0.25, 'full_action_space': False, 'max_num_frames_per_episode': 108000, 'frameskip': (2, 5)}, namespace=None, name='Amidar-ram', version=0)), ('Amidar-ramDeterministic-v0', EnvSpec(id='Amidar-ramDeterministic-v0', entry_point='ale_py.env.gym:AtariEnv', reward_threshold=None, nondeterministic=False, max_episode_steps=None, order_enforce=True, autoreset=False, disable_env_checker=False, apply_api_compatibility=False, kwargs={'game': 'amidar', 'obs_type': 'ram', 'repeat_action_probability': 0.25, 'full_action_space': False, 'max_num_frames_per_episode': 108000, 'frameskip': 4}, namespace=None, name='Amidar-ramDeterministic', version=0)), ('Amidar-ramNoFrameskip-v0', EnvSpec(id='Amidar-ramNoFrameskip-v0', entry_point='ale_py.env.gym:AtariEnv', reward_threshold=None, nondeterministic=False, max_episode_steps=None, order_enforce=True, autoreset=False, disable_env_checker=False, apply_api_compatibility=False, kwargs={'game': 'amidar', 'obs_type': 'ram', 'repeat_action_probability': 0.25, 'full_action_space': False, 'max_num_frames_per_episode': 108000, 'frameskip': 1}, namespace=None, name='Amidar-ramNoFrameskip', version=0)), ('Amidar-ram-v4', EnvSpec(id='Amidar-ram-v4', entry_point='ale_py.env.gym:AtariEnv', reward_threshold=None, nondeterministic=False, max_episode_steps=None, order_enforce=True, autoreset=False, disable_env_checker=False, apply_api_compatibility=False, kwargs={'game': 'amidar', 'obs_type': 'ram', 'repeat_action_probability': 0.0, 'full_action_space': False, 'max_num_frames_per_episode': 108000, 'frameskip': (2, 5)}, namespace=None, name='Amidar-ram', version=4)), ('Amidar-ramDeterministic-v4', EnvSpec(id='Amidar-ramDeterministic-v4', entry_point='ale_py.env.gym:AtariEnv', reward_threshold=None, nondeterministic=False, max_episode_steps=None, order_enforce=True, autoreset=False, disable_env_checker=False, apply_api_compatibility=False, kwargs={'game': 'amidar', 'obs_type': 'ram', 'repeat_action_probability': 0.0, 'full_action_space': False, 'max_num_frames_per_episode': 108000, 'frameskip': 4}, namespace=None, name='Amidar-ramDeterministic', version=4)), ('Amidar-ramNoFrameskip-v4', EnvSpec(id='Amidar-ramNoFrameskip-v4', entry_point='ale_py.env.gym:AtariEnv', reward_threshold=None, nondeterministic=False, max_episode_steps=None, order_enforce=True, autoreset=False, disable_env_checker=False, apply_api_compatibility=False, kwargs={'game': 'amidar', 'obs_type': 'ram', 'repeat_action_probability': 0.0, 'full_action_space': False, 'max_num_frames_per_episode': 108000, 'frameskip': 1}, namespace=None, name='Amidar-ramNoFrameskip', version=4)), ('Assault-v0', EnvSpec(id='Assault-v0', entry_point='ale_py.env.gym:AtariEnv', reward_threshold=None, nondeterministic=False, max_episode_steps=None, order_enforce=True, autoreset=False, disable_env_checker=False, apply_api_compatibility=False, kwargs={'game': 'assault', 'obs_type': 'rgb', 'repeat_action_probability': 0.25, 'full_action_space': False, 'max_num_frames_per_episode': 108000, 'frameskip': (2, 5)}, namespace=None, name='Assault', version=0)), ('AssaultDeterministic-v0', EnvSpec(id='AssaultDeterministic-v0', entry_point='ale_py.env.gym:AtariEnv', reward_threshold=None, nondeterministic=False, max_episode_steps=None, order_enforce=True, autoreset=False, disable_env_checker=False, apply_api_compatibility=False, kwargs={'game': 'assault', 'obs_type': 'rgb', 'repeat_action_probability': 0.25, 'full_action_space': False, 'max_num_frames_per_episode': 108000, 'frameskip': 4}, namespace=None, name='AssaultDeterministic', version=0)), ('AssaultNoFrameskip-v0', EnvSpec(id='AssaultNoFrameskip-v0', entry_point='ale_py.env.gym:AtariEnv', reward_threshold=None, nondeterministic=False, max_episode_steps=None, order_enforce=True, autoreset=False, disable_env_checker=False, apply_api_compatibility=False, kwargs={'game': 'assault', 'obs_type': 'rgb', 'repeat_action_probability': 0.25, 'full_action_space': False, 'max_num_frames_per_episode': 108000, 'frameskip': 1}, namespace=None, name='AssaultNoFrameskip', version=0)), ('Assault-v4', EnvSpec(id='Assault-v4', entry_point='ale_py.env.gym:AtariEnv', reward_threshold=None, nondeterministic=False, max_episode_steps=None, order_enforce=True, autoreset=False, disable_env_checker=False, apply_api_compatibility=False, kwargs={'game': 'assault', 'obs_type': 'rgb', 'repeat_action_probability': 0.0, 'full_action_space': False, 'max_num_frames_per_episode': 108000, 'frameskip': (2, 5)}, namespace=None, name='Assault', version=4)), ('AssaultDeterministic-v4', EnvSpec(id='AssaultDeterministic-v4', entry_point='ale_py.env.gym:AtariEnv', reward_threshold=None, nondeterministic=False, max_episode_steps=None, order_enforce=True, autoreset=False, disable_env_checker=False, apply_api_compatibility=False, kwargs={'game': 'assault', 'obs_type': 'rgb', 'repeat_action_probability': 0.0, 'full_action_space': False, 'max_num_frames_per_episode': 108000, 'frameskip': 4}, namespace=None, name='AssaultDeterministic', version=4)), ('AssaultNoFrameskip-v4', EnvSpec(id='AssaultNoFrameskip-v4', entry_point='ale_py.env.gym:AtariEnv', reward_threshold=None, nondeterministic=False, max_episode_steps=None, order_enforce=True, autoreset=False, disable_env_checker=False, apply_api_compatibility=False, kwargs={'game': 'assault', 'obs_type': 'rgb', 'repeat_action_probability': 0.0, 'full_action_space': False, 'max_num_frames_per_episode': 108000, 'frameskip': 1}, namespace=None, name='AssaultNoFrameskip', version=4)), ('Assault-ram-v0', EnvSpec(id='Assault-ram-v0', entry_point='ale_py.env.gym:AtariEnv', reward_threshold=None, nondeterministic=False, max_episode_steps=None, order_enforce=True, autoreset=False, disable_env_checker=False, apply_api_compatibility=False, kwargs={'game': 'assault', 'obs_type': 'ram', 'repeat_action_probability': 0.25, 'full_action_space': False, 'max_num_frames_per_episode': 108000, 'frameskip': (2, 5)}, namespace=None, name='Assault-ram', version=0)), ('Assault-ramDeterministic-v0', EnvSpec(id='Assault-ramDeterministic-v0', entry_point='ale_py.env.gym:AtariEnv', reward_threshold=None, nondeterministic=False, max_episode_steps=None, order_enforce=True, autoreset=False, disable_env_checker=False, apply_api_compatibility=False, kwargs={'game': 'assault', 'obs_type': 'ram', 'repeat_action_probability': 0.25, 'full_action_space': False, 'max_num_frames_per_episode': 108000, 'frameskip': 4}, namespace=None, name='Assault-ramDeterministic', version=0)), ('Assault-ramNoFrameskip-v0', EnvSpec(id='Assault-ramNoFrameskip-v0', entry_point='ale_py.env.gym:AtariEnv', reward_threshold=None, nondeterministic=False, max_episode_steps=None, order_enforce=True, autoreset=False, disable_env_checker=False, apply_api_compatibility=False, kwargs={'game': 'assault', 'obs_type': 'ram', 'repeat_action_probability': 0.25, 'full_action_space': False, 'max_num_frames_per_episode': 108000, 'frameskip': 1}, namespace=None, name='Assault-ramNoFrameskip', version=0)), ('Assault-ram-v4', EnvSpec(id='Assault-ram-v4', entry_point='ale_py.env.gym:AtariEnv', reward_threshold=None, nondeterministic=False, max_episode_steps=None, order_enforce=True, autoreset=False, disable_env_checker=False, apply_api_compatibility=False, kwargs={'game': 'assault', 'obs_type': 'ram', 'repeat_action_probability': 0.0, 'full_action_space': False, 'max_num_frames_per_episode': 108000, 'frameskip': (2, 5)}, namespace=None, name='Assault-ram', version=4)), ('Assault-ramDeterministic-v4', EnvSpec(id='Assault-ramDeterministic-v4', entry_point='ale_py.env.gym:AtariEnv', reward_threshold=None, nondeterministic=False, max_episode_steps=None, order_enforce=True, autoreset=False, disable_env_checker=False, apply_api_compatibility=False, kwargs={'game': 'assault', 'obs_type': 'ram', 'repeat_action_probability': 0.0, 'full_action_space': False, 'max_num_frames_per_episode': 108000, 'frameskip': 4}, namespace=None, name='Assault-ramDeterministic', version=4)), ('Assault-ramNoFrameskip-v4', EnvSpec(id='Assault-ramNoFrameskip-v4', entry_point='ale_py.env.gym:AtariEnv', reward_threshold=None, nondeterministic=False, max_episode_steps=None, order_enforce=True, autoreset=False, disable_env_checker=False, apply_api_compatibility=False, kwargs={'game': 'assault', 'obs_type': 'ram', 'repeat_action_probability': 0.0, 'full_action_space': False, 'max_num_frames_per_episode': 108000, 'frameskip': 1}, namespace=None, name='Assault-ramNoFrameskip', version=4)), ('Asterix-v0', EnvSpec(id='Asterix-v0', entry_point='ale_py.env.gym:AtariEnv', reward_threshold=None, nondeterministic=False, max_episode_steps=None, order_enforce=True, autoreset=False, disable_env_checker=False, apply_api_compatibility=False, kwargs={'game': 'asterix', 'obs_type': 'rgb', 'repeat_action_probability': 0.25, 'full_action_space': False, 'max_num_frames_per_episode': 108000, 'frameskip': (2, 5)}, namespace=None, name='Asterix', version=0)), ('AsterixDeterministic-v0', EnvSpec(id='AsterixDeterministic-v0', entry_point='ale_py.env.gym:AtariEnv', reward_threshold=None, nondeterministic=False, max_episode_steps=None, order_enforce=True, autoreset=False, disable_env_checker=False, apply_api_compatibility=False, kwargs={'game': 'asterix', 'obs_type': 'rgb', 'repeat_action_probability': 0.25, 'full_action_space': False, 'max_num_frames_per_episode': 108000, 'frameskip': 4}, namespace=None, name='AsterixDeterministic', version=0)), ('AsterixNoFrameskip-v0', EnvSpec(id='AsterixNoFrameskip-v0', entry_point='ale_py.env.gym:AtariEnv', reward_threshold=None, nondeterministic=False, max_episode_steps=None, order_enforce=True, autoreset=False, disable_env_checker=False, apply_api_compatibility=False, kwargs={'game': 'asterix', 'obs_type': 'rgb', 'repeat_action_probability': 0.25, 'full_action_space': False, 'max_num_frames_per_episode': 108000, 'frameskip': 1}, namespace=None, name='AsterixNoFrameskip', version=0)), ('Asterix-v4', EnvSpec(id='Asterix-v4', entry_point='ale_py.env.gym:AtariEnv', reward_threshold=None, nondeterministic=False, max_episode_steps=None, order_enforce=True, autoreset=False, disable_env_checker=False, apply_api_compatibility=False, kwargs={'game': 'asterix', 'obs_type': 'rgb', 'repeat_action_probability': 0.0, 'full_action_space': False, 'max_num_frames_per_episode': 108000, 'frameskip': (2, 5)}, namespace=None, name='Asterix', version=4)), ('AsterixDeterministic-v4', EnvSpec(id='AsterixDeterministic-v4', entry_point='ale_py.env.gym:AtariEnv', reward_threshold=None, nondeterministic=False, max_episode_steps=None, order_enforce=True, autoreset=False, disable_env_checker=False, apply_api_compatibility=False, kwargs={'game': 'asterix', 'obs_type': 'rgb', 'repeat_action_probability': 0.0, 'full_action_space': False, 'max_num_frames_per_episode': 108000, 'frameskip': 4}, namespace=None, name='AsterixDeterministic', version=4)), ('AsterixNoFrameskip-v4', EnvSpec(id='AsterixNoFrameskip-v4', entry_point='ale_py.env.gym:AtariEnv', reward_threshold=None, nondeterministic=False, max_episode_steps=None, order_enforce=True, autoreset=False, disable_env_checker=False, apply_api_compatibility=False, kwargs={'game': 'asterix', 'obs_type': 'rgb', 'repeat_action_probability': 0.0, 'full_action_space': False, 'max_num_frames_per_episode': 108000, 'frameskip': 1}, namespace=None, name='AsterixNoFrameskip', version=4)), ('Asterix-ram-v0', EnvSpec(id='Asterix-ram-v0', entry_point='ale_py.env.gym:AtariEnv', reward_threshold=None, nondeterministic=False, max_episode_steps=None, order_enforce=True, autoreset=False, disable_env_checker=False, apply_api_compatibility=False, kwargs={'game': 'asterix', 'obs_type': 'ram', 'repeat_action_probability': 0.25, 'full_action_space': False, 'max_num_frames_per_episode': 108000, 'frameskip': (2, 5)}, namespace=None, name='Asterix-ram', version=0)), ('Asterix-ramDeterministic-v0', EnvSpec(id='Asterix-ramDeterministic-v0', entry_point='ale_py.env.gym:AtariEnv', reward_threshold=None, nondeterministic=False, max_episode_steps=None, order_enforce=True, autoreset=False, disable_env_checker=False, apply_api_compatibility=False, kwargs={'game': 'asterix', 'obs_type': 'ram', 'repeat_action_probability': 0.25, 'full_action_space': False, 'max_num_frames_per_episode': 108000, 'frameskip': 4}, namespace=None, name='Asterix-ramDeterministic', version=0)), ('Asterix-ramNoFrameskip-v0', EnvSpec(id='Asterix-ramNoFrameskip-v0', entry_point='ale_py.env.gym:AtariEnv', reward_threshold=None, nondeterministic=False, max_episode_steps=None, order_enforce=True, autoreset=False, disable_env_checker=False, apply_api_compatibility=False, kwargs={'game': 'asterix', 'obs_type': 'ram', 'repeat_action_probability': 0.25, 'full_action_space': False, 'max_num_frames_per_episode': 108000, 'frameskip': 1}, namespace=None, name='Asterix-ramNoFrameskip', version=0)), ('Asterix-ram-v4', EnvSpec(id='Asterix-ram-v4', entry_point='ale_py.env.gym:AtariEnv', reward_threshold=None, nondeterministic=False, max_episode_steps=None, order_enforce=True, autoreset=False, disable_env_checker=False, apply_api_compatibility=False, kwargs={'game': 'asterix', 'obs_type': 'ram', 'repeat_action_probability': 0.0, 'full_action_space': False, 'max_num_frames_per_episode': 108000, 'frameskip': (2, 5)}, namespace=None, name='Asterix-ram', version=4)), ('Asterix-ramDeterministic-v4', EnvSpec(id='Asterix-ramDeterministic-v4', entry_point='ale_py.env.gym:AtariEnv', reward_threshold=None, nondeterministic=False, max_episode_steps=None, order_enforce=True, autoreset=False, disable_env_checker=False, apply_api_compatibility=False, kwargs={'game': 'asterix', 'obs_type': 'ram', 'repeat_action_probability': 0.0, 'full_action_space': False, 'max_num_frames_per_episode': 108000, 'frameskip': 4}, namespace=None, name='Asterix-ramDeterministic', version=4)), ('Asterix-ramNoFrameskip-v4', EnvSpec(id='Asterix-ramNoFrameskip-v4', entry_point='ale_py.env.gym:AtariEnv', reward_threshold=None, nondeterministic=False, max_episode_steps=None, order_enforce=True, autoreset=False, disable_env_checker=False, apply_api_compatibility=False, kwargs={'game': 'asterix', 'obs_type': 'ram', 'repeat_action_probability': 0.0, 'full_action_space': False, 'max_num_frames_per_episode': 108000, 'frameskip': 1}, namespace=None, name='Asterix-ramNoFrameskip', version=4)), ('Asteroids-v0', EnvSpec(id='Asteroids-v0', entry_point='ale_py.env.gym:AtariEnv', reward_threshold=None, nondeterministic=False, max_episode_steps=None, order_enforce=True, autoreset=False, disable_env_checker=False, apply_api_compatibility=False, kwargs={'game': 'asteroids', 'obs_type': 'rgb', 'repeat_action_probability': 0.25, 'full_action_space': False, 'max_num_frames_per_episode': 108000, 'frameskip': (2, 5)}, namespace=None, name='Asteroids', version=0)), ('AsteroidsDeterministic-v0', EnvSpec(id='AsteroidsDeterministic-v0', entry_point='ale_py.env.gym:AtariEnv', reward_threshold=None, nondeterministic=False, max_episode_steps=None, order_enforce=True, autoreset=False, disable_env_checker=False, apply_api_compatibility=False, kwargs={'game': 'asteroids', 'obs_type': 'rgb', 'repeat_action_probability': 0.25, 'full_action_space': False, 'max_num_frames_per_episode': 108000, 'frameskip': 4}, namespace=None, name='AsteroidsDeterministic', version=0)), ('AsteroidsNoFrameskip-v0', EnvSpec(id='AsteroidsNoFrameskip-v0', entry_point='ale_py.env.gym:AtariEnv', reward_threshold=None, nondeterministic=False, max_episode_steps=None, order_enforce=True, autoreset=False, disable_env_checker=False, apply_api_compatibility=False, kwargs={'game': 'asteroids', 'obs_type': 'rgb', 'repeat_action_probability': 0.25, 'full_action_space': False, 'max_num_frames_per_episode': 108000, 'frameskip': 1}, namespace=None, name='AsteroidsNoFrameskip', version=0)), ('Asteroids-v4', EnvSpec(id='Asteroids-v4', entry_point='ale_py.env.gym:AtariEnv', reward_threshold=None, nondeterministic=False, max_episode_steps=None, order_enforce=True, autoreset=False, disable_env_checker=False, apply_api_compatibility=False, kwargs={'game': 'asteroids', 'obs_type': 'rgb', 'repeat_action_probability': 0.0, 'full_action_space': False, 'max_num_frames_per_episode': 108000, 'frameskip': (2, 5)}, namespace=None, name='Asteroids', version=4)), ('AsteroidsDeterministic-v4', EnvSpec(id='AsteroidsDeterministic-v4', entry_point='ale_py.env.gym:AtariEnv', reward_threshold=None, nondeterministic=False, max_episode_steps=None, order_enforce=True, autoreset=False, disable_env_checker=False, apply_api_compatibility=False, kwargs={'game': 'asteroids', 'obs_type': 'rgb', 'repeat_action_probability': 0.0, 'full_action_space': False, 'max_num_frames_per_episode': 108000, 'frameskip': 4}, namespace=None, name='AsteroidsDeterministic', version=4)), ('AsteroidsNoFrameskip-v4', EnvSpec(id='AsteroidsNoFrameskip-v4', entry_point='ale_py.env.gym:AtariEnv', reward_threshold=None, nondeterministic=False, max_episode_steps=None, order_enforce=True, autoreset=False, disable_env_checker=False, apply_api_compatibility=False, kwargs={'game': 'asteroids', 'obs_type': 'rgb', 'repeat_action_probability': 0.0, 'full_action_space': False, 'max_num_frames_per_episode': 108000, 'frameskip': 1}, namespace=None, name='AsteroidsNoFrameskip', version=4)), ('Asteroids-ram-v0', EnvSpec(id='Asteroids-ram-v0', entry_point='ale_py.env.gym:AtariEnv', reward_threshold=None, nondeterministic=False, max_episode_steps=None, order_enforce=True, autoreset=False, disable_env_checker=False, apply_api_compatibility=False, kwargs={'game': 'asteroids', 'obs_type': 'ram', 'repeat_action_probability': 0.25, 'full_action_space': False, 'max_num_frames_per_episode': 108000, 'frameskip': (2, 5)}, namespace=None, name='Asteroids-ram', version=0)), ('Asteroids-ramDeterministic-v0', EnvSpec(id='Asteroids-ramDeterministic-v0', entry_point='ale_py.env.gym:AtariEnv', reward_threshold=None, nondeterministic=False, max_episode_steps=None, order_enforce=True, autoreset=False, disable_env_checker=False, apply_api_compatibility=False, kwargs={'game': 'asteroids', 'obs_type': 'ram', 'repeat_action_probability': 0.25, 'full_action_space': False, 'max_num_frames_per_episode': 108000, 'frameskip': 4}, namespace=None, name='Asteroids-ramDeterministic', version=0)), ('Asteroids-ramNoFrameskip-v0', EnvSpec(id='Asteroids-ramNoFrameskip-v0', entry_point='ale_py.env.gym:AtariEnv', reward_threshold=None, nondeterministic=False, max_episode_steps=None, order_enforce=True, autoreset=False, disable_env_checker=False, apply_api_compatibility=False, kwargs={'game': 'asteroids', 'obs_type': 'ram', 'repeat_action_probability': 0.25, 'full_action_space': False, 'max_num_frames_per_episode': 108000, 'frameskip': 1}, namespace=None, name='Asteroids-ramNoFrameskip', version=0)), ('Asteroids-ram-v4', EnvSpec(id='Asteroids-ram-v4', entry_point='ale_py.env.gym:AtariEnv', reward_threshold=None, nondeterministic=False, max_episode_steps=None, order_enforce=True, autoreset=False, disable_env_checker=False, apply_api_compatibility=False, kwargs={'game': 'asteroids', 'obs_type': 'ram', 'repeat_action_probability': 0.0, 'full_action_space': False, 'max_num_frames_per_episode': 108000, 'frameskip': (2, 5)}, namespace=None, name='Asteroids-ram', version=4)), ('Asteroids-ramDeterministic-v4', EnvSpec(id='Asteroids-ramDeterministic-v4', entry_point='ale_py.env.gym:AtariEnv', reward_threshold=None, nondeterministic=False, max_episode_steps=None, order_enforce=True, autoreset=False, disable_env_checker=False, apply_api_compatibility=False, kwargs={'game': 'asteroids', 'obs_type': 'ram', 'repeat_action_probability': 0.0, 'full_action_space': False, 'max_num_frames_per_episode': 108000, 'frameskip': 4}, namespace=None, name='Asteroids-ramDeterministic', version=4)), ('Asteroids-ramNoFrameskip-v4', EnvSpec(id='Asteroids-ramNoFrameskip-v4', entry_point='ale_py.env.gym:AtariEnv', reward_threshold=None, nondeterministic=False, max_episode_steps=None, order_enforce=True, autoreset=False, disable_env_checker=False, apply_api_compatibility=False, kwargs={'game': 'asteroids', 'obs_type': 'ram', 'repeat_action_probability': 0.0, 'full_action_space': False, 'max_num_frames_per_episode': 108000, 'frameskip': 1}, namespace=None, name='Asteroids-ramNoFrameskip', version=4)), ('Atlantis-v0', EnvSpec(id='Atlantis-v0', entry_point='ale_py.env.gym:AtariEnv', reward_threshold=None, nondeterministic=False, max_episode_steps=None, order_enforce=True, autoreset=False, disable_env_checker=False, apply_api_compatibility=False, kwargs={'game': 'atlantis', 'obs_type': 'rgb', 'repeat_action_probability': 0.25, 'full_action_space': False, 'max_num_frames_per_episode': 108000, 'frameskip': (2, 5)}, namespace=None, name='Atlantis', version=0)), ('AtlantisDeterministic-v0', EnvSpec(id='AtlantisDeterministic-v0', entry_point='ale_py.env.gym:AtariEnv', reward_threshold=None, nondeterministic=False, max_episode_steps=None, order_enforce=True, autoreset=False, disable_env_checker=False, apply_api_compatibility=False, kwargs={'game': 'atlantis', 'obs_type': 'rgb', 'repeat_action_probability': 0.25, 'full_action_space': False, 'max_num_frames_per_episode': 108000, 'frameskip': 4}, namespace=None, name='AtlantisDeterministic', version=0)), ('AtlantisNoFrameskip-v0', EnvSpec(id='AtlantisNoFrameskip-v0', entry_point='ale_py.env.gym:AtariEnv', reward_threshold=None, nondeterministic=False, max_episode_steps=None, order_enforce=True, autoreset=False, disable_env_checker=False, apply_api_compatibility=False, kwargs={'game': 'atlantis', 'obs_type': 'rgb', 'repeat_action_probability': 0.25, 'full_action_space': False, 'max_num_frames_per_episode': 108000, 'frameskip': 1}, namespace=None, name='AtlantisNoFrameskip', version=0)), ('Atlantis-v4', EnvSpec(id='Atlantis-v4', entry_point='ale_py.env.gym:AtariEnv', reward_threshold=None, nondeterministic=False, max_episode_steps=None, order_enforce=True, autoreset=False, disable_env_checker=False, apply_api_compatibility=False, kwargs={'game': 'atlantis', 'obs_type': 'rgb', 'repeat_action_probability': 0.0, 'full_action_space': False, 'max_num_frames_per_episode': 108000, 'frameskip': (2, 5)}, namespace=None, name='Atlantis', version=4)), ('AtlantisDeterministic-v4', EnvSpec(id='AtlantisDeterministic-v4', entry_point='ale_py.env.gym:AtariEnv', reward_threshold=None, nondeterministic=False, max_episode_steps=None, order_enforce=True, autoreset=False, disable_env_checker=False, apply_api_compatibility=False, kwargs={'game': 'atlantis', 'obs_type': 'rgb', 'repeat_action_probability': 0.0, 'full_action_space': False, 'max_num_frames_per_episode': 108000, 'frameskip': 4}, namespace=None, name='AtlantisDeterministic', version=4)), ('AtlantisNoFrameskip-v4', EnvSpec(id='AtlantisNoFrameskip-v4', entry_point='ale_py.env.gym:AtariEnv', reward_threshold=None, nondeterministic=False, max_episode_steps=None, order_enforce=True, autoreset=False, disable_env_checker=False, apply_api_compatibility=False, kwargs={'game': 'atlantis', 'obs_type': 'rgb', 'repeat_action_probability': 0.0, 'full_action_space': False, 'max_num_frames_per_episode': 108000, 'frameskip': 1}, namespace=None, name='AtlantisNoFrameskip', version=4)), ('Atlantis-ram-v0', EnvSpec(id='Atlantis-ram-v0', entry_point='ale_py.env.gym:AtariEnv', reward_threshold=None, nondeterministic=False, max_episode_steps=None, order_enforce=True, autoreset=False, disable_env_checker=False, apply_api_compatibility=False, kwargs={'game': 'atlantis', 'obs_type': 'ram', 'repeat_action_probability': 0.25, 'full_action_space': False, 'max_num_frames_per_episode': 108000, 'frameskip': (2, 5)}, namespace=None, name='Atlantis-ram', version=0)), ('Atlantis-ramDeterministic-v0', EnvSpec(id='Atlantis-ramDeterministic-v0', entry_point='ale_py.env.gym:AtariEnv', reward_threshold=None, nondeterministic=False, max_episode_steps=None, order_enforce=True, autoreset=False, disable_env_checker=False, apply_api_compatibility=False, kwargs={'game': 'atlantis', 'obs_type': 'ram', 'repeat_action_probability': 0.25, 'full_action_space': False, 'max_num_frames_per_episode': 108000, 'frameskip': 4}, namespace=None, name='Atlantis-ramDeterministic', version=0)), ('Atlantis-ramNoFrameskip-v0', EnvSpec(id='Atlantis-ramNoFrameskip-v0', entry_point='ale_py.env.gym:AtariEnv', reward_threshold=None, nondeterministic=False, max_episode_steps=None, order_enforce=True, autoreset=False, disable_env_checker=False, apply_api_compatibility=False, kwargs={'game': 'atlantis', 'obs_type': 'ram', 'repeat_action_probability': 0.25, 'full_action_space': False, 'max_num_frames_per_episode': 108000, 'frameskip': 1}, namespace=None, name='Atlantis-ramNoFrameskip', version=0)), ('Atlantis-ram-v4', EnvSpec(id='Atlantis-ram-v4', entry_point='ale_py.env.gym:AtariEnv', reward_threshold=None, nondeterministic=False, max_episode_steps=None, order_enforce=True, autoreset=False, disable_env_checker=False, apply_api_compatibility=False, kwargs={'game': 'atlantis', 'obs_type': 'ram', 'repeat_action_probability': 0.0, 'full_action_space': False, 'max_num_frames_per_episode': 108000, 'frameskip': (2, 5)}, namespace=None, name='Atlantis-ram', version=4)), ('Atlantis-ramDeterministic-v4', EnvSpec(id='Atlantis-ramDeterministic-v4', entry_point='ale_py.env.gym:AtariEnv', reward_threshold=None, nondeterministic=False, max_episode_steps=None, order_enforce=True, autoreset=False, disable_env_checker=False, apply_api_compatibility=False, kwargs={'game': 'atlantis', 'obs_type': 'ram', 'repeat_action_probability': 0.0, 'full_action_space': False, 'max_num_frames_per_episode': 108000, 'frameskip': 4}, namespace=None, name='Atlantis-ramDeterministic', version=4)), ('Atlantis-ramNoFrameskip-v4', EnvSpec(id='Atlantis-ramNoFrameskip-v4', entry_point='ale_py.env.gym:AtariEnv', reward_threshold=None, nondeterministic=False, max_episode_steps=None, order_enforce=True, autoreset=False, disable_env_checker=False, apply_api_compatibility=False, kwargs={'game': 'atlantis', 'obs_type': 'ram', 'repeat_action_probability': 0.0, 'full_action_space': False, 'max_num_frames_per_episode': 108000, 'frameskip': 1}, namespace=None, name='Atlantis-ramNoFrameskip', version=4)), ('BankHeist-v0', EnvSpec(id='BankHeist-v0', entry_point='ale_py.env.gym:AtariEnv', reward_threshold=None, nondeterministic=False, max_episode_steps=None, order_enforce=True, autoreset=False, disable_env_checker=False, apply_api_compatibility=False, kwargs={'game': 'bank_heist', 'obs_type': 'rgb', 'repeat_action_probability': 0.25, 'full_action_space': False, 'max_num_frames_per_episode': 108000, 'frameskip': (2, 5)}, namespace=None, name='BankHeist', version=0)), ('BankHeistDeterministic-v0', EnvSpec(id='BankHeistDeterministic-v0', entry_point='ale_py.env.gym:AtariEnv', reward_threshold=None, nondeterministic=False, max_episode_steps=None, order_enforce=True, autoreset=False, disable_env_checker=False, apply_api_compatibility=False, kwargs={'game': 'bank_heist', 'obs_type': 'rgb', 'repeat_action_probability': 0.25, 'full_action_space': False, 'max_num_frames_per_episode': 108000, 'frameskip': 4}, namespace=None, name='BankHeistDeterministic', version=0)), ('BankHeistNoFrameskip-v0', EnvSpec(id='BankHeistNoFrameskip-v0', entry_point='ale_py.env.gym:AtariEnv', reward_threshold=None, nondeterministic=False, max_episode_steps=None, order_enforce=True, autoreset=False, disable_env_checker=False, apply_api_compatibility=False, kwargs={'game': 'bank_heist', 'obs_type': 'rgb', 'repeat_action_probability': 0.25, 'full_action_space': False, 'max_num_frames_per_episode': 108000, 'frameskip': 1}, namespace=None, name='BankHeistNoFrameskip', version=0)), ('BankHeist-v4', EnvSpec(id='BankHeist-v4', entry_point='ale_py.env.gym:AtariEnv', reward_threshold=None, nondeterministic=False, max_episode_steps=None, order_enforce=True, autoreset=False, disable_env_checker=False, apply_api_compatibility=False, kwargs={'game': 'bank_heist', 'obs_type': 'rgb', 'repeat_action_probability': 0.0, 'full_action_space': False, 'max_num_frames_per_episode': 108000, 'frameskip': (2, 5)}, namespace=None, name='BankHeist', version=4)), ('BankHeistDeterministic-v4', EnvSpec(id='BankHeistDeterministic-v4', entry_point='ale_py.env.gym:AtariEnv', reward_threshold=None, nondeterministic=False, max_episode_steps=None, order_enforce=True, autoreset=False, disable_env_checker=False, apply_api_compatibility=False, kwargs={'game': 'bank_heist', 'obs_type': 'rgb', 'repeat_action_probability': 0.0, 'full_action_space': False, 'max_num_frames_per_episode': 108000, 'frameskip': 4}, namespace=None, name='BankHeistDeterministic', version=4)), ('BankHeistNoFrameskip-v4', EnvSpec(id='BankHeistNoFrameskip-v4', entry_point='ale_py.env.gym:AtariEnv', reward_threshold=None, nondeterministic=False, max_episode_steps=None, order_enforce=True, autoreset=False, disable_env_checker=False, apply_api_compatibility=False, kwargs={'game': 'bank_heist', 'obs_type': 'rgb', 'repeat_action_probability': 0.0, 'full_action_space': False, 'max_num_frames_per_episode': 108000, 'frameskip': 1}, namespace=None, name='BankHeistNoFrameskip', version=4)), ('BankHeist-ram-v0', EnvSpec(id='BankHeist-ram-v0', entry_point='ale_py.env.gym:AtariEnv', reward_threshold=None, nondeterministic=False, max_episode_steps=None, order_enforce=True, autoreset=False, disable_env_checker=False, apply_api_compatibility=False, kwargs={'game': 'bank_heist', 'obs_type': 'ram', 'repeat_action_probability': 0.25, 'full_action_space': False, 'max_num_frames_per_episode': 108000, 'frameskip': (2, 5)}, namespace=None, name='BankHeist-ram', version=0)), ('BankHeist-ramDeterministic-v0', EnvSpec(id='BankHeist-ramDeterministic-v0', entry_point='ale_py.env.gym:AtariEnv', reward_threshold=None, nondeterministic=False, max_episode_steps=None, order_enforce=True, autoreset=False, disable_env_checker=False, apply_api_compatibility=False, kwargs={'game': 'bank_heist', 'obs_type': 'ram', 'repeat_action_probability': 0.25, 'full_action_space': False, 'max_num_frames_per_episode': 108000, 'frameskip': 4}, namespace=None, name='BankHeist-ramDeterministic', version=0)), ('BankHeist-ramNoFrameskip-v0', EnvSpec(id='BankHeist-ramNoFrameskip-v0', entry_point='ale_py.env.gym:AtariEnv', reward_threshold=None, nondeterministic=False, max_episode_steps=None, order_enforce=True, autoreset=False, disable_env_checker=False, apply_api_compatibility=False, kwargs={'game': 'bank_heist', 'obs_type': 'ram', 'repeat_action_probability': 0.25, 'full_action_space': False, 'max_num_frames_per_episode': 108000, 'frameskip': 1}, namespace=None, name='BankHeist-ramNoFrameskip', version=0)), ('BankHeist-ram-v4', EnvSpec(id='BankHeist-ram-v4', entry_point='ale_py.env.gym:AtariEnv', reward_threshold=None, nondeterministic=False, max_episode_steps=None, order_enforce=True, autoreset=False, disable_env_checker=False, apply_api_compatibility=False, kwargs={'game': 'bank_heist', 'obs_type': 'ram', 'repeat_action_probability': 0.0, 'full_action_space': False, 'max_num_frames_per_episode': 108000, 'frameskip': (2, 5)}, namespace=None, name='BankHeist-ram', version=4)), ('BankHeist-ramDeterministic-v4', EnvSpec(id='BankHeist-ramDeterministic-v4', entry_point='ale_py.env.gym:AtariEnv', reward_threshold=None, nondeterministic=False, max_episode_steps=None, order_enforce=True, autoreset=False, disable_env_checker=False, apply_api_compatibility=False, kwargs={'game': 'bank_heist', 'obs_type': 'ram', 'repeat_action_probability': 0.0, 'full_action_space': False, 'max_num_frames_per_episode': 108000, 'frameskip': 4}, namespace=None, name='BankHeist-ramDeterministic', version=4)), ('BankHeist-ramNoFrameskip-v4', EnvSpec(id='BankHeist-ramNoFrameskip-v4', entry_point='ale_py.env.gym:AtariEnv', reward_threshold=None, nondeterministic=False, max_episode_steps=None, order_enforce=True, autoreset=False, disable_env_checker=False, apply_api_compatibility=False, kwargs={'game': 'bank_heist', 'obs_type': 'ram', 'repeat_action_probability': 0.0, 'full_action_space': False, 'max_num_frames_per_episode': 108000, 'frameskip': 1}, namespace=None, name='BankHeist-ramNoFrameskip', version=4)), ('BattleZone-v0', EnvSpec(id='BattleZone-v0', entry_point='ale_py.env.gym:AtariEnv', reward_threshold=None, nondeterministic=False, max_episode_steps=None, order_enforce=True, autoreset=False, disable_env_checker=False, apply_api_compatibility=False, kwargs={'game': 'battle_zone', 'obs_type': 'rgb', 'repeat_action_probability': 0.25, 'full_action_space': False, 'max_num_frames_per_episode': 108000, 'frameskip': (2, 5)}, namespace=None, name='BattleZone', version=0)), ('BattleZoneDeterministic-v0', EnvSpec(id='BattleZoneDeterministic-v0', entry_point='ale_py.env.gym:AtariEnv', reward_threshold=None, nondeterministic=False, max_episode_steps=None, order_enforce=True, autoreset=False, disable_env_checker=False, apply_api_compatibility=False, kwargs={'game': 'battle_zone', 'obs_type': 'rgb', 'repeat_action_probability': 0.25, 'full_action_space': False, 'max_num_frames_per_episode': 108000, 'frameskip': 4}, namespace=None, name='BattleZoneDeterministic', version=0)), ('BattleZoneNoFrameskip-v0', EnvSpec(id='BattleZoneNoFrameskip-v0', entry_point='ale_py.env.gym:AtariEnv', reward_threshold=None, nondeterministic=False, max_episode_steps=None, order_enforce=True, autoreset=False, disable_env_checker=False, apply_api_compatibility=False, kwargs={'game': 'battle_zone', 'obs_type': 'rgb', 'repeat_action_probability': 0.25, 'full_action_space': False, 'max_num_frames_per_episode': 108000, 'frameskip': 1}, namespace=None, name='BattleZoneNoFrameskip', version=0)), ('BattleZone-v4', EnvSpec(id='BattleZone-v4', entry_point='ale_py.env.gym:AtariEnv', reward_threshold=None, nondeterministic=False, max_episode_steps=None, order_enforce=True, autoreset=False, disable_env_checker=False, apply_api_compatibility=False, kwargs={'game': 'battle_zone', 'obs_type': 'rgb', 'repeat_action_probability': 0.0, 'full_action_space': False, 'max_num_frames_per_episode': 108000, 'frameskip': (2, 5)}, namespace=None, name='BattleZone', version=4)), ('BattleZoneDeterministic-v4', EnvSpec(id='BattleZoneDeterministic-v4', entry_point='ale_py.env.gym:AtariEnv', reward_threshold=None, nondeterministic=False, max_episode_steps=None, order_enforce=True, autoreset=False, disable_env_checker=False, apply_api_compatibility=False, kwargs={'game': 'battle_zone', 'obs_type': 'rgb', 'repeat_action_probability': 0.0, 'full_action_space': False, 'max_num_frames_per_episode': 108000, 'frameskip': 4}, namespace=None, name='BattleZoneDeterministic', version=4)), ('BattleZoneNoFrameskip-v4', EnvSpec(id='BattleZoneNoFrameskip-v4', entry_point='ale_py.env.gym:AtariEnv', reward_threshold=None, nondeterministic=False, max_episode_steps=None, order_enforce=True, autoreset=False, disable_env_checker=False, apply_api_compatibility=False, kwargs={'game': 'battle_zone', 'obs_type': 'rgb', 'repeat_action_probability': 0.0, 'full_action_space': False, 'max_num_frames_per_episode': 108000, 'frameskip': 1}, namespace=None, name='BattleZoneNoFrameskip', version=4)), ('BattleZone-ram-v0', EnvSpec(id='BattleZone-ram-v0', entry_point='ale_py.env.gym:AtariEnv', reward_threshold=None, nondeterministic=False, max_episode_steps=None, order_enforce=True, autoreset=False, disable_env_checker=False, apply_api_compatibility=False, kwargs={'game': 'battle_zone', 'obs_type': 'ram', 'repeat_action_probability': 0.25, 'full_action_space': False, 'max_num_frames_per_episode': 108000, 'frameskip': (2, 5)}, namespace=None, name='BattleZone-ram', version=0)), ('BattleZone-ramDeterministic-v0', EnvSpec(id='BattleZone-ramDeterministic-v0', entry_point='ale_py.env.gym:AtariEnv', reward_threshold=None, nondeterministic=False, max_episode_steps=None, order_enforce=True, autoreset=False, disable_env_checker=False, apply_api_compatibility=False, kwargs={'game': 'battle_zone', 'obs_type': 'ram', 'repeat_action_probability': 0.25, 'full_action_space': False, 'max_num_frames_per_episode': 108000, 'frameskip': 4}, namespace=None, name='BattleZone-ramDeterministic', version=0)), ('BattleZone-ramNoFrameskip-v0', EnvSpec(id='BattleZone-ramNoFrameskip-v0', entry_point='ale_py.env.gym:AtariEnv', reward_threshold=None, nondeterministic=False, max_episode_steps=None, order_enforce=True, autoreset=False, disable_env_checker=False, apply_api_compatibility=False, kwargs={'game': 'battle_zone', 'obs_type': 'ram', 'repeat_action_probability': 0.25, 'full_action_space': False, 'max_num_frames_per_episode': 108000, 'frameskip': 1}, namespace=None, name='BattleZone-ramNoFrameskip', version=0)), ('BattleZone-ram-v4', EnvSpec(id='BattleZone-ram-v4', entry_point='ale_py.env.gym:AtariEnv', reward_threshold=None, nondeterministic=False, max_episode_steps=None, order_enforce=True, autoreset=False, disable_env_checker=False, apply_api_compatibility=False, kwargs={'game': 'battle_zone', 'obs_type': 'ram', 'repeat_action_probability': 0.0, 'full_action_space': False, 'max_num_frames_per_episode': 108000, 'frameskip': (2, 5)}, namespace=None, name='BattleZone-ram', version=4)), ('BattleZone-ramDeterministic-v4', EnvSpec(id='BattleZone-ramDeterministic-v4', entry_point='ale_py.env.gym:AtariEnv', reward_threshold=None, nondeterministic=False, max_episode_steps=None, order_enforce=True, autoreset=False, disable_env_checker=False, apply_api_compatibility=False, kwargs={'game': 'battle_zone', 'obs_type': 'ram', 'repeat_action_probability': 0.0, 'full_action_space': False, 'max_num_frames_per_episode': 108000, 'frameskip': 4}, namespace=None, name='BattleZone-ramDeterministic', version=4)), ('BattleZone-ramNoFrameskip-v4', EnvSpec(id='BattleZone-ramNoFrameskip-v4', entry_point='ale_py.env.gym:AtariEnv', reward_threshold=None, nondeterministic=False, max_episode_steps=None, order_enforce=True, autoreset=False, disable_env_checker=False, apply_api_compatibility=False, kwargs={'game': 'battle_zone', 'obs_type': 'ram', 'repeat_action_probability': 0.0, 'full_action_space': False, 'max_num_frames_per_episode': 108000, 'frameskip': 1}, namespace=None, name='BattleZone-ramNoFrameskip', version=4)), ('BeamRider-v0', EnvSpec(id='BeamRider-v0', entry_point='ale_py.env.gym:AtariEnv', reward_threshold=None, nondeterministic=False, max_episode_steps=None, order_enforce=True, autoreset=False, disable_env_checker=False, apply_api_compatibility=False, kwargs={'game': 'beam_rider', 'obs_type': 'rgb', 'repeat_action_probability': 0.25, 'full_action_space': False, 'max_num_frames_per_episode': 108000, 'frameskip': (2, 5)}, namespace=None, name='BeamRider', version=0)), ('BeamRiderDeterministic-v0', EnvSpec(id='BeamRiderDeterministic-v0', entry_point='ale_py.env.gym:AtariEnv', reward_threshold=None, nondeterministic=False, max_episode_steps=None, order_enforce=True, autoreset=False, disable_env_checker=False, apply_api_compatibility=False, kwargs={'game': 'beam_rider', 'obs_type': 'rgb', 'repeat_action_probability': 0.25, 'full_action_space': False, 'max_num_frames_per_episode': 108000, 'frameskip': 4}, namespace=None, name='BeamRiderDeterministic', version=0)), ('BeamRiderNoFrameskip-v0', EnvSpec(id='BeamRiderNoFrameskip-v0', entry_point='ale_py.env.gym:AtariEnv', reward_threshold=None, nondeterministic=False, max_episode_steps=None, order_enforce=True, autoreset=False, disable_env_checker=False, apply_api_compatibility=False, kwargs={'game': 'beam_rider', 'obs_type': 'rgb', 'repeat_action_probability': 0.25, 'full_action_space': False, 'max_num_frames_per_episode': 108000, 'frameskip': 1}, namespace=None, name='BeamRiderNoFrameskip', version=0)), ('BeamRider-v4', EnvSpec(id='BeamRider-v4', entry_point='ale_py.env.gym:AtariEnv', reward_threshold=None, nondeterministic=False, max_episode_steps=None, order_enforce=True, autoreset=False, disable_env_checker=False, apply_api_compatibility=False, kwargs={'game': 'beam_rider', 'obs_type': 'rgb', 'repeat_action_probability': 0.0, 'full_action_space': False, 'max_num_frames_per_episode': 108000, 'frameskip': (2, 5)}, namespace=None, name='BeamRider', version=4)), ('BeamRiderDeterministic-v4', EnvSpec(id='BeamRiderDeterministic-v4', entry_point='ale_py.env.gym:AtariEnv', reward_threshold=None, nondeterministic=False, max_episode_steps=None, order_enforce=True, autoreset=False, disable_env_checker=False, apply_api_compatibility=False, kwargs={'game': 'beam_rider', 'obs_type': 'rgb', 'repeat_action_probability': 0.0, 'full_action_space': False, 'max_num_frames_per_episode': 108000, 'frameskip': 4}, namespace=None, name='BeamRiderDeterministic', version=4)), ('BeamRiderNoFrameskip-v4', EnvSpec(id='BeamRiderNoFrameskip-v4', entry_point='ale_py.env.gym:AtariEnv', reward_threshold=None, nondeterministic=False, max_episode_steps=None, order_enforce=True, autoreset=False, disable_env_checker=False, apply_api_compatibility=False, kwargs={'game': 'beam_rider', 'obs_type': 'rgb', 'repeat_action_probability': 0.0, 'full_action_space': False, 'max_num_frames_per_episode': 108000, 'frameskip': 1}, namespace=None, name='BeamRiderNoFrameskip', version=4)), ('BeamRider-ram-v0', EnvSpec(id='BeamRider-ram-v0', entry_point='ale_py.env.gym:AtariEnv', reward_threshold=None, nondeterministic=False, max_episode_steps=None, order_enforce=True, autoreset=False, disable_env_checker=False, apply_api_compatibility=False, kwargs={'game': 'beam_rider', 'obs_type': 'ram', 'repeat_action_probability': 0.25, 'full_action_space': False, 'max_num_frames_per_episode': 108000, 'frameskip': (2, 5)}, namespace=None, name='BeamRider-ram', version=0)), ('BeamRider-ramDeterministic-v0', EnvSpec(id='BeamRider-ramDeterministic-v0', entry_point='ale_py.env.gym:AtariEnv', reward_threshold=None, nondeterministic=False, max_episode_steps=None, order_enforce=True, autoreset=False, disable_env_checker=False, apply_api_compatibility=False, kwargs={'game': 'beam_rider', 'obs_type': 'ram', 'repeat_action_probability': 0.25, 'full_action_space': False, 'max_num_frames_per_episode': 108000, 'frameskip': 4}, namespace=None, name='BeamRider-ramDeterministic', version=0)), ('BeamRider-ramNoFrameskip-v0', EnvSpec(id='BeamRider-ramNoFrameskip-v0', entry_point='ale_py.env.gym:AtariEnv', reward_threshold=None, nondeterministic=False, max_episode_steps=None, order_enforce=True, autoreset=False, disable_env_checker=False, apply_api_compatibility=False, kwargs={'game': 'beam_rider', 'obs_type': 'ram', 'repeat_action_probability': 0.25, 'full_action_space': False, 'max_num_frames_per_episode': 108000, 'frameskip': 1}, namespace=None, name='BeamRider-ramNoFrameskip', version=0)), ('BeamRider-ram-v4', EnvSpec(id='BeamRider-ram-v4', entry_point='ale_py.env.gym:AtariEnv', reward_threshold=None, nondeterministic=False, max_episode_steps=None, order_enforce=True, autoreset=False, disable_env_checker=False, apply_api_compatibility=False, kwargs={'game': 'beam_rider', 'obs_type': 'ram', 'repeat_action_probability': 0.0, 'full_action_space': False, 'max_num_frames_per_episode': 108000, 'frameskip': (2, 5)}, namespace=None, name='BeamRider-ram', version=4)), ('BeamRider-ramDeterministic-v4', EnvSpec(id='BeamRider-ramDeterministic-v4', entry_point='ale_py.env.gym:AtariEnv', reward_threshold=None, nondeterministic=False, max_episode_steps=None, order_enforce=True, autoreset=False, disable_env_checker=False, apply_api_compatibility=False, kwargs={'game': 'beam_rider', 'obs_type': 'ram', 'repeat_action_probability': 0.0, 'full_action_space': False, 'max_num_frames_per_episode': 108000, 'frameskip': 4}, namespace=None, name='BeamRider-ramDeterministic', version=4)), ('BeamRider-ramNoFrameskip-v4', EnvSpec(id='BeamRider-ramNoFrameskip-v4', entry_point='ale_py.env.gym:AtariEnv', reward_threshold=None, nondeterministic=False, max_episode_steps=None, order_enforce=True, autoreset=False, disable_env_checker=False, apply_api_compatibility=False, kwargs={'game': 'beam_rider', 'obs_type': 'ram', 'repeat_action_probability': 0.0, 'full_action_space': False, 'max_num_frames_per_episode': 108000, 'frameskip': 1}, namespace=None, name='BeamRider-ramNoFrameskip', version=4)), ('Berzerk-v0', EnvSpec(id='Berzerk-v0', entry_point='ale_py.env.gym:AtariEnv', reward_threshold=None, nondeterministic=False, max_episode_steps=None, order_enforce=True, autoreset=False, disable_env_checker=False, apply_api_compatibility=False, kwargs={'game': 'berzerk', 'obs_type': 'rgb', 'repeat_action_probability': 0.25, 'full_action_space': False, 'max_num_frames_per_episode': 108000, 'frameskip': (2, 5)}, namespace=None, name='Berzerk', version=0)), ('BerzerkDeterministic-v0', EnvSpec(id='BerzerkDeterministic-v0', entry_point='ale_py.env.gym:AtariEnv', reward_threshold=None, nondeterministic=False, max_episode_steps=None, order_enforce=True, autoreset=False, disable_env_checker=False, apply_api_compatibility=False, kwargs={'game': 'berzerk', 'obs_type': 'rgb', 'repeat_action_probability': 0.25, 'full_action_space': False, 'max_num_frames_per_episode': 108000, 'frameskip': 4}, namespace=None, name='BerzerkDeterministic', version=0)), ('BerzerkNoFrameskip-v0', EnvSpec(id='BerzerkNoFrameskip-v0', entry_point='ale_py.env.gym:AtariEnv', reward_threshold=None, nondeterministic=False, max_episode_steps=None, order_enforce=True, autoreset=False, disable_env_checker=False, apply_api_compatibility=False, kwargs={'game': 'berzerk', 'obs_type': 'rgb', 'repeat_action_probability': 0.25, 'full_action_space': False, 'max_num_frames_per_episode': 108000, 'frameskip': 1}, namespace=None, name='BerzerkNoFrameskip', version=0)), ('Berzerk-v4', EnvSpec(id='Berzerk-v4', entry_point='ale_py.env.gym:AtariEnv', reward_threshold=None, nondeterministic=False, max_episode_steps=None, order_enforce=True, autoreset=False, disable_env_checker=False, apply_api_compatibility=False, kwargs={'game': 'berzerk', 'obs_type': 'rgb', 'repeat_action_probability': 0.0, 'full_action_space': False, 'max_num_frames_per_episode': 108000, 'frameskip': (2, 5)}, namespace=None, name='Berzerk', version=4)), ('BerzerkDeterministic-v4', EnvSpec(id='BerzerkDeterministic-v4', entry_point='ale_py.env.gym:AtariEnv', reward_threshold=None, nondeterministic=False, max_episode_steps=None, order_enforce=True, autoreset=False, disable_env_checker=False, apply_api_compatibility=False, kwargs={'game': 'berzerk', 'obs_type': 'rgb', 'repeat_action_probability': 0.0, 'full_action_space': False, 'max_num_frames_per_episode': 108000, 'frameskip': 4}, namespace=None, name='BerzerkDeterministic', version=4)), ('BerzerkNoFrameskip-v4', EnvSpec(id='BerzerkNoFrameskip-v4', entry_point='ale_py.env.gym:AtariEnv', reward_threshold=None, nondeterministic=False, max_episode_steps=None, order_enforce=True, autoreset=False, disable_env_checker=False, apply_api_compatibility=False, kwargs={'game': 'berzerk', 'obs_type': 'rgb', 'repeat_action_probability': 0.0, 'full_action_space': False, 'max_num_frames_per_episode': 108000, 'frameskip': 1}, namespace=None, name='BerzerkNoFrameskip', version=4)), ('Berzerk-ram-v0', EnvSpec(id='Berzerk-ram-v0', entry_point='ale_py.env.gym:AtariEnv', reward_threshold=None, nondeterministic=False, max_episode_steps=None, order_enforce=True, autoreset=False, disable_env_checker=False, apply_api_compatibility=False, kwargs={'game': 'berzerk', 'obs_type': 'ram', 'repeat_action_probability': 0.25, 'full_action_space': False, 'max_num_frames_per_episode': 108000, 'frameskip': (2, 5)}, namespace=None, name='Berzerk-ram', version=0)), ('Berzerk-ramDeterministic-v0', EnvSpec(id='Berzerk-ramDeterministic-v0', entry_point='ale_py.env.gym:AtariEnv', reward_threshold=None, nondeterministic=False, max_episode_steps=None, order_enforce=True, autoreset=False, disable_env_checker=False, apply_api_compatibility=False, kwargs={'game': 'berzerk', 'obs_type': 'ram', 'repeat_action_probability': 0.25, 'full_action_space': False, 'max_num_frames_per_episode': 108000, 'frameskip': 4}, namespace=None, name='Berzerk-ramDeterministic', version=0)), ('Berzerk-ramNoFrameskip-v0', EnvSpec(id='Berzerk-ramNoFrameskip-v0', entry_point='ale_py.env.gym:AtariEnv', reward_threshold=None, nondeterministic=False, max_episode_steps=None, order_enforce=True, autoreset=False, disable_env_checker=False, apply_api_compatibility=False, kwargs={'game': 'berzerk', 'obs_type': 'ram', 'repeat_action_probability': 0.25, 'full_action_space': False, 'max_num_frames_per_episode': 108000, 'frameskip': 1}, namespace=None, name='Berzerk-ramNoFrameskip', version=0)), ('Berzerk-ram-v4', EnvSpec(id='Berzerk-ram-v4', entry_point='ale_py.env.gym:AtariEnv', reward_threshold=None, nondeterministic=False, max_episode_steps=None, order_enforce=True, autoreset=False, disable_env_checker=False, apply_api_compatibility=False, kwargs={'game': 'berzerk', 'obs_type': 'ram', 'repeat_action_probability': 0.0, 'full_action_space': False, 'max_num_frames_per_episode': 108000, 'frameskip': (2, 5)}, namespace=None, name='Berzerk-ram', version=4)), ('Berzerk-ramDeterministic-v4', EnvSpec(id='Berzerk-ramDeterministic-v4', entry_point='ale_py.env.gym:AtariEnv', reward_threshold=None, nondeterministic=False, max_episode_steps=None, order_enforce=True, autoreset=False, disable_env_checker=False, apply_api_compatibility=False, kwargs={'game': 'berzerk', 'obs_type': 'ram', 'repeat_action_probability': 0.0, 'full_action_space': False, 'max_num_frames_per_episode': 108000, 'frameskip': 4}, namespace=None, name='Berzerk-ramDeterministic', version=4)), ('Berzerk-ramNoFrameskip-v4', EnvSpec(id='Berzerk-ramNoFrameskip-v4', entry_point='ale_py.env.gym:AtariEnv', reward_threshold=None, nondeterministic=False, max_episode_steps=None, order_enforce=True, autoreset=False, disable_env_checker=False, apply_api_compatibility=False, kwargs={'game': 'berzerk', 'obs_type': 'ram', 'repeat_action_probability': 0.0, 'full_action_space': False, 'max_num_frames_per_episode': 108000, 'frameskip': 1}, namespace=None, name='Berzerk-ramNoFrameskip', version=4)), ('Bowling-v0', EnvSpec(id='Bowling-v0', entry_point='ale_py.env.gym:AtariEnv', reward_threshold=None, nondeterministic=False, max_episode_steps=None, order_enforce=True, autoreset=False, disable_env_checker=False, apply_api_compatibility=False, kwargs={'game': 'bowling', 'obs_type': 'rgb', 'repeat_action_probability': 0.25, 'full_action_space': False, 'max_num_frames_per_episode': 108000, 'frameskip': (2, 5)}, namespace=None, name='Bowling', version=0)), ('BowlingDeterministic-v0', EnvSpec(id='BowlingDeterministic-v0', entry_point='ale_py.env.gym:AtariEnv', reward_threshold=None, nondeterministic=False, max_episode_steps=None, order_enforce=True, autoreset=False, disable_env_checker=False, apply_api_compatibility=False, kwargs={'game': 'bowling', 'obs_type': 'rgb', 'repeat_action_probability': 0.25, 'full_action_space': False, 'max_num_frames_per_episode': 108000, 'frameskip': 4}, namespace=None, name='BowlingDeterministic', version=0)), ('BowlingNoFrameskip-v0', EnvSpec(id='BowlingNoFrameskip-v0', entry_point='ale_py.env.gym:AtariEnv', reward_threshold=None, nondeterministic=False, max_episode_steps=None, order_enforce=True, autoreset=False, disable_env_checker=False, apply_api_compatibility=False, kwargs={'game': 'bowling', 'obs_type': 'rgb', 'repeat_action_probability': 0.25, 'full_action_space': False, 'max_num_frames_per_episode': 108000, 'frameskip': 1}, namespace=None, name='BowlingNoFrameskip', version=0)), ('Bowling-v4', EnvSpec(id='Bowling-v4', entry_point='ale_py.env.gym:AtariEnv', reward_threshold=None, nondeterministic=False, max_episode_steps=None, order_enforce=True, autoreset=False, disable_env_checker=False, apply_api_compatibility=False, kwargs={'game': 'bowling', 'obs_type': 'rgb', 'repeat_action_probability': 0.0, 'full_action_space': False, 'max_num_frames_per_episode': 108000, 'frameskip': (2, 5)}, namespace=None, name='Bowling', version=4)), ('BowlingDeterministic-v4', EnvSpec(id='BowlingDeterministic-v4', entry_point='ale_py.env.gym:AtariEnv', reward_threshold=None, nondeterministic=False, max_episode_steps=None, order_enforce=True, autoreset=False, disable_env_checker=False, apply_api_compatibility=False, kwargs={'game': 'bowling', 'obs_type': 'rgb', 'repeat_action_probability': 0.0, 'full_action_space': False, 'max_num_frames_per_episode': 108000, 'frameskip': 4}, namespace=None, name='BowlingDeterministic', version=4)), ('BowlingNoFrameskip-v4', EnvSpec(id='BowlingNoFrameskip-v4', entry_point='ale_py.env.gym:AtariEnv', reward_threshold=None, nondeterministic=False, max_episode_steps=None, order_enforce=True, autoreset=False, disable_env_checker=False, apply_api_compatibility=False, kwargs={'game': 'bowling', 'obs_type': 'rgb', 'repeat_action_probability': 0.0, 'full_action_space': False, 'max_num_frames_per_episode': 108000, 'frameskip': 1}, namespace=None, name='BowlingNoFrameskip', version=4)), ('Bowling-ram-v0', EnvSpec(id='Bowling-ram-v0', entry_point='ale_py.env.gym:AtariEnv', reward_threshold=None, nondeterministic=False, max_episode_steps=None, order_enforce=True, autoreset=False, disable_env_checker=False, apply_api_compatibility=False, kwargs={'game': 'bowling', 'obs_type': 'ram', 'repeat_action_probability': 0.25, 'full_action_space': False, 'max_num_frames_per_episode': 108000, 'frameskip': (2, 5)}, namespace=None, name='Bowling-ram', version=0)), ('Bowling-ramDeterministic-v0', EnvSpec(id='Bowling-ramDeterministic-v0', entry_point='ale_py.env.gym:AtariEnv', reward_threshold=None, nondeterministic=False, max_episode_steps=None, order_enforce=True, autoreset=False, disable_env_checker=False, apply_api_compatibility=False, kwargs={'game': 'bowling', 'obs_type': 'ram', 'repeat_action_probability': 0.25, 'full_action_space': False, 'max_num_frames_per_episode': 108000, 'frameskip': 4}, namespace=None, name='Bowling-ramDeterministic', version=0)), ('Bowling-ramNoFrameskip-v0', EnvSpec(id='Bowling-ramNoFrameskip-v0', entry_point='ale_py.env.gym:AtariEnv', reward_threshold=None, nondeterministic=False, max_episode_steps=None, order_enforce=True, autoreset=False, disable_env_checker=False, apply_api_compatibility=False, kwargs={'game': 'bowling', 'obs_type': 'ram', 'repeat_action_probability': 0.25, 'full_action_space': False, 'max_num_frames_per_episode': 108000, 'frameskip': 1}, namespace=None, name='Bowling-ramNoFrameskip', version=0)), ('Bowling-ram-v4', EnvSpec(id='Bowling-ram-v4', entry_point='ale_py.env.gym:AtariEnv', reward_threshold=None, nondeterministic=False, max_episode_steps=None, order_enforce=True, autoreset=False, disable_env_checker=False, apply_api_compatibility=False, kwargs={'game': 'bowling', 'obs_type': 'ram', 'repeat_action_probability': 0.0, 'full_action_space': False, 'max_num_frames_per_episode': 108000, 'frameskip': (2, 5)}, namespace=None, name='Bowling-ram', version=4)), ('Bowling-ramDeterministic-v4', EnvSpec(id='Bowling-ramDeterministic-v4', entry_point='ale_py.env.gym:AtariEnv', reward_threshold=None, nondeterministic=False, max_episode_steps=None, order_enforce=True, autoreset=False, disable_env_checker=False, apply_api_compatibility=False, kwargs={'game': 'bowling', 'obs_type': 'ram', 'repeat_action_probability': 0.0, 'full_action_space': False, 'max_num_frames_per_episode': 108000, 'frameskip': 4}, namespace=None, name='Bowling-ramDeterministic', version=4)), ('Bowling-ramNoFrameskip-v4', EnvSpec(id='Bowling-ramNoFrameskip-v4', entry_point='ale_py.env.gym:AtariEnv', reward_threshold=None, nondeterministic=False, max_episode_steps=None, order_enforce=True, autoreset=False, disable_env_checker=False, apply_api_compatibility=False, kwargs={'game': 'bowling', 'obs_type': 'ram', 'repeat_action_probability': 0.0, 'full_action_space': False, 'max_num_frames_per_episode': 108000, 'frameskip': 1}, namespace=None, name='Bowling-ramNoFrameskip', version=4)), ('Boxing-v0', EnvSpec(id='Boxing-v0', entry_point='ale_py.env.gym:AtariEnv', reward_threshold=None, nondeterministic=False, max_episode_steps=None, order_enforce=True, autoreset=False, disable_env_checker=False, apply_api_compatibility=False, kwargs={'game': 'boxing', 'obs_type': 'rgb', 'repeat_action_probability': 0.25, 'full_action_space': False, 'max_num_frames_per_episode': 108000, 'frameskip': (2, 5)}, namespace=None, name='Boxing', version=0)), ('BoxingDeterministic-v0', EnvSpec(id='BoxingDeterministic-v0', entry_point='ale_py.env.gym:AtariEnv', reward_threshold=None, nondeterministic=False, max_episode_steps=None, order_enforce=True, autoreset=False, disable_env_checker=False, apply_api_compatibility=False, kwargs={'game': 'boxing', 'obs_type': 'rgb', 'repeat_action_probability': 0.25, 'full_action_space': False, 'max_num_frames_per_episode': 108000, 'frameskip': 4}, namespace=None, name='BoxingDeterministic', version=0)), ('BoxingNoFrameskip-v0', EnvSpec(id='BoxingNoFrameskip-v0', entry_point='ale_py.env.gym:AtariEnv', reward_threshold=None, nondeterministic=False, max_episode_steps=None, order_enforce=True, autoreset=False, disable_env_checker=False, apply_api_compatibility=False, kwargs={'game': 'boxing', 'obs_type': 'rgb', 'repeat_action_probability': 0.25, 'full_action_space': False, 'max_num_frames_per_episode': 108000, 'frameskip': 1}, namespace=None, name='BoxingNoFrameskip', version=0)), ('Boxing-v4', EnvSpec(id='Boxing-v4', entry_point='ale_py.env.gym:AtariEnv', reward_threshold=None, nondeterministic=False, max_episode_steps=None, order_enforce=True, autoreset=False, disable_env_checker=False, apply_api_compatibility=False, kwargs={'game': 'boxing', 'obs_type': 'rgb', 'repeat_action_probability': 0.0, 'full_action_space': False, 'max_num_frames_per_episode': 108000, 'frameskip': (2, 5)}, namespace=None, name='Boxing', version=4)), ('BoxingDeterministic-v4', EnvSpec(id='BoxingDeterministic-v4', entry_point='ale_py.env.gym:AtariEnv', reward_threshold=None, nondeterministic=False, max_episode_steps=None, order_enforce=True, autoreset=False, disable_env_checker=False, apply_api_compatibility=False, kwargs={'game': 'boxing', 'obs_type': 'rgb', 'repeat_action_probability': 0.0, 'full_action_space': False, 'max_num_frames_per_episode': 108000, 'frameskip': 4}, namespace=None, name='BoxingDeterministic', version=4)), ('BoxingNoFrameskip-v4', EnvSpec(id='BoxingNoFrameskip-v4', entry_point='ale_py.env.gym:AtariEnv', reward_threshold=None, nondeterministic=False, max_episode_steps=None, order_enforce=True, autoreset=False, disable_env_checker=False, apply_api_compatibility=False, kwargs={'game': 'boxing', 'obs_type': 'rgb', 'repeat_action_probability': 0.0, 'full_action_space': False, 'max_num_frames_per_episode': 108000, 'frameskip': 1}, namespace=None, name='BoxingNoFrameskip', version=4)), ('Boxing-ram-v0', EnvSpec(id='Boxing-ram-v0', entry_point='ale_py.env.gym:AtariEnv', reward_threshold=None, nondeterministic=False, max_episode_steps=None, order_enforce=True, autoreset=False, disable_env_checker=False, apply_api_compatibility=False, kwargs={'game': 'boxing', 'obs_type': 'ram', 'repeat_action_probability': 0.25, 'full_action_space': False, 'max_num_frames_per_episode': 108000, 'frameskip': (2, 5)}, namespace=None, name='Boxing-ram', version=0)), ('Boxing-ramDeterministic-v0', EnvSpec(id='Boxing-ramDeterministic-v0', entry_point='ale_py.env.gym:AtariEnv', reward_threshold=None, nondeterministic=False, max_episode_steps=None, order_enforce=True, autoreset=False, disable_env_checker=False, apply_api_compatibility=False, kwargs={'game': 'boxing', 'obs_type': 'ram', 'repeat_action_probability': 0.25, 'full_action_space': False, 'max_num_frames_per_episode': 108000, 'frameskip': 4}, namespace=None, name='Boxing-ramDeterministic', version=0)), ('Boxing-ramNoFrameskip-v0', EnvSpec(id='Boxing-ramNoFrameskip-v0', entry_point='ale_py.env.gym:AtariEnv', reward_threshold=None, nondeterministic=False, max_episode_steps=None, order_enforce=True, autoreset=False, disable_env_checker=False, apply_api_compatibility=False, kwargs={'game': 'boxing', 'obs_type': 'ram', 'repeat_action_probability': 0.25, 'full_action_space': False, 'max_num_frames_per_episode': 108000, 'frameskip': 1}, namespace=None, name='Boxing-ramNoFrameskip', version=0)), ('Boxing-ram-v4', EnvSpec(id='Boxing-ram-v4', entry_point='ale_py.env.gym:AtariEnv', reward_threshold=None, nondeterministic=False, max_episode_steps=None, order_enforce=True, autoreset=False, disable_env_checker=False, apply_api_compatibility=False, kwargs={'game': 'boxing', 'obs_type': 'ram', 'repeat_action_probability': 0.0, 'full_action_space': False, 'max_num_frames_per_episode': 108000, 'frameskip': (2, 5)}, namespace=None, name='Boxing-ram', version=4)), ('Boxing-ramDeterministic-v4', EnvSpec(id='Boxing-ramDeterministic-v4', entry_point='ale_py.env.gym:AtariEnv', reward_threshold=None, nondeterministic=False, max_episode_steps=None, order_enforce=True, autoreset=False, disable_env_checker=False, apply_api_compatibility=False, kwargs={'game': 'boxing', 'obs_type': 'ram', 'repeat_action_probability': 0.0, 'full_action_space': False, 'max_num_frames_per_episode': 108000, 'frameskip': 4}, namespace=None, name='Boxing-ramDeterministic', version=4)), ('Boxing-ramNoFrameskip-v4', EnvSpec(id='Boxing-ramNoFrameskip-v4', entry_point='ale_py.env.gym:AtariEnv', reward_threshold=None, nondeterministic=False, max_episode_steps=None, order_enforce=True, autoreset=False, disable_env_checker=False, apply_api_compatibility=False, kwargs={'game': 'boxing', 'obs_type': 'ram', 'repeat_action_probability': 0.0, 'full_action_space': False, 'max_num_frames_per_episode': 108000, 'frameskip': 1}, namespace=None, name='Boxing-ramNoFrameskip', version=4)), ('Breakout-v0', EnvSpec(id='Breakout-v0', entry_point='ale_py.env.gym:AtariEnv', reward_threshold=None, nondeterministic=False, max_episode_steps=None, order_enforce=True, autoreset=False, disable_env_checker=False, apply_api_compatibility=False, kwargs={'game': 'breakout', 'obs_type': 'rgb', 'repeat_action_probability': 0.25, 'full_action_space': False, 'max_num_frames_per_episode': 108000, 'frameskip': (2, 5)}, namespace=None, name='Breakout', version=0)), ('BreakoutDeterministic-v0', EnvSpec(id='BreakoutDeterministic-v0', entry_point='ale_py.env.gym:AtariEnv', reward_threshold=None, nondeterministic=False, max_episode_steps=None, order_enforce=True, autoreset=False, disable_env_checker=False, apply_api_compatibility=False, kwargs={'game': 'breakout', 'obs_type': 'rgb', 'repeat_action_probability': 0.25, 'full_action_space': False, 'max_num_frames_per_episode': 108000, 'frameskip': 4}, namespace=None, name='BreakoutDeterministic', version=0)), ('BreakoutNoFrameskip-v0', EnvSpec(id='BreakoutNoFrameskip-v0', entry_point='ale_py.env.gym:AtariEnv', reward_threshold=None, nondeterministic=False, max_episode_steps=None, order_enforce=True, autoreset=False, disable_env_checker=False, apply_api_compatibility=False, kwargs={'game': 'breakout', 'obs_type': 'rgb', 'repeat_action_probability': 0.25, 'full_action_space': False, 'max_num_frames_per_episode': 108000, 'frameskip': 1}, namespace=None, name='BreakoutNoFrameskip', version=0)), ('Breakout-v4', EnvSpec(id='Breakout-v4', entry_point='ale_py.env.gym:AtariEnv', reward_threshold=None, nondeterministic=False, max_episode_steps=None, order_enforce=True, autoreset=False, disable_env_checker=False, apply_api_compatibility=False, kwargs={'game': 'breakout', 'obs_type': 'rgb', 'repeat_action_probability': 0.0, 'full_action_space': False, 'max_num_frames_per_episode': 108000, 'frameskip': (2, 5)}, namespace=None, name='Breakout', version=4)), ('BreakoutDeterministic-v4', EnvSpec(id='BreakoutDeterministic-v4', entry_point='ale_py.env.gym:AtariEnv', reward_threshold=None, nondeterministic=False, max_episode_steps=None, order_enforce=True, autoreset=False, disable_env_checker=False, apply_api_compatibility=False, kwargs={'game': 'breakout', 'obs_type': 'rgb', 'repeat_action_probability': 0.0, 'full_action_space': False, 'max_num_frames_per_episode': 108000, 'frameskip': 4}, namespace=None, name='BreakoutDeterministic', version=4)), ('BreakoutNoFrameskip-v4', EnvSpec(id='BreakoutNoFrameskip-v4', entry_point='ale_py.env.gym:AtariEnv', reward_threshold=None, nondeterministic=False, max_episode_steps=None, order_enforce=True, autoreset=False, disable_env_checker=False, apply_api_compatibility=False, kwargs={'game': 'breakout', 'obs_type': 'rgb', 'repeat_action_probability': 0.0, 'full_action_space': False, 'max_num_frames_per_episode': 108000, 'frameskip': 1}, namespace=None, name='BreakoutNoFrameskip', version=4)), ('Breakout-ram-v0', EnvSpec(id='Breakout-ram-v0', entry_point='ale_py.env.gym:AtariEnv', reward_threshold=None, nondeterministic=False, max_episode_steps=None, order_enforce=True, autoreset=False, disable_env_checker=False, apply_api_compatibility=False, kwargs={'game': 'breakout', 'obs_type': 'ram', 'repeat_action_probability': 0.25, 'full_action_space': False, 'max_num_frames_per_episode': 108000, 'frameskip': (2, 5)}, namespace=None, name='Breakout-ram', version=0)), ('Breakout-ramDeterministic-v0', EnvSpec(id='Breakout-ramDeterministic-v0', entry_point='ale_py.env.gym:AtariEnv', reward_threshold=None, nondeterministic=False, max_episode_steps=None, order_enforce=True, autoreset=False, disable_env_checker=False, apply_api_compatibility=False, kwargs={'game': 'breakout', 'obs_type': 'ram', 'repeat_action_probability': 0.25, 'full_action_space': False, 'max_num_frames_per_episode': 108000, 'frameskip': 4}, namespace=None, name='Breakout-ramDeterministic', version=0)), ('Breakout-ramNoFrameskip-v0', EnvSpec(id='Breakout-ramNoFrameskip-v0', entry_point='ale_py.env.gym:AtariEnv', reward_threshold=None, nondeterministic=False, max_episode_steps=None, order_enforce=True, autoreset=False, disable_env_checker=False, apply_api_compatibility=False, kwargs={'game': 'breakout', 'obs_type': 'ram', 'repeat_action_probability': 0.25, 'full_action_space': False, 'max_num_frames_per_episode': 108000, 'frameskip': 1}, namespace=None, name='Breakout-ramNoFrameskip', version=0)), ('Breakout-ram-v4', EnvSpec(id='Breakout-ram-v4', entry_point='ale_py.env.gym:AtariEnv', reward_threshold=None, nondeterministic=False, max_episode_steps=None, order_enforce=True, autoreset=False, disable_env_checker=False, apply_api_compatibility=False, kwargs={'game': 'breakout', 'obs_type': 'ram', 'repeat_action_probability': 0.0, 'full_action_space': False, 'max_num_frames_per_episode': 108000, 'frameskip': (2, 5)}, namespace=None, name='Breakout-ram', version=4)), ('Breakout-ramDeterministic-v4', EnvSpec(id='Breakout-ramDeterministic-v4', entry_point='ale_py.env.gym:AtariEnv', reward_threshold=None, nondeterministic=False, max_episode_steps=None, order_enforce=True, autoreset=False, disable_env_checker=False, apply_api_compatibility=False, kwargs={'game': 'breakout', 'obs_type': 'ram', 'repeat_action_probability': 0.0, 'full_action_space': False, 'max_num_frames_per_episode': 108000, 'frameskip': 4}, namespace=None, name='Breakout-ramDeterministic', version=4)), ('Breakout-ramNoFrameskip-v4', EnvSpec(id='Breakout-ramNoFrameskip-v4', entry_point='ale_py.env.gym:AtariEnv', reward_threshold=None, nondeterministic=False, max_episode_steps=None, order_enforce=True, autoreset=False, disable_env_checker=False, apply_api_compatibility=False, kwargs={'game': 'breakout', 'obs_type': 'ram', 'repeat_action_probability': 0.0, 'full_action_space': False, 'max_num_frames_per_episode': 108000, 'frameskip': 1}, namespace=None, name='Breakout-ramNoFrameskip', version=4)), ('Carnival-v0', EnvSpec(id='Carnival-v0', entry_point='ale_py.env.gym:AtariEnv', reward_threshold=None, nondeterministic=False, max_episode_steps=None, order_enforce=True, autoreset=False, disable_env_checker=False, apply_api_compatibility=False, kwargs={'game': 'carnival', 'obs_type': 'rgb', 'repeat_action_probability': 0.25, 'full_action_space': False, 'max_num_frames_per_episode': 108000, 'frameskip': (2, 5)}, namespace=None, name='Carnival', version=0)), ('CarnivalDeterministic-v0', EnvSpec(id='CarnivalDeterministic-v0', entry_point='ale_py.env.gym:AtariEnv', reward_threshold=None, nondeterministic=False, max_episode_steps=None, order_enforce=True, autoreset=False, disable_env_checker=False, apply_api_compatibility=False, kwargs={'game': 'carnival', 'obs_type': 'rgb', 'repeat_action_probability': 0.25, 'full_action_space': False, 'max_num_frames_per_episode': 108000, 'frameskip': 4}, namespace=None, name='CarnivalDeterministic', version=0)), ('CarnivalNoFrameskip-v0', EnvSpec(id='CarnivalNoFrameskip-v0', entry_point='ale_py.env.gym:AtariEnv', reward_threshold=None, nondeterministic=False, max_episode_steps=None, order_enforce=True, autoreset=False, disable_env_checker=False, apply_api_compatibility=False, kwargs={'game': 'carnival', 'obs_type': 'rgb', 'repeat_action_probability': 0.25, 'full_action_space': False, 'max_num_frames_per_episode': 108000, 'frameskip': 1}, namespace=None, name='CarnivalNoFrameskip', version=0)), ('Carnival-v4', EnvSpec(id='Carnival-v4', entry_point='ale_py.env.gym:AtariEnv', reward_threshold=None, nondeterministic=False, max_episode_steps=None, order_enforce=True, autoreset=False, disable_env_checker=False, apply_api_compatibility=False, kwargs={'game': 'carnival', 'obs_type': 'rgb', 'repeat_action_probability': 0.0, 'full_action_space': False, 'max_num_frames_per_episode': 108000, 'frameskip': (2, 5)}, namespace=None, name='Carnival', version=4)), ('CarnivalDeterministic-v4', EnvSpec(id='CarnivalDeterministic-v4', entry_point='ale_py.env.gym:AtariEnv', reward_threshold=None, nondeterministic=False, max_episode_steps=None, order_enforce=True, autoreset=False, disable_env_checker=False, apply_api_compatibility=False, kwargs={'game': 'carnival', 'obs_type': 'rgb', 'repeat_action_probability': 0.0, 'full_action_space': False, 'max_num_frames_per_episode': 108000, 'frameskip': 4}, namespace=None, name='CarnivalDeterministic', version=4)), ('CarnivalNoFrameskip-v4', EnvSpec(id='CarnivalNoFrameskip-v4', entry_point='ale_py.env.gym:AtariEnv', reward_threshold=None, nondeterministic=False, max_episode_steps=None, order_enforce=True, autoreset=False, disable_env_checker=False, apply_api_compatibility=False, kwargs={'game': 'carnival', 'obs_type': 'rgb', 'repeat_action_probability': 0.0, 'full_action_space': False, 'max_num_frames_per_episode': 108000, 'frameskip': 1}, namespace=None, name='CarnivalNoFrameskip', version=4)), ('Carnival-ram-v0', EnvSpec(id='Carnival-ram-v0', entry_point='ale_py.env.gym:AtariEnv', reward_threshold=None, nondeterministic=False, max_episode_steps=None, order_enforce=True, autoreset=False, disable_env_checker=False, apply_api_compatibility=False, kwargs={'game': 'carnival', 'obs_type': 'ram', 'repeat_action_probability': 0.25, 'full_action_space': False, 'max_num_frames_per_episode': 108000, 'frameskip': (2, 5)}, namespace=None, name='Carnival-ram', version=0)), ('Carnival-ramDeterministic-v0', EnvSpec(id='Carnival-ramDeterministic-v0', entry_point='ale_py.env.gym:AtariEnv', reward_threshold=None, nondeterministic=False, max_episode_steps=None, order_enforce=True, autoreset=False, disable_env_checker=False, apply_api_compatibility=False, kwargs={'game': 'carnival', 'obs_type': 'ram', 'repeat_action_probability': 0.25, 'full_action_space': False, 'max_num_frames_per_episode': 108000, 'frameskip': 4}, namespace=None, name='Carnival-ramDeterministic', version=0)), ('Carnival-ramNoFrameskip-v0', EnvSpec(id='Carnival-ramNoFrameskip-v0', entry_point='ale_py.env.gym:AtariEnv', reward_threshold=None, nondeterministic=False, max_episode_steps=None, order_enforce=True, autoreset=False, disable_env_checker=False, apply_api_compatibility=False, kwargs={'game': 'carnival', 'obs_type': 'ram', 'repeat_action_probability': 0.25, 'full_action_space': False, 'max_num_frames_per_episode': 108000, 'frameskip': 1}, namespace=None, name='Carnival-ramNoFrameskip', version=0)), ('Carnival-ram-v4', EnvSpec(id='Carnival-ram-v4', entry_point='ale_py.env.gym:AtariEnv', reward_threshold=None, nondeterministic=False, max_episode_steps=None, order_enforce=True, autoreset=False, disable_env_checker=False, apply_api_compatibility=False, kwargs={'game': 'carnival', 'obs_type': 'ram', 'repeat_action_probability': 0.0, 'full_action_space': False, 'max_num_frames_per_episode': 108000, 'frameskip': (2, 5)}, namespace=None, name='Carnival-ram', version=4)), ('Carnival-ramDeterministic-v4', EnvSpec(id='Carnival-ramDeterministic-v4', entry_point='ale_py.env.gym:AtariEnv', reward_threshold=None, nondeterministic=False, max_episode_steps=None, order_enforce=True, autoreset=False, disable_env_checker=False, apply_api_compatibility=False, kwargs={'game': 'carnival', 'obs_type': 'ram', 'repeat_action_probability': 0.0, 'full_action_space': False, 'max_num_frames_per_episode': 108000, 'frameskip': 4}, namespace=None, name='Carnival-ramDeterministic', version=4)), ('Carnival-ramNoFrameskip-v4', EnvSpec(id='Carnival-ramNoFrameskip-v4', entry_point='ale_py.env.gym:AtariEnv', reward_threshold=None, nondeterministic=False, max_episode_steps=None, order_enforce=True, autoreset=False, disable_env_checker=False, apply_api_compatibility=False, kwargs={'game': 'carnival', 'obs_type': 'ram', 'repeat_action_probability': 0.0, 'full_action_space': False, 'max_num_frames_per_episode': 108000, 'frameskip': 1}, namespace=None, name='Carnival-ramNoFrameskip', version=4)), ('Centipede-v0', EnvSpec(id='Centipede-v0', entry_point='ale_py.env.gym:AtariEnv', reward_threshold=None, nondeterministic=False, max_episode_steps=None, order_enforce=True, autoreset=False, disable_env_checker=False, apply_api_compatibility=False, kwargs={'game': 'centipede', 'obs_type': 'rgb', 'repeat_action_probability': 0.25, 'full_action_space': False, 'max_num_frames_per_episode': 108000, 'frameskip': (2, 5)}, namespace=None, name='Centipede', version=0)), ('CentipedeDeterministic-v0', EnvSpec(id='CentipedeDeterministic-v0', entry_point='ale_py.env.gym:AtariEnv', reward_threshold=None, nondeterministic=False, max_episode_steps=None, order_enforce=True, autoreset=False, disable_env_checker=False, apply_api_compatibility=False, kwargs={'game': 'centipede', 'obs_type': 'rgb', 'repeat_action_probability': 0.25, 'full_action_space': False, 'max_num_frames_per_episode': 108000, 'frameskip': 4}, namespace=None, name='CentipedeDeterministic', version=0)), ('CentipedeNoFrameskip-v0', EnvSpec(id='CentipedeNoFrameskip-v0', entry_point='ale_py.env.gym:AtariEnv', reward_threshold=None, nondeterministic=False, max_episode_steps=None, order_enforce=True, autoreset=False, disable_env_checker=False, apply_api_compatibility=False, kwargs={'game': 'centipede', 'obs_type': 'rgb', 'repeat_action_probability': 0.25, 'full_action_space': False, 'max_num_frames_per_episode': 108000, 'frameskip': 1}, namespace=None, name='CentipedeNoFrameskip', version=0)), ('Centipede-v4', EnvSpec(id='Centipede-v4', entry_point='ale_py.env.gym:AtariEnv', reward_threshold=None, nondeterministic=False, max_episode_steps=None, order_enforce=True, autoreset=False, disable_env_checker=False, apply_api_compatibility=False, kwargs={'game': 'centipede', 'obs_type': 'rgb', 'repeat_action_probability': 0.0, 'full_action_space': False, 'max_num_frames_per_episode': 108000, 'frameskip': (2, 5)}, namespace=None, name='Centipede', version=4)), ('CentipedeDeterministic-v4', EnvSpec(id='CentipedeDeterministic-v4', entry_point='ale_py.env.gym:AtariEnv', reward_threshold=None, nondeterministic=False, max_episode_steps=None, order_enforce=True, autoreset=False, disable_env_checker=False, apply_api_compatibility=False, kwargs={'game': 'centipede', 'obs_type': 'rgb', 'repeat_action_probability': 0.0, 'full_action_space': False, 'max_num_frames_per_episode': 108000, 'frameskip': 4}, namespace=None, name='CentipedeDeterministic', version=4)), ('CentipedeNoFrameskip-v4', EnvSpec(id='CentipedeNoFrameskip-v4', entry_point='ale_py.env.gym:AtariEnv', reward_threshold=None, nondeterministic=False, max_episode_steps=None, order_enforce=True, autoreset=False, disable_env_checker=False, apply_api_compatibility=False, kwargs={'game': 'centipede', 'obs_type': 'rgb', 'repeat_action_probability': 0.0, 'full_action_space': False, 'max_num_frames_per_episode': 108000, 'frameskip': 1}, namespace=None, name='CentipedeNoFrameskip', version=4)), ('Centipede-ram-v0', EnvSpec(id='Centipede-ram-v0', entry_point='ale_py.env.gym:AtariEnv', reward_threshold=None, nondeterministic=False, max_episode_steps=None, order_enforce=True, autoreset=False, disable_env_checker=False, apply_api_compatibility=False, kwargs={'game': 'centipede', 'obs_type': 'ram', 'repeat_action_probability': 0.25, 'full_action_space': False, 'max_num_frames_per_episode': 108000, 'frameskip': (2, 5)}, namespace=None, name='Centipede-ram', version=0)), ('Centipede-ramDeterministic-v0', EnvSpec(id='Centipede-ramDeterministic-v0', entry_point='ale_py.env.gym:AtariEnv', reward_threshold=None, nondeterministic=False, max_episode_steps=None, order_enforce=True, autoreset=False, disable_env_checker=False, apply_api_compatibility=False, kwargs={'game': 'centipede', 'obs_type': 'ram', 'repeat_action_probability': 0.25, 'full_action_space': False, 'max_num_frames_per_episode': 108000, 'frameskip': 4}, namespace=None, name='Centipede-ramDeterministic', version=0)), ('Centipede-ramNoFrameskip-v0', EnvSpec(id='Centipede-ramNoFrameskip-v0', entry_point='ale_py.env.gym:AtariEnv', reward_threshold=None, nondeterministic=False, max_episode_steps=None, order_enforce=True, autoreset=False, disable_env_checker=False, apply_api_compatibility=False, kwargs={'game': 'centipede', 'obs_type': 'ram', 'repeat_action_probability': 0.25, 'full_action_space': False, 'max_num_frames_per_episode': 108000, 'frameskip': 1}, namespace=None, name='Centipede-ramNoFrameskip', version=0)), ('Centipede-ram-v4', EnvSpec(id='Centipede-ram-v4', entry_point='ale_py.env.gym:AtariEnv', reward_threshold=None, nondeterministic=False, max_episode_steps=None, order_enforce=True, autoreset=False, disable_env_checker=False, apply_api_compatibility=False, kwargs={'game': 'centipede', 'obs_type': 'ram', 'repeat_action_probability': 0.0, 'full_action_space': False, 'max_num_frames_per_episode': 108000, 'frameskip': (2, 5)}, namespace=None, name='Centipede-ram', version=4)), ('Centipede-ramDeterministic-v4', EnvSpec(id='Centipede-ramDeterministic-v4', entry_point='ale_py.env.gym:AtariEnv', reward_threshold=None, nondeterministic=False, max_episode_steps=None, order_enforce=True, autoreset=False, disable_env_checker=False, apply_api_compatibility=False, kwargs={'game': 'centipede', 'obs_type': 'ram', 'repeat_action_probability': 0.0, 'full_action_space': False, 'max_num_frames_per_episode': 108000, 'frameskip': 4}, namespace=None, name='Centipede-ramDeterministic', version=4)), ('Centipede-ramNoFrameskip-v4', EnvSpec(id='Centipede-ramNoFrameskip-v4', entry_point='ale_py.env.gym:AtariEnv', reward_threshold=None, nondeterministic=False, max_episode_steps=None, order_enforce=True, autoreset=False, disable_env_checker=False, apply_api_compatibility=False, kwargs={'game': 'centipede', 'obs_type': 'ram', 'repeat_action_probability': 0.0, 'full_action_space': False, 'max_num_frames_per_episode': 108000, 'frameskip': 1}, namespace=None, name='Centipede-ramNoFrameskip', version=4)), ('ChopperCommand-v0', EnvSpec(id='ChopperCommand-v0', entry_point='ale_py.env.gym:AtariEnv', reward_threshold=None, nondeterministic=False, max_episode_steps=None, order_enforce=True, autoreset=False, disable_env_checker=False, apply_api_compatibility=False, kwargs={'game': 'chopper_command', 'obs_type': 'rgb', 'repeat_action_probability': 0.25, 'full_action_space': False, 'max_num_frames_per_episode': 108000, 'frameskip': (2, 5)}, namespace=None, name='ChopperCommand', version=0)), ('ChopperCommandDeterministic-v0', EnvSpec(id='ChopperCommandDeterministic-v0', entry_point='ale_py.env.gym:AtariEnv', reward_threshold=None, nondeterministic=False, max_episode_steps=None, order_enforce=True, autoreset=False, disable_env_checker=False, apply_api_compatibility=False, kwargs={'game': 'chopper_command', 'obs_type': 'rgb', 'repeat_action_probability': 0.25, 'full_action_space': False, 'max_num_frames_per_episode': 108000, 'frameskip': 4}, namespace=None, name='ChopperCommandDeterministic', version=0)), ('ChopperCommandNoFrameskip-v0', EnvSpec(id='ChopperCommandNoFrameskip-v0', entry_point='ale_py.env.gym:AtariEnv', reward_threshold=None, nondeterministic=False, max_episode_steps=None, order_enforce=True, autoreset=False, disable_env_checker=False, apply_api_compatibility=False, kwargs={'game': 'chopper_command', 'obs_type': 'rgb', 'repeat_action_probability': 0.25, 'full_action_space': False, 'max_num_frames_per_episode': 108000, 'frameskip': 1}, namespace=None, name='ChopperCommandNoFrameskip', version=0)), ('ChopperCommand-v4', EnvSpec(id='ChopperCommand-v4', entry_point='ale_py.env.gym:AtariEnv', reward_threshold=None, nondeterministic=False, max_episode_steps=None, order_enforce=True, autoreset=False, disable_env_checker=False, apply_api_compatibility=False, kwargs={'game': 'chopper_command', 'obs_type': 'rgb', 'repeat_action_probability': 0.0, 'full_action_space': False, 'max_num_frames_per_episode': 108000, 'frameskip': (2, 5)}, namespace=None, name='ChopperCommand', version=4)), ('ChopperCommandDeterministic-v4', EnvSpec(id='ChopperCommandDeterministic-v4', entry_point='ale_py.env.gym:AtariEnv', reward_threshold=None, nondeterministic=False, max_episode_steps=None, order_enforce=True, autoreset=False, disable_env_checker=False, apply_api_compatibility=False, kwargs={'game': 'chopper_command', 'obs_type': 'rgb', 'repeat_action_probability': 0.0, 'full_action_space': False, 'max_num_frames_per_episode': 108000, 'frameskip': 4}, namespace=None, name='ChopperCommandDeterministic', version=4)), ('ChopperCommandNoFrameskip-v4', EnvSpec(id='ChopperCommandNoFrameskip-v4', entry_point='ale_py.env.gym:AtariEnv', reward_threshold=None, nondeterministic=False, max_episode_steps=None, order_enforce=True, autoreset=False, disable_env_checker=False, apply_api_compatibility=False, kwargs={'game': 'chopper_command', 'obs_type': 'rgb', 'repeat_action_probability': 0.0, 'full_action_space': False, 'max_num_frames_per_episode': 108000, 'frameskip': 1}, namespace=None, name='ChopperCommandNoFrameskip', version=4)), ('ChopperCommand-ram-v0', EnvSpec(id='ChopperCommand-ram-v0', entry_point='ale_py.env.gym:AtariEnv', reward_threshold=None, nondeterministic=False, max_episode_steps=None, order_enforce=True, autoreset=False, disable_env_checker=False, apply_api_compatibility=False, kwargs={'game': 'chopper_command', 'obs_type': 'ram', 'repeat_action_probability': 0.25, 'full_action_space': False, 'max_num_frames_per_episode': 108000, 'frameskip': (2, 5)}, namespace=None, name='ChopperCommand-ram', version=0)), ('ChopperCommand-ramDeterministic-v0', EnvSpec(id='ChopperCommand-ramDeterministic-v0', entry_point='ale_py.env.gym:AtariEnv', reward_threshold=None, nondeterministic=False, max_episode_steps=None, order_enforce=True, autoreset=False, disable_env_checker=False, apply_api_compatibility=False, kwargs={'game': 'chopper_command', 'obs_type': 'ram', 'repeat_action_probability': 0.25, 'full_action_space': False, 'max_num_frames_per_episode': 108000, 'frameskip': 4}, namespace=None, name='ChopperCommand-ramDeterministic', version=0)), ('ChopperCommand-ramNoFrameskip-v0', EnvSpec(id='ChopperCommand-ramNoFrameskip-v0', entry_point='ale_py.env.gym:AtariEnv', reward_threshold=None, nondeterministic=False, max_episode_steps=None, order_enforce=True, autoreset=False, disable_env_checker=False, apply_api_compatibility=False, kwargs={'game': 'chopper_command', 'obs_type': 'ram', 'repeat_action_probability': 0.25, 'full_action_space': False, 'max_num_frames_per_episode': 108000, 'frameskip': 1}, namespace=None, name='ChopperCommand-ramNoFrameskip', version=0)), ('ChopperCommand-ram-v4', EnvSpec(id='ChopperCommand-ram-v4', entry_point='ale_py.env.gym:AtariEnv', reward_threshold=None, nondeterministic=False, max_episode_steps=None, order_enforce=True, autoreset=False, disable_env_checker=False, apply_api_compatibility=False, kwargs={'game': 'chopper_command', 'obs_type': 'ram', 'repeat_action_probability': 0.0, 'full_action_space': False, 'max_num_frames_per_episode': 108000, 'frameskip': (2, 5)}, namespace=None, name='ChopperCommand-ram', version=4)), ('ChopperCommand-ramDeterministic-v4', EnvSpec(id='ChopperCommand-ramDeterministic-v4', entry_point='ale_py.env.gym:AtariEnv', reward_threshold=None, nondeterministic=False, max_episode_steps=None, order_enforce=True, autoreset=False, disable_env_checker=False, apply_api_compatibility=False, kwargs={'game': 'chopper_command', 'obs_type': 'ram', 'repeat_action_probability': 0.0, 'full_action_space': False, 'max_num_frames_per_episode': 108000, 'frameskip': 4}, namespace=None, name='ChopperCommand-ramDeterministic', version=4)), ('ChopperCommand-ramNoFrameskip-v4', EnvSpec(id='ChopperCommand-ramNoFrameskip-v4', entry_point='ale_py.env.gym:AtariEnv', reward_threshold=None, nondeterministic=False, max_episode_steps=None, order_enforce=True, autoreset=False, disable_env_checker=False, apply_api_compatibility=False, kwargs={'game': 'chopper_command', 'obs_type': 'ram', 'repeat_action_probability': 0.0, 'full_action_space': False, 'max_num_frames_per_episode': 108000, 'frameskip': 1}, namespace=None, name='ChopperCommand-ramNoFrameskip', version=4)), ('CrazyClimber-v0', EnvSpec(id='CrazyClimber-v0', entry_point='ale_py.env.gym:AtariEnv', reward_threshold=None, nondeterministic=False, max_episode_steps=None, order_enforce=True, autoreset=False, disable_env_checker=False, apply_api_compatibility=False, kwargs={'game': 'crazy_climber', 'obs_type': 'rgb', 'repeat_action_probability': 0.25, 'full_action_space': False, 'max_num_frames_per_episode': 108000, 'frameskip': (2, 5)}, namespace=None, name='CrazyClimber', version=0)), ('CrazyClimberDeterministic-v0', EnvSpec(id='CrazyClimberDeterministic-v0', entry_point='ale_py.env.gym:AtariEnv', reward_threshold=None, nondeterministic=False, max_episode_steps=None, order_enforce=True, autoreset=False, disable_env_checker=False, apply_api_compatibility=False, kwargs={'game': 'crazy_climber', 'obs_type': 'rgb', 'repeat_action_probability': 0.25, 'full_action_space': False, 'max_num_frames_per_episode': 108000, 'frameskip': 4}, namespace=None, name='CrazyClimberDeterministic', version=0)), ('CrazyClimberNoFrameskip-v0', EnvSpec(id='CrazyClimberNoFrameskip-v0', entry_point='ale_py.env.gym:AtariEnv', reward_threshold=None, nondeterministic=False, max_episode_steps=None, order_enforce=True, autoreset=False, disable_env_checker=False, apply_api_compatibility=False, kwargs={'game': 'crazy_climber', 'obs_type': 'rgb', 'repeat_action_probability': 0.25, 'full_action_space': False, 'max_num_frames_per_episode': 108000, 'frameskip': 1}, namespace=None, name='CrazyClimberNoFrameskip', version=0)), ('CrazyClimber-v4', EnvSpec(id='CrazyClimber-v4', entry_point='ale_py.env.gym:AtariEnv', reward_threshold=None, nondeterministic=False, max_episode_steps=None, order_enforce=True, autoreset=False, disable_env_checker=False, apply_api_compatibility=False, kwargs={'game': 'crazy_climber', 'obs_type': 'rgb', 'repeat_action_probability': 0.0, 'full_action_space': False, 'max_num_frames_per_episode': 108000, 'frameskip': (2, 5)}, namespace=None, name='CrazyClimber', version=4)), ('CrazyClimberDeterministic-v4', EnvSpec(id='CrazyClimberDeterministic-v4', entry_point='ale_py.env.gym:AtariEnv', reward_threshold=None, nondeterministic=False, max_episode_steps=None, order_enforce=True, autoreset=False, disable_env_checker=False, apply_api_compatibility=False, kwargs={'game': 'crazy_climber', 'obs_type': 'rgb', 'repeat_action_probability': 0.0, 'full_action_space': False, 'max_num_frames_per_episode': 108000, 'frameskip': 4}, namespace=None, name='CrazyClimberDeterministic', version=4)), ('CrazyClimberNoFrameskip-v4', EnvSpec(id='CrazyClimberNoFrameskip-v4', entry_point='ale_py.env.gym:AtariEnv', reward_threshold=None, nondeterministic=False, max_episode_steps=None, order_enforce=True, autoreset=False, disable_env_checker=False, apply_api_compatibility=False, kwargs={'game': 'crazy_climber', 'obs_type': 'rgb', 'repeat_action_probability': 0.0, 'full_action_space': False, 'max_num_frames_per_episode': 108000, 'frameskip': 1}, namespace=None, name='CrazyClimberNoFrameskip', version=4)), ('CrazyClimber-ram-v0', EnvSpec(id='CrazyClimber-ram-v0', entry_point='ale_py.env.gym:AtariEnv', reward_threshold=None, nondeterministic=False, max_episode_steps=None, order_enforce=True, autoreset=False, disable_env_checker=False, apply_api_compatibility=False, kwargs={'game': 'crazy_climber', 'obs_type': 'ram', 'repeat_action_probability': 0.25, 'full_action_space': False, 'max_num_frames_per_episode': 108000, 'frameskip': (2, 5)}, namespace=None, name='CrazyClimber-ram', version=0)), ('CrazyClimber-ramDeterministic-v0', EnvSpec(id='CrazyClimber-ramDeterministic-v0', entry_point='ale_py.env.gym:AtariEnv', reward_threshold=None, nondeterministic=False, max_episode_steps=None, order_enforce=True, autoreset=False, disable_env_checker=False, apply_api_compatibility=False, kwargs={'game': 'crazy_climber', 'obs_type': 'ram', 'repeat_action_probability': 0.25, 'full_action_space': False, 'max_num_frames_per_episode': 108000, 'frameskip': 4}, namespace=None, name='CrazyClimber-ramDeterministic', version=0)), ('CrazyClimber-ramNoFrameskip-v0', EnvSpec(id='CrazyClimber-ramNoFrameskip-v0', entry_point='ale_py.env.gym:AtariEnv', reward_threshold=None, nondeterministic=False, max_episode_steps=None, order_enforce=True, autoreset=False, disable_env_checker=False, apply_api_compatibility=False, kwargs={'game': 'crazy_climber', 'obs_type': 'ram', 'repeat_action_probability': 0.25, 'full_action_space': False, 'max_num_frames_per_episode': 108000, 'frameskip': 1}, namespace=None, name='CrazyClimber-ramNoFrameskip', version=0)), ('CrazyClimber-ram-v4', EnvSpec(id='CrazyClimber-ram-v4', entry_point='ale_py.env.gym:AtariEnv', reward_threshold=None, nondeterministic=False, max_episode_steps=None, order_enforce=True, autoreset=False, disable_env_checker=False, apply_api_compatibility=False, kwargs={'game': 'crazy_climber', 'obs_type': 'ram', 'repeat_action_probability': 0.0, 'full_action_space': False, 'max_num_frames_per_episode': 108000, 'frameskip': (2, 5)}, namespace=None, name='CrazyClimber-ram', version=4)), ('CrazyClimber-ramDeterministic-v4', EnvSpec(id='CrazyClimber-ramDeterministic-v4', entry_point='ale_py.env.gym:AtariEnv', reward_threshold=None, nondeterministic=False, max_episode_steps=None, order_enforce=True, autoreset=False, disable_env_checker=False, apply_api_compatibility=False, kwargs={'game': 'crazy_climber', 'obs_type': 'ram', 'repeat_action_probability': 0.0, 'full_action_space': False, 'max_num_frames_per_episode': 108000, 'frameskip': 4}, namespace=None, name='CrazyClimber-ramDeterministic', version=4)), ('CrazyClimber-ramNoFrameskip-v4', EnvSpec(id='CrazyClimber-ramNoFrameskip-v4', entry_point='ale_py.env.gym:AtariEnv', reward_threshold=None, nondeterministic=False, max_episode_steps=None, order_enforce=True, autoreset=False, disable_env_checker=False, apply_api_compatibility=False, kwargs={'game': 'crazy_climber', 'obs_type': 'ram', 'repeat_action_probability': 0.0, 'full_action_space': False, 'max_num_frames_per_episode': 108000, 'frameskip': 1}, namespace=None, name='CrazyClimber-ramNoFrameskip', version=4)), ('Defender-v0', EnvSpec(id='Defender-v0', entry_point='ale_py.env.gym:AtariEnv', reward_threshold=None, nondeterministic=False, max_episode_steps=None, order_enforce=True, autoreset=False, disable_env_checker=False, apply_api_compatibility=False, kwargs={'game': 'defender', 'obs_type': 'rgb', 'repeat_action_probability': 0.25, 'full_action_space': False, 'max_num_frames_per_episode': 108000, 'frameskip': (2, 5)}, namespace=None, name='Defender', version=0)), ('DefenderDeterministic-v0', EnvSpec(id='DefenderDeterministic-v0', entry_point='ale_py.env.gym:AtariEnv', reward_threshold=None, nondeterministic=False, max_episode_steps=None, order_enforce=True, autoreset=False, disable_env_checker=False, apply_api_compatibility=False, kwargs={'game': 'defender', 'obs_type': 'rgb', 'repeat_action_probability': 0.25, 'full_action_space': False, 'max_num_frames_per_episode': 108000, 'frameskip': 4}, namespace=None, name='DefenderDeterministic', version=0)), ('DefenderNoFrameskip-v0', EnvSpec(id='DefenderNoFrameskip-v0', entry_point='ale_py.env.gym:AtariEnv', reward_threshold=None, nondeterministic=False, max_episode_steps=None, order_enforce=True, autoreset=False, disable_env_checker=False, apply_api_compatibility=False, kwargs={'game': 'defender', 'obs_type': 'rgb', 'repeat_action_probability': 0.25, 'full_action_space': False, 'max_num_frames_per_episode': 108000, 'frameskip': 1}, namespace=None, name='DefenderNoFrameskip', version=0)), ('Defender-v4', EnvSpec(id='Defender-v4', entry_point='ale_py.env.gym:AtariEnv', reward_threshold=None, nondeterministic=False, max_episode_steps=None, order_enforce=True, autoreset=False, disable_env_checker=False, apply_api_compatibility=False, kwargs={'game': 'defender', 'obs_type': 'rgb', 'repeat_action_probability': 0.0, 'full_action_space': False, 'max_num_frames_per_episode': 108000, 'frameskip': (2, 5)}, namespace=None, name='Defender', version=4)), ('DefenderDeterministic-v4', EnvSpec(id='DefenderDeterministic-v4', entry_point='ale_py.env.gym:AtariEnv', reward_threshold=None, nondeterministic=False, max_episode_steps=None, order_enforce=True, autoreset=False, disable_env_checker=False, apply_api_compatibility=False, kwargs={'game': 'defender', 'obs_type': 'rgb', 'repeat_action_probability': 0.0, 'full_action_space': False, 'max_num_frames_per_episode': 108000, 'frameskip': 4}, namespace=None, name='DefenderDeterministic', version=4)), ('DefenderNoFrameskip-v4', EnvSpec(id='DefenderNoFrameskip-v4', entry_point='ale_py.env.gym:AtariEnv', reward_threshold=None, nondeterministic=False, max_episode_steps=None, order_enforce=True, autoreset=False, disable_env_checker=False, apply_api_compatibility=False, kwargs={'game': 'defender', 'obs_type': 'rgb', 'repeat_action_probability': 0.0, 'full_action_space': False, 'max_num_frames_per_episode': 108000, 'frameskip': 1}, namespace=None, name='DefenderNoFrameskip', version=4)), ('Defender-ram-v0', EnvSpec(id='Defender-ram-v0', entry_point='ale_py.env.gym:AtariEnv', reward_threshold=None, nondeterministic=False, max_episode_steps=None, order_enforce=True, autoreset=False, disable_env_checker=False, apply_api_compatibility=False, kwargs={'game': 'defender', 'obs_type': 'ram', 'repeat_action_probability': 0.25, 'full_action_space': False, 'max_num_frames_per_episode': 108000, 'frameskip': (2, 5)}, namespace=None, name='Defender-ram', version=0)), ('Defender-ramDeterministic-v0', EnvSpec(id='Defender-ramDeterministic-v0', entry_point='ale_py.env.gym:AtariEnv', reward_threshold=None, nondeterministic=False, max_episode_steps=None, order_enforce=True, autoreset=False, disable_env_checker=False, apply_api_compatibility=False, kwargs={'game': 'defender', 'obs_type': 'ram', 'repeat_action_probability': 0.25, 'full_action_space': False, 'max_num_frames_per_episode': 108000, 'frameskip': 4}, namespace=None, name='Defender-ramDeterministic', version=0)), ('Defender-ramNoFrameskip-v0', EnvSpec(id='Defender-ramNoFrameskip-v0', entry_point='ale_py.env.gym:AtariEnv', reward_threshold=None, nondeterministic=False, max_episode_steps=None, order_enforce=True, autoreset=False, disable_env_checker=False, apply_api_compatibility=False, kwargs={'game': 'defender', 'obs_type': 'ram', 'repeat_action_probability': 0.25, 'full_action_space': False, 'max_num_frames_per_episode': 108000, 'frameskip': 1}, namespace=None, name='Defender-ramNoFrameskip', version=0)), ('Defender-ram-v4', EnvSpec(id='Defender-ram-v4', entry_point='ale_py.env.gym:AtariEnv', reward_threshold=None, nondeterministic=False, max_episode_steps=None, order_enforce=True, autoreset=False, disable_env_checker=False, apply_api_compatibility=False, kwargs={'game': 'defender', 'obs_type': 'ram', 'repeat_action_probability': 0.0, 'full_action_space': False, 'max_num_frames_per_episode': 108000, 'frameskip': (2, 5)}, namespace=None, name='Defender-ram', version=4)), ('Defender-ramDeterministic-v4', EnvSpec(id='Defender-ramDeterministic-v4', entry_point='ale_py.env.gym:AtariEnv', reward_threshold=None, nondeterministic=False, max_episode_steps=None, order_enforce=True, autoreset=False, disable_env_checker=False, apply_api_compatibility=False, kwargs={'game': 'defender', 'obs_type': 'ram', 'repeat_action_probability': 0.0, 'full_action_space': False, 'max_num_frames_per_episode': 108000, 'frameskip': 4}, namespace=None, name='Defender-ramDeterministic', version=4)), ('Defender-ramNoFrameskip-v4', EnvSpec(id='Defender-ramNoFrameskip-v4', entry_point='ale_py.env.gym:AtariEnv', reward_threshold=None, nondeterministic=False, max_episode_steps=None, order_enforce=True, autoreset=False, disable_env_checker=False, apply_api_compatibility=False, kwargs={'game': 'defender', 'obs_type': 'ram', 'repeat_action_probability': 0.0, 'full_action_space': False, 'max_num_frames_per_episode': 108000, 'frameskip': 1}, namespace=None, name='Defender-ramNoFrameskip', version=4)), ('DemonAttack-v0', EnvSpec(id='DemonAttack-v0', entry_point='ale_py.env.gym:AtariEnv', reward_threshold=None, nondeterministic=False, max_episode_steps=None, order_enforce=True, autoreset=False, disable_env_checker=False, apply_api_compatibility=False, kwargs={'game': 'demon_attack', 'obs_type': 'rgb', 'repeat_action_probability': 0.25, 'full_action_space': False, 'max_num_frames_per_episode': 108000, 'frameskip': (2, 5)}, namespace=None, name='DemonAttack', version=0)), ('DemonAttackDeterministic-v0', EnvSpec(id='DemonAttackDeterministic-v0', entry_point='ale_py.env.gym:AtariEnv', reward_threshold=None, nondeterministic=False, max_episode_steps=None, order_enforce=True, autoreset=False, disable_env_checker=False, apply_api_compatibility=False, kwargs={'game': 'demon_attack', 'obs_type': 'rgb', 'repeat_action_probability': 0.25, 'full_action_space': False, 'max_num_frames_per_episode': 108000, 'frameskip': 4}, namespace=None, name='DemonAttackDeterministic', version=0)), ('DemonAttackNoFrameskip-v0', EnvSpec(id='DemonAttackNoFrameskip-v0', entry_point='ale_py.env.gym:AtariEnv', reward_threshold=None, nondeterministic=False, max_episode_steps=None, order_enforce=True, autoreset=False, disable_env_checker=False, apply_api_compatibility=False, kwargs={'game': 'demon_attack', 'obs_type': 'rgb', 'repeat_action_probability': 0.25, 'full_action_space': False, 'max_num_frames_per_episode': 108000, 'frameskip': 1}, namespace=None, name='DemonAttackNoFrameskip', version=0)), ('DemonAttack-v4', EnvSpec(id='DemonAttack-v4', entry_point='ale_py.env.gym:AtariEnv', reward_threshold=None, nondeterministic=False, max_episode_steps=None, order_enforce=True, autoreset=False, disable_env_checker=False, apply_api_compatibility=False, kwargs={'game': 'demon_attack', 'obs_type': 'rgb', 'repeat_action_probability': 0.0, 'full_action_space': False, 'max_num_frames_per_episode': 108000, 'frameskip': (2, 5)}, namespace=None, name='DemonAttack', version=4)), ('DemonAttackDeterministic-v4', EnvSpec(id='DemonAttackDeterministic-v4', entry_point='ale_py.env.gym:AtariEnv', reward_threshold=None, nondeterministic=False, max_episode_steps=None, order_enforce=True, autoreset=False, disable_env_checker=False, apply_api_compatibility=False, kwargs={'game': 'demon_attack', 'obs_type': 'rgb', 'repeat_action_probability': 0.0, 'full_action_space': False, 'max_num_frames_per_episode': 108000, 'frameskip': 4}, namespace=None, name='DemonAttackDeterministic', version=4)), ('DemonAttackNoFrameskip-v4', EnvSpec(id='DemonAttackNoFrameskip-v4', entry_point='ale_py.env.gym:AtariEnv', reward_threshold=None, nondeterministic=False, max_episode_steps=None, order_enforce=True, autoreset=False, disable_env_checker=False, apply_api_compatibility=False, kwargs={'game': 'demon_attack', 'obs_type': 'rgb', 'repeat_action_probability': 0.0, 'full_action_space': False, 'max_num_frames_per_episode': 108000, 'frameskip': 1}, namespace=None, name='DemonAttackNoFrameskip', version=4)), ('DemonAttack-ram-v0', EnvSpec(id='DemonAttack-ram-v0', entry_point='ale_py.env.gym:AtariEnv', reward_threshold=None, nondeterministic=False, max_episode_steps=None, order_enforce=True, autoreset=False, disable_env_checker=False, apply_api_compatibility=False, kwargs={'game': 'demon_attack', 'obs_type': 'ram', 'repeat_action_probability': 0.25, 'full_action_space': False, 'max_num_frames_per_episode': 108000, 'frameskip': (2, 5)}, namespace=None, name='DemonAttack-ram', version=0)), ('DemonAttack-ramDeterministic-v0', EnvSpec(id='DemonAttack-ramDeterministic-v0', entry_point='ale_py.env.gym:AtariEnv', reward_threshold=None, nondeterministic=False, max_episode_steps=None, order_enforce=True, autoreset=False, disable_env_checker=False, apply_api_compatibility=False, kwargs={'game': 'demon_attack', 'obs_type': 'ram', 'repeat_action_probability': 0.25, 'full_action_space': False, 'max_num_frames_per_episode': 108000, 'frameskip': 4}, namespace=None, name='DemonAttack-ramDeterministic', version=0)), ('DemonAttack-ramNoFrameskip-v0', EnvSpec(id='DemonAttack-ramNoFrameskip-v0', entry_point='ale_py.env.gym:AtariEnv', reward_threshold=None, nondeterministic=False, max_episode_steps=None, order_enforce=True, autoreset=False, disable_env_checker=False, apply_api_compatibility=False, kwargs={'game': 'demon_attack', 'obs_type': 'ram', 'repeat_action_probability': 0.25, 'full_action_space': False, 'max_num_frames_per_episode': 108000, 'frameskip': 1}, namespace=None, name='DemonAttack-ramNoFrameskip', version=0)), ('DemonAttack-ram-v4', EnvSpec(id='DemonAttack-ram-v4', entry_point='ale_py.env.gym:AtariEnv', reward_threshold=None, nondeterministic=False, max_episode_steps=None, order_enforce=True, autoreset=False, disable_env_checker=False, apply_api_compatibility=False, kwargs={'game': 'demon_attack', 'obs_type': 'ram', 'repeat_action_probability': 0.0, 'full_action_space': False, 'max_num_frames_per_episode': 108000, 'frameskip': (2, 5)}, namespace=None, name='DemonAttack-ram', version=4)), ('DemonAttack-ramDeterministic-v4', EnvSpec(id='DemonAttack-ramDeterministic-v4', entry_point='ale_py.env.gym:AtariEnv', reward_threshold=None, nondeterministic=False, max_episode_steps=None, order_enforce=True, autoreset=False, disable_env_checker=False, apply_api_compatibility=False, kwargs={'game': 'demon_attack', 'obs_type': 'ram', 'repeat_action_probability': 0.0, 'full_action_space': False, 'max_num_frames_per_episode': 108000, 'frameskip': 4}, namespace=None, name='DemonAttack-ramDeterministic', version=4)), ('DemonAttack-ramNoFrameskip-v4', EnvSpec(id='DemonAttack-ramNoFrameskip-v4', entry_point='ale_py.env.gym:AtariEnv', reward_threshold=None, nondeterministic=False, max_episode_steps=None, order_enforce=True, autoreset=False, disable_env_checker=False, apply_api_compatibility=False, kwargs={'game': 'demon_attack', 'obs_type': 'ram', 'repeat_action_probability': 0.0, 'full_action_space': False, 'max_num_frames_per_episode': 108000, 'frameskip': 1}, namespace=None, name='DemonAttack-ramNoFrameskip', version=4)), ('DoubleDunk-v0', EnvSpec(id='DoubleDunk-v0', entry_point='ale_py.env.gym:AtariEnv', reward_threshold=None, nondeterministic=False, max_episode_steps=None, order_enforce=True, autoreset=False, disable_env_checker=False, apply_api_compatibility=False, kwargs={'game': 'double_dunk', 'obs_type': 'rgb', 'repeat_action_probability': 0.25, 'full_action_space': False, 'max_num_frames_per_episode': 108000, 'frameskip': (2, 5)}, namespace=None, name='DoubleDunk', version=0)), ('DoubleDunkDeterministic-v0', EnvSpec(id='DoubleDunkDeterministic-v0', entry_point='ale_py.env.gym:AtariEnv', reward_threshold=None, nondeterministic=False, max_episode_steps=None, order_enforce=True, autoreset=False, disable_env_checker=False, apply_api_compatibility=False, kwargs={'game': 'double_dunk', 'obs_type': 'rgb', 'repeat_action_probability': 0.25, 'full_action_space': False, 'max_num_frames_per_episode': 108000, 'frameskip': 4}, namespace=None, name='DoubleDunkDeterministic', version=0)), ('DoubleDunkNoFrameskip-v0', EnvSpec(id='DoubleDunkNoFrameskip-v0', entry_point='ale_py.env.gym:AtariEnv', reward_threshold=None, nondeterministic=False, max_episode_steps=None, order_enforce=True, autoreset=False, disable_env_checker=False, apply_api_compatibility=False, kwargs={'game': 'double_dunk', 'obs_type': 'rgb', 'repeat_action_probability': 0.25, 'full_action_space': False, 'max_num_frames_per_episode': 108000, 'frameskip': 1}, namespace=None, name='DoubleDunkNoFrameskip', version=0)), ('DoubleDunk-v4', EnvSpec(id='DoubleDunk-v4', entry_point='ale_py.env.gym:AtariEnv', reward_threshold=None, nondeterministic=False, max_episode_steps=None, order_enforce=True, autoreset=False, disable_env_checker=False, apply_api_compatibility=False, kwargs={'game': 'double_dunk', 'obs_type': 'rgb', 'repeat_action_probability': 0.0, 'full_action_space': False, 'max_num_frames_per_episode': 108000, 'frameskip': (2, 5)}, namespace=None, name='DoubleDunk', version=4)), ('DoubleDunkDeterministic-v4', EnvSpec(id='DoubleDunkDeterministic-v4', entry_point='ale_py.env.gym:AtariEnv', reward_threshold=None, nondeterministic=False, max_episode_steps=None, order_enforce=True, autoreset=False, disable_env_checker=False, apply_api_compatibility=False, kwargs={'game': 'double_dunk', 'obs_type': 'rgb', 'repeat_action_probability': 0.0, 'full_action_space': False, 'max_num_frames_per_episode': 108000, 'frameskip': 4}, namespace=None, name='DoubleDunkDeterministic', version=4)), ('DoubleDunkNoFrameskip-v4', EnvSpec(id='DoubleDunkNoFrameskip-v4', entry_point='ale_py.env.gym:AtariEnv', reward_threshold=None, nondeterministic=False, max_episode_steps=None, order_enforce=True, autoreset=False, disable_env_checker=False, apply_api_compatibility=False, kwargs={'game': 'double_dunk', 'obs_type': 'rgb', 'repeat_action_probability': 0.0, 'full_action_space': False, 'max_num_frames_per_episode': 108000, 'frameskip': 1}, namespace=None, name='DoubleDunkNoFrameskip', version=4)), ('DoubleDunk-ram-v0', EnvSpec(id='DoubleDunk-ram-v0', entry_point='ale_py.env.gym:AtariEnv', reward_threshold=None, nondeterministic=False, max_episode_steps=None, order_enforce=True, autoreset=False, disable_env_checker=False, apply_api_compatibility=False, kwargs={'game': 'double_dunk', 'obs_type': 'ram', 'repeat_action_probability': 0.25, 'full_action_space': False, 'max_num_frames_per_episode': 108000, 'frameskip': (2, 5)}, namespace=None, name='DoubleDunk-ram', version=0)), ('DoubleDunk-ramDeterministic-v0', EnvSpec(id='DoubleDunk-ramDeterministic-v0', entry_point='ale_py.env.gym:AtariEnv', reward_threshold=None, nondeterministic=False, max_episode_steps=None, order_enforce=True, autoreset=False, disable_env_checker=False, apply_api_compatibility=False, kwargs={'game': 'double_dunk', 'obs_type': 'ram', 'repeat_action_probability': 0.25, 'full_action_space': False, 'max_num_frames_per_episode': 108000, 'frameskip': 4}, namespace=None, name='DoubleDunk-ramDeterministic', version=0)), ('DoubleDunk-ramNoFrameskip-v0', EnvSpec(id='DoubleDunk-ramNoFrameskip-v0', entry_point='ale_py.env.gym:AtariEnv', reward_threshold=None, nondeterministic=False, max_episode_steps=None, order_enforce=True, autoreset=False, disable_env_checker=False, apply_api_compatibility=False, kwargs={'game': 'double_dunk', 'obs_type': 'ram', 'repeat_action_probability': 0.25, 'full_action_space': False, 'max_num_frames_per_episode': 108000, 'frameskip': 1}, namespace=None, name='DoubleDunk-ramNoFrameskip', version=0)), ('DoubleDunk-ram-v4', EnvSpec(id='DoubleDunk-ram-v4', entry_point='ale_py.env.gym:AtariEnv', reward_threshold=None, nondeterministic=False, max_episode_steps=None, order_enforce=True, autoreset=False, disable_env_checker=False, apply_api_compatibility=False, kwargs={'game': 'double_dunk', 'obs_type': 'ram', 'repeat_action_probability': 0.0, 'full_action_space': False, 'max_num_frames_per_episode': 108000, 'frameskip': (2, 5)}, namespace=None, name='DoubleDunk-ram', version=4)), ('DoubleDunk-ramDeterministic-v4', EnvSpec(id='DoubleDunk-ramDeterministic-v4', entry_point='ale_py.env.gym:AtariEnv', reward_threshold=None, nondeterministic=False, max_episode_steps=None, order_enforce=True, autoreset=False, disable_env_checker=False, apply_api_compatibility=False, kwargs={'game': 'double_dunk', 'obs_type': 'ram', 'repeat_action_probability': 0.0, 'full_action_space': False, 'max_num_frames_per_episode': 108000, 'frameskip': 4}, namespace=None, name='DoubleDunk-ramDeterministic', version=4)), ('DoubleDunk-ramNoFrameskip-v4', EnvSpec(id='DoubleDunk-ramNoFrameskip-v4', entry_point='ale_py.env.gym:AtariEnv', reward_threshold=None, nondeterministic=False, max_episode_steps=None, order_enforce=True, autoreset=False, disable_env_checker=False, apply_api_compatibility=False, kwargs={'game': 'double_dunk', 'obs_type': 'ram', 'repeat_action_probability': 0.0, 'full_action_space': False, 'max_num_frames_per_episode': 108000, 'frameskip': 1}, namespace=None, name='DoubleDunk-ramNoFrameskip', version=4)), ('ElevatorAction-v0', EnvSpec(id='ElevatorAction-v0', entry_point='ale_py.env.gym:AtariEnv', reward_threshold=None, nondeterministic=False, max_episode_steps=None, order_enforce=True, autoreset=False, disable_env_checker=False, apply_api_compatibility=False, kwargs={'game': 'elevator_action', 'obs_type': 'rgb', 'repeat_action_probability': 0.25, 'full_action_space': False, 'max_num_frames_per_episode': 108000, 'frameskip': (2, 5)}, namespace=None, name='ElevatorAction', version=0)), ('ElevatorActionDeterministic-v0', EnvSpec(id='ElevatorActionDeterministic-v0', entry_point='ale_py.env.gym:AtariEnv', reward_threshold=None, nondeterministic=False, max_episode_steps=None, order_enforce=True, autoreset=False, disable_env_checker=False, apply_api_compatibility=False, kwargs={'game': 'elevator_action', 'obs_type': 'rgb', 'repeat_action_probability': 0.25, 'full_action_space': False, 'max_num_frames_per_episode': 108000, 'frameskip': 4}, namespace=None, name='ElevatorActionDeterministic', version=0)), ('ElevatorActionNoFrameskip-v0', EnvSpec(id='ElevatorActionNoFrameskip-v0', entry_point='ale_py.env.gym:AtariEnv', reward_threshold=None, nondeterministic=False, max_episode_steps=None, order_enforce=True, autoreset=False, disable_env_checker=False, apply_api_compatibility=False, kwargs={'game': 'elevator_action', 'obs_type': 'rgb', 'repeat_action_probability': 0.25, 'full_action_space': False, 'max_num_frames_per_episode': 108000, 'frameskip': 1}, namespace=None, name='ElevatorActionNoFrameskip', version=0)), ('ElevatorAction-v4', EnvSpec(id='ElevatorAction-v4', entry_point='ale_py.env.gym:AtariEnv', reward_threshold=None, nondeterministic=False, max_episode_steps=None, order_enforce=True, autoreset=False, disable_env_checker=False, apply_api_compatibility=False, kwargs={'game': 'elevator_action', 'obs_type': 'rgb', 'repeat_action_probability': 0.0, 'full_action_space': False, 'max_num_frames_per_episode': 108000, 'frameskip': (2, 5)}, namespace=None, name='ElevatorAction', version=4)), ('ElevatorActionDeterministic-v4', EnvSpec(id='ElevatorActionDeterministic-v4', entry_point='ale_py.env.gym:AtariEnv', reward_threshold=None, nondeterministic=False, max_episode_steps=None, order_enforce=True, autoreset=False, disable_env_checker=False, apply_api_compatibility=False, kwargs={'game': 'elevator_action', 'obs_type': 'rgb', 'repeat_action_probability': 0.0, 'full_action_space': False, 'max_num_frames_per_episode': 108000, 'frameskip': 4}, namespace=None, name='ElevatorActionDeterministic', version=4)), ('ElevatorActionNoFrameskip-v4', EnvSpec(id='ElevatorActionNoFrameskip-v4', entry_point='ale_py.env.gym:AtariEnv', reward_threshold=None, nondeterministic=False, max_episode_steps=None, order_enforce=True, autoreset=False, disable_env_checker=False, apply_api_compatibility=False, kwargs={'game': 'elevator_action', 'obs_type': 'rgb', 'repeat_action_probability': 0.0, 'full_action_space': False, 'max_num_frames_per_episode': 108000, 'frameskip': 1}, namespace=None, name='ElevatorActionNoFrameskip', version=4)), ('ElevatorAction-ram-v0', EnvSpec(id='ElevatorAction-ram-v0', entry_point='ale_py.env.gym:AtariEnv', reward_threshold=None, nondeterministic=False, max_episode_steps=None, order_enforce=True, autoreset=False, disable_env_checker=False, apply_api_compatibility=False, kwargs={'game': 'elevator_action', 'obs_type': 'ram', 'repeat_action_probability': 0.25, 'full_action_space': False, 'max_num_frames_per_episode': 108000, 'frameskip': (2, 5)}, namespace=None, name='ElevatorAction-ram', version=0)), ('ElevatorAction-ramDeterministic-v0', EnvSpec(id='ElevatorAction-ramDeterministic-v0', entry_point='ale_py.env.gym:AtariEnv', reward_threshold=None, nondeterministic=False, max_episode_steps=None, order_enforce=True, autoreset=False, disable_env_checker=False, apply_api_compatibility=False, kwargs={'game': 'elevator_action', 'obs_type': 'ram', 'repeat_action_probability': 0.25, 'full_action_space': False, 'max_num_frames_per_episode': 108000, 'frameskip': 4}, namespace=None, name='ElevatorAction-ramDeterministic', version=0)), ('ElevatorAction-ramNoFrameskip-v0', EnvSpec(id='ElevatorAction-ramNoFrameskip-v0', entry_point='ale_py.env.gym:AtariEnv', reward_threshold=None, nondeterministic=False, max_episode_steps=None, order_enforce=True, autoreset=False, disable_env_checker=False, apply_api_compatibility=False, kwargs={'game': 'elevator_action', 'obs_type': 'ram', 'repeat_action_probability': 0.25, 'full_action_space': False, 'max_num_frames_per_episode': 108000, 'frameskip': 1}, namespace=None, name='ElevatorAction-ramNoFrameskip', version=0)), ('ElevatorAction-ram-v4', EnvSpec(id='ElevatorAction-ram-v4', entry_point='ale_py.env.gym:AtariEnv', reward_threshold=None, nondeterministic=False, max_episode_steps=None, order_enforce=True, autoreset=False, disable_env_checker=False, apply_api_compatibility=False, kwargs={'game': 'elevator_action', 'obs_type': 'ram', 'repeat_action_probability': 0.0, 'full_action_space': False, 'max_num_frames_per_episode': 108000, 'frameskip': (2, 5)}, namespace=None, name='ElevatorAction-ram', version=4)), ('ElevatorAction-ramDeterministic-v4', EnvSpec(id='ElevatorAction-ramDeterministic-v4', entry_point='ale_py.env.gym:AtariEnv', reward_threshold=None, nondeterministic=False, max_episode_steps=None, order_enforce=True, autoreset=False, disable_env_checker=False, apply_api_compatibility=False, kwargs={'game': 'elevator_action', 'obs_type': 'ram', 'repeat_action_probability': 0.0, 'full_action_space': False, 'max_num_frames_per_episode': 108000, 'frameskip': 4}, namespace=None, name='ElevatorAction-ramDeterministic', version=4)), ('ElevatorAction-ramNoFrameskip-v4', EnvSpec(id='ElevatorAction-ramNoFrameskip-v4', entry_point='ale_py.env.gym:AtariEnv', reward_threshold=None, nondeterministic=False, max_episode_steps=None, order_enforce=True, autoreset=False, disable_env_checker=False, apply_api_compatibility=False, kwargs={'game': 'elevator_action', 'obs_type': 'ram', 'repeat_action_probability': 0.0, 'full_action_space': False, 'max_num_frames_per_episode': 108000, 'frameskip': 1}, namespace=None, name='ElevatorAction-ramNoFrameskip', version=4)), ('Enduro-v0', EnvSpec(id='Enduro-v0', entry_point='ale_py.env.gym:AtariEnv', reward_threshold=None, nondeterministic=False, max_episode_steps=None, order_enforce=True, autoreset=False, disable_env_checker=False, apply_api_compatibility=False, kwargs={'game': 'enduro', 'obs_type': 'rgb', 'repeat_action_probability': 0.25, 'full_action_space': False, 'max_num_frames_per_episode': 108000, 'frameskip': (2, 5)}, namespace=None, name='Enduro', version=0)), ('EnduroDeterministic-v0', EnvSpec(id='EnduroDeterministic-v0', entry_point='ale_py.env.gym:AtariEnv', reward_threshold=None, nondeterministic=False, max_episode_steps=None, order_enforce=True, autoreset=False, disable_env_checker=False, apply_api_compatibility=False, kwargs={'game': 'enduro', 'obs_type': 'rgb', 'repeat_action_probability': 0.25, 'full_action_space': False, 'max_num_frames_per_episode': 108000, 'frameskip': 4}, namespace=None, name='EnduroDeterministic', version=0)), ('EnduroNoFrameskip-v0', EnvSpec(id='EnduroNoFrameskip-v0', entry_point='ale_py.env.gym:AtariEnv', reward_threshold=None, nondeterministic=False, max_episode_steps=None, order_enforce=True, autoreset=False, disable_env_checker=False, apply_api_compatibility=False, kwargs={'game': 'enduro', 'obs_type': 'rgb', 'repeat_action_probability': 0.25, 'full_action_space': False, 'max_num_frames_per_episode': 108000, 'frameskip': 1}, namespace=None, name='EnduroNoFrameskip', version=0)), ('Enduro-v4', EnvSpec(id='Enduro-v4', entry_point='ale_py.env.gym:AtariEnv', reward_threshold=None, nondeterministic=False, max_episode_steps=None, order_enforce=True, autoreset=False, disable_env_checker=False, apply_api_compatibility=False, kwargs={'game': 'enduro', 'obs_type': 'rgb', 'repeat_action_probability': 0.0, 'full_action_space': False, 'max_num_frames_per_episode': 108000, 'frameskip': (2, 5)}, namespace=None, name='Enduro', version=4)), ('EnduroDeterministic-v4', EnvSpec(id='EnduroDeterministic-v4', entry_point='ale_py.env.gym:AtariEnv', reward_threshold=None, nondeterministic=False, max_episode_steps=None, order_enforce=True, autoreset=False, disable_env_checker=False, apply_api_compatibility=False, kwargs={'game': 'enduro', 'obs_type': 'rgb', 'repeat_action_probability': 0.0, 'full_action_space': False, 'max_num_frames_per_episode': 108000, 'frameskip': 4}, namespace=None, name='EnduroDeterministic', version=4)), ('EnduroNoFrameskip-v4', EnvSpec(id='EnduroNoFrameskip-v4', entry_point='ale_py.env.gym:AtariEnv', reward_threshold=None, nondeterministic=False, max_episode_steps=None, order_enforce=True, autoreset=False, disable_env_checker=False, apply_api_compatibility=False, kwargs={'game': 'enduro', 'obs_type': 'rgb', 'repeat_action_probability': 0.0, 'full_action_space': False, 'max_num_frames_per_episode': 108000, 'frameskip': 1}, namespace=None, name='EnduroNoFrameskip', version=4)), ('Enduro-ram-v0', EnvSpec(id='Enduro-ram-v0', entry_point='ale_py.env.gym:AtariEnv', reward_threshold=None, nondeterministic=False, max_episode_steps=None, order_enforce=True, autoreset=False, disable_env_checker=False, apply_api_compatibility=False, kwargs={'game': 'enduro', 'obs_type': 'ram', 'repeat_action_probability': 0.25, 'full_action_space': False, 'max_num_frames_per_episode': 108000, 'frameskip': (2, 5)}, namespace=None, name='Enduro-ram', version=0)), ('Enduro-ramDeterministic-v0', EnvSpec(id='Enduro-ramDeterministic-v0', entry_point='ale_py.env.gym:AtariEnv', reward_threshold=None, nondeterministic=False, max_episode_steps=None, order_enforce=True, autoreset=False, disable_env_checker=False, apply_api_compatibility=False, kwargs={'game': 'enduro', 'obs_type': 'ram', 'repeat_action_probability': 0.25, 'full_action_space': False, 'max_num_frames_per_episode': 108000, 'frameskip': 4}, namespace=None, name='Enduro-ramDeterministic', version=0)), ('Enduro-ramNoFrameskip-v0', EnvSpec(id='Enduro-ramNoFrameskip-v0', entry_point='ale_py.env.gym:AtariEnv', reward_threshold=None, nondeterministic=False, max_episode_steps=None, order_enforce=True, autoreset=False, disable_env_checker=False, apply_api_compatibility=False, kwargs={'game': 'enduro', 'obs_type': 'ram', 'repeat_action_probability': 0.25, 'full_action_space': False, 'max_num_frames_per_episode': 108000, 'frameskip': 1}, namespace=None, name='Enduro-ramNoFrameskip', version=0)), ('Enduro-ram-v4', EnvSpec(id='Enduro-ram-v4', entry_point='ale_py.env.gym:AtariEnv', reward_threshold=None, nondeterministic=False, max_episode_steps=None, order_enforce=True, autoreset=False, disable_env_checker=False, apply_api_compatibility=False, kwargs={'game': 'enduro', 'obs_type': 'ram', 'repeat_action_probability': 0.0, 'full_action_space': False, 'max_num_frames_per_episode': 108000, 'frameskip': (2, 5)}, namespace=None, name='Enduro-ram', version=4)), ('Enduro-ramDeterministic-v4', EnvSpec(id='Enduro-ramDeterministic-v4', entry_point='ale_py.env.gym:AtariEnv', reward_threshold=None, nondeterministic=False, max_episode_steps=None, order_enforce=True, autoreset=False, disable_env_checker=False, apply_api_compatibility=False, kwargs={'game': 'enduro', 'obs_type': 'ram', 'repeat_action_probability': 0.0, 'full_action_space': False, 'max_num_frames_per_episode': 108000, 'frameskip': 4}, namespace=None, name='Enduro-ramDeterministic', version=4)), ('Enduro-ramNoFrameskip-v4', EnvSpec(id='Enduro-ramNoFrameskip-v4', entry_point='ale_py.env.gym:AtariEnv', reward_threshold=None, nondeterministic=False, max_episode_steps=None, order_enforce=True, autoreset=False, disable_env_checker=False, apply_api_compatibility=False, kwargs={'game': 'enduro', 'obs_type': 'ram', 'repeat_action_probability': 0.0, 'full_action_space': False, 'max_num_frames_per_episode': 108000, 'frameskip': 1}, namespace=None, name='Enduro-ramNoFrameskip', version=4)), ('FishingDerby-v0', EnvSpec(id='FishingDerby-v0', entry_point='ale_py.env.gym:AtariEnv', reward_threshold=None, nondeterministic=False, max_episode_steps=None, order_enforce=True, autoreset=False, disable_env_checker=False, apply_api_compatibility=False, kwargs={'game': 'fishing_derby', 'obs_type': 'rgb', 'repeat_action_probability': 0.25, 'full_action_space': False, 'max_num_frames_per_episode': 108000, 'frameskip': (2, 5)}, namespace=None, name='FishingDerby', version=0)), ('FishingDerbyDeterministic-v0', EnvSpec(id='FishingDerbyDeterministic-v0', entry_point='ale_py.env.gym:AtariEnv', reward_threshold=None, nondeterministic=False, max_episode_steps=None, order_enforce=True, autoreset=False, disable_env_checker=False, apply_api_compatibility=False, kwargs={'game': 'fishing_derby', 'obs_type': 'rgb', 'repeat_action_probability': 0.25, 'full_action_space': False, 'max_num_frames_per_episode': 108000, 'frameskip': 4}, namespace=None, name='FishingDerbyDeterministic', version=0)), ('FishingDerbyNoFrameskip-v0', EnvSpec(id='FishingDerbyNoFrameskip-v0', entry_point='ale_py.env.gym:AtariEnv', reward_threshold=None, nondeterministic=False, max_episode_steps=None, order_enforce=True, autoreset=False, disable_env_checker=False, apply_api_compatibility=False, kwargs={'game': 'fishing_derby', 'obs_type': 'rgb', 'repeat_action_probability': 0.25, 'full_action_space': False, 'max_num_frames_per_episode': 108000, 'frameskip': 1}, namespace=None, name='FishingDerbyNoFrameskip', version=0)), ('FishingDerby-v4', EnvSpec(id='FishingDerby-v4', entry_point='ale_py.env.gym:AtariEnv', reward_threshold=None, nondeterministic=False, max_episode_steps=None, order_enforce=True, autoreset=False, disable_env_checker=False, apply_api_compatibility=False, kwargs={'game': 'fishing_derby', 'obs_type': 'rgb', 'repeat_action_probability': 0.0, 'full_action_space': False, 'max_num_frames_per_episode': 108000, 'frameskip': (2, 5)}, namespace=None, name='FishingDerby', version=4)), ('FishingDerbyDeterministic-v4', EnvSpec(id='FishingDerbyDeterministic-v4', entry_point='ale_py.env.gym:AtariEnv', reward_threshold=None, nondeterministic=False, max_episode_steps=None, order_enforce=True, autoreset=False, disable_env_checker=False, apply_api_compatibility=False, kwargs={'game': 'fishing_derby', 'obs_type': 'rgb', 'repeat_action_probability': 0.0, 'full_action_space': False, 'max_num_frames_per_episode': 108000, 'frameskip': 4}, namespace=None, name='FishingDerbyDeterministic', version=4)), ('FishingDerbyNoFrameskip-v4', EnvSpec(id='FishingDerbyNoFrameskip-v4', entry_point='ale_py.env.gym:AtariEnv', reward_threshold=None, nondeterministic=False, max_episode_steps=None, order_enforce=True, autoreset=False, disable_env_checker=False, apply_api_compatibility=False, kwargs={'game': 'fishing_derby', 'obs_type': 'rgb', 'repeat_action_probability': 0.0, 'full_action_space': False, 'max_num_frames_per_episode': 108000, 'frameskip': 1}, namespace=None, name='FishingDerbyNoFrameskip', version=4)), ('FishingDerby-ram-v0', EnvSpec(id='FishingDerby-ram-v0', entry_point='ale_py.env.gym:AtariEnv', reward_threshold=None, nondeterministic=False, max_episode_steps=None, order_enforce=True, autoreset=False, disable_env_checker=False, apply_api_compatibility=False, kwargs={'game': 'fishing_derby', 'obs_type': 'ram', 'repeat_action_probability': 0.25, 'full_action_space': False, 'max_num_frames_per_episode': 108000, 'frameskip': (2, 5)}, namespace=None, name='FishingDerby-ram', version=0)), ('FishingDerby-ramDeterministic-v0', EnvSpec(id='FishingDerby-ramDeterministic-v0', entry_point='ale_py.env.gym:AtariEnv', reward_threshold=None, nondeterministic=False, max_episode_steps=None, order_enforce=True, autoreset=False, disable_env_checker=False, apply_api_compatibility=False, kwargs={'game': 'fishing_derby', 'obs_type': 'ram', 'repeat_action_probability': 0.25, 'full_action_space': False, 'max_num_frames_per_episode': 108000, 'frameskip': 4}, namespace=None, name='FishingDerby-ramDeterministic', version=0)), ('FishingDerby-ramNoFrameskip-v0', EnvSpec(id='FishingDerby-ramNoFrameskip-v0', entry_point='ale_py.env.gym:AtariEnv', reward_threshold=None, nondeterministic=False, max_episode_steps=None, order_enforce=True, autoreset=False, disable_env_checker=False, apply_api_compatibility=False, kwargs={'game': 'fishing_derby', 'obs_type': 'ram', 'repeat_action_probability': 0.25, 'full_action_space': False, 'max_num_frames_per_episode': 108000, 'frameskip': 1}, namespace=None, name='FishingDerby-ramNoFrameskip', version=0)), ('FishingDerby-ram-v4', EnvSpec(id='FishingDerby-ram-v4', entry_point='ale_py.env.gym:AtariEnv', reward_threshold=None, nondeterministic=False, max_episode_steps=None, order_enforce=True, autoreset=False, disable_env_checker=False, apply_api_compatibility=False, kwargs={'game': 'fishing_derby', 'obs_type': 'ram', 'repeat_action_probability': 0.0, 'full_action_space': False, 'max_num_frames_per_episode': 108000, 'frameskip': (2, 5)}, namespace=None, name='FishingDerby-ram', version=4)), ('FishingDerby-ramDeterministic-v4', EnvSpec(id='FishingDerby-ramDeterministic-v4', entry_point='ale_py.env.gym:AtariEnv', reward_threshold=None, nondeterministic=False, max_episode_steps=None, order_enforce=True, autoreset=False, disable_env_checker=False, apply_api_compatibility=False, kwargs={'game': 'fishing_derby', 'obs_type': 'ram', 'repeat_action_probability': 0.0, 'full_action_space': False, 'max_num_frames_per_episode': 108000, 'frameskip': 4}, namespace=None, name='FishingDerby-ramDeterministic', version=4)), ('FishingDerby-ramNoFrameskip-v4', EnvSpec(id='FishingDerby-ramNoFrameskip-v4', entry_point='ale_py.env.gym:AtariEnv', reward_threshold=None, nondeterministic=False, max_episode_steps=None, order_enforce=True, autoreset=False, disable_env_checker=False, apply_api_compatibility=False, kwargs={'game': 'fishing_derby', 'obs_type': 'ram', 'repeat_action_probability': 0.0, 'full_action_space': False, 'max_num_frames_per_episode': 108000, 'frameskip': 1}, namespace=None, name='FishingDerby-ramNoFrameskip', version=4)), ('Freeway-v0', EnvSpec(id='Freeway-v0', entry_point='ale_py.env.gym:AtariEnv', reward_threshold=None, nondeterministic=False, max_episode_steps=None, order_enforce=True, autoreset=False, disable_env_checker=False, apply_api_compatibility=False, kwargs={'game': 'freeway', 'obs_type': 'rgb', 'repeat_action_probability': 0.25, 'full_action_space': False, 'max_num_frames_per_episode': 108000, 'frameskip': (2, 5)}, namespace=None, name='Freeway', version=0)), ('FreewayDeterministic-v0', EnvSpec(id='FreewayDeterministic-v0', entry_point='ale_py.env.gym:AtariEnv', reward_threshold=None, nondeterministic=False, max_episode_steps=None, order_enforce=True, autoreset=False, disable_env_checker=False, apply_api_compatibility=False, kwargs={'game': 'freeway', 'obs_type': 'rgb', 'repeat_action_probability': 0.25, 'full_action_space': False, 'max_num_frames_per_episode': 108000, 'frameskip': 4}, namespace=None, name='FreewayDeterministic', version=0)), ('FreewayNoFrameskip-v0', EnvSpec(id='FreewayNoFrameskip-v0', entry_point='ale_py.env.gym:AtariEnv', reward_threshold=None, nondeterministic=False, max_episode_steps=None, order_enforce=True, autoreset=False, disable_env_checker=False, apply_api_compatibility=False, kwargs={'game': 'freeway', 'obs_type': 'rgb', 'repeat_action_probability': 0.25, 'full_action_space': False, 'max_num_frames_per_episode': 108000, 'frameskip': 1}, namespace=None, name='FreewayNoFrameskip', version=0)), ('Freeway-v4', EnvSpec(id='Freeway-v4', entry_point='ale_py.env.gym:AtariEnv', reward_threshold=None, nondeterministic=False, max_episode_steps=None, order_enforce=True, autoreset=False, disable_env_checker=False, apply_api_compatibility=False, kwargs={'game': 'freeway', 'obs_type': 'rgb', 'repeat_action_probability': 0.0, 'full_action_space': False, 'max_num_frames_per_episode': 108000, 'frameskip': (2, 5)}, namespace=None, name='Freeway', version=4)), ('FreewayDeterministic-v4', EnvSpec(id='FreewayDeterministic-v4', entry_point='ale_py.env.gym:AtariEnv', reward_threshold=None, nondeterministic=False, max_episode_steps=None, order_enforce=True, autoreset=False, disable_env_checker=False, apply_api_compatibility=False, kwargs={'game': 'freeway', 'obs_type': 'rgb', 'repeat_action_probability': 0.0, 'full_action_space': False, 'max_num_frames_per_episode': 108000, 'frameskip': 4}, namespace=None, name='FreewayDeterministic', version=4)), ('FreewayNoFrameskip-v4', EnvSpec(id='FreewayNoFrameskip-v4', entry_point='ale_py.env.gym:AtariEnv', reward_threshold=None, nondeterministic=False, max_episode_steps=None, order_enforce=True, autoreset=False, disable_env_checker=False, apply_api_compatibility=False, kwargs={'game': 'freeway', 'obs_type': 'rgb', 'repeat_action_probability': 0.0, 'full_action_space': False, 'max_num_frames_per_episode': 108000, 'frameskip': 1}, namespace=None, name='FreewayNoFrameskip', version=4)), ('Freeway-ram-v0', EnvSpec(id='Freeway-ram-v0', entry_point='ale_py.env.gym:AtariEnv', reward_threshold=None, nondeterministic=False, max_episode_steps=None, order_enforce=True, autoreset=False, disable_env_checker=False, apply_api_compatibility=False, kwargs={'game': 'freeway', 'obs_type': 'ram', 'repeat_action_probability': 0.25, 'full_action_space': False, 'max_num_frames_per_episode': 108000, 'frameskip': (2, 5)}, namespace=None, name='Freeway-ram', version=0)), ('Freeway-ramDeterministic-v0', EnvSpec(id='Freeway-ramDeterministic-v0', entry_point='ale_py.env.gym:AtariEnv', reward_threshold=None, nondeterministic=False, max_episode_steps=None, order_enforce=True, autoreset=False, disable_env_checker=False, apply_api_compatibility=False, kwargs={'game': 'freeway', 'obs_type': 'ram', 'repeat_action_probability': 0.25, 'full_action_space': False, 'max_num_frames_per_episode': 108000, 'frameskip': 4}, namespace=None, name='Freeway-ramDeterministic', version=0)), ('Freeway-ramNoFrameskip-v0', EnvSpec(id='Freeway-ramNoFrameskip-v0', entry_point='ale_py.env.gym:AtariEnv', reward_threshold=None, nondeterministic=False, max_episode_steps=None, order_enforce=True, autoreset=False, disable_env_checker=False, apply_api_compatibility=False, kwargs={'game': 'freeway', 'obs_type': 'ram', 'repeat_action_probability': 0.25, 'full_action_space': False, 'max_num_frames_per_episode': 108000, 'frameskip': 1}, namespace=None, name='Freeway-ramNoFrameskip', version=0)), ('Freeway-ram-v4', EnvSpec(id='Freeway-ram-v4', entry_point='ale_py.env.gym:AtariEnv', reward_threshold=None, nondeterministic=False, max_episode_steps=None, order_enforce=True, autoreset=False, disable_env_checker=False, apply_api_compatibility=False, kwargs={'game': 'freeway', 'obs_type': 'ram', 'repeat_action_probability': 0.0, 'full_action_space': False, 'max_num_frames_per_episode': 108000, 'frameskip': (2, 5)}, namespace=None, name='Freeway-ram', version=4)), ('Freeway-ramDeterministic-v4', EnvSpec(id='Freeway-ramDeterministic-v4', entry_point='ale_py.env.gym:AtariEnv', reward_threshold=None, nondeterministic=False, max_episode_steps=None, order_enforce=True, autoreset=False, disable_env_checker=False, apply_api_compatibility=False, kwargs={'game': 'freeway', 'obs_type': 'ram', 'repeat_action_probability': 0.0, 'full_action_space': False, 'max_num_frames_per_episode': 108000, 'frameskip': 4}, namespace=None, name='Freeway-ramDeterministic', version=4)), ('Freeway-ramNoFrameskip-v4', EnvSpec(id='Freeway-ramNoFrameskip-v4', entry_point='ale_py.env.gym:AtariEnv', reward_threshold=None, nondeterministic=False, max_episode_steps=None, order_enforce=True, autoreset=False, disable_env_checker=False, apply_api_compatibility=False, kwargs={'game': 'freeway', 'obs_type': 'ram', 'repeat_action_probability': 0.0, 'full_action_space': False, 'max_num_frames_per_episode': 108000, 'frameskip': 1}, namespace=None, name='Freeway-ramNoFrameskip', version=4)), ('Frostbite-v0', EnvSpec(id='Frostbite-v0', entry_point='ale_py.env.gym:AtariEnv', reward_threshold=None, nondeterministic=False, max_episode_steps=None, order_enforce=True, autoreset=False, disable_env_checker=False, apply_api_compatibility=False, kwargs={'game': 'frostbite', 'obs_type': 'rgb', 'repeat_action_probability': 0.25, 'full_action_space': False, 'max_num_frames_per_episode': 108000, 'frameskip': (2, 5)}, namespace=None, name='Frostbite', version=0)), ('FrostbiteDeterministic-v0', EnvSpec(id='FrostbiteDeterministic-v0', entry_point='ale_py.env.gym:AtariEnv', reward_threshold=None, nondeterministic=False, max_episode_steps=None, order_enforce=True, autoreset=False, disable_env_checker=False, apply_api_compatibility=False, kwargs={'game': 'frostbite', 'obs_type': 'rgb', 'repeat_action_probability': 0.25, 'full_action_space': False, 'max_num_frames_per_episode': 108000, 'frameskip': 4}, namespace=None, name='FrostbiteDeterministic', version=0)), ('FrostbiteNoFrameskip-v0', EnvSpec(id='FrostbiteNoFrameskip-v0', entry_point='ale_py.env.gym:AtariEnv', reward_threshold=None, nondeterministic=False, max_episode_steps=None, order_enforce=True, autoreset=False, disable_env_checker=False, apply_api_compatibility=False, kwargs={'game': 'frostbite', 'obs_type': 'rgb', 'repeat_action_probability': 0.25, 'full_action_space': False, 'max_num_frames_per_episode': 108000, 'frameskip': 1}, namespace=None, name='FrostbiteNoFrameskip', version=0)), ('Frostbite-v4', EnvSpec(id='Frostbite-v4', entry_point='ale_py.env.gym:AtariEnv', reward_threshold=None, nondeterministic=False, max_episode_steps=None, order_enforce=True, autoreset=False, disable_env_checker=False, apply_api_compatibility=False, kwargs={'game': 'frostbite', 'obs_type': 'rgb', 'repeat_action_probability': 0.0, 'full_action_space': False, 'max_num_frames_per_episode': 108000, 'frameskip': (2, 5)}, namespace=None, name='Frostbite', version=4)), ('FrostbiteDeterministic-v4', EnvSpec(id='FrostbiteDeterministic-v4', entry_point='ale_py.env.gym:AtariEnv', reward_threshold=None, nondeterministic=False, max_episode_steps=None, order_enforce=True, autoreset=False, disable_env_checker=False, apply_api_compatibility=False, kwargs={'game': 'frostbite', 'obs_type': 'rgb', 'repeat_action_probability': 0.0, 'full_action_space': False, 'max_num_frames_per_episode': 108000, 'frameskip': 4}, namespace=None, name='FrostbiteDeterministic', version=4)), ('FrostbiteNoFrameskip-v4', EnvSpec(id='FrostbiteNoFrameskip-v4', entry_point='ale_py.env.gym:AtariEnv', reward_threshold=None, nondeterministic=False, max_episode_steps=None, order_enforce=True, autoreset=False, disable_env_checker=False, apply_api_compatibility=False, kwargs={'game': 'frostbite', 'obs_type': 'rgb', 'repeat_action_probability': 0.0, 'full_action_space': False, 'max_num_frames_per_episode': 108000, 'frameskip': 1}, namespace=None, name='FrostbiteNoFrameskip', version=4)), ('Frostbite-ram-v0', EnvSpec(id='Frostbite-ram-v0', entry_point='ale_py.env.gym:AtariEnv', reward_threshold=None, nondeterministic=False, max_episode_steps=None, order_enforce=True, autoreset=False, disable_env_checker=False, apply_api_compatibility=False, kwargs={'game': 'frostbite', 'obs_type': 'ram', 'repeat_action_probability': 0.25, 'full_action_space': False, 'max_num_frames_per_episode': 108000, 'frameskip': (2, 5)}, namespace=None, name='Frostbite-ram', version=0)), ('Frostbite-ramDeterministic-v0', EnvSpec(id='Frostbite-ramDeterministic-v0', entry_point='ale_py.env.gym:AtariEnv', reward_threshold=None, nondeterministic=False, max_episode_steps=None, order_enforce=True, autoreset=False, disable_env_checker=False, apply_api_compatibility=False, kwargs={'game': 'frostbite', 'obs_type': 'ram', 'repeat_action_probability': 0.25, 'full_action_space': False, 'max_num_frames_per_episode': 108000, 'frameskip': 4}, namespace=None, name='Frostbite-ramDeterministic', version=0)), ('Frostbite-ramNoFrameskip-v0', EnvSpec(id='Frostbite-ramNoFrameskip-v0', entry_point='ale_py.env.gym:AtariEnv', reward_threshold=None, nondeterministic=False, max_episode_steps=None, order_enforce=True, autoreset=False, disable_env_checker=False, apply_api_compatibility=False, kwargs={'game': 'frostbite', 'obs_type': 'ram', 'repeat_action_probability': 0.25, 'full_action_space': False, 'max_num_frames_per_episode': 108000, 'frameskip': 1}, namespace=None, name='Frostbite-ramNoFrameskip', version=0)), ('Frostbite-ram-v4', EnvSpec(id='Frostbite-ram-v4', entry_point='ale_py.env.gym:AtariEnv', reward_threshold=None, nondeterministic=False, max_episode_steps=None, order_enforce=True, autoreset=False, disable_env_checker=False, apply_api_compatibility=False, kwargs={'game': 'frostbite', 'obs_type': 'ram', 'repeat_action_probability': 0.0, 'full_action_space': False, 'max_num_frames_per_episode': 108000, 'frameskip': (2, 5)}, namespace=None, name='Frostbite-ram', version=4)), ('Frostbite-ramDeterministic-v4', EnvSpec(id='Frostbite-ramDeterministic-v4', entry_point='ale_py.env.gym:AtariEnv', reward_threshold=None, nondeterministic=False, max_episode_steps=None, order_enforce=True, autoreset=False, disable_env_checker=False, apply_api_compatibility=False, kwargs={'game': 'frostbite', 'obs_type': 'ram', 'repeat_action_probability': 0.0, 'full_action_space': False, 'max_num_frames_per_episode': 108000, 'frameskip': 4}, namespace=None, name='Frostbite-ramDeterministic', version=4)), ('Frostbite-ramNoFrameskip-v4', EnvSpec(id='Frostbite-ramNoFrameskip-v4', entry_point='ale_py.env.gym:AtariEnv', reward_threshold=None, nondeterministic=False, max_episode_steps=None, order_enforce=True, autoreset=False, disable_env_checker=False, apply_api_compatibility=False, kwargs={'game': 'frostbite', 'obs_type': 'ram', 'repeat_action_probability': 0.0, 'full_action_space': False, 'max_num_frames_per_episode': 108000, 'frameskip': 1}, namespace=None, name='Frostbite-ramNoFrameskip', version=4)), ('Gopher-v0', EnvSpec(id='Gopher-v0', entry_point='ale_py.env.gym:AtariEnv', reward_threshold=None, nondeterministic=False, max_episode_steps=None, order_enforce=True, autoreset=False, disable_env_checker=False, apply_api_compatibility=False, kwargs={'game': 'gopher', 'obs_type': 'rgb', 'repeat_action_probability': 0.25, 'full_action_space': False, 'max_num_frames_per_episode': 108000, 'frameskip': (2, 5)}, namespace=None, name='Gopher', version=0)), ('GopherDeterministic-v0', EnvSpec(id='GopherDeterministic-v0', entry_point='ale_py.env.gym:AtariEnv', reward_threshold=None, nondeterministic=False, max_episode_steps=None, order_enforce=True, autoreset=False, disable_env_checker=False, apply_api_compatibility=False, kwargs={'game': 'gopher', 'obs_type': 'rgb', 'repeat_action_probability': 0.25, 'full_action_space': False, 'max_num_frames_per_episode': 108000, 'frameskip': 4}, namespace=None, name='GopherDeterministic', version=0)), ('GopherNoFrameskip-v0', EnvSpec(id='GopherNoFrameskip-v0', entry_point='ale_py.env.gym:AtariEnv', reward_threshold=None, nondeterministic=False, max_episode_steps=None, order_enforce=True, autoreset=False, disable_env_checker=False, apply_api_compatibility=False, kwargs={'game': 'gopher', 'obs_type': 'rgb', 'repeat_action_probability': 0.25, 'full_action_space': False, 'max_num_frames_per_episode': 108000, 'frameskip': 1}, namespace=None, name='GopherNoFrameskip', version=0)), ('Gopher-v4', EnvSpec(id='Gopher-v4', entry_point='ale_py.env.gym:AtariEnv', reward_threshold=None, nondeterministic=False, max_episode_steps=None, order_enforce=True, autoreset=False, disable_env_checker=False, apply_api_compatibility=False, kwargs={'game': 'gopher', 'obs_type': 'rgb', 'repeat_action_probability': 0.0, 'full_action_space': False, 'max_num_frames_per_episode': 108000, 'frameskip': (2, 5)}, namespace=None, name='Gopher', version=4)), ('GopherDeterministic-v4', EnvSpec(id='GopherDeterministic-v4', entry_point='ale_py.env.gym:AtariEnv', reward_threshold=None, nondeterministic=False, max_episode_steps=None, order_enforce=True, autoreset=False, disable_env_checker=False, apply_api_compatibility=False, kwargs={'game': 'gopher', 'obs_type': 'rgb', 'repeat_action_probability': 0.0, 'full_action_space': False, 'max_num_frames_per_episode': 108000, 'frameskip': 4}, namespace=None, name='GopherDeterministic', version=4)), ('GopherNoFrameskip-v4', EnvSpec(id='GopherNoFrameskip-v4', entry_point='ale_py.env.gym:AtariEnv', reward_threshold=None, nondeterministic=False, max_episode_steps=None, order_enforce=True, autoreset=False, disable_env_checker=False, apply_api_compatibility=False, kwargs={'game': 'gopher', 'obs_type': 'rgb', 'repeat_action_probability': 0.0, 'full_action_space': False, 'max_num_frames_per_episode': 108000, 'frameskip': 1}, namespace=None, name='GopherNoFrameskip', version=4)), ('Gopher-ram-v0', EnvSpec(id='Gopher-ram-v0', entry_point='ale_py.env.gym:AtariEnv', reward_threshold=None, nondeterministic=False, max_episode_steps=None, order_enforce=True, autoreset=False, disable_env_checker=False, apply_api_compatibility=False, kwargs={'game': 'gopher', 'obs_type': 'ram', 'repeat_action_probability': 0.25, 'full_action_space': False, 'max_num_frames_per_episode': 108000, 'frameskip': (2, 5)}, namespace=None, name='Gopher-ram', version=0)), ('Gopher-ramDeterministic-v0', EnvSpec(id='Gopher-ramDeterministic-v0', entry_point='ale_py.env.gym:AtariEnv', reward_threshold=None, nondeterministic=False, max_episode_steps=None, order_enforce=True, autoreset=False, disable_env_checker=False, apply_api_compatibility=False, kwargs={'game': 'gopher', 'obs_type': 'ram', 'repeat_action_probability': 0.25, 'full_action_space': False, 'max_num_frames_per_episode': 108000, 'frameskip': 4}, namespace=None, name='Gopher-ramDeterministic', version=0)), ('Gopher-ramNoFrameskip-v0', EnvSpec(id='Gopher-ramNoFrameskip-v0', entry_point='ale_py.env.gym:AtariEnv', reward_threshold=None, nondeterministic=False, max_episode_steps=None, order_enforce=True, autoreset=False, disable_env_checker=False, apply_api_compatibility=False, kwargs={'game': 'gopher', 'obs_type': 'ram', 'repeat_action_probability': 0.25, 'full_action_space': False, 'max_num_frames_per_episode': 108000, 'frameskip': 1}, namespace=None, name='Gopher-ramNoFrameskip', version=0)), ('Gopher-ram-v4', EnvSpec(id='Gopher-ram-v4', entry_point='ale_py.env.gym:AtariEnv', reward_threshold=None, nondeterministic=False, max_episode_steps=None, order_enforce=True, autoreset=False, disable_env_checker=False, apply_api_compatibility=False, kwargs={'game': 'gopher', 'obs_type': 'ram', 'repeat_action_probability': 0.0, 'full_action_space': False, 'max_num_frames_per_episode': 108000, 'frameskip': (2, 5)}, namespace=None, name='Gopher-ram', version=4)), ('Gopher-ramDeterministic-v4', EnvSpec(id='Gopher-ramDeterministic-v4', entry_point='ale_py.env.gym:AtariEnv', reward_threshold=None, nondeterministic=False, max_episode_steps=None, order_enforce=True, autoreset=False, disable_env_checker=False, apply_api_compatibility=False, kwargs={'game': 'gopher', 'obs_type': 'ram', 'repeat_action_probability': 0.0, 'full_action_space': False, 'max_num_frames_per_episode': 108000, 'frameskip': 4}, namespace=None, name='Gopher-ramDeterministic', version=4)), ('Gopher-ramNoFrameskip-v4', EnvSpec(id='Gopher-ramNoFrameskip-v4', entry_point='ale_py.env.gym:AtariEnv', reward_threshold=None, nondeterministic=False, max_episode_steps=None, order_enforce=True, autoreset=False, disable_env_checker=False, apply_api_compatibility=False, kwargs={'game': 'gopher', 'obs_type': 'ram', 'repeat_action_probability': 0.0, 'full_action_space': False, 'max_num_frames_per_episode': 108000, 'frameskip': 1}, namespace=None, name='Gopher-ramNoFrameskip', version=4)), ('Gravitar-v0', EnvSpec(id='Gravitar-v0', entry_point='ale_py.env.gym:AtariEnv', reward_threshold=None, nondeterministic=False, max_episode_steps=None, order_enforce=True, autoreset=False, disable_env_checker=False, apply_api_compatibility=False, kwargs={'game': 'gravitar', 'obs_type': 'rgb', 'repeat_action_probability': 0.25, 'full_action_space': False, 'max_num_frames_per_episode': 108000, 'frameskip': (2, 5)}, namespace=None, name='Gravitar', version=0)), ('GravitarDeterministic-v0', EnvSpec(id='GravitarDeterministic-v0', entry_point='ale_py.env.gym:AtariEnv', reward_threshold=None, nondeterministic=False, max_episode_steps=None, order_enforce=True, autoreset=False, disable_env_checker=False, apply_api_compatibility=False, kwargs={'game': 'gravitar', 'obs_type': 'rgb', 'repeat_action_probability': 0.25, 'full_action_space': False, 'max_num_frames_per_episode': 108000, 'frameskip': 4}, namespace=None, name='GravitarDeterministic', version=0)), ('GravitarNoFrameskip-v0', EnvSpec(id='GravitarNoFrameskip-v0', entry_point='ale_py.env.gym:AtariEnv', reward_threshold=None, nondeterministic=False, max_episode_steps=None, order_enforce=True, autoreset=False, disable_env_checker=False, apply_api_compatibility=False, kwargs={'game': 'gravitar', 'obs_type': 'rgb', 'repeat_action_probability': 0.25, 'full_action_space': False, 'max_num_frames_per_episode': 108000, 'frameskip': 1}, namespace=None, name='GravitarNoFrameskip', version=0)), ('Gravitar-v4', EnvSpec(id='Gravitar-v4', entry_point='ale_py.env.gym:AtariEnv', reward_threshold=None, nondeterministic=False, max_episode_steps=None, order_enforce=True, autoreset=False, disable_env_checker=False, apply_api_compatibility=False, kwargs={'game': 'gravitar', 'obs_type': 'rgb', 'repeat_action_probability': 0.0, 'full_action_space': False, 'max_num_frames_per_episode': 108000, 'frameskip': (2, 5)}, namespace=None, name='Gravitar', version=4)), ('GravitarDeterministic-v4', EnvSpec(id='GravitarDeterministic-v4', entry_point='ale_py.env.gym:AtariEnv', reward_threshold=None, nondeterministic=False, max_episode_steps=None, order_enforce=True, autoreset=False, disable_env_checker=False, apply_api_compatibility=False, kwargs={'game': 'gravitar', 'obs_type': 'rgb', 'repeat_action_probability': 0.0, 'full_action_space': False, 'max_num_frames_per_episode': 108000, 'frameskip': 4}, namespace=None, name='GravitarDeterministic', version=4)), ('GravitarNoFrameskip-v4', EnvSpec(id='GravitarNoFrameskip-v4', entry_point='ale_py.env.gym:AtariEnv', reward_threshold=None, nondeterministic=False, max_episode_steps=None, order_enforce=True, autoreset=False, disable_env_checker=False, apply_api_compatibility=False, kwargs={'game': 'gravitar', 'obs_type': 'rgb', 'repeat_action_probability': 0.0, 'full_action_space': False, 'max_num_frames_per_episode': 108000, 'frameskip': 1}, namespace=None, name='GravitarNoFrameskip', version=4)), ('Gravitar-ram-v0', EnvSpec(id='Gravitar-ram-v0', entry_point='ale_py.env.gym:AtariEnv', reward_threshold=None, nondeterministic=False, max_episode_steps=None, order_enforce=True, autoreset=False, disable_env_checker=False, apply_api_compatibility=False, kwargs={'game': 'gravitar', 'obs_type': 'ram', 'repeat_action_probability': 0.25, 'full_action_space': False, 'max_num_frames_per_episode': 108000, 'frameskip': (2, 5)}, namespace=None, name='Gravitar-ram', version=0)), ('Gravitar-ramDeterministic-v0', EnvSpec(id='Gravitar-ramDeterministic-v0', entry_point='ale_py.env.gym:AtariEnv', reward_threshold=None, nondeterministic=False, max_episode_steps=None, order_enforce=True, autoreset=False, disable_env_checker=False, apply_api_compatibility=False, kwargs={'game': 'gravitar', 'obs_type': 'ram', 'repeat_action_probability': 0.25, 'full_action_space': False, 'max_num_frames_per_episode': 108000, 'frameskip': 4}, namespace=None, name='Gravitar-ramDeterministic', version=0)), ('Gravitar-ramNoFrameskip-v0', EnvSpec(id='Gravitar-ramNoFrameskip-v0', entry_point='ale_py.env.gym:AtariEnv', reward_threshold=None, nondeterministic=False, max_episode_steps=None, order_enforce=True, autoreset=False, disable_env_checker=False, apply_api_compatibility=False, kwargs={'game': 'gravitar', 'obs_type': 'ram', 'repeat_action_probability': 0.25, 'full_action_space': False, 'max_num_frames_per_episode': 108000, 'frameskip': 1}, namespace=None, name='Gravitar-ramNoFrameskip', version=0)), ('Gravitar-ram-v4', EnvSpec(id='Gravitar-ram-v4', entry_point='ale_py.env.gym:AtariEnv', reward_threshold=None, nondeterministic=False, max_episode_steps=None, order_enforce=True, autoreset=False, disable_env_checker=False, apply_api_compatibility=False, kwargs={'game': 'gravitar', 'obs_type': 'ram', 'repeat_action_probability': 0.0, 'full_action_space': False, 'max_num_frames_per_episode': 108000, 'frameskip': (2, 5)}, namespace=None, name='Gravitar-ram', version=4)), ('Gravitar-ramDeterministic-v4', EnvSpec(id='Gravitar-ramDeterministic-v4', entry_point='ale_py.env.gym:AtariEnv', reward_threshold=None, nondeterministic=False, max_episode_steps=None, order_enforce=True, autoreset=False, disable_env_checker=False, apply_api_compatibility=False, kwargs={'game': 'gravitar', 'obs_type': 'ram', 'repeat_action_probability': 0.0, 'full_action_space': False, 'max_num_frames_per_episode': 108000, 'frameskip': 4}, namespace=None, name='Gravitar-ramDeterministic', version=4)), ('Gravitar-ramNoFrameskip-v4', EnvSpec(id='Gravitar-ramNoFrameskip-v4', entry_point='ale_py.env.gym:AtariEnv', reward_threshold=None, nondeterministic=False, max_episode_steps=None, order_enforce=True, autoreset=False, disable_env_checker=False, apply_api_compatibility=False, kwargs={'game': 'gravitar', 'obs_type': 'ram', 'repeat_action_probability': 0.0, 'full_action_space': False, 'max_num_frames_per_episode': 108000, 'frameskip': 1}, namespace=None, name='Gravitar-ramNoFrameskip', version=4)), ('Hero-v0', EnvSpec(id='Hero-v0', entry_point='ale_py.env.gym:AtariEnv', reward_threshold=None, nondeterministic=False, max_episode_steps=None, order_enforce=True, autoreset=False, disable_env_checker=False, apply_api_compatibility=False, kwargs={'game': 'hero', 'obs_type': 'rgb', 'repeat_action_probability': 0.25, 'full_action_space': False, 'max_num_frames_per_episode': 108000, 'frameskip': (2, 5)}, namespace=None, name='Hero', version=0)), ('HeroDeterministic-v0', EnvSpec(id='HeroDeterministic-v0', entry_point='ale_py.env.gym:AtariEnv', reward_threshold=None, nondeterministic=False, max_episode_steps=None, order_enforce=True, autoreset=False, disable_env_checker=False, apply_api_compatibility=False, kwargs={'game': 'hero', 'obs_type': 'rgb', 'repeat_action_probability': 0.25, 'full_action_space': False, 'max_num_frames_per_episode': 108000, 'frameskip': 4}, namespace=None, name='HeroDeterministic', version=0)), ('HeroNoFrameskip-v0', EnvSpec(id='HeroNoFrameskip-v0', entry_point='ale_py.env.gym:AtariEnv', reward_threshold=None, nondeterministic=False, max_episode_steps=None, order_enforce=True, autoreset=False, disable_env_checker=False, apply_api_compatibility=False, kwargs={'game': 'hero', 'obs_type': 'rgb', 'repeat_action_probability': 0.25, 'full_action_space': False, 'max_num_frames_per_episode': 108000, 'frameskip': 1}, namespace=None, name='HeroNoFrameskip', version=0)), ('Hero-v4', EnvSpec(id='Hero-v4', entry_point='ale_py.env.gym:AtariEnv', reward_threshold=None, nondeterministic=False, max_episode_steps=None, order_enforce=True, autoreset=False, disable_env_checker=False, apply_api_compatibility=False, kwargs={'game': 'hero', 'obs_type': 'rgb', 'repeat_action_probability': 0.0, 'full_action_space': False, 'max_num_frames_per_episode': 108000, 'frameskip': (2, 5)}, namespace=None, name='Hero', version=4)), ('HeroDeterministic-v4', EnvSpec(id='HeroDeterministic-v4', entry_point='ale_py.env.gym:AtariEnv', reward_threshold=None, nondeterministic=False, max_episode_steps=None, order_enforce=True, autoreset=False, disable_env_checker=False, apply_api_compatibility=False, kwargs={'game': 'hero', 'obs_type': 'rgb', 'repeat_action_probability': 0.0, 'full_action_space': False, 'max_num_frames_per_episode': 108000, 'frameskip': 4}, namespace=None, name='HeroDeterministic', version=4)), ('HeroNoFrameskip-v4', EnvSpec(id='HeroNoFrameskip-v4', entry_point='ale_py.env.gym:AtariEnv', reward_threshold=None, nondeterministic=False, max_episode_steps=None, order_enforce=True, autoreset=False, disable_env_checker=False, apply_api_compatibility=False, kwargs={'game': 'hero', 'obs_type': 'rgb', 'repeat_action_probability': 0.0, 'full_action_space': False, 'max_num_frames_per_episode': 108000, 'frameskip': 1}, namespace=None, name='HeroNoFrameskip', version=4)), ('Hero-ram-v0', EnvSpec(id='Hero-ram-v0', entry_point='ale_py.env.gym:AtariEnv', reward_threshold=None, nondeterministic=False, max_episode_steps=None, order_enforce=True, autoreset=False, disable_env_checker=False, apply_api_compatibility=False, kwargs={'game': 'hero', 'obs_type': 'ram', 'repeat_action_probability': 0.25, 'full_action_space': False, 'max_num_frames_per_episode': 108000, 'frameskip': (2, 5)}, namespace=None, name='Hero-ram', version=0)), ('Hero-ramDeterministic-v0', EnvSpec(id='Hero-ramDeterministic-v0', entry_point='ale_py.env.gym:AtariEnv', reward_threshold=None, nondeterministic=False, max_episode_steps=None, order_enforce=True, autoreset=False, disable_env_checker=False, apply_api_compatibility=False, kwargs={'game': 'hero', 'obs_type': 'ram', 'repeat_action_probability': 0.25, 'full_action_space': False, 'max_num_frames_per_episode': 108000, 'frameskip': 4}, namespace=None, name='Hero-ramDeterministic', version=0)), ('Hero-ramNoFrameskip-v0', EnvSpec(id='Hero-ramNoFrameskip-v0', entry_point='ale_py.env.gym:AtariEnv', reward_threshold=None, nondeterministic=False, max_episode_steps=None, order_enforce=True, autoreset=False, disable_env_checker=False, apply_api_compatibility=False, kwargs={'game': 'hero', 'obs_type': 'ram', 'repeat_action_probability': 0.25, 'full_action_space': False, 'max_num_frames_per_episode': 108000, 'frameskip': 1}, namespace=None, name='Hero-ramNoFrameskip', version=0)), ('Hero-ram-v4', EnvSpec(id='Hero-ram-v4', entry_point='ale_py.env.gym:AtariEnv', reward_threshold=None, nondeterministic=False, max_episode_steps=None, order_enforce=True, autoreset=False, disable_env_checker=False, apply_api_compatibility=False, kwargs={'game': 'hero', 'obs_type': 'ram', 'repeat_action_probability': 0.0, 'full_action_space': False, 'max_num_frames_per_episode': 108000, 'frameskip': (2, 5)}, namespace=None, name='Hero-ram', version=4)), ('Hero-ramDeterministic-v4', EnvSpec(id='Hero-ramDeterministic-v4', entry_point='ale_py.env.gym:AtariEnv', reward_threshold=None, nondeterministic=False, max_episode_steps=None, order_enforce=True, autoreset=False, disable_env_checker=False, apply_api_compatibility=False, kwargs={'game': 'hero', 'obs_type': 'ram', 'repeat_action_probability': 0.0, 'full_action_space': False, 'max_num_frames_per_episode': 108000, 'frameskip': 4}, namespace=None, name='Hero-ramDeterministic', version=4)), ('Hero-ramNoFrameskip-v4', EnvSpec(id='Hero-ramNoFrameskip-v4', entry_point='ale_py.env.gym:AtariEnv', reward_threshold=None, nondeterministic=False, max_episode_steps=None, order_enforce=True, autoreset=False, disable_env_checker=False, apply_api_compatibility=False, kwargs={'game': 'hero', 'obs_type': 'ram', 'repeat_action_probability': 0.0, 'full_action_space': False, 'max_num_frames_per_episode': 108000, 'frameskip': 1}, namespace=None, name='Hero-ramNoFrameskip', version=4)), ('IceHockey-v0', EnvSpec(id='IceHockey-v0', entry_point='ale_py.env.gym:AtariEnv', reward_threshold=None, nondeterministic=False, max_episode_steps=None, order_enforce=True, autoreset=False, disable_env_checker=False, apply_api_compatibility=False, kwargs={'game': 'ice_hockey', 'obs_type': 'rgb', 'repeat_action_probability': 0.25, 'full_action_space': False, 'max_num_frames_per_episode': 108000, 'frameskip': (2, 5)}, namespace=None, name='IceHockey', version=0)), ('IceHockeyDeterministic-v0', EnvSpec(id='IceHockeyDeterministic-v0', entry_point='ale_py.env.gym:AtariEnv', reward_threshold=None, nondeterministic=False, max_episode_steps=None, order_enforce=True, autoreset=False, disable_env_checker=False, apply_api_compatibility=False, kwargs={'game': 'ice_hockey', 'obs_type': 'rgb', 'repeat_action_probability': 0.25, 'full_action_space': False, 'max_num_frames_per_episode': 108000, 'frameskip': 4}, namespace=None, name='IceHockeyDeterministic', version=0)), ('IceHockeyNoFrameskip-v0', EnvSpec(id='IceHockeyNoFrameskip-v0', entry_point='ale_py.env.gym:AtariEnv', reward_threshold=None, nondeterministic=False, max_episode_steps=None, order_enforce=True, autoreset=False, disable_env_checker=False, apply_api_compatibility=False, kwargs={'game': 'ice_hockey', 'obs_type': 'rgb', 'repeat_action_probability': 0.25, 'full_action_space': False, 'max_num_frames_per_episode': 108000, 'frameskip': 1}, namespace=None, name='IceHockeyNoFrameskip', version=0)), ('IceHockey-v4', EnvSpec(id='IceHockey-v4', entry_point='ale_py.env.gym:AtariEnv', reward_threshold=None, nondeterministic=False, max_episode_steps=None, order_enforce=True, autoreset=False, disable_env_checker=False, apply_api_compatibility=False, kwargs={'game': 'ice_hockey', 'obs_type': 'rgb', 'repeat_action_probability': 0.0, 'full_action_space': False, 'max_num_frames_per_episode': 108000, 'frameskip': (2, 5)}, namespace=None, name='IceHockey', version=4)), ('IceHockeyDeterministic-v4', EnvSpec(id='IceHockeyDeterministic-v4', entry_point='ale_py.env.gym:AtariEnv', reward_threshold=None, nondeterministic=False, max_episode_steps=None, order_enforce=True, autoreset=False, disable_env_checker=False, apply_api_compatibility=False, kwargs={'game': 'ice_hockey', 'obs_type': 'rgb', 'repeat_action_probability': 0.0, 'full_action_space': False, 'max_num_frames_per_episode': 108000, 'frameskip': 4}, namespace=None, name='IceHockeyDeterministic', version=4)), ('IceHockeyNoFrameskip-v4', EnvSpec(id='IceHockeyNoFrameskip-v4', entry_point='ale_py.env.gym:AtariEnv', reward_threshold=None, nondeterministic=False, max_episode_steps=None, order_enforce=True, autoreset=False, disable_env_checker=False, apply_api_compatibility=False, kwargs={'game': 'ice_hockey', 'obs_type': 'rgb', 'repeat_action_probability': 0.0, 'full_action_space': False, 'max_num_frames_per_episode': 108000, 'frameskip': 1}, namespace=None, name='IceHockeyNoFrameskip', version=4)), ('IceHockey-ram-v0', EnvSpec(id='IceHockey-ram-v0', entry_point='ale_py.env.gym:AtariEnv', reward_threshold=None, nondeterministic=False, max_episode_steps=None, order_enforce=True, autoreset=False, disable_env_checker=False, apply_api_compatibility=False, kwargs={'game': 'ice_hockey', 'obs_type': 'ram', 'repeat_action_probability': 0.25, 'full_action_space': False, 'max_num_frames_per_episode': 108000, 'frameskip': (2, 5)}, namespace=None, name='IceHockey-ram', version=0)), ('IceHockey-ramDeterministic-v0', EnvSpec(id='IceHockey-ramDeterministic-v0', entry_point='ale_py.env.gym:AtariEnv', reward_threshold=None, nondeterministic=False, max_episode_steps=None, order_enforce=True, autoreset=False, disable_env_checker=False, apply_api_compatibility=False, kwargs={'game': 'ice_hockey', 'obs_type': 'ram', 'repeat_action_probability': 0.25, 'full_action_space': False, 'max_num_frames_per_episode': 108000, 'frameskip': 4}, namespace=None, name='IceHockey-ramDeterministic', version=0)), ('IceHockey-ramNoFrameskip-v0', EnvSpec(id='IceHockey-ramNoFrameskip-v0', entry_point='ale_py.env.gym:AtariEnv', reward_threshold=None, nondeterministic=False, max_episode_steps=None, order_enforce=True, autoreset=False, disable_env_checker=False, apply_api_compatibility=False, kwargs={'game': 'ice_hockey', 'obs_type': 'ram', 'repeat_action_probability': 0.25, 'full_action_space': False, 'max_num_frames_per_episode': 108000, 'frameskip': 1}, namespace=None, name='IceHockey-ramNoFrameskip', version=0)), ('IceHockey-ram-v4', EnvSpec(id='IceHockey-ram-v4', entry_point='ale_py.env.gym:AtariEnv', reward_threshold=None, nondeterministic=False, max_episode_steps=None, order_enforce=True, autoreset=False, disable_env_checker=False, apply_api_compatibility=False, kwargs={'game': 'ice_hockey', 'obs_type': 'ram', 'repeat_action_probability': 0.0, 'full_action_space': False, 'max_num_frames_per_episode': 108000, 'frameskip': (2, 5)}, namespace=None, name='IceHockey-ram', version=4)), ('IceHockey-ramDeterministic-v4', EnvSpec(id='IceHockey-ramDeterministic-v4', entry_point='ale_py.env.gym:AtariEnv', reward_threshold=None, nondeterministic=False, max_episode_steps=None, order_enforce=True, autoreset=False, disable_env_checker=False, apply_api_compatibility=False, kwargs={'game': 'ice_hockey', 'obs_type': 'ram', 'repeat_action_probability': 0.0, 'full_action_space': False, 'max_num_frames_per_episode': 108000, 'frameskip': 4}, namespace=None, name='IceHockey-ramDeterministic', version=4)), ('IceHockey-ramNoFrameskip-v4', EnvSpec(id='IceHockey-ramNoFrameskip-v4', entry_point='ale_py.env.gym:AtariEnv', reward_threshold=None, nondeterministic=False, max_episode_steps=None, order_enforce=True, autoreset=False, disable_env_checker=False, apply_api_compatibility=False, kwargs={'game': 'ice_hockey', 'obs_type': 'ram', 'repeat_action_probability': 0.0, 'full_action_space': False, 'max_num_frames_per_episode': 108000, 'frameskip': 1}, namespace=None, name='IceHockey-ramNoFrameskip', version=4)), ('Jamesbond-v0', EnvSpec(id='Jamesbond-v0', entry_point='ale_py.env.gym:AtariEnv', reward_threshold=None, nondeterministic=False, max_episode_steps=None, order_enforce=True, autoreset=False, disable_env_checker=False, apply_api_compatibility=False, kwargs={'game': 'jamesbond', 'obs_type': 'rgb', 'repeat_action_probability': 0.25, 'full_action_space': False, 'max_num_frames_per_episode': 108000, 'frameskip': (2, 5)}, namespace=None, name='Jamesbond', version=0)), ('JamesbondDeterministic-v0', EnvSpec(id='JamesbondDeterministic-v0', entry_point='ale_py.env.gym:AtariEnv', reward_threshold=None, nondeterministic=False, max_episode_steps=None, order_enforce=True, autoreset=False, disable_env_checker=False, apply_api_compatibility=False, kwargs={'game': 'jamesbond', 'obs_type': 'rgb', 'repeat_action_probability': 0.25, 'full_action_space': False, 'max_num_frames_per_episode': 108000, 'frameskip': 4}, namespace=None, name='JamesbondDeterministic', version=0)), ('JamesbondNoFrameskip-v0', EnvSpec(id='JamesbondNoFrameskip-v0', entry_point='ale_py.env.gym:AtariEnv', reward_threshold=None, nondeterministic=False, max_episode_steps=None, order_enforce=True, autoreset=False, disable_env_checker=False, apply_api_compatibility=False, kwargs={'game': 'jamesbond', 'obs_type': 'rgb', 'repeat_action_probability': 0.25, 'full_action_space': False, 'max_num_frames_per_episode': 108000, 'frameskip': 1}, namespace=None, name='JamesbondNoFrameskip', version=0)), ('Jamesbond-v4', EnvSpec(id='Jamesbond-v4', entry_point='ale_py.env.gym:AtariEnv', reward_threshold=None, nondeterministic=False, max_episode_steps=None, order_enforce=True, autoreset=False, disable_env_checker=False, apply_api_compatibility=False, kwargs={'game': 'jamesbond', 'obs_type': 'rgb', 'repeat_action_probability': 0.0, 'full_action_space': False, 'max_num_frames_per_episode': 108000, 'frameskip': (2, 5)}, namespace=None, name='Jamesbond', version=4)), ('JamesbondDeterministic-v4', EnvSpec(id='JamesbondDeterministic-v4', entry_point='ale_py.env.gym:AtariEnv', reward_threshold=None, nondeterministic=False, max_episode_steps=None, order_enforce=True, autoreset=False, disable_env_checker=False, apply_api_compatibility=False, kwargs={'game': 'jamesbond', 'obs_type': 'rgb', 'repeat_action_probability': 0.0, 'full_action_space': False, 'max_num_frames_per_episode': 108000, 'frameskip': 4}, namespace=None, name='JamesbondDeterministic', version=4)), ('JamesbondNoFrameskip-v4', EnvSpec(id='JamesbondNoFrameskip-v4', entry_point='ale_py.env.gym:AtariEnv', reward_threshold=None, nondeterministic=False, max_episode_steps=None, order_enforce=True, autoreset=False, disable_env_checker=False, apply_api_compatibility=False, kwargs={'game': 'jamesbond', 'obs_type': 'rgb', 'repeat_action_probability': 0.0, 'full_action_space': False, 'max_num_frames_per_episode': 108000, 'frameskip': 1}, namespace=None, name='JamesbondNoFrameskip', version=4)), ('Jamesbond-ram-v0', EnvSpec(id='Jamesbond-ram-v0', entry_point='ale_py.env.gym:AtariEnv', reward_threshold=None, nondeterministic=False, max_episode_steps=None, order_enforce=True, autoreset=False, disable_env_checker=False, apply_api_compatibility=False, kwargs={'game': 'jamesbond', 'obs_type': 'ram', 'repeat_action_probability': 0.25, 'full_action_space': False, 'max_num_frames_per_episode': 108000, 'frameskip': (2, 5)}, namespace=None, name='Jamesbond-ram', version=0)), ('Jamesbond-ramDeterministic-v0', EnvSpec(id='Jamesbond-ramDeterministic-v0', entry_point='ale_py.env.gym:AtariEnv', reward_threshold=None, nondeterministic=False, max_episode_steps=None, order_enforce=True, autoreset=False, disable_env_checker=False, apply_api_compatibility=False, kwargs={'game': 'jamesbond', 'obs_type': 'ram', 'repeat_action_probability': 0.25, 'full_action_space': False, 'max_num_frames_per_episode': 108000, 'frameskip': 4}, namespace=None, name='Jamesbond-ramDeterministic', version=0)), ('Jamesbond-ramNoFrameskip-v0', EnvSpec(id='Jamesbond-ramNoFrameskip-v0', entry_point='ale_py.env.gym:AtariEnv', reward_threshold=None, nondeterministic=False, max_episode_steps=None, order_enforce=True, autoreset=False, disable_env_checker=False, apply_api_compatibility=False, kwargs={'game': 'jamesbond', 'obs_type': 'ram', 'repeat_action_probability': 0.25, 'full_action_space': False, 'max_num_frames_per_episode': 108000, 'frameskip': 1}, namespace=None, name='Jamesbond-ramNoFrameskip', version=0)), ('Jamesbond-ram-v4', EnvSpec(id='Jamesbond-ram-v4', entry_point='ale_py.env.gym:AtariEnv', reward_threshold=None, nondeterministic=False, max_episode_steps=None, order_enforce=True, autoreset=False, disable_env_checker=False, apply_api_compatibility=False, kwargs={'game': 'jamesbond', 'obs_type': 'ram', 'repeat_action_probability': 0.0, 'full_action_space': False, 'max_num_frames_per_episode': 108000, 'frameskip': (2, 5)}, namespace=None, name='Jamesbond-ram', version=4)), ('Jamesbond-ramDeterministic-v4', EnvSpec(id='Jamesbond-ramDeterministic-v4', entry_point='ale_py.env.gym:AtariEnv', reward_threshold=None, nondeterministic=False, max_episode_steps=None, order_enforce=True, autoreset=False, disable_env_checker=False, apply_api_compatibility=False, kwargs={'game': 'jamesbond', 'obs_type': 'ram', 'repeat_action_probability': 0.0, 'full_action_space': False, 'max_num_frames_per_episode': 108000, 'frameskip': 4}, namespace=None, name='Jamesbond-ramDeterministic', version=4)), ('Jamesbond-ramNoFrameskip-v4', EnvSpec(id='Jamesbond-ramNoFrameskip-v4', entry_point='ale_py.env.gym:AtariEnv', reward_threshold=None, nondeterministic=False, max_episode_steps=None, order_enforce=True, autoreset=False, disable_env_checker=False, apply_api_compatibility=False, kwargs={'game': 'jamesbond', 'obs_type': 'ram', 'repeat_action_probability': 0.0, 'full_action_space': False, 'max_num_frames_per_episode': 108000, 'frameskip': 1}, namespace=None, name='Jamesbond-ramNoFrameskip', version=4)), ('JourneyEscape-v0', EnvSpec(id='JourneyEscape-v0', entry_point='ale_py.env.gym:AtariEnv', reward_threshold=None, nondeterministic=False, max_episode_steps=None, order_enforce=True, autoreset=False, disable_env_checker=False, apply_api_compatibility=False, kwargs={'game': 'journey_escape', 'obs_type': 'rgb', 'repeat_action_probability': 0.25, 'full_action_space': False, 'max_num_frames_per_episode': 108000, 'frameskip': (2, 5)}, namespace=None, name='JourneyEscape', version=0)), ('JourneyEscapeDeterministic-v0', EnvSpec(id='JourneyEscapeDeterministic-v0', entry_point='ale_py.env.gym:AtariEnv', reward_threshold=None, nondeterministic=False, max_episode_steps=None, order_enforce=True, autoreset=False, disable_env_checker=False, apply_api_compatibility=False, kwargs={'game': 'journey_escape', 'obs_type': 'rgb', 'repeat_action_probability': 0.25, 'full_action_space': False, 'max_num_frames_per_episode': 108000, 'frameskip': 4}, namespace=None, name='JourneyEscapeDeterministic', version=0)), ('JourneyEscapeNoFrameskip-v0', EnvSpec(id='JourneyEscapeNoFrameskip-v0', entry_point='ale_py.env.gym:AtariEnv', reward_threshold=None, nondeterministic=False, max_episode_steps=None, order_enforce=True, autoreset=False, disable_env_checker=False, apply_api_compatibility=False, kwargs={'game': 'journey_escape', 'obs_type': 'rgb', 'repeat_action_probability': 0.25, 'full_action_space': False, 'max_num_frames_per_episode': 108000, 'frameskip': 1}, namespace=None, name='JourneyEscapeNoFrameskip', version=0)), ('JourneyEscape-v4', EnvSpec(id='JourneyEscape-v4', entry_point='ale_py.env.gym:AtariEnv', reward_threshold=None, nondeterministic=False, max_episode_steps=None, order_enforce=True, autoreset=False, disable_env_checker=False, apply_api_compatibility=False, kwargs={'game': 'journey_escape', 'obs_type': 'rgb', 'repeat_action_probability': 0.0, 'full_action_space': False, 'max_num_frames_per_episode': 108000, 'frameskip': (2, 5)}, namespace=None, name='JourneyEscape', version=4)), ('JourneyEscapeDeterministic-v4', EnvSpec(id='JourneyEscapeDeterministic-v4', entry_point='ale_py.env.gym:AtariEnv', reward_threshold=None, nondeterministic=False, max_episode_steps=None, order_enforce=True, autoreset=False, disable_env_checker=False, apply_api_compatibility=False, kwargs={'game': 'journey_escape', 'obs_type': 'rgb', 'repeat_action_probability': 0.0, 'full_action_space': False, 'max_num_frames_per_episode': 108000, 'frameskip': 4}, namespace=None, name='JourneyEscapeDeterministic', version=4)), ('JourneyEscapeNoFrameskip-v4', EnvSpec(id='JourneyEscapeNoFrameskip-v4', entry_point='ale_py.env.gym:AtariEnv', reward_threshold=None, nondeterministic=False, max_episode_steps=None, order_enforce=True, autoreset=False, disable_env_checker=False, apply_api_compatibility=False, kwargs={'game': 'journey_escape', 'obs_type': 'rgb', 'repeat_action_probability': 0.0, 'full_action_space': False, 'max_num_frames_per_episode': 108000, 'frameskip': 1}, namespace=None, name='JourneyEscapeNoFrameskip', version=4)), ('JourneyEscape-ram-v0', EnvSpec(id='JourneyEscape-ram-v0', entry_point='ale_py.env.gym:AtariEnv', reward_threshold=None, nondeterministic=False, max_episode_steps=None, order_enforce=True, autoreset=False, disable_env_checker=False, apply_api_compatibility=False, kwargs={'game': 'journey_escape', 'obs_type': 'ram', 'repeat_action_probability': 0.25, 'full_action_space': False, 'max_num_frames_per_episode': 108000, 'frameskip': (2, 5)}, namespace=None, name='JourneyEscape-ram', version=0)), ('JourneyEscape-ramDeterministic-v0', EnvSpec(id='JourneyEscape-ramDeterministic-v0', entry_point='ale_py.env.gym:AtariEnv', reward_threshold=None, nondeterministic=False, max_episode_steps=None, order_enforce=True, autoreset=False, disable_env_checker=False, apply_api_compatibility=False, kwargs={'game': 'journey_escape', 'obs_type': 'ram', 'repeat_action_probability': 0.25, 'full_action_space': False, 'max_num_frames_per_episode': 108000, 'frameskip': 4}, namespace=None, name='JourneyEscape-ramDeterministic', version=0)), ('JourneyEscape-ramNoFrameskip-v0', EnvSpec(id='JourneyEscape-ramNoFrameskip-v0', entry_point='ale_py.env.gym:AtariEnv', reward_threshold=None, nondeterministic=False, max_episode_steps=None, order_enforce=True, autoreset=False, disable_env_checker=False, apply_api_compatibility=False, kwargs={'game': 'journey_escape', 'obs_type': 'ram', 'repeat_action_probability': 0.25, 'full_action_space': False, 'max_num_frames_per_episode': 108000, 'frameskip': 1}, namespace=None, name='JourneyEscape-ramNoFrameskip', version=0)), ('JourneyEscape-ram-v4', EnvSpec(id='JourneyEscape-ram-v4', entry_point='ale_py.env.gym:AtariEnv', reward_threshold=None, nondeterministic=False, max_episode_steps=None, order_enforce=True, autoreset=False, disable_env_checker=False, apply_api_compatibility=False, kwargs={'game': 'journey_escape', 'obs_type': 'ram', 'repeat_action_probability': 0.0, 'full_action_space': False, 'max_num_frames_per_episode': 108000, 'frameskip': (2, 5)}, namespace=None, name='JourneyEscape-ram', version=4)), ('JourneyEscape-ramDeterministic-v4', EnvSpec(id='JourneyEscape-ramDeterministic-v4', entry_point='ale_py.env.gym:AtariEnv', reward_threshold=None, nondeterministic=False, max_episode_steps=None, order_enforce=True, autoreset=False, disable_env_checker=False, apply_api_compatibility=False, kwargs={'game': 'journey_escape', 'obs_type': 'ram', 'repeat_action_probability': 0.0, 'full_action_space': False, 'max_num_frames_per_episode': 108000, 'frameskip': 4}, namespace=None, name='JourneyEscape-ramDeterministic', version=4)), ('JourneyEscape-ramNoFrameskip-v4', EnvSpec(id='JourneyEscape-ramNoFrameskip-v4', entry_point='ale_py.env.gym:AtariEnv', reward_threshold=None, nondeterministic=False, max_episode_steps=None, order_enforce=True, autoreset=False, disable_env_checker=False, apply_api_compatibility=False, kwargs={'game': 'journey_escape', 'obs_type': 'ram', 'repeat_action_probability': 0.0, 'full_action_space': False, 'max_num_frames_per_episode': 108000, 'frameskip': 1}, namespace=None, name='JourneyEscape-ramNoFrameskip', version=4)), ('Kangaroo-v0', EnvSpec(id='Kangaroo-v0', entry_point='ale_py.env.gym:AtariEnv', reward_threshold=None, nondeterministic=False, max_episode_steps=None, order_enforce=True, autoreset=False, disable_env_checker=False, apply_api_compatibility=False, kwargs={'game': 'kangaroo', 'obs_type': 'rgb', 'repeat_action_probability': 0.25, 'full_action_space': False, 'max_num_frames_per_episode': 108000, 'frameskip': (2, 5)}, namespace=None, name='Kangaroo', version=0)), ('KangarooDeterministic-v0', EnvSpec(id='KangarooDeterministic-v0', entry_point='ale_py.env.gym:AtariEnv', reward_threshold=None, nondeterministic=False, max_episode_steps=None, order_enforce=True, autoreset=False, disable_env_checker=False, apply_api_compatibility=False, kwargs={'game': 'kangaroo', 'obs_type': 'rgb', 'repeat_action_probability': 0.25, 'full_action_space': False, 'max_num_frames_per_episode': 108000, 'frameskip': 4}, namespace=None, name='KangarooDeterministic', version=0)), ('KangarooNoFrameskip-v0', EnvSpec(id='KangarooNoFrameskip-v0', entry_point='ale_py.env.gym:AtariEnv', reward_threshold=None, nondeterministic=False, max_episode_steps=None, order_enforce=True, autoreset=False, disable_env_checker=False, apply_api_compatibility=False, kwargs={'game': 'kangaroo', 'obs_type': 'rgb', 'repeat_action_probability': 0.25, 'full_action_space': False, 'max_num_frames_per_episode': 108000, 'frameskip': 1}, namespace=None, name='KangarooNoFrameskip', version=0)), ('Kangaroo-v4', EnvSpec(id='Kangaroo-v4', entry_point='ale_py.env.gym:AtariEnv', reward_threshold=None, nondeterministic=False, max_episode_steps=None, order_enforce=True, autoreset=False, disable_env_checker=False, apply_api_compatibility=False, kwargs={'game': 'kangaroo', 'obs_type': 'rgb', 'repeat_action_probability': 0.0, 'full_action_space': False, 'max_num_frames_per_episode': 108000, 'frameskip': (2, 5)}, namespace=None, name='Kangaroo', version=4)), ('KangarooDeterministic-v4', EnvSpec(id='KangarooDeterministic-v4', entry_point='ale_py.env.gym:AtariEnv', reward_threshold=None, nondeterministic=False, max_episode_steps=None, order_enforce=True, autoreset=False, disable_env_checker=False, apply_api_compatibility=False, kwargs={'game': 'kangaroo', 'obs_type': 'rgb', 'repeat_action_probability': 0.0, 'full_action_space': False, 'max_num_frames_per_episode': 108000, 'frameskip': 4}, namespace=None, name='KangarooDeterministic', version=4)), ('KangarooNoFrameskip-v4', EnvSpec(id='KangarooNoFrameskip-v4', entry_point='ale_py.env.gym:AtariEnv', reward_threshold=None, nondeterministic=False, max_episode_steps=None, order_enforce=True, autoreset=False, disable_env_checker=False, apply_api_compatibility=False, kwargs={'game': 'kangaroo', 'obs_type': 'rgb', 'repeat_action_probability': 0.0, 'full_action_space': False, 'max_num_frames_per_episode': 108000, 'frameskip': 1}, namespace=None, name='KangarooNoFrameskip', version=4)), ('Kangaroo-ram-v0', EnvSpec(id='Kangaroo-ram-v0', entry_point='ale_py.env.gym:AtariEnv', reward_threshold=None, nondeterministic=False, max_episode_steps=None, order_enforce=True, autoreset=False, disable_env_checker=False, apply_api_compatibility=False, kwargs={'game': 'kangaroo', 'obs_type': 'ram', 'repeat_action_probability': 0.25, 'full_action_space': False, 'max_num_frames_per_episode': 108000, 'frameskip': (2, 5)}, namespace=None, name='Kangaroo-ram', version=0)), ('Kangaroo-ramDeterministic-v0', EnvSpec(id='Kangaroo-ramDeterministic-v0', entry_point='ale_py.env.gym:AtariEnv', reward_threshold=None, nondeterministic=False, max_episode_steps=None, order_enforce=True, autoreset=False, disable_env_checker=False, apply_api_compatibility=False, kwargs={'game': 'kangaroo', 'obs_type': 'ram', 'repeat_action_probability': 0.25, 'full_action_space': False, 'max_num_frames_per_episode': 108000, 'frameskip': 4}, namespace=None, name='Kangaroo-ramDeterministic', version=0)), ('Kangaroo-ramNoFrameskip-v0', EnvSpec(id='Kangaroo-ramNoFrameskip-v0', entry_point='ale_py.env.gym:AtariEnv', reward_threshold=None, nondeterministic=False, max_episode_steps=None, order_enforce=True, autoreset=False, disable_env_checker=False, apply_api_compatibility=False, kwargs={'game': 'kangaroo', 'obs_type': 'ram', 'repeat_action_probability': 0.25, 'full_action_space': False, 'max_num_frames_per_episode': 108000, 'frameskip': 1}, namespace=None, name='Kangaroo-ramNoFrameskip', version=0)), ('Kangaroo-ram-v4', EnvSpec(id='Kangaroo-ram-v4', entry_point='ale_py.env.gym:AtariEnv', reward_threshold=None, nondeterministic=False, max_episode_steps=None, order_enforce=True, autoreset=False, disable_env_checker=False, apply_api_compatibility=False, kwargs={'game': 'kangaroo', 'obs_type': 'ram', 'repeat_action_probability': 0.0, 'full_action_space': False, 'max_num_frames_per_episode': 108000, 'frameskip': (2, 5)}, namespace=None, name='Kangaroo-ram', version=4)), ('Kangaroo-ramDeterministic-v4', EnvSpec(id='Kangaroo-ramDeterministic-v4', entry_point='ale_py.env.gym:AtariEnv', reward_threshold=None, nondeterministic=False, max_episode_steps=None, order_enforce=True, autoreset=False, disable_env_checker=False, apply_api_compatibility=False, kwargs={'game': 'kangaroo', 'obs_type': 'ram', 'repeat_action_probability': 0.0, 'full_action_space': False, 'max_num_frames_per_episode': 108000, 'frameskip': 4}, namespace=None, name='Kangaroo-ramDeterministic', version=4)), ('Kangaroo-ramNoFrameskip-v4', EnvSpec(id='Kangaroo-ramNoFrameskip-v4', entry_point='ale_py.env.gym:AtariEnv', reward_threshold=None, nondeterministic=False, max_episode_steps=None, order_enforce=True, autoreset=False, disable_env_checker=False, apply_api_compatibility=False, kwargs={'game': 'kangaroo', 'obs_type': 'ram', 'repeat_action_probability': 0.0, 'full_action_space': False, 'max_num_frames_per_episode': 108000, 'frameskip': 1}, namespace=None, name='Kangaroo-ramNoFrameskip', version=4)), ('Krull-v0', EnvSpec(id='Krull-v0', entry_point='ale_py.env.gym:AtariEnv', reward_threshold=None, nondeterministic=False, max_episode_steps=None, order_enforce=True, autoreset=False, disable_env_checker=False, apply_api_compatibility=False, kwargs={'game': 'krull', 'obs_type': 'rgb', 'repeat_action_probability': 0.25, 'full_action_space': False, 'max_num_frames_per_episode': 108000, 'frameskip': (2, 5)}, namespace=None, name='Krull', version=0)), ('KrullDeterministic-v0', EnvSpec(id='KrullDeterministic-v0', entry_point='ale_py.env.gym:AtariEnv', reward_threshold=None, nondeterministic=False, max_episode_steps=None, order_enforce=True, autoreset=False, disable_env_checker=False, apply_api_compatibility=False, kwargs={'game': 'krull', 'obs_type': 'rgb', 'repeat_action_probability': 0.25, 'full_action_space': False, 'max_num_frames_per_episode': 108000, 'frameskip': 4}, namespace=None, name='KrullDeterministic', version=0)), ('KrullNoFrameskip-v0', EnvSpec(id='KrullNoFrameskip-v0', entry_point='ale_py.env.gym:AtariEnv', reward_threshold=None, nondeterministic=False, max_episode_steps=None, order_enforce=True, autoreset=False, disable_env_checker=False, apply_api_compatibility=False, kwargs={'game': 'krull', 'obs_type': 'rgb', 'repeat_action_probability': 0.25, 'full_action_space': False, 'max_num_frames_per_episode': 108000, 'frameskip': 1}, namespace=None, name='KrullNoFrameskip', version=0)), ('Krull-v4', EnvSpec(id='Krull-v4', entry_point='ale_py.env.gym:AtariEnv', reward_threshold=None, nondeterministic=False, max_episode_steps=None, order_enforce=True, autoreset=False, disable_env_checker=False, apply_api_compatibility=False, kwargs={'game': 'krull', 'obs_type': 'rgb', 'repeat_action_probability': 0.0, 'full_action_space': False, 'max_num_frames_per_episode': 108000, 'frameskip': (2, 5)}, namespace=None, name='Krull', version=4)), ('KrullDeterministic-v4', EnvSpec(id='KrullDeterministic-v4', entry_point='ale_py.env.gym:AtariEnv', reward_threshold=None, nondeterministic=False, max_episode_steps=None, order_enforce=True, autoreset=False, disable_env_checker=False, apply_api_compatibility=False, kwargs={'game': 'krull', 'obs_type': 'rgb', 'repeat_action_probability': 0.0, 'full_action_space': False, 'max_num_frames_per_episode': 108000, 'frameskip': 4}, namespace=None, name='KrullDeterministic', version=4)), ('KrullNoFrameskip-v4', EnvSpec(id='KrullNoFrameskip-v4', entry_point='ale_py.env.gym:AtariEnv', reward_threshold=None, nondeterministic=False, max_episode_steps=None, order_enforce=True, autoreset=False, disable_env_checker=False, apply_api_compatibility=False, kwargs={'game': 'krull', 'obs_type': 'rgb', 'repeat_action_probability': 0.0, 'full_action_space': False, 'max_num_frames_per_episode': 108000, 'frameskip': 1}, namespace=None, name='KrullNoFrameskip', version=4)), ('Krull-ram-v0', EnvSpec(id='Krull-ram-v0', entry_point='ale_py.env.gym:AtariEnv', reward_threshold=None, nondeterministic=False, max_episode_steps=None, order_enforce=True, autoreset=False, disable_env_checker=False, apply_api_compatibility=False, kwargs={'game': 'krull', 'obs_type': 'ram', 'repeat_action_probability': 0.25, 'full_action_space': False, 'max_num_frames_per_episode': 108000, 'frameskip': (2, 5)}, namespace=None, name='Krull-ram', version=0)), ('Krull-ramDeterministic-v0', EnvSpec(id='Krull-ramDeterministic-v0', entry_point='ale_py.env.gym:AtariEnv', reward_threshold=None, nondeterministic=False, max_episode_steps=None, order_enforce=True, autoreset=False, disable_env_checker=False, apply_api_compatibility=False, kwargs={'game': 'krull', 'obs_type': 'ram', 'repeat_action_probability': 0.25, 'full_action_space': False, 'max_num_frames_per_episode': 108000, 'frameskip': 4}, namespace=None, name='Krull-ramDeterministic', version=0)), ('Krull-ramNoFrameskip-v0', EnvSpec(id='Krull-ramNoFrameskip-v0', entry_point='ale_py.env.gym:AtariEnv', reward_threshold=None, nondeterministic=False, max_episode_steps=None, order_enforce=True, autoreset=False, disable_env_checker=False, apply_api_compatibility=False, kwargs={'game': 'krull', 'obs_type': 'ram', 'repeat_action_probability': 0.25, 'full_action_space': False, 'max_num_frames_per_episode': 108000, 'frameskip': 1}, namespace=None, name='Krull-ramNoFrameskip', version=0)), ('Krull-ram-v4', EnvSpec(id='Krull-ram-v4', entry_point='ale_py.env.gym:AtariEnv', reward_threshold=None, nondeterministic=False, max_episode_steps=None, order_enforce=True, autoreset=False, disable_env_checker=False, apply_api_compatibility=False, kwargs={'game': 'krull', 'obs_type': 'ram', 'repeat_action_probability': 0.0, 'full_action_space': False, 'max_num_frames_per_episode': 108000, 'frameskip': (2, 5)}, namespace=None, name='Krull-ram', version=4)), ('Krull-ramDeterministic-v4', EnvSpec(id='Krull-ramDeterministic-v4', entry_point='ale_py.env.gym:AtariEnv', reward_threshold=None, nondeterministic=False, max_episode_steps=None, order_enforce=True, autoreset=False, disable_env_checker=False, apply_api_compatibility=False, kwargs={'game': 'krull', 'obs_type': 'ram', 'repeat_action_probability': 0.0, 'full_action_space': False, 'max_num_frames_per_episode': 108000, 'frameskip': 4}, namespace=None, name='Krull-ramDeterministic', version=4)), ('Krull-ramNoFrameskip-v4', EnvSpec(id='Krull-ramNoFrameskip-v4', entry_point='ale_py.env.gym:AtariEnv', reward_threshold=None, nondeterministic=False, max_episode_steps=None, order_enforce=True, autoreset=False, disable_env_checker=False, apply_api_compatibility=False, kwargs={'game': 'krull', 'obs_type': 'ram', 'repeat_action_probability': 0.0, 'full_action_space': False, 'max_num_frames_per_episode': 108000, 'frameskip': 1}, namespace=None, name='Krull-ramNoFrameskip', version=4)), ('KungFuMaster-v0', EnvSpec(id='KungFuMaster-v0', entry_point='ale_py.env.gym:AtariEnv', reward_threshold=None, nondeterministic=False, max_episode_steps=None, order_enforce=True, autoreset=False, disable_env_checker=False, apply_api_compatibility=False, kwargs={'game': 'kung_fu_master', 'obs_type': 'rgb', 'repeat_action_probability': 0.25, 'full_action_space': False, 'max_num_frames_per_episode': 108000, 'frameskip': (2, 5)}, namespace=None, name='KungFuMaster', version=0)), ('KungFuMasterDeterministic-v0', EnvSpec(id='KungFuMasterDeterministic-v0', entry_point='ale_py.env.gym:AtariEnv', reward_threshold=None, nondeterministic=False, max_episode_steps=None, order_enforce=True, autoreset=False, disable_env_checker=False, apply_api_compatibility=False, kwargs={'game': 'kung_fu_master', 'obs_type': 'rgb', 'repeat_action_probability': 0.25, 'full_action_space': False, 'max_num_frames_per_episode': 108000, 'frameskip': 4}, namespace=None, name='KungFuMasterDeterministic', version=0)), ('KungFuMasterNoFrameskip-v0', EnvSpec(id='KungFuMasterNoFrameskip-v0', entry_point='ale_py.env.gym:AtariEnv', reward_threshold=None, nondeterministic=False, max_episode_steps=None, order_enforce=True, autoreset=False, disable_env_checker=False, apply_api_compatibility=False, kwargs={'game': 'kung_fu_master', 'obs_type': 'rgb', 'repeat_action_probability': 0.25, 'full_action_space': False, 'max_num_frames_per_episode': 108000, 'frameskip': 1}, namespace=None, name='KungFuMasterNoFrameskip', version=0)), ('KungFuMaster-v4', EnvSpec(id='KungFuMaster-v4', entry_point='ale_py.env.gym:AtariEnv', reward_threshold=None, nondeterministic=False, max_episode_steps=None, order_enforce=True, autoreset=False, disable_env_checker=False, apply_api_compatibility=False, kwargs={'game': 'kung_fu_master', 'obs_type': 'rgb', 'repeat_action_probability': 0.0, 'full_action_space': False, 'max_num_frames_per_episode': 108000, 'frameskip': (2, 5)}, namespace=None, name='KungFuMaster', version=4)), ('KungFuMasterDeterministic-v4', EnvSpec(id='KungFuMasterDeterministic-v4', entry_point='ale_py.env.gym:AtariEnv', reward_threshold=None, nondeterministic=False, max_episode_steps=None, order_enforce=True, autoreset=False, disable_env_checker=False, apply_api_compatibility=False, kwargs={'game': 'kung_fu_master', 'obs_type': 'rgb', 'repeat_action_probability': 0.0, 'full_action_space': False, 'max_num_frames_per_episode': 108000, 'frameskip': 4}, namespace=None, name='KungFuMasterDeterministic', version=4)), ('KungFuMasterNoFrameskip-v4', EnvSpec(id='KungFuMasterNoFrameskip-v4', entry_point='ale_py.env.gym:AtariEnv', reward_threshold=None, nondeterministic=False, max_episode_steps=None, order_enforce=True, autoreset=False, disable_env_checker=False, apply_api_compatibility=False, kwargs={'game': 'kung_fu_master', 'obs_type': 'rgb', 'repeat_action_probability': 0.0, 'full_action_space': False, 'max_num_frames_per_episode': 108000, 'frameskip': 1}, namespace=None, name='KungFuMasterNoFrameskip', version=4)), ('KungFuMaster-ram-v0', EnvSpec(id='KungFuMaster-ram-v0', entry_point='ale_py.env.gym:AtariEnv', reward_threshold=None, nondeterministic=False, max_episode_steps=None, order_enforce=True, autoreset=False, disable_env_checker=False, apply_api_compatibility=False, kwargs={'game': 'kung_fu_master', 'obs_type': 'ram', 'repeat_action_probability': 0.25, 'full_action_space': False, 'max_num_frames_per_episode': 108000, 'frameskip': (2, 5)}, namespace=None, name='KungFuMaster-ram', version=0)), ('KungFuMaster-ramDeterministic-v0', EnvSpec(id='KungFuMaster-ramDeterministic-v0', entry_point='ale_py.env.gym:AtariEnv', reward_threshold=None, nondeterministic=False, max_episode_steps=None, order_enforce=True, autoreset=False, disable_env_checker=False, apply_api_compatibility=False, kwargs={'game': 'kung_fu_master', 'obs_type': 'ram', 'repeat_action_probability': 0.25, 'full_action_space': False, 'max_num_frames_per_episode': 108000, 'frameskip': 4}, namespace=None, name='KungFuMaster-ramDeterministic', version=0)), ('KungFuMaster-ramNoFrameskip-v0', EnvSpec(id='KungFuMaster-ramNoFrameskip-v0', entry_point='ale_py.env.gym:AtariEnv', reward_threshold=None, nondeterministic=False, max_episode_steps=None, order_enforce=True, autoreset=False, disable_env_checker=False, apply_api_compatibility=False, kwargs={'game': 'kung_fu_master', 'obs_type': 'ram', 'repeat_action_probability': 0.25, 'full_action_space': False, 'max_num_frames_per_episode': 108000, 'frameskip': 1}, namespace=None, name='KungFuMaster-ramNoFrameskip', version=0)), ('KungFuMaster-ram-v4', EnvSpec(id='KungFuMaster-ram-v4', entry_point='ale_py.env.gym:AtariEnv', reward_threshold=None, nondeterministic=False, max_episode_steps=None, order_enforce=True, autoreset=False, disable_env_checker=False, apply_api_compatibility=False, kwargs={'game': 'kung_fu_master', 'obs_type': 'ram', 'repeat_action_probability': 0.0, 'full_action_space': False, 'max_num_frames_per_episode': 108000, 'frameskip': (2, 5)}, namespace=None, name='KungFuMaster-ram', version=4)), ('KungFuMaster-ramDeterministic-v4', EnvSpec(id='KungFuMaster-ramDeterministic-v4', entry_point='ale_py.env.gym:AtariEnv', reward_threshold=None, nondeterministic=False, max_episode_steps=None, order_enforce=True, autoreset=False, disable_env_checker=False, apply_api_compatibility=False, kwargs={'game': 'kung_fu_master', 'obs_type': 'ram', 'repeat_action_probability': 0.0, 'full_action_space': False, 'max_num_frames_per_episode': 108000, 'frameskip': 4}, namespace=None, name='KungFuMaster-ramDeterministic', version=4)), ('KungFuMaster-ramNoFrameskip-v4', EnvSpec(id='KungFuMaster-ramNoFrameskip-v4', entry_point='ale_py.env.gym:AtariEnv', reward_threshold=None, nondeterministic=False, max_episode_steps=None, order_enforce=True, autoreset=False, disable_env_checker=False, apply_api_compatibility=False, kwargs={'game': 'kung_fu_master', 'obs_type': 'ram', 'repeat_action_probability': 0.0, 'full_action_space': False, 'max_num_frames_per_episode': 108000, 'frameskip': 1}, namespace=None, name='KungFuMaster-ramNoFrameskip', version=4)), ('MontezumaRevenge-v0', EnvSpec(id='MontezumaRevenge-v0', entry_point='ale_py.env.gym:AtariEnv', reward_threshold=None, nondeterministic=False, max_episode_steps=None, order_enforce=True, autoreset=False, disable_env_checker=False, apply_api_compatibility=False, kwargs={'game': 'montezuma_revenge', 'obs_type': 'rgb', 'repeat_action_probability': 0.25, 'full_action_space': False, 'max_num_frames_per_episode': 108000, 'frameskip': (2, 5)}, namespace=None, name='MontezumaRevenge', version=0)), ('MontezumaRevengeDeterministic-v0', EnvSpec(id='MontezumaRevengeDeterministic-v0', entry_point='ale_py.env.gym:AtariEnv', reward_threshold=None, nondeterministic=False, max_episode_steps=None, order_enforce=True, autoreset=False, disable_env_checker=False, apply_api_compatibility=False, kwargs={'game': 'montezuma_revenge', 'obs_type': 'rgb', 'repeat_action_probability': 0.25, 'full_action_space': False, 'max_num_frames_per_episode': 108000, 'frameskip': 4}, namespace=None, name='MontezumaRevengeDeterministic', version=0)), ('MontezumaRevengeNoFrameskip-v0', EnvSpec(id='MontezumaRevengeNoFrameskip-v0', entry_point='ale_py.env.gym:AtariEnv', reward_threshold=None, nondeterministic=False, max_episode_steps=None, order_enforce=True, autoreset=False, disable_env_checker=False, apply_api_compatibility=False, kwargs={'game': 'montezuma_revenge', 'obs_type': 'rgb', 'repeat_action_probability': 0.25, 'full_action_space': False, 'max_num_frames_per_episode': 108000, 'frameskip': 1}, namespace=None, name='MontezumaRevengeNoFrameskip', version=0)), ('MontezumaRevenge-v4', EnvSpec(id='MontezumaRevenge-v4', entry_point='ale_py.env.gym:AtariEnv', reward_threshold=None, nondeterministic=False, max_episode_steps=None, order_enforce=True, autoreset=False, disable_env_checker=False, apply_api_compatibility=False, kwargs={'game': 'montezuma_revenge', 'obs_type': 'rgb', 'repeat_action_probability': 0.0, 'full_action_space': False, 'max_num_frames_per_episode': 108000, 'frameskip': (2, 5)}, namespace=None, name='MontezumaRevenge', version=4)), ('MontezumaRevengeDeterministic-v4', EnvSpec(id='MontezumaRevengeDeterministic-v4', entry_point='ale_py.env.gym:AtariEnv', reward_threshold=None, nondeterministic=False, max_episode_steps=None, order_enforce=True, autoreset=False, disable_env_checker=False, apply_api_compatibility=False, kwargs={'game': 'montezuma_revenge', 'obs_type': 'rgb', 'repeat_action_probability': 0.0, 'full_action_space': False, 'max_num_frames_per_episode': 108000, 'frameskip': 4}, namespace=None, name='MontezumaRevengeDeterministic', version=4)), ('MontezumaRevengeNoFrameskip-v4', EnvSpec(id='MontezumaRevengeNoFrameskip-v4', entry_point='ale_py.env.gym:AtariEnv', reward_threshold=None, nondeterministic=False, max_episode_steps=None, order_enforce=True, autoreset=False, disable_env_checker=False, apply_api_compatibility=False, kwargs={'game': 'montezuma_revenge', 'obs_type': 'rgb', 'repeat_action_probability': 0.0, 'full_action_space': False, 'max_num_frames_per_episode': 108000, 'frameskip': 1}, namespace=None, name='MontezumaRevengeNoFrameskip', version=4)), ('MontezumaRevenge-ram-v0', EnvSpec(id='MontezumaRevenge-ram-v0', entry_point='ale_py.env.gym:AtariEnv', reward_threshold=None, nondeterministic=False, max_episode_steps=None, order_enforce=True, autoreset=False, disable_env_checker=False, apply_api_compatibility=False, kwargs={'game': 'montezuma_revenge', 'obs_type': 'ram', 'repeat_action_probability': 0.25, 'full_action_space': False, 'max_num_frames_per_episode': 108000, 'frameskip': (2, 5)}, namespace=None, name='MontezumaRevenge-ram', version=0)), ('MontezumaRevenge-ramDeterministic-v0', EnvSpec(id='MontezumaRevenge-ramDeterministic-v0', entry_point='ale_py.env.gym:AtariEnv', reward_threshold=None, nondeterministic=False, max_episode_steps=None, order_enforce=True, autoreset=False, disable_env_checker=False, apply_api_compatibility=False, kwargs={'game': 'montezuma_revenge', 'obs_type': 'ram', 'repeat_action_probability': 0.25, 'full_action_space': False, 'max_num_frames_per_episode': 108000, 'frameskip': 4}, namespace=None, name='MontezumaRevenge-ramDeterministic', version=0)), ('MontezumaRevenge-ramNoFrameskip-v0', EnvSpec(id='MontezumaRevenge-ramNoFrameskip-v0', entry_point='ale_py.env.gym:AtariEnv', reward_threshold=None, nondeterministic=False, max_episode_steps=None, order_enforce=True, autoreset=False, disable_env_checker=False, apply_api_compatibility=False, kwargs={'game': 'montezuma_revenge', 'obs_type': 'ram', 'repeat_action_probability': 0.25, 'full_action_space': False, 'max_num_frames_per_episode': 108000, 'frameskip': 1}, namespace=None, name='MontezumaRevenge-ramNoFrameskip', version=0)), ('MontezumaRevenge-ram-v4', EnvSpec(id='MontezumaRevenge-ram-v4', entry_point='ale_py.env.gym:AtariEnv', reward_threshold=None, nondeterministic=False, max_episode_steps=None, order_enforce=True, autoreset=False, disable_env_checker=False, apply_api_compatibility=False, kwargs={'game': 'montezuma_revenge', 'obs_type': 'ram', 'repeat_action_probability': 0.0, 'full_action_space': False, 'max_num_frames_per_episode': 108000, 'frameskip': (2, 5)}, namespace=None, name='MontezumaRevenge-ram', version=4)), ('MontezumaRevenge-ramDeterministic-v4', EnvSpec(id='MontezumaRevenge-ramDeterministic-v4', entry_point='ale_py.env.gym:AtariEnv', reward_threshold=None, nondeterministic=False, max_episode_steps=None, order_enforce=True, autoreset=False, disable_env_checker=False, apply_api_compatibility=False, kwargs={'game': 'montezuma_revenge', 'obs_type': 'ram', 'repeat_action_probability': 0.0, 'full_action_space': False, 'max_num_frames_per_episode': 108000, 'frameskip': 4}, namespace=None, name='MontezumaRevenge-ramDeterministic', version=4)), ('MontezumaRevenge-ramNoFrameskip-v4', EnvSpec(id='MontezumaRevenge-ramNoFrameskip-v4', entry_point='ale_py.env.gym:AtariEnv', reward_threshold=None, nondeterministic=False, max_episode_steps=None, order_enforce=True, autoreset=False, disable_env_checker=False, apply_api_compatibility=False, kwargs={'game': 'montezuma_revenge', 'obs_type': 'ram', 'repeat_action_probability': 0.0, 'full_action_space': False, 'max_num_frames_per_episode': 108000, 'frameskip': 1}, namespace=None, name='MontezumaRevenge-ramNoFrameskip', version=4)), ('MsPacman-v0', EnvSpec(id='MsPacman-v0', entry_point='ale_py.env.gym:AtariEnv', reward_threshold=None, nondeterministic=False, max_episode_steps=None, order_enforce=True, autoreset=False, disable_env_checker=False, apply_api_compatibility=False, kwargs={'game': 'ms_pacman', 'obs_type': 'rgb', 'repeat_action_probability': 0.25, 'full_action_space': False, 'max_num_frames_per_episode': 108000, 'frameskip': (2, 5)}, namespace=None, name='MsPacman', version=0)), ('MsPacmanDeterministic-v0', EnvSpec(id='MsPacmanDeterministic-v0', entry_point='ale_py.env.gym:AtariEnv', reward_threshold=None, nondeterministic=False, max_episode_steps=None, order_enforce=True, autoreset=False, disable_env_checker=False, apply_api_compatibility=False, kwargs={'game': 'ms_pacman', 'obs_type': 'rgb', 'repeat_action_probability': 0.25, 'full_action_space': False, 'max_num_frames_per_episode': 108000, 'frameskip': 4}, namespace=None, name='MsPacmanDeterministic', version=0)), ('MsPacmanNoFrameskip-v0', EnvSpec(id='MsPacmanNoFrameskip-v0', entry_point='ale_py.env.gym:AtariEnv', reward_threshold=None, nondeterministic=False, max_episode_steps=None, order_enforce=True, autoreset=False, disable_env_checker=False, apply_api_compatibility=False, kwargs={'game': 'ms_pacman', 'obs_type': 'rgb', 'repeat_action_probability': 0.25, 'full_action_space': False, 'max_num_frames_per_episode': 108000, 'frameskip': 1}, namespace=None, name='MsPacmanNoFrameskip', version=0)), ('MsPacman-v4', EnvSpec(id='MsPacman-v4', entry_point='ale_py.env.gym:AtariEnv', reward_threshold=None, nondeterministic=False, max_episode_steps=None, order_enforce=True, autoreset=False, disable_env_checker=False, apply_api_compatibility=False, kwargs={'game': 'ms_pacman', 'obs_type': 'rgb', 'repeat_action_probability': 0.0, 'full_action_space': False, 'max_num_frames_per_episode': 108000, 'frameskip': (2, 5)}, namespace=None, name='MsPacman', version=4)), ('MsPacmanDeterministic-v4', EnvSpec(id='MsPacmanDeterministic-v4', entry_point='ale_py.env.gym:AtariEnv', reward_threshold=None, nondeterministic=False, max_episode_steps=None, order_enforce=True, autoreset=False, disable_env_checker=False, apply_api_compatibility=False, kwargs={'game': 'ms_pacman', 'obs_type': 'rgb', 'repeat_action_probability': 0.0, 'full_action_space': False, 'max_num_frames_per_episode': 108000, 'frameskip': 4}, namespace=None, name='MsPacmanDeterministic', version=4)), ('MsPacmanNoFrameskip-v4', EnvSpec(id='MsPacmanNoFrameskip-v4', entry_point='ale_py.env.gym:AtariEnv', reward_threshold=None, nondeterministic=False, max_episode_steps=None, order_enforce=True, autoreset=False, disable_env_checker=False, apply_api_compatibility=False, kwargs={'game': 'ms_pacman', 'obs_type': 'rgb', 'repeat_action_probability': 0.0, 'full_action_space': False, 'max_num_frames_per_episode': 108000, 'frameskip': 1}, namespace=None, name='MsPacmanNoFrameskip', version=4)), ('MsPacman-ram-v0', EnvSpec(id='MsPacman-ram-v0', entry_point='ale_py.env.gym:AtariEnv', reward_threshold=None, nondeterministic=False, max_episode_steps=None, order_enforce=True, autoreset=False, disable_env_checker=False, apply_api_compatibility=False, kwargs={'game': 'ms_pacman', 'obs_type': 'ram', 'repeat_action_probability': 0.25, 'full_action_space': False, 'max_num_frames_per_episode': 108000, 'frameskip': (2, 5)}, namespace=None, name='MsPacman-ram', version=0)), ('MsPacman-ramDeterministic-v0', EnvSpec(id='MsPacman-ramDeterministic-v0', entry_point='ale_py.env.gym:AtariEnv', reward_threshold=None, nondeterministic=False, max_episode_steps=None, order_enforce=True, autoreset=False, disable_env_checker=False, apply_api_compatibility=False, kwargs={'game': 'ms_pacman', 'obs_type': 'ram', 'repeat_action_probability': 0.25, 'full_action_space': False, 'max_num_frames_per_episode': 108000, 'frameskip': 4}, namespace=None, name='MsPacman-ramDeterministic', version=0)), ('MsPacman-ramNoFrameskip-v0', EnvSpec(id='MsPacman-ramNoFrameskip-v0', entry_point='ale_py.env.gym:AtariEnv', reward_threshold=None, nondeterministic=False, max_episode_steps=None, order_enforce=True, autoreset=False, disable_env_checker=False, apply_api_compatibility=False, kwargs={'game': 'ms_pacman', 'obs_type': 'ram', 'repeat_action_probability': 0.25, 'full_action_space': False, 'max_num_frames_per_episode': 108000, 'frameskip': 1}, namespace=None, name='MsPacman-ramNoFrameskip', version=0)), ('MsPacman-ram-v4', EnvSpec(id='MsPacman-ram-v4', entry_point='ale_py.env.gym:AtariEnv', reward_threshold=None, nondeterministic=False, max_episode_steps=None, order_enforce=True, autoreset=False, disable_env_checker=False, apply_api_compatibility=False, kwargs={'game': 'ms_pacman', 'obs_type': 'ram', 'repeat_action_probability': 0.0, 'full_action_space': False, 'max_num_frames_per_episode': 108000, 'frameskip': (2, 5)}, namespace=None, name='MsPacman-ram', version=4)), ('MsPacman-ramDeterministic-v4', EnvSpec(id='MsPacman-ramDeterministic-v4', entry_point='ale_py.env.gym:AtariEnv', reward_threshold=None, nondeterministic=False, max_episode_steps=None, order_enforce=True, autoreset=False, disable_env_checker=False, apply_api_compatibility=False, kwargs={'game': 'ms_pacman', 'obs_type': 'ram', 'repeat_action_probability': 0.0, 'full_action_space': False, 'max_num_frames_per_episode': 108000, 'frameskip': 4}, namespace=None, name='MsPacman-ramDeterministic', version=4)), ('MsPacman-ramNoFrameskip-v4', EnvSpec(id='MsPacman-ramNoFrameskip-v4', entry_point='ale_py.env.gym:AtariEnv', reward_threshold=None, nondeterministic=False, max_episode_steps=None, order_enforce=True, autoreset=False, disable_env_checker=False, apply_api_compatibility=False, kwargs={'game': 'ms_pacman', 'obs_type': 'ram', 'repeat_action_probability': 0.0, 'full_action_space': False, 'max_num_frames_per_episode': 108000, 'frameskip': 1}, namespace=None, name='MsPacman-ramNoFrameskip', version=4)), ('NameThisGame-v0', EnvSpec(id='NameThisGame-v0', entry_point='ale_py.env.gym:AtariEnv', reward_threshold=None, nondeterministic=False, max_episode_steps=None, order_enforce=True, autoreset=False, disable_env_checker=False, apply_api_compatibility=False, kwargs={'game': 'name_this_game', 'obs_type': 'rgb', 'repeat_action_probability': 0.25, 'full_action_space': False, 'max_num_frames_per_episode': 108000, 'frameskip': (2, 5)}, namespace=None, name='NameThisGame', version=0)), ('NameThisGameDeterministic-v0', EnvSpec(id='NameThisGameDeterministic-v0', entry_point='ale_py.env.gym:AtariEnv', reward_threshold=None, nondeterministic=False, max_episode_steps=None, order_enforce=True, autoreset=False, disable_env_checker=False, apply_api_compatibility=False, kwargs={'game': 'name_this_game', 'obs_type': 'rgb', 'repeat_action_probability': 0.25, 'full_action_space': False, 'max_num_frames_per_episode': 108000, 'frameskip': 4}, namespace=None, name='NameThisGameDeterministic', version=0)), ('NameThisGameNoFrameskip-v0', EnvSpec(id='NameThisGameNoFrameskip-v0', entry_point='ale_py.env.gym:AtariEnv', reward_threshold=None, nondeterministic=False, max_episode_steps=None, order_enforce=True, autoreset=False, disable_env_checker=False, apply_api_compatibility=False, kwargs={'game': 'name_this_game', 'obs_type': 'rgb', 'repeat_action_probability': 0.25, 'full_action_space': False, 'max_num_frames_per_episode': 108000, 'frameskip': 1}, namespace=None, name='NameThisGameNoFrameskip', version=0)), ('NameThisGame-v4', EnvSpec(id='NameThisGame-v4', entry_point='ale_py.env.gym:AtariEnv', reward_threshold=None, nondeterministic=False, max_episode_steps=None, order_enforce=True, autoreset=False, disable_env_checker=False, apply_api_compatibility=False, kwargs={'game': 'name_this_game', 'obs_type': 'rgb', 'repeat_action_probability': 0.0, 'full_action_space': False, 'max_num_frames_per_episode': 108000, 'frameskip': (2, 5)}, namespace=None, name='NameThisGame', version=4)), ('NameThisGameDeterministic-v4', EnvSpec(id='NameThisGameDeterministic-v4', entry_point='ale_py.env.gym:AtariEnv', reward_threshold=None, nondeterministic=False, max_episode_steps=None, order_enforce=True, autoreset=False, disable_env_checker=False, apply_api_compatibility=False, kwargs={'game': 'name_this_game', 'obs_type': 'rgb', 'repeat_action_probability': 0.0, 'full_action_space': False, 'max_num_frames_per_episode': 108000, 'frameskip': 4}, namespace=None, name='NameThisGameDeterministic', version=4)), ('NameThisGameNoFrameskip-v4', EnvSpec(id='NameThisGameNoFrameskip-v4', entry_point='ale_py.env.gym:AtariEnv', reward_threshold=None, nondeterministic=False, max_episode_steps=None, order_enforce=True, autoreset=False, disable_env_checker=False, apply_api_compatibility=False, kwargs={'game': 'name_this_game', 'obs_type': 'rgb', 'repeat_action_probability': 0.0, 'full_action_space': False, 'max_num_frames_per_episode': 108000, 'frameskip': 1}, namespace=None, name='NameThisGameNoFrameskip', version=4)), ('NameThisGame-ram-v0', EnvSpec(id='NameThisGame-ram-v0', entry_point='ale_py.env.gym:AtariEnv', reward_threshold=None, nondeterministic=False, max_episode_steps=None, order_enforce=True, autoreset=False, disable_env_checker=False, apply_api_compatibility=False, kwargs={'game': 'name_this_game', 'obs_type': 'ram', 'repeat_action_probability': 0.25, 'full_action_space': False, 'max_num_frames_per_episode': 108000, 'frameskip': (2, 5)}, namespace=None, name='NameThisGame-ram', version=0)), ('NameThisGame-ramDeterministic-v0', EnvSpec(id='NameThisGame-ramDeterministic-v0', entry_point='ale_py.env.gym:AtariEnv', reward_threshold=None, nondeterministic=False, max_episode_steps=None, order_enforce=True, autoreset=False, disable_env_checker=False, apply_api_compatibility=False, kwargs={'game': 'name_this_game', 'obs_type': 'ram', 'repeat_action_probability': 0.25, 'full_action_space': False, 'max_num_frames_per_episode': 108000, 'frameskip': 4}, namespace=None, name='NameThisGame-ramDeterministic', version=0)), ('NameThisGame-ramNoFrameskip-v0', EnvSpec(id='NameThisGame-ramNoFrameskip-v0', entry_point='ale_py.env.gym:AtariEnv', reward_threshold=None, nondeterministic=False, max_episode_steps=None, order_enforce=True, autoreset=False, disable_env_checker=False, apply_api_compatibility=False, kwargs={'game': 'name_this_game', 'obs_type': 'ram', 'repeat_action_probability': 0.25, 'full_action_space': False, 'max_num_frames_per_episode': 108000, 'frameskip': 1}, namespace=None, name='NameThisGame-ramNoFrameskip', version=0)), ('NameThisGame-ram-v4', EnvSpec(id='NameThisGame-ram-v4', entry_point='ale_py.env.gym:AtariEnv', reward_threshold=None, nondeterministic=False, max_episode_steps=None, order_enforce=True, autoreset=False, disable_env_checker=False, apply_api_compatibility=False, kwargs={'game': 'name_this_game', 'obs_type': 'ram', 'repeat_action_probability': 0.0, 'full_action_space': False, 'max_num_frames_per_episode': 108000, 'frameskip': (2, 5)}, namespace=None, name='NameThisGame-ram', version=4)), ('NameThisGame-ramDeterministic-v4', EnvSpec(id='NameThisGame-ramDeterministic-v4', entry_point='ale_py.env.gym:AtariEnv', reward_threshold=None, nondeterministic=False, max_episode_steps=None, order_enforce=True, autoreset=False, disable_env_checker=False, apply_api_compatibility=False, kwargs={'game': 'name_this_game', 'obs_type': 'ram', 'repeat_action_probability': 0.0, 'full_action_space': False, 'max_num_frames_per_episode': 108000, 'frameskip': 4}, namespace=None, name='NameThisGame-ramDeterministic', version=4)), ('NameThisGame-ramNoFrameskip-v4', EnvSpec(id='NameThisGame-ramNoFrameskip-v4', entry_point='ale_py.env.gym:AtariEnv', reward_threshold=None, nondeterministic=False, max_episode_steps=None, order_enforce=True, autoreset=False, disable_env_checker=False, apply_api_compatibility=False, kwargs={'game': 'name_this_game', 'obs_type': 'ram', 'repeat_action_probability': 0.0, 'full_action_space': False, 'max_num_frames_per_episode': 108000, 'frameskip': 1}, namespace=None, name='NameThisGame-ramNoFrameskip', version=4)), ('Phoenix-v0', EnvSpec(id='Phoenix-v0', entry_point='ale_py.env.gym:AtariEnv', reward_threshold=None, nondeterministic=False, max_episode_steps=None, order_enforce=True, autoreset=False, disable_env_checker=False, apply_api_compatibility=False, kwargs={'game': 'phoenix', 'obs_type': 'rgb', 'repeat_action_probability': 0.25, 'full_action_space': False, 'max_num_frames_per_episode': 108000, 'frameskip': (2, 5)}, namespace=None, name='Phoenix', version=0)), ('PhoenixDeterministic-v0', EnvSpec(id='PhoenixDeterministic-v0', entry_point='ale_py.env.gym:AtariEnv', reward_threshold=None, nondeterministic=False, max_episode_steps=None, order_enforce=True, autoreset=False, disable_env_checker=False, apply_api_compatibility=False, kwargs={'game': 'phoenix', 'obs_type': 'rgb', 'repeat_action_probability': 0.25, 'full_action_space': False, 'max_num_frames_per_episode': 108000, 'frameskip': 4}, namespace=None, name='PhoenixDeterministic', version=0)), ('PhoenixNoFrameskip-v0', EnvSpec(id='PhoenixNoFrameskip-v0', entry_point='ale_py.env.gym:AtariEnv', reward_threshold=None, nondeterministic=False, max_episode_steps=None, order_enforce=True, autoreset=False, disable_env_checker=False, apply_api_compatibility=False, kwargs={'game': 'phoenix', 'obs_type': 'rgb', 'repeat_action_probability': 0.25, 'full_action_space': False, 'max_num_frames_per_episode': 108000, 'frameskip': 1}, namespace=None, name='PhoenixNoFrameskip', version=0)), ('Phoenix-v4', EnvSpec(id='Phoenix-v4', entry_point='ale_py.env.gym:AtariEnv', reward_threshold=None, nondeterministic=False, max_episode_steps=None, order_enforce=True, autoreset=False, disable_env_checker=False, apply_api_compatibility=False, kwargs={'game': 'phoenix', 'obs_type': 'rgb', 'repeat_action_probability': 0.0, 'full_action_space': False, 'max_num_frames_per_episode': 108000, 'frameskip': (2, 5)}, namespace=None, name='Phoenix', version=4)), ('PhoenixDeterministic-v4', EnvSpec(id='PhoenixDeterministic-v4', entry_point='ale_py.env.gym:AtariEnv', reward_threshold=None, nondeterministic=False, max_episode_steps=None, order_enforce=True, autoreset=False, disable_env_checker=False, apply_api_compatibility=False, kwargs={'game': 'phoenix', 'obs_type': 'rgb', 'repeat_action_probability': 0.0, 'full_action_space': False, 'max_num_frames_per_episode': 108000, 'frameskip': 4}, namespace=None, name='PhoenixDeterministic', version=4)), ('PhoenixNoFrameskip-v4', EnvSpec(id='PhoenixNoFrameskip-v4', entry_point='ale_py.env.gym:AtariEnv', reward_threshold=None, nondeterministic=False, max_episode_steps=None, order_enforce=True, autoreset=False, disable_env_checker=False, apply_api_compatibility=False, kwargs={'game': 'phoenix', 'obs_type': 'rgb', 'repeat_action_probability': 0.0, 'full_action_space': False, 'max_num_frames_per_episode': 108000, 'frameskip': 1}, namespace=None, name='PhoenixNoFrameskip', version=4)), ('Phoenix-ram-v0', EnvSpec(id='Phoenix-ram-v0', entry_point='ale_py.env.gym:AtariEnv', reward_threshold=None, nondeterministic=False, max_episode_steps=None, order_enforce=True, autoreset=False, disable_env_checker=False, apply_api_compatibility=False, kwargs={'game': 'phoenix', 'obs_type': 'ram', 'repeat_action_probability': 0.25, 'full_action_space': False, 'max_num_frames_per_episode': 108000, 'frameskip': (2, 5)}, namespace=None, name='Phoenix-ram', version=0)), ('Phoenix-ramDeterministic-v0', EnvSpec(id='Phoenix-ramDeterministic-v0', entry_point='ale_py.env.gym:AtariEnv', reward_threshold=None, nondeterministic=False, max_episode_steps=None, order_enforce=True, autoreset=False, disable_env_checker=False, apply_api_compatibility=False, kwargs={'game': 'phoenix', 'obs_type': 'ram', 'repeat_action_probability': 0.25, 'full_action_space': False, 'max_num_frames_per_episode': 108000, 'frameskip': 4}, namespace=None, name='Phoenix-ramDeterministic', version=0)), ('Phoenix-ramNoFrameskip-v0', EnvSpec(id='Phoenix-ramNoFrameskip-v0', entry_point='ale_py.env.gym:AtariEnv', reward_threshold=None, nondeterministic=False, max_episode_steps=None, order_enforce=True, autoreset=False, disable_env_checker=False, apply_api_compatibility=False, kwargs={'game': 'phoenix', 'obs_type': 'ram', 'repeat_action_probability': 0.25, 'full_action_space': False, 'max_num_frames_per_episode': 108000, 'frameskip': 1}, namespace=None, name='Phoenix-ramNoFrameskip', version=0)), ('Phoenix-ram-v4', EnvSpec(id='Phoenix-ram-v4', entry_point='ale_py.env.gym:AtariEnv', reward_threshold=None, nondeterministic=False, max_episode_steps=None, order_enforce=True, autoreset=False, disable_env_checker=False, apply_api_compatibility=False, kwargs={'game': 'phoenix', 'obs_type': 'ram', 'repeat_action_probability': 0.0, 'full_action_space': False, 'max_num_frames_per_episode': 108000, 'frameskip': (2, 5)}, namespace=None, name='Phoenix-ram', version=4)), ('Phoenix-ramDeterministic-v4', EnvSpec(id='Phoenix-ramDeterministic-v4', entry_point='ale_py.env.gym:AtariEnv', reward_threshold=None, nondeterministic=False, max_episode_steps=None, order_enforce=True, autoreset=False, disable_env_checker=False, apply_api_compatibility=False, kwargs={'game': 'phoenix', 'obs_type': 'ram', 'repeat_action_probability': 0.0, 'full_action_space': False, 'max_num_frames_per_episode': 108000, 'frameskip': 4}, namespace=None, name='Phoenix-ramDeterministic', version=4)), ('Phoenix-ramNoFrameskip-v4', EnvSpec(id='Phoenix-ramNoFrameskip-v4', entry_point='ale_py.env.gym:AtariEnv', reward_threshold=None, nondeterministic=False, max_episode_steps=None, order_enforce=True, autoreset=False, disable_env_checker=False, apply_api_compatibility=False, kwargs={'game': 'phoenix', 'obs_type': 'ram', 'repeat_action_probability': 0.0, 'full_action_space': False, 'max_num_frames_per_episode': 108000, 'frameskip': 1}, namespace=None, name='Phoenix-ramNoFrameskip', version=4)), ('Pitfall-v0', EnvSpec(id='Pitfall-v0', entry_point='ale_py.env.gym:AtariEnv', reward_threshold=None, nondeterministic=False, max_episode_steps=None, order_enforce=True, autoreset=False, disable_env_checker=False, apply_api_compatibility=False, kwargs={'game': 'pitfall', 'obs_type': 'rgb', 'repeat_action_probability': 0.25, 'full_action_space': False, 'max_num_frames_per_episode': 108000, 'frameskip': (2, 5)}, namespace=None, name='Pitfall', version=0)), ('PitfallDeterministic-v0', EnvSpec(id='PitfallDeterministic-v0', entry_point='ale_py.env.gym:AtariEnv', reward_threshold=None, nondeterministic=False, max_episode_steps=None, order_enforce=True, autoreset=False, disable_env_checker=False, apply_api_compatibility=False, kwargs={'game': 'pitfall', 'obs_type': 'rgb', 'repeat_action_probability': 0.25, 'full_action_space': False, 'max_num_frames_per_episode': 108000, 'frameskip': 4}, namespace=None, name='PitfallDeterministic', version=0)), ('PitfallNoFrameskip-v0', EnvSpec(id='PitfallNoFrameskip-v0', entry_point='ale_py.env.gym:AtariEnv', reward_threshold=None, nondeterministic=False, max_episode_steps=None, order_enforce=True, autoreset=False, disable_env_checker=False, apply_api_compatibility=False, kwargs={'game': 'pitfall', 'obs_type': 'rgb', 'repeat_action_probability': 0.25, 'full_action_space': False, 'max_num_frames_per_episode': 108000, 'frameskip': 1}, namespace=None, name='PitfallNoFrameskip', version=0)), ('Pitfall-v4', EnvSpec(id='Pitfall-v4', entry_point='ale_py.env.gym:AtariEnv', reward_threshold=None, nondeterministic=False, max_episode_steps=None, order_enforce=True, autoreset=False, disable_env_checker=False, apply_api_compatibility=False, kwargs={'game': 'pitfall', 'obs_type': 'rgb', 'repeat_action_probability': 0.0, 'full_action_space': False, 'max_num_frames_per_episode': 108000, 'frameskip': (2, 5)}, namespace=None, name='Pitfall', version=4)), ('PitfallDeterministic-v4', EnvSpec(id='PitfallDeterministic-v4', entry_point='ale_py.env.gym:AtariEnv', reward_threshold=None, nondeterministic=False, max_episode_steps=None, order_enforce=True, autoreset=False, disable_env_checker=False, apply_api_compatibility=False, kwargs={'game': 'pitfall', 'obs_type': 'rgb', 'repeat_action_probability': 0.0, 'full_action_space': False, 'max_num_frames_per_episode': 108000, 'frameskip': 4}, namespace=None, name='PitfallDeterministic', version=4)), ('PitfallNoFrameskip-v4', EnvSpec(id='PitfallNoFrameskip-v4', entry_point='ale_py.env.gym:AtariEnv', reward_threshold=None, nondeterministic=False, max_episode_steps=None, order_enforce=True, autoreset=False, disable_env_checker=False, apply_api_compatibility=False, kwargs={'game': 'pitfall', 'obs_type': 'rgb', 'repeat_action_probability': 0.0, 'full_action_space': False, 'max_num_frames_per_episode': 108000, 'frameskip': 1}, namespace=None, name='PitfallNoFrameskip', version=4)), ('Pitfall-ram-v0', EnvSpec(id='Pitfall-ram-v0', entry_point='ale_py.env.gym:AtariEnv', reward_threshold=None, nondeterministic=False, max_episode_steps=None, order_enforce=True, autoreset=False, disable_env_checker=False, apply_api_compatibility=False, kwargs={'game': 'pitfall', 'obs_type': 'ram', 'repeat_action_probability': 0.25, 'full_action_space': False, 'max_num_frames_per_episode': 108000, 'frameskip': (2, 5)}, namespace=None, name='Pitfall-ram', version=0)), ('Pitfall-ramDeterministic-v0', EnvSpec(id='Pitfall-ramDeterministic-v0', entry_point='ale_py.env.gym:AtariEnv', reward_threshold=None, nondeterministic=False, max_episode_steps=None, order_enforce=True, autoreset=False, disable_env_checker=False, apply_api_compatibility=False, kwargs={'game': 'pitfall', 'obs_type': 'ram', 'repeat_action_probability': 0.25, 'full_action_space': False, 'max_num_frames_per_episode': 108000, 'frameskip': 4}, namespace=None, name='Pitfall-ramDeterministic', version=0)), ('Pitfall-ramNoFrameskip-v0', EnvSpec(id='Pitfall-ramNoFrameskip-v0', entry_point='ale_py.env.gym:AtariEnv', reward_threshold=None, nondeterministic=False, max_episode_steps=None, order_enforce=True, autoreset=False, disable_env_checker=False, apply_api_compatibility=False, kwargs={'game': 'pitfall', 'obs_type': 'ram', 'repeat_action_probability': 0.25, 'full_action_space': False, 'max_num_frames_per_episode': 108000, 'frameskip': 1}, namespace=None, name='Pitfall-ramNoFrameskip', version=0)), ('Pitfall-ram-v4', EnvSpec(id='Pitfall-ram-v4', entry_point='ale_py.env.gym:AtariEnv', reward_threshold=None, nondeterministic=False, max_episode_steps=None, order_enforce=True, autoreset=False, disable_env_checker=False, apply_api_compatibility=False, kwargs={'game': 'pitfall', 'obs_type': 'ram', 'repeat_action_probability': 0.0, 'full_action_space': False, 'max_num_frames_per_episode': 108000, 'frameskip': (2, 5)}, namespace=None, name='Pitfall-ram', version=4)), ('Pitfall-ramDeterministic-v4', EnvSpec(id='Pitfall-ramDeterministic-v4', entry_point='ale_py.env.gym:AtariEnv', reward_threshold=None, nondeterministic=False, max_episode_steps=None, order_enforce=True, autoreset=False, disable_env_checker=False, apply_api_compatibility=False, kwargs={'game': 'pitfall', 'obs_type': 'ram', 'repeat_action_probability': 0.0, 'full_action_space': False, 'max_num_frames_per_episode': 108000, 'frameskip': 4}, namespace=None, name='Pitfall-ramDeterministic', version=4)), ('Pitfall-ramNoFrameskip-v4', EnvSpec(id='Pitfall-ramNoFrameskip-v4', entry_point='ale_py.env.gym:AtariEnv', reward_threshold=None, nondeterministic=False, max_episode_steps=None, order_enforce=True, autoreset=False, disable_env_checker=False, apply_api_compatibility=False, kwargs={'game': 'pitfall', 'obs_type': 'ram', 'repeat_action_probability': 0.0, 'full_action_space': False, 'max_num_frames_per_episode': 108000, 'frameskip': 1}, namespace=None, name='Pitfall-ramNoFrameskip', version=4)), ('Pong-v0', EnvSpec(id='Pong-v0', entry_point='ale_py.env.gym:AtariEnv', reward_threshold=None, nondeterministic=False, max_episode_steps=None, order_enforce=True, autoreset=False, disable_env_checker=False, apply_api_compatibility=False, kwargs={'game': 'pong', 'obs_type': 'rgb', 'repeat_action_probability': 0.25, 'full_action_space': False, 'max_num_frames_per_episode': 108000, 'frameskip': (2, 5)}, namespace=None, name='Pong', version=0)), ('PongDeterministic-v0', EnvSpec(id='PongDeterministic-v0', entry_point='ale_py.env.gym:AtariEnv', reward_threshold=None, nondeterministic=False, max_episode_steps=None, order_enforce=True, autoreset=False, disable_env_checker=False, apply_api_compatibility=False, kwargs={'game': 'pong', 'obs_type': 'rgb', 'repeat_action_probability': 0.25, 'full_action_space': False, 'max_num_frames_per_episode': 108000, 'frameskip': 4}, namespace=None, name='PongDeterministic', version=0)), ('PongNoFrameskip-v0', EnvSpec(id='PongNoFrameskip-v0', entry_point='ale_py.env.gym:AtariEnv', reward_threshold=None, nondeterministic=False, max_episode_steps=None, order_enforce=True, autoreset=False, disable_env_checker=False, apply_api_compatibility=False, kwargs={'game': 'pong', 'obs_type': 'rgb', 'repeat_action_probability': 0.25, 'full_action_space': False, 'max_num_frames_per_episode': 108000, 'frameskip': 1}, namespace=None, name='PongNoFrameskip', version=0)), ('Pong-v4', EnvSpec(id='Pong-v4', entry_point='ale_py.env.gym:AtariEnv', reward_threshold=None, nondeterministic=False, max_episode_steps=None, order_enforce=True, autoreset=False, disable_env_checker=False, apply_api_compatibility=False, kwargs={'game': 'pong', 'obs_type': 'rgb', 'repeat_action_probability': 0.0, 'full_action_space': False, 'max_num_frames_per_episode': 108000, 'frameskip': (2, 5)}, namespace=None, name='Pong', version=4)), ('PongDeterministic-v4', EnvSpec(id='PongDeterministic-v4', entry_point='ale_py.env.gym:AtariEnv', reward_threshold=None, nondeterministic=False, max_episode_steps=None, order_enforce=True, autoreset=False, disable_env_checker=False, apply_api_compatibility=False, kwargs={'game': 'pong', 'obs_type': 'rgb', 'repeat_action_probability': 0.0, 'full_action_space': False, 'max_num_frames_per_episode': 108000, 'frameskip': 4}, namespace=None, name='PongDeterministic', version=4)), ('PongNoFrameskip-v4', EnvSpec(id='PongNoFrameskip-v4', entry_point='ale_py.env.gym:AtariEnv', reward_threshold=None, nondeterministic=False, max_episode_steps=None, order_enforce=True, autoreset=False, disable_env_checker=False, apply_api_compatibility=False, kwargs={'game': 'pong', 'obs_type': 'rgb', 'repeat_action_probability': 0.0, 'full_action_space': False, 'max_num_frames_per_episode': 108000, 'frameskip': 1}, namespace=None, name='PongNoFrameskip', version=4)), ('Pong-ram-v0', EnvSpec(id='Pong-ram-v0', entry_point='ale_py.env.gym:AtariEnv', reward_threshold=None, nondeterministic=False, max_episode_steps=None, order_enforce=True, autoreset=False, disable_env_checker=False, apply_api_compatibility=False, kwargs={'game': 'pong', 'obs_type': 'ram', 'repeat_action_probability': 0.25, 'full_action_space': False, 'max_num_frames_per_episode': 108000, 'frameskip': (2, 5)}, namespace=None, name='Pong-ram', version=0)), ('Pong-ramDeterministic-v0', EnvSpec(id='Pong-ramDeterministic-v0', entry_point='ale_py.env.gym:AtariEnv', reward_threshold=None, nondeterministic=False, max_episode_steps=None, order_enforce=True, autoreset=False, disable_env_checker=False, apply_api_compatibility=False, kwargs={'game': 'pong', 'obs_type': 'ram', 'repeat_action_probability': 0.25, 'full_action_space': False, 'max_num_frames_per_episode': 108000, 'frameskip': 4}, namespace=None, name='Pong-ramDeterministic', version=0)), ('Pong-ramNoFrameskip-v0', EnvSpec(id='Pong-ramNoFrameskip-v0', entry_point='ale_py.env.gym:AtariEnv', reward_threshold=None, nondeterministic=False, max_episode_steps=None, order_enforce=True, autoreset=False, disable_env_checker=False, apply_api_compatibility=False, kwargs={'game': 'pong', 'obs_type': 'ram', 'repeat_action_probability': 0.25, 'full_action_space': False, 'max_num_frames_per_episode': 108000, 'frameskip': 1}, namespace=None, name='Pong-ramNoFrameskip', version=0)), ('Pong-ram-v4', EnvSpec(id='Pong-ram-v4', entry_point='ale_py.env.gym:AtariEnv', reward_threshold=None, nondeterministic=False, max_episode_steps=None, order_enforce=True, autoreset=False, disable_env_checker=False, apply_api_compatibility=False, kwargs={'game': 'pong', 'obs_type': 'ram', 'repeat_action_probability': 0.0, 'full_action_space': False, 'max_num_frames_per_episode': 108000, 'frameskip': (2, 5)}, namespace=None, name='Pong-ram', version=4)), ('Pong-ramDeterministic-v4', EnvSpec(id='Pong-ramDeterministic-v4', entry_point='ale_py.env.gym:AtariEnv', reward_threshold=None, nondeterministic=False, max_episode_steps=None, order_enforce=True, autoreset=False, disable_env_checker=False, apply_api_compatibility=False, kwargs={'game': 'pong', 'obs_type': 'ram', 'repeat_action_probability': 0.0, 'full_action_space': False, 'max_num_frames_per_episode': 108000, 'frameskip': 4}, namespace=None, name='Pong-ramDeterministic', version=4)), ('Pong-ramNoFrameskip-v4', EnvSpec(id='Pong-ramNoFrameskip-v4', entry_point='ale_py.env.gym:AtariEnv', reward_threshold=None, nondeterministic=False, max_episode_steps=None, order_enforce=True, autoreset=False, disable_env_checker=False, apply_api_compatibility=False, kwargs={'game': 'pong', 'obs_type': 'ram', 'repeat_action_probability': 0.0, 'full_action_space': False, 'max_num_frames_per_episode': 108000, 'frameskip': 1}, namespace=None, name='Pong-ramNoFrameskip', version=4)), ('Pooyan-v0', EnvSpec(id='Pooyan-v0', entry_point='ale_py.env.gym:AtariEnv', reward_threshold=None, nondeterministic=False, max_episode_steps=None, order_enforce=True, autoreset=False, disable_env_checker=False, apply_api_compatibility=False, kwargs={'game': 'pooyan', 'obs_type': 'rgb', 'repeat_action_probability': 0.25, 'full_action_space': False, 'max_num_frames_per_episode': 108000, 'frameskip': (2, 5)}, namespace=None, name='Pooyan', version=0)), ('PooyanDeterministic-v0', EnvSpec(id='PooyanDeterministic-v0', entry_point='ale_py.env.gym:AtariEnv', reward_threshold=None, nondeterministic=False, max_episode_steps=None, order_enforce=True, autoreset=False, disable_env_checker=False, apply_api_compatibility=False, kwargs={'game': 'pooyan', 'obs_type': 'rgb', 'repeat_action_probability': 0.25, 'full_action_space': False, 'max_num_frames_per_episode': 108000, 'frameskip': 4}, namespace=None, name='PooyanDeterministic', version=0)), ('PooyanNoFrameskip-v0', EnvSpec(id='PooyanNoFrameskip-v0', entry_point='ale_py.env.gym:AtariEnv', reward_threshold=None, nondeterministic=False, max_episode_steps=None, order_enforce=True, autoreset=False, disable_env_checker=False, apply_api_compatibility=False, kwargs={'game': 'pooyan', 'obs_type': 'rgb', 'repeat_action_probability': 0.25, 'full_action_space': False, 'max_num_frames_per_episode': 108000, 'frameskip': 1}, namespace=None, name='PooyanNoFrameskip', version=0)), ('Pooyan-v4', EnvSpec(id='Pooyan-v4', entry_point='ale_py.env.gym:AtariEnv', reward_threshold=None, nondeterministic=False, max_episode_steps=None, order_enforce=True, autoreset=False, disable_env_checker=False, apply_api_compatibility=False, kwargs={'game': 'pooyan', 'obs_type': 'rgb', 'repeat_action_probability': 0.0, 'full_action_space': False, 'max_num_frames_per_episode': 108000, 'frameskip': (2, 5)}, namespace=None, name='Pooyan', version=4)), ('PooyanDeterministic-v4', EnvSpec(id='PooyanDeterministic-v4', entry_point='ale_py.env.gym:AtariEnv', reward_threshold=None, nondeterministic=False, max_episode_steps=None, order_enforce=True, autoreset=False, disable_env_checker=False, apply_api_compatibility=False, kwargs={'game': 'pooyan', 'obs_type': 'rgb', 'repeat_action_probability': 0.0, 'full_action_space': False, 'max_num_frames_per_episode': 108000, 'frameskip': 4}, namespace=None, name='PooyanDeterministic', version=4)), ('PooyanNoFrameskip-v4', EnvSpec(id='PooyanNoFrameskip-v4', entry_point='ale_py.env.gym:AtariEnv', reward_threshold=None, nondeterministic=False, max_episode_steps=None, order_enforce=True, autoreset=False, disable_env_checker=False, apply_api_compatibility=False, kwargs={'game': 'pooyan', 'obs_type': 'rgb', 'repeat_action_probability': 0.0, 'full_action_space': False, 'max_num_frames_per_episode': 108000, 'frameskip': 1}, namespace=None, name='PooyanNoFrameskip', version=4)), ('Pooyan-ram-v0', EnvSpec(id='Pooyan-ram-v0', entry_point='ale_py.env.gym:AtariEnv', reward_threshold=None, nondeterministic=False, max_episode_steps=None, order_enforce=True, autoreset=False, disable_env_checker=False, apply_api_compatibility=False, kwargs={'game': 'pooyan', 'obs_type': 'ram', 'repeat_action_probability': 0.25, 'full_action_space': False, 'max_num_frames_per_episode': 108000, 'frameskip': (2, 5)}, namespace=None, name='Pooyan-ram', version=0)), ('Pooyan-ramDeterministic-v0', EnvSpec(id='Pooyan-ramDeterministic-v0', entry_point='ale_py.env.gym:AtariEnv', reward_threshold=None, nondeterministic=False, max_episode_steps=None, order_enforce=True, autoreset=False, disable_env_checker=False, apply_api_compatibility=False, kwargs={'game': 'pooyan', 'obs_type': 'ram', 'repeat_action_probability': 0.25, 'full_action_space': False, 'max_num_frames_per_episode': 108000, 'frameskip': 4}, namespace=None, name='Pooyan-ramDeterministic', version=0)), ('Pooyan-ramNoFrameskip-v0', EnvSpec(id='Pooyan-ramNoFrameskip-v0', entry_point='ale_py.env.gym:AtariEnv', reward_threshold=None, nondeterministic=False, max_episode_steps=None, order_enforce=True, autoreset=False, disable_env_checker=False, apply_api_compatibility=False, kwargs={'game': 'pooyan', 'obs_type': 'ram', 'repeat_action_probability': 0.25, 'full_action_space': False, 'max_num_frames_per_episode': 108000, 'frameskip': 1}, namespace=None, name='Pooyan-ramNoFrameskip', version=0)), ('Pooyan-ram-v4', EnvSpec(id='Pooyan-ram-v4', entry_point='ale_py.env.gym:AtariEnv', reward_threshold=None, nondeterministic=False, max_episode_steps=None, order_enforce=True, autoreset=False, disable_env_checker=False, apply_api_compatibility=False, kwargs={'game': 'pooyan', 'obs_type': 'ram', 'repeat_action_probability': 0.0, 'full_action_space': False, 'max_num_frames_per_episode': 108000, 'frameskip': (2, 5)}, namespace=None, name='Pooyan-ram', version=4)), ('Pooyan-ramDeterministic-v4', EnvSpec(id='Pooyan-ramDeterministic-v4', entry_point='ale_py.env.gym:AtariEnv', reward_threshold=None, nondeterministic=False, max_episode_steps=None, order_enforce=True, autoreset=False, disable_env_checker=False, apply_api_compatibility=False, kwargs={'game': 'pooyan', 'obs_type': 'ram', 'repeat_action_probability': 0.0, 'full_action_space': False, 'max_num_frames_per_episode': 108000, 'frameskip': 4}, namespace=None, name='Pooyan-ramDeterministic', version=4)), ('Pooyan-ramNoFrameskip-v4', EnvSpec(id='Pooyan-ramNoFrameskip-v4', entry_point='ale_py.env.gym:AtariEnv', reward_threshold=None, nondeterministic=False, max_episode_steps=None, order_enforce=True, autoreset=False, disable_env_checker=False, apply_api_compatibility=False, kwargs={'game': 'pooyan', 'obs_type': 'ram', 'repeat_action_probability': 0.0, 'full_action_space': False, 'max_num_frames_per_episode': 108000, 'frameskip': 1}, namespace=None, name='Pooyan-ramNoFrameskip', version=4)), ('PrivateEye-v0', EnvSpec(id='PrivateEye-v0', entry_point='ale_py.env.gym:AtariEnv', reward_threshold=None, nondeterministic=False, max_episode_steps=None, order_enforce=True, autoreset=False, disable_env_checker=False, apply_api_compatibility=False, kwargs={'game': 'private_eye', 'obs_type': 'rgb', 'repeat_action_probability': 0.25, 'full_action_space': False, 'max_num_frames_per_episode': 108000, 'frameskip': (2, 5)}, namespace=None, name='PrivateEye', version=0)), ('PrivateEyeDeterministic-v0', EnvSpec(id='PrivateEyeDeterministic-v0', entry_point='ale_py.env.gym:AtariEnv', reward_threshold=None, nondeterministic=False, max_episode_steps=None, order_enforce=True, autoreset=False, disable_env_checker=False, apply_api_compatibility=False, kwargs={'game': 'private_eye', 'obs_type': 'rgb', 'repeat_action_probability': 0.25, 'full_action_space': False, 'max_num_frames_per_episode': 108000, 'frameskip': 4}, namespace=None, name='PrivateEyeDeterministic', version=0)), ('PrivateEyeNoFrameskip-v0', EnvSpec(id='PrivateEyeNoFrameskip-v0', entry_point='ale_py.env.gym:AtariEnv', reward_threshold=None, nondeterministic=False, max_episode_steps=None, order_enforce=True, autoreset=False, disable_env_checker=False, apply_api_compatibility=False, kwargs={'game': 'private_eye', 'obs_type': 'rgb', 'repeat_action_probability': 0.25, 'full_action_space': False, 'max_num_frames_per_episode': 108000, 'frameskip': 1}, namespace=None, name='PrivateEyeNoFrameskip', version=0)), ('PrivateEye-v4', EnvSpec(id='PrivateEye-v4', entry_point='ale_py.env.gym:AtariEnv', reward_threshold=None, nondeterministic=False, max_episode_steps=None, order_enforce=True, autoreset=False, disable_env_checker=False, apply_api_compatibility=False, kwargs={'game': 'private_eye', 'obs_type': 'rgb', 'repeat_action_probability': 0.0, 'full_action_space': False, 'max_num_frames_per_episode': 108000, 'frameskip': (2, 5)}, namespace=None, name='PrivateEye', version=4)), ('PrivateEyeDeterministic-v4', EnvSpec(id='PrivateEyeDeterministic-v4', entry_point='ale_py.env.gym:AtariEnv', reward_threshold=None, nondeterministic=False, max_episode_steps=None, order_enforce=True, autoreset=False, disable_env_checker=False, apply_api_compatibility=False, kwargs={'game': 'private_eye', 'obs_type': 'rgb', 'repeat_action_probability': 0.0, 'full_action_space': False, 'max_num_frames_per_episode': 108000, 'frameskip': 4}, namespace=None, name='PrivateEyeDeterministic', version=4)), ('PrivateEyeNoFrameskip-v4', EnvSpec(id='PrivateEyeNoFrameskip-v4', entry_point='ale_py.env.gym:AtariEnv', reward_threshold=None, nondeterministic=False, max_episode_steps=None, order_enforce=True, autoreset=False, disable_env_checker=False, apply_api_compatibility=False, kwargs={'game': 'private_eye', 'obs_type': 'rgb', 'repeat_action_probability': 0.0, 'full_action_space': False, 'max_num_frames_per_episode': 108000, 'frameskip': 1}, namespace=None, name='PrivateEyeNoFrameskip', version=4)), ('PrivateEye-ram-v0', EnvSpec(id='PrivateEye-ram-v0', entry_point='ale_py.env.gym:AtariEnv', reward_threshold=None, nondeterministic=False, max_episode_steps=None, order_enforce=True, autoreset=False, disable_env_checker=False, apply_api_compatibility=False, kwargs={'game': 'private_eye', 'obs_type': 'ram', 'repeat_action_probability': 0.25, 'full_action_space': False, 'max_num_frames_per_episode': 108000, 'frameskip': (2, 5)}, namespace=None, name='PrivateEye-ram', version=0)), ('PrivateEye-ramDeterministic-v0', EnvSpec(id='PrivateEye-ramDeterministic-v0', entry_point='ale_py.env.gym:AtariEnv', reward_threshold=None, nondeterministic=False, max_episode_steps=None, order_enforce=True, autoreset=False, disable_env_checker=False, apply_api_compatibility=False, kwargs={'game': 'private_eye', 'obs_type': 'ram', 'repeat_action_probability': 0.25, 'full_action_space': False, 'max_num_frames_per_episode': 108000, 'frameskip': 4}, namespace=None, name='PrivateEye-ramDeterministic', version=0)), ('PrivateEye-ramNoFrameskip-v0', EnvSpec(id='PrivateEye-ramNoFrameskip-v0', entry_point='ale_py.env.gym:AtariEnv', reward_threshold=None, nondeterministic=False, max_episode_steps=None, order_enforce=True, autoreset=False, disable_env_checker=False, apply_api_compatibility=False, kwargs={'game': 'private_eye', 'obs_type': 'ram', 'repeat_action_probability': 0.25, 'full_action_space': False, 'max_num_frames_per_episode': 108000, 'frameskip': 1}, namespace=None, name='PrivateEye-ramNoFrameskip', version=0)), ('PrivateEye-ram-v4', EnvSpec(id='PrivateEye-ram-v4', entry_point='ale_py.env.gym:AtariEnv', reward_threshold=None, nondeterministic=False, max_episode_steps=None, order_enforce=True, autoreset=False, disable_env_checker=False, apply_api_compatibility=False, kwargs={'game': 'private_eye', 'obs_type': 'ram', 'repeat_action_probability': 0.0, 'full_action_space': False, 'max_num_frames_per_episode': 108000, 'frameskip': (2, 5)}, namespace=None, name='PrivateEye-ram', version=4)), ('PrivateEye-ramDeterministic-v4', EnvSpec(id='PrivateEye-ramDeterministic-v4', entry_point='ale_py.env.gym:AtariEnv', reward_threshold=None, nondeterministic=False, max_episode_steps=None, order_enforce=True, autoreset=False, disable_env_checker=False, apply_api_compatibility=False, kwargs={'game': 'private_eye', 'obs_type': 'ram', 'repeat_action_probability': 0.0, 'full_action_space': False, 'max_num_frames_per_episode': 108000, 'frameskip': 4}, namespace=None, name='PrivateEye-ramDeterministic', version=4)), ('PrivateEye-ramNoFrameskip-v4', EnvSpec(id='PrivateEye-ramNoFrameskip-v4', entry_point='ale_py.env.gym:AtariEnv', reward_threshold=None, nondeterministic=False, max_episode_steps=None, order_enforce=True, autoreset=False, disable_env_checker=False, apply_api_compatibility=False, kwargs={'game': 'private_eye', 'obs_type': 'ram', 'repeat_action_probability': 0.0, 'full_action_space': False, 'max_num_frames_per_episode': 108000, 'frameskip': 1}, namespace=None, name='PrivateEye-ramNoFrameskip', version=4)), ('Qbert-v0', EnvSpec(id='Qbert-v0', entry_point='ale_py.env.gym:AtariEnv', reward_threshold=None, nondeterministic=False, max_episode_steps=None, order_enforce=True, autoreset=False, disable_env_checker=False, apply_api_compatibility=False, kwargs={'game': 'qbert', 'obs_type': 'rgb', 'repeat_action_probability': 0.25, 'full_action_space': False, 'max_num_frames_per_episode': 108000, 'frameskip': (2, 5)}, namespace=None, name='Qbert', version=0)), ('QbertDeterministic-v0', EnvSpec(id='QbertDeterministic-v0', entry_point='ale_py.env.gym:AtariEnv', reward_threshold=None, nondeterministic=False, max_episode_steps=None, order_enforce=True, autoreset=False, disable_env_checker=False, apply_api_compatibility=False, kwargs={'game': 'qbert', 'obs_type': 'rgb', 'repeat_action_probability': 0.25, 'full_action_space': False, 'max_num_frames_per_episode': 108000, 'frameskip': 4}, namespace=None, name='QbertDeterministic', version=0)), ('QbertNoFrameskip-v0', EnvSpec(id='QbertNoFrameskip-v0', entry_point='ale_py.env.gym:AtariEnv', reward_threshold=None, nondeterministic=False, max_episode_steps=None, order_enforce=True, autoreset=False, disable_env_checker=False, apply_api_compatibility=False, kwargs={'game': 'qbert', 'obs_type': 'rgb', 'repeat_action_probability': 0.25, 'full_action_space': False, 'max_num_frames_per_episode': 108000, 'frameskip': 1}, namespace=None, name='QbertNoFrameskip', version=0)), ('Qbert-v4', EnvSpec(id='Qbert-v4', entry_point='ale_py.env.gym:AtariEnv', reward_threshold=None, nondeterministic=False, max_episode_steps=None, order_enforce=True, autoreset=False, disable_env_checker=False, apply_api_compatibility=False, kwargs={'game': 'qbert', 'obs_type': 'rgb', 'repeat_action_probability': 0.0, 'full_action_space': False, 'max_num_frames_per_episode': 108000, 'frameskip': (2, 5)}, namespace=None, name='Qbert', version=4)), ('QbertDeterministic-v4', EnvSpec(id='QbertDeterministic-v4', entry_point='ale_py.env.gym:AtariEnv', reward_threshold=None, nondeterministic=False, max_episode_steps=None, order_enforce=True, autoreset=False, disable_env_checker=False, apply_api_compatibility=False, kwargs={'game': 'qbert', 'obs_type': 'rgb', 'repeat_action_probability': 0.0, 'full_action_space': False, 'max_num_frames_per_episode': 108000, 'frameskip': 4}, namespace=None, name='QbertDeterministic', version=4)), ('QbertNoFrameskip-v4', EnvSpec(id='QbertNoFrameskip-v4', entry_point='ale_py.env.gym:AtariEnv', reward_threshold=None, nondeterministic=False, max_episode_steps=None, order_enforce=True, autoreset=False, disable_env_checker=False, apply_api_compatibility=False, kwargs={'game': 'qbert', 'obs_type': 'rgb', 'repeat_action_probability': 0.0, 'full_action_space': False, 'max_num_frames_per_episode': 108000, 'frameskip': 1}, namespace=None, name='QbertNoFrameskip', version=4)), ('Qbert-ram-v0', EnvSpec(id='Qbert-ram-v0', entry_point='ale_py.env.gym:AtariEnv', reward_threshold=None, nondeterministic=False, max_episode_steps=None, order_enforce=True, autoreset=False, disable_env_checker=False, apply_api_compatibility=False, kwargs={'game': 'qbert', 'obs_type': 'ram', 'repeat_action_probability': 0.25, 'full_action_space': False, 'max_num_frames_per_episode': 108000, 'frameskip': (2, 5)}, namespace=None, name='Qbert-ram', version=0)), ('Qbert-ramDeterministic-v0', EnvSpec(id='Qbert-ramDeterministic-v0', entry_point='ale_py.env.gym:AtariEnv', reward_threshold=None, nondeterministic=False, max_episode_steps=None, order_enforce=True, autoreset=False, disable_env_checker=False, apply_api_compatibility=False, kwargs={'game': 'qbert', 'obs_type': 'ram', 'repeat_action_probability': 0.25, 'full_action_space': False, 'max_num_frames_per_episode': 108000, 'frameskip': 4}, namespace=None, name='Qbert-ramDeterministic', version=0)), ('Qbert-ramNoFrameskip-v0', EnvSpec(id='Qbert-ramNoFrameskip-v0', entry_point='ale_py.env.gym:AtariEnv', reward_threshold=None, nondeterministic=False, max_episode_steps=None, order_enforce=True, autoreset=False, disable_env_checker=False, apply_api_compatibility=False, kwargs={'game': 'qbert', 'obs_type': 'ram', 'repeat_action_probability': 0.25, 'full_action_space': False, 'max_num_frames_per_episode': 108000, 'frameskip': 1}, namespace=None, name='Qbert-ramNoFrameskip', version=0)), ('Qbert-ram-v4', EnvSpec(id='Qbert-ram-v4', entry_point='ale_py.env.gym:AtariEnv', reward_threshold=None, nondeterministic=False, max_episode_steps=None, order_enforce=True, autoreset=False, disable_env_checker=False, apply_api_compatibility=False, kwargs={'game': 'qbert', 'obs_type': 'ram', 'repeat_action_probability': 0.0, 'full_action_space': False, 'max_num_frames_per_episode': 108000, 'frameskip': (2, 5)}, namespace=None, name='Qbert-ram', version=4)), ('Qbert-ramDeterministic-v4', EnvSpec(id='Qbert-ramDeterministic-v4', entry_point='ale_py.env.gym:AtariEnv', reward_threshold=None, nondeterministic=False, max_episode_steps=None, order_enforce=True, autoreset=False, disable_env_checker=False, apply_api_compatibility=False, kwargs={'game': 'qbert', 'obs_type': 'ram', 'repeat_action_probability': 0.0, 'full_action_space': False, 'max_num_frames_per_episode': 108000, 'frameskip': 4}, namespace=None, name='Qbert-ramDeterministic', version=4)), ('Qbert-ramNoFrameskip-v4', EnvSpec(id='Qbert-ramNoFrameskip-v4', entry_point='ale_py.env.gym:AtariEnv', reward_threshold=None, nondeterministic=False, max_episode_steps=None, order_enforce=True, autoreset=False, disable_env_checker=False, apply_api_compatibility=False, kwargs={'game': 'qbert', 'obs_type': 'ram', 'repeat_action_probability': 0.0, 'full_action_space': False, 'max_num_frames_per_episode': 108000, 'frameskip': 1}, namespace=None, name='Qbert-ramNoFrameskip', version=4)), ('Riverraid-v0', EnvSpec(id='Riverraid-v0', entry_point='ale_py.env.gym:AtariEnv', reward_threshold=None, nondeterministic=False, max_episode_steps=None, order_enforce=True, autoreset=False, disable_env_checker=False, apply_api_compatibility=False, kwargs={'game': 'riverraid', 'obs_type': 'rgb', 'repeat_action_probability': 0.25, 'full_action_space': False, 'max_num_frames_per_episode': 108000, 'frameskip': (2, 5)}, namespace=None, name='Riverraid', version=0)), ('RiverraidDeterministic-v0', EnvSpec(id='RiverraidDeterministic-v0', entry_point='ale_py.env.gym:AtariEnv', reward_threshold=None, nondeterministic=False, max_episode_steps=None, order_enforce=True, autoreset=False, disable_env_checker=False, apply_api_compatibility=False, kwargs={'game': 'riverraid', 'obs_type': 'rgb', 'repeat_action_probability': 0.25, 'full_action_space': False, 'max_num_frames_per_episode': 108000, 'frameskip': 4}, namespace=None, name='RiverraidDeterministic', version=0)), ('RiverraidNoFrameskip-v0', EnvSpec(id='RiverraidNoFrameskip-v0', entry_point='ale_py.env.gym:AtariEnv', reward_threshold=None, nondeterministic=False, max_episode_steps=None, order_enforce=True, autoreset=False, disable_env_checker=False, apply_api_compatibility=False, kwargs={'game': 'riverraid', 'obs_type': 'rgb', 'repeat_action_probability': 0.25, 'full_action_space': False, 'max_num_frames_per_episode': 108000, 'frameskip': 1}, namespace=None, name='RiverraidNoFrameskip', version=0)), ('Riverraid-v4', EnvSpec(id='Riverraid-v4', entry_point='ale_py.env.gym:AtariEnv', reward_threshold=None, nondeterministic=False, max_episode_steps=None, order_enforce=True, autoreset=False, disable_env_checker=False, apply_api_compatibility=False, kwargs={'game': 'riverraid', 'obs_type': 'rgb', 'repeat_action_probability': 0.0, 'full_action_space': False, 'max_num_frames_per_episode': 108000, 'frameskip': (2, 5)}, namespace=None, name='Riverraid', version=4)), ('RiverraidDeterministic-v4', EnvSpec(id='RiverraidDeterministic-v4', entry_point='ale_py.env.gym:AtariEnv', reward_threshold=None, nondeterministic=False, max_episode_steps=None, order_enforce=True, autoreset=False, disable_env_checker=False, apply_api_compatibility=False, kwargs={'game': 'riverraid', 'obs_type': 'rgb', 'repeat_action_probability': 0.0, 'full_action_space': False, 'max_num_frames_per_episode': 108000, 'frameskip': 4}, namespace=None, name='RiverraidDeterministic', version=4)), ('RiverraidNoFrameskip-v4', EnvSpec(id='RiverraidNoFrameskip-v4', entry_point='ale_py.env.gym:AtariEnv', reward_threshold=None, nondeterministic=False, max_episode_steps=None, order_enforce=True, autoreset=False, disable_env_checker=False, apply_api_compatibility=False, kwargs={'game': 'riverraid', 'obs_type': 'rgb', 'repeat_action_probability': 0.0, 'full_action_space': False, 'max_num_frames_per_episode': 108000, 'frameskip': 1}, namespace=None, name='RiverraidNoFrameskip', version=4)), ('Riverraid-ram-v0', EnvSpec(id='Riverraid-ram-v0', entry_point='ale_py.env.gym:AtariEnv', reward_threshold=None, nondeterministic=False, max_episode_steps=None, order_enforce=True, autoreset=False, disable_env_checker=False, apply_api_compatibility=False, kwargs={'game': 'riverraid', 'obs_type': 'ram', 'repeat_action_probability': 0.25, 'full_action_space': False, 'max_num_frames_per_episode': 108000, 'frameskip': (2, 5)}, namespace=None, name='Riverraid-ram', version=0)), ('Riverraid-ramDeterministic-v0', EnvSpec(id='Riverraid-ramDeterministic-v0', entry_point='ale_py.env.gym:AtariEnv', reward_threshold=None, nondeterministic=False, max_episode_steps=None, order_enforce=True, autoreset=False, disable_env_checker=False, apply_api_compatibility=False, kwargs={'game': 'riverraid', 'obs_type': 'ram', 'repeat_action_probability': 0.25, 'full_action_space': False, 'max_num_frames_per_episode': 108000, 'frameskip': 4}, namespace=None, name='Riverraid-ramDeterministic', version=0)), ('Riverraid-ramNoFrameskip-v0', EnvSpec(id='Riverraid-ramNoFrameskip-v0', entry_point='ale_py.env.gym:AtariEnv', reward_threshold=None, nondeterministic=False, max_episode_steps=None, order_enforce=True, autoreset=False, disable_env_checker=False, apply_api_compatibility=False, kwargs={'game': 'riverraid', 'obs_type': 'ram', 'repeat_action_probability': 0.25, 'full_action_space': False, 'max_num_frames_per_episode': 108000, 'frameskip': 1}, namespace=None, name='Riverraid-ramNoFrameskip', version=0)), ('Riverraid-ram-v4', EnvSpec(id='Riverraid-ram-v4', entry_point='ale_py.env.gym:AtariEnv', reward_threshold=None, nondeterministic=False, max_episode_steps=None, order_enforce=True, autoreset=False, disable_env_checker=False, apply_api_compatibility=False, kwargs={'game': 'riverraid', 'obs_type': 'ram', 'repeat_action_probability': 0.0, 'full_action_space': False, 'max_num_frames_per_episode': 108000, 'frameskip': (2, 5)}, namespace=None, name='Riverraid-ram', version=4)), ('Riverraid-ramDeterministic-v4', EnvSpec(id='Riverraid-ramDeterministic-v4', entry_point='ale_py.env.gym:AtariEnv', reward_threshold=None, nondeterministic=False, max_episode_steps=None, order_enforce=True, autoreset=False, disable_env_checker=False, apply_api_compatibility=False, kwargs={'game': 'riverraid', 'obs_type': 'ram', 'repeat_action_probability': 0.0, 'full_action_space': False, 'max_num_frames_per_episode': 108000, 'frameskip': 4}, namespace=None, name='Riverraid-ramDeterministic', version=4)), ('Riverraid-ramNoFrameskip-v4', EnvSpec(id='Riverraid-ramNoFrameskip-v4', entry_point='ale_py.env.gym:AtariEnv', reward_threshold=None, nondeterministic=False, max_episode_steps=None, order_enforce=True, autoreset=False, disable_env_checker=False, apply_api_compatibility=False, kwargs={'game': 'riverraid', 'obs_type': 'ram', 'repeat_action_probability': 0.0, 'full_action_space': False, 'max_num_frames_per_episode': 108000, 'frameskip': 1}, namespace=None, name='Riverraid-ramNoFrameskip', version=4)), ('RoadRunner-v0', EnvSpec(id='RoadRunner-v0', entry_point='ale_py.env.gym:AtariEnv', reward_threshold=None, nondeterministic=False, max_episode_steps=None, order_enforce=True, autoreset=False, disable_env_checker=False, apply_api_compatibility=False, kwargs={'game': 'road_runner', 'obs_type': 'rgb', 'repeat_action_probability': 0.25, 'full_action_space': False, 'max_num_frames_per_episode': 108000, 'frameskip': (2, 5)}, namespace=None, name='RoadRunner', version=0)), ('RoadRunnerDeterministic-v0', EnvSpec(id='RoadRunnerDeterministic-v0', entry_point='ale_py.env.gym:AtariEnv', reward_threshold=None, nondeterministic=False, max_episode_steps=None, order_enforce=True, autoreset=False, disable_env_checker=False, apply_api_compatibility=False, kwargs={'game': 'road_runner', 'obs_type': 'rgb', 'repeat_action_probability': 0.25, 'full_action_space': False, 'max_num_frames_per_episode': 108000, 'frameskip': 4}, namespace=None, name='RoadRunnerDeterministic', version=0)), ('RoadRunnerNoFrameskip-v0', EnvSpec(id='RoadRunnerNoFrameskip-v0', entry_point='ale_py.env.gym:AtariEnv', reward_threshold=None, nondeterministic=False, max_episode_steps=None, order_enforce=True, autoreset=False, disable_env_checker=False, apply_api_compatibility=False, kwargs={'game': 'road_runner', 'obs_type': 'rgb', 'repeat_action_probability': 0.25, 'full_action_space': False, 'max_num_frames_per_episode': 108000, 'frameskip': 1}, namespace=None, name='RoadRunnerNoFrameskip', version=0)), ('RoadRunner-v4', EnvSpec(id='RoadRunner-v4', entry_point='ale_py.env.gym:AtariEnv', reward_threshold=None, nondeterministic=False, max_episode_steps=None, order_enforce=True, autoreset=False, disable_env_checker=False, apply_api_compatibility=False, kwargs={'game': 'road_runner', 'obs_type': 'rgb', 'repeat_action_probability': 0.0, 'full_action_space': False, 'max_num_frames_per_episode': 108000, 'frameskip': (2, 5)}, namespace=None, name='RoadRunner', version=4)), ('RoadRunnerDeterministic-v4', EnvSpec(id='RoadRunnerDeterministic-v4', entry_point='ale_py.env.gym:AtariEnv', reward_threshold=None, nondeterministic=False, max_episode_steps=None, order_enforce=True, autoreset=False, disable_env_checker=False, apply_api_compatibility=False, kwargs={'game': 'road_runner', 'obs_type': 'rgb', 'repeat_action_probability': 0.0, 'full_action_space': False, 'max_num_frames_per_episode': 108000, 'frameskip': 4}, namespace=None, name='RoadRunnerDeterministic', version=4)), ('RoadRunnerNoFrameskip-v4', EnvSpec(id='RoadRunnerNoFrameskip-v4', entry_point='ale_py.env.gym:AtariEnv', reward_threshold=None, nondeterministic=False, max_episode_steps=None, order_enforce=True, autoreset=False, disable_env_checker=False, apply_api_compatibility=False, kwargs={'game': 'road_runner', 'obs_type': 'rgb', 'repeat_action_probability': 0.0, 'full_action_space': False, 'max_num_frames_per_episode': 108000, 'frameskip': 1}, namespace=None, name='RoadRunnerNoFrameskip', version=4)), ('RoadRunner-ram-v0', EnvSpec(id='RoadRunner-ram-v0', entry_point='ale_py.env.gym:AtariEnv', reward_threshold=None, nondeterministic=False, max_episode_steps=None, order_enforce=True, autoreset=False, disable_env_checker=False, apply_api_compatibility=False, kwargs={'game': 'road_runner', 'obs_type': 'ram', 'repeat_action_probability': 0.25, 'full_action_space': False, 'max_num_frames_per_episode': 108000, 'frameskip': (2, 5)}, namespace=None, name='RoadRunner-ram', version=0)), ('RoadRunner-ramDeterministic-v0', EnvSpec(id='RoadRunner-ramDeterministic-v0', entry_point='ale_py.env.gym:AtariEnv', reward_threshold=None, nondeterministic=False, max_episode_steps=None, order_enforce=True, autoreset=False, disable_env_checker=False, apply_api_compatibility=False, kwargs={'game': 'road_runner', 'obs_type': 'ram', 'repeat_action_probability': 0.25, 'full_action_space': False, 'max_num_frames_per_episode': 108000, 'frameskip': 4}, namespace=None, name='RoadRunner-ramDeterministic', version=0)), ('RoadRunner-ramNoFrameskip-v0', EnvSpec(id='RoadRunner-ramNoFrameskip-v0', entry_point='ale_py.env.gym:AtariEnv', reward_threshold=None, nondeterministic=False, max_episode_steps=None, order_enforce=True, autoreset=False, disable_env_checker=False, apply_api_compatibility=False, kwargs={'game': 'road_runner', 'obs_type': 'ram', 'repeat_action_probability': 0.25, 'full_action_space': False, 'max_num_frames_per_episode': 108000, 'frameskip': 1}, namespace=None, name='RoadRunner-ramNoFrameskip', version=0)), ('RoadRunner-ram-v4', EnvSpec(id='RoadRunner-ram-v4', entry_point='ale_py.env.gym:AtariEnv', reward_threshold=None, nondeterministic=False, max_episode_steps=None, order_enforce=True, autoreset=False, disable_env_checker=False, apply_api_compatibility=False, kwargs={'game': 'road_runner', 'obs_type': 'ram', 'repeat_action_probability': 0.0, 'full_action_space': False, 'max_num_frames_per_episode': 108000, 'frameskip': (2, 5)}, namespace=None, name='RoadRunner-ram', version=4)), ('RoadRunner-ramDeterministic-v4', EnvSpec(id='RoadRunner-ramDeterministic-v4', entry_point='ale_py.env.gym:AtariEnv', reward_threshold=None, nondeterministic=False, max_episode_steps=None, order_enforce=True, autoreset=False, disable_env_checker=False, apply_api_compatibility=False, kwargs={'game': 'road_runner', 'obs_type': 'ram', 'repeat_action_probability': 0.0, 'full_action_space': False, 'max_num_frames_per_episode': 108000, 'frameskip': 4}, namespace=None, name='RoadRunner-ramDeterministic', version=4)), ('RoadRunner-ramNoFrameskip-v4', EnvSpec(id='RoadRunner-ramNoFrameskip-v4', entry_point='ale_py.env.gym:AtariEnv', reward_threshold=None, nondeterministic=False, max_episode_steps=None, order_enforce=True, autoreset=False, disable_env_checker=False, apply_api_compatibility=False, kwargs={'game': 'road_runner', 'obs_type': 'ram', 'repeat_action_probability': 0.0, 'full_action_space': False, 'max_num_frames_per_episode': 108000, 'frameskip': 1}, namespace=None, name='RoadRunner-ramNoFrameskip', version=4)), ('Robotank-v0', EnvSpec(id='Robotank-v0', entry_point='ale_py.env.gym:AtariEnv', reward_threshold=None, nondeterministic=False, max_episode_steps=None, order_enforce=True, autoreset=False, disable_env_checker=False, apply_api_compatibility=False, kwargs={'game': 'robotank', 'obs_type': 'rgb', 'repeat_action_probability': 0.25, 'full_action_space': False, 'max_num_frames_per_episode': 108000, 'frameskip': (2, 5)}, namespace=None, name='Robotank', version=0)), ('RobotankDeterministic-v0', EnvSpec(id='RobotankDeterministic-v0', entry_point='ale_py.env.gym:AtariEnv', reward_threshold=None, nondeterministic=False, max_episode_steps=None, order_enforce=True, autoreset=False, disable_env_checker=False, apply_api_compatibility=False, kwargs={'game': 'robotank', 'obs_type': 'rgb', 'repeat_action_probability': 0.25, 'full_action_space': False, 'max_num_frames_per_episode': 108000, 'frameskip': 4}, namespace=None, name='RobotankDeterministic', version=0)), ('RobotankNoFrameskip-v0', EnvSpec(id='RobotankNoFrameskip-v0', entry_point='ale_py.env.gym:AtariEnv', reward_threshold=None, nondeterministic=False, max_episode_steps=None, order_enforce=True, autoreset=False, disable_env_checker=False, apply_api_compatibility=False, kwargs={'game': 'robotank', 'obs_type': 'rgb', 'repeat_action_probability': 0.25, 'full_action_space': False, 'max_num_frames_per_episode': 108000, 'frameskip': 1}, namespace=None, name='RobotankNoFrameskip', version=0)), ('Robotank-v4', EnvSpec(id='Robotank-v4', entry_point='ale_py.env.gym:AtariEnv', reward_threshold=None, nondeterministic=False, max_episode_steps=None, order_enforce=True, autoreset=False, disable_env_checker=False, apply_api_compatibility=False, kwargs={'game': 'robotank', 'obs_type': 'rgb', 'repeat_action_probability': 0.0, 'full_action_space': False, 'max_num_frames_per_episode': 108000, 'frameskip': (2, 5)}, namespace=None, name='Robotank', version=4)), ('RobotankDeterministic-v4', EnvSpec(id='RobotankDeterministic-v4', entry_point='ale_py.env.gym:AtariEnv', reward_threshold=None, nondeterministic=False, max_episode_steps=None, order_enforce=True, autoreset=False, disable_env_checker=False, apply_api_compatibility=False, kwargs={'game': 'robotank', 'obs_type': 'rgb', 'repeat_action_probability': 0.0, 'full_action_space': False, 'max_num_frames_per_episode': 108000, 'frameskip': 4}, namespace=None, name='RobotankDeterministic', version=4)), ('RobotankNoFrameskip-v4', EnvSpec(id='RobotankNoFrameskip-v4', entry_point='ale_py.env.gym:AtariEnv', reward_threshold=None, nondeterministic=False, max_episode_steps=None, order_enforce=True, autoreset=False, disable_env_checker=False, apply_api_compatibility=False, kwargs={'game': 'robotank', 'obs_type': 'rgb', 'repeat_action_probability': 0.0, 'full_action_space': False, 'max_num_frames_per_episode': 108000, 'frameskip': 1}, namespace=None, name='RobotankNoFrameskip', version=4)), ('Robotank-ram-v0', EnvSpec(id='Robotank-ram-v0', entry_point='ale_py.env.gym:AtariEnv', reward_threshold=None, nondeterministic=False, max_episode_steps=None, order_enforce=True, autoreset=False, disable_env_checker=False, apply_api_compatibility=False, kwargs={'game': 'robotank', 'obs_type': 'ram', 'repeat_action_probability': 0.25, 'full_action_space': False, 'max_num_frames_per_episode': 108000, 'frameskip': (2, 5)}, namespace=None, name='Robotank-ram', version=0)), ('Robotank-ramDeterministic-v0', EnvSpec(id='Robotank-ramDeterministic-v0', entry_point='ale_py.env.gym:AtariEnv', reward_threshold=None, nondeterministic=False, max_episode_steps=None, order_enforce=True, autoreset=False, disable_env_checker=False, apply_api_compatibility=False, kwargs={'game': 'robotank', 'obs_type': 'ram', 'repeat_action_probability': 0.25, 'full_action_space': False, 'max_num_frames_per_episode': 108000, 'frameskip': 4}, namespace=None, name='Robotank-ramDeterministic', version=0)), ('Robotank-ramNoFrameskip-v0', EnvSpec(id='Robotank-ramNoFrameskip-v0', entry_point='ale_py.env.gym:AtariEnv', reward_threshold=None, nondeterministic=False, max_episode_steps=None, order_enforce=True, autoreset=False, disable_env_checker=False, apply_api_compatibility=False, kwargs={'game': 'robotank', 'obs_type': 'ram', 'repeat_action_probability': 0.25, 'full_action_space': False, 'max_num_frames_per_episode': 108000, 'frameskip': 1}, namespace=None, name='Robotank-ramNoFrameskip', version=0)), ('Robotank-ram-v4', EnvSpec(id='Robotank-ram-v4', entry_point='ale_py.env.gym:AtariEnv', reward_threshold=None, nondeterministic=False, max_episode_steps=None, order_enforce=True, autoreset=False, disable_env_checker=False, apply_api_compatibility=False, kwargs={'game': 'robotank', 'obs_type': 'ram', 'repeat_action_probability': 0.0, 'full_action_space': False, 'max_num_frames_per_episode': 108000, 'frameskip': (2, 5)}, namespace=None, name='Robotank-ram', version=4)), ('Robotank-ramDeterministic-v4', EnvSpec(id='Robotank-ramDeterministic-v4', entry_point='ale_py.env.gym:AtariEnv', reward_threshold=None, nondeterministic=False, max_episode_steps=None, order_enforce=True, autoreset=False, disable_env_checker=False, apply_api_compatibility=False, kwargs={'game': 'robotank', 'obs_type': 'ram', 'repeat_action_probability': 0.0, 'full_action_space': False, 'max_num_frames_per_episode': 108000, 'frameskip': 4}, namespace=None, name='Robotank-ramDeterministic', version=4)), ('Robotank-ramNoFrameskip-v4', EnvSpec(id='Robotank-ramNoFrameskip-v4', entry_point='ale_py.env.gym:AtariEnv', reward_threshold=None, nondeterministic=False, max_episode_steps=None, order_enforce=True, autoreset=False, disable_env_checker=False, apply_api_compatibility=False, kwargs={'game': 'robotank', 'obs_type': 'ram', 'repeat_action_probability': 0.0, 'full_action_space': False, 'max_num_frames_per_episode': 108000, 'frameskip': 1}, namespace=None, name='Robotank-ramNoFrameskip', version=4)), ('Seaquest-v0', EnvSpec(id='Seaquest-v0', entry_point='ale_py.env.gym:AtariEnv', reward_threshold=None, nondeterministic=False, max_episode_steps=None, order_enforce=True, autoreset=False, disable_env_checker=False, apply_api_compatibility=False, kwargs={'game': 'seaquest', 'obs_type': 'rgb', 'repeat_action_probability': 0.25, 'full_action_space': False, 'max_num_frames_per_episode': 108000, 'frameskip': (2, 5)}, namespace=None, name='Seaquest', version=0)), ('SeaquestDeterministic-v0', EnvSpec(id='SeaquestDeterministic-v0', entry_point='ale_py.env.gym:AtariEnv', reward_threshold=None, nondeterministic=False, max_episode_steps=None, order_enforce=True, autoreset=False, disable_env_checker=False, apply_api_compatibility=False, kwargs={'game': 'seaquest', 'obs_type': 'rgb', 'repeat_action_probability': 0.25, 'full_action_space': False, 'max_num_frames_per_episode': 108000, 'frameskip': 4}, namespace=None, name='SeaquestDeterministic', version=0)), ('SeaquestNoFrameskip-v0', EnvSpec(id='SeaquestNoFrameskip-v0', entry_point='ale_py.env.gym:AtariEnv', reward_threshold=None, nondeterministic=False, max_episode_steps=None, order_enforce=True, autoreset=False, disable_env_checker=False, apply_api_compatibility=False, kwargs={'game': 'seaquest', 'obs_type': 'rgb', 'repeat_action_probability': 0.25, 'full_action_space': False, 'max_num_frames_per_episode': 108000, 'frameskip': 1}, namespace=None, name='SeaquestNoFrameskip', version=0)), ('Seaquest-v4', EnvSpec(id='Seaquest-v4', entry_point='ale_py.env.gym:AtariEnv', reward_threshold=None, nondeterministic=False, max_episode_steps=None, order_enforce=True, autoreset=False, disable_env_checker=False, apply_api_compatibility=False, kwargs={'game': 'seaquest', 'obs_type': 'rgb', 'repeat_action_probability': 0.0, 'full_action_space': False, 'max_num_frames_per_episode': 108000, 'frameskip': (2, 5)}, namespace=None, name='Seaquest', version=4)), ('SeaquestDeterministic-v4', EnvSpec(id='SeaquestDeterministic-v4', entry_point='ale_py.env.gym:AtariEnv', reward_threshold=None, nondeterministic=False, max_episode_steps=None, order_enforce=True, autoreset=False, disable_env_checker=False, apply_api_compatibility=False, kwargs={'game': 'seaquest', 'obs_type': 'rgb', 'repeat_action_probability': 0.0, 'full_action_space': False, 'max_num_frames_per_episode': 108000, 'frameskip': 4}, namespace=None, name='SeaquestDeterministic', version=4)), ('SeaquestNoFrameskip-v4', EnvSpec(id='SeaquestNoFrameskip-v4', entry_point='ale_py.env.gym:AtariEnv', reward_threshold=None, nondeterministic=False, max_episode_steps=None, order_enforce=True, autoreset=False, disable_env_checker=False, apply_api_compatibility=False, kwargs={'game': 'seaquest', 'obs_type': 'rgb', 'repeat_action_probability': 0.0, 'full_action_space': False, 'max_num_frames_per_episode': 108000, 'frameskip': 1}, namespace=None, name='SeaquestNoFrameskip', version=4)), ('Seaquest-ram-v0', EnvSpec(id='Seaquest-ram-v0', entry_point='ale_py.env.gym:AtariEnv', reward_threshold=None, nondeterministic=False, max_episode_steps=None, order_enforce=True, autoreset=False, disable_env_checker=False, apply_api_compatibility=False, kwargs={'game': 'seaquest', 'obs_type': 'ram', 'repeat_action_probability': 0.25, 'full_action_space': False, 'max_num_frames_per_episode': 108000, 'frameskip': (2, 5)}, namespace=None, name='Seaquest-ram', version=0)), ('Seaquest-ramDeterministic-v0', EnvSpec(id='Seaquest-ramDeterministic-v0', entry_point='ale_py.env.gym:AtariEnv', reward_threshold=None, nondeterministic=False, max_episode_steps=None, order_enforce=True, autoreset=False, disable_env_checker=False, apply_api_compatibility=False, kwargs={'game': 'seaquest', 'obs_type': 'ram', 'repeat_action_probability': 0.25, 'full_action_space': False, 'max_num_frames_per_episode': 108000, 'frameskip': 4}, namespace=None, name='Seaquest-ramDeterministic', version=0)), ('Seaquest-ramNoFrameskip-v0', EnvSpec(id='Seaquest-ramNoFrameskip-v0', entry_point='ale_py.env.gym:AtariEnv', reward_threshold=None, nondeterministic=False, max_episode_steps=None, order_enforce=True, autoreset=False, disable_env_checker=False, apply_api_compatibility=False, kwargs={'game': 'seaquest', 'obs_type': 'ram', 'repeat_action_probability': 0.25, 'full_action_space': False, 'max_num_frames_per_episode': 108000, 'frameskip': 1}, namespace=None, name='Seaquest-ramNoFrameskip', version=0)), ('Seaquest-ram-v4', EnvSpec(id='Seaquest-ram-v4', entry_point='ale_py.env.gym:AtariEnv', reward_threshold=None, nondeterministic=False, max_episode_steps=None, order_enforce=True, autoreset=False, disable_env_checker=False, apply_api_compatibility=False, kwargs={'game': 'seaquest', 'obs_type': 'ram', 'repeat_action_probability': 0.0, 'full_action_space': False, 'max_num_frames_per_episode': 108000, 'frameskip': (2, 5)}, namespace=None, name='Seaquest-ram', version=4)), ('Seaquest-ramDeterministic-v4', EnvSpec(id='Seaquest-ramDeterministic-v4', entry_point='ale_py.env.gym:AtariEnv', reward_threshold=None, nondeterministic=False, max_episode_steps=None, order_enforce=True, autoreset=False, disable_env_checker=False, apply_api_compatibility=False, kwargs={'game': 'seaquest', 'obs_type': 'ram', 'repeat_action_probability': 0.0, 'full_action_space': False, 'max_num_frames_per_episode': 108000, 'frameskip': 4}, namespace=None, name='Seaquest-ramDeterministic', version=4)), ('Seaquest-ramNoFrameskip-v4', EnvSpec(id='Seaquest-ramNoFrameskip-v4', entry_point='ale_py.env.gym:AtariEnv', reward_threshold=None, nondeterministic=False, max_episode_steps=None, order_enforce=True, autoreset=False, disable_env_checker=False, apply_api_compatibility=False, kwargs={'game': 'seaquest', 'obs_type': 'ram', 'repeat_action_probability': 0.0, 'full_action_space': False, 'max_num_frames_per_episode': 108000, 'frameskip': 1}, namespace=None, name='Seaquest-ramNoFrameskip', version=4)), ('Skiing-v0', EnvSpec(id='Skiing-v0', entry_point='ale_py.env.gym:AtariEnv', reward_threshold=None, nondeterministic=False, max_episode_steps=None, order_enforce=True, autoreset=False, disable_env_checker=False, apply_api_compatibility=False, kwargs={'game': 'skiing', 'obs_type': 'rgb', 'repeat_action_probability': 0.25, 'full_action_space': False, 'max_num_frames_per_episode': 108000, 'frameskip': (2, 5)}, namespace=None, name='Skiing', version=0)), ('SkiingDeterministic-v0', EnvSpec(id='SkiingDeterministic-v0', entry_point='ale_py.env.gym:AtariEnv', reward_threshold=None, nondeterministic=False, max_episode_steps=None, order_enforce=True, autoreset=False, disable_env_checker=False, apply_api_compatibility=False, kwargs={'game': 'skiing', 'obs_type': 'rgb', 'repeat_action_probability': 0.25, 'full_action_space': False, 'max_num_frames_per_episode': 108000, 'frameskip': 4}, namespace=None, name='SkiingDeterministic', version=0)), ('SkiingNoFrameskip-v0', EnvSpec(id='SkiingNoFrameskip-v0', entry_point='ale_py.env.gym:AtariEnv', reward_threshold=None, nondeterministic=False, max_episode_steps=None, order_enforce=True, autoreset=False, disable_env_checker=False, apply_api_compatibility=False, kwargs={'game': 'skiing', 'obs_type': 'rgb', 'repeat_action_probability': 0.25, 'full_action_space': False, 'max_num_frames_per_episode': 108000, 'frameskip': 1}, namespace=None, name='SkiingNoFrameskip', version=0)), ('Skiing-v4', EnvSpec(id='Skiing-v4', entry_point='ale_py.env.gym:AtariEnv', reward_threshold=None, nondeterministic=False, max_episode_steps=None, order_enforce=True, autoreset=False, disable_env_checker=False, apply_api_compatibility=False, kwargs={'game': 'skiing', 'obs_type': 'rgb', 'repeat_action_probability': 0.0, 'full_action_space': False, 'max_num_frames_per_episode': 108000, 'frameskip': (2, 5)}, namespace=None, name='Skiing', version=4)), ('SkiingDeterministic-v4', EnvSpec(id='SkiingDeterministic-v4', entry_point='ale_py.env.gym:AtariEnv', reward_threshold=None, nondeterministic=False, max_episode_steps=None, order_enforce=True, autoreset=False, disable_env_checker=False, apply_api_compatibility=False, kwargs={'game': 'skiing', 'obs_type': 'rgb', 'repeat_action_probability': 0.0, 'full_action_space': False, 'max_num_frames_per_episode': 108000, 'frameskip': 4}, namespace=None, name='SkiingDeterministic', version=4)), ('SkiingNoFrameskip-v4', EnvSpec(id='SkiingNoFrameskip-v4', entry_point='ale_py.env.gym:AtariEnv', reward_threshold=None, nondeterministic=False, max_episode_steps=None, order_enforce=True, autoreset=False, disable_env_checker=False, apply_api_compatibility=False, kwargs={'game': 'skiing', 'obs_type': 'rgb', 'repeat_action_probability': 0.0, 'full_action_space': False, 'max_num_frames_per_episode': 108000, 'frameskip': 1}, namespace=None, name='SkiingNoFrameskip', version=4)), ('Skiing-ram-v0', EnvSpec(id='Skiing-ram-v0', entry_point='ale_py.env.gym:AtariEnv', reward_threshold=None, nondeterministic=False, max_episode_steps=None, order_enforce=True, autoreset=False, disable_env_checker=False, apply_api_compatibility=False, kwargs={'game': 'skiing', 'obs_type': 'ram', 'repeat_action_probability': 0.25, 'full_action_space': False, 'max_num_frames_per_episode': 108000, 'frameskip': (2, 5)}, namespace=None, name='Skiing-ram', version=0)), ('Skiing-ramDeterministic-v0', EnvSpec(id='Skiing-ramDeterministic-v0', entry_point='ale_py.env.gym:AtariEnv', reward_threshold=None, nondeterministic=False, max_episode_steps=None, order_enforce=True, autoreset=False, disable_env_checker=False, apply_api_compatibility=False, kwargs={'game': 'skiing', 'obs_type': 'ram', 'repeat_action_probability': 0.25, 'full_action_space': False, 'max_num_frames_per_episode': 108000, 'frameskip': 4}, namespace=None, name='Skiing-ramDeterministic', version=0)), ('Skiing-ramNoFrameskip-v0', EnvSpec(id='Skiing-ramNoFrameskip-v0', entry_point='ale_py.env.gym:AtariEnv', reward_threshold=None, nondeterministic=False, max_episode_steps=None, order_enforce=True, autoreset=False, disable_env_checker=False, apply_api_compatibility=False, kwargs={'game': 'skiing', 'obs_type': 'ram', 'repeat_action_probability': 0.25, 'full_action_space': False, 'max_num_frames_per_episode': 108000, 'frameskip': 1}, namespace=None, name='Skiing-ramNoFrameskip', version=0)), ('Skiing-ram-v4', EnvSpec(id='Skiing-ram-v4', entry_point='ale_py.env.gym:AtariEnv', reward_threshold=None, nondeterministic=False, max_episode_steps=None, order_enforce=True, autoreset=False, disable_env_checker=False, apply_api_compatibility=False, kwargs={'game': 'skiing', 'obs_type': 'ram', 'repeat_action_probability': 0.0, 'full_action_space': False, 'max_num_frames_per_episode': 108000, 'frameskip': (2, 5)}, namespace=None, name='Skiing-ram', version=4)), ('Skiing-ramDeterministic-v4', EnvSpec(id='Skiing-ramDeterministic-v4', entry_point='ale_py.env.gym:AtariEnv', reward_threshold=None, nondeterministic=False, max_episode_steps=None, order_enforce=True, autoreset=False, disable_env_checker=False, apply_api_compatibility=False, kwargs={'game': 'skiing', 'obs_type': 'ram', 'repeat_action_probability': 0.0, 'full_action_space': False, 'max_num_frames_per_episode': 108000, 'frameskip': 4}, namespace=None, name='Skiing-ramDeterministic', version=4)), ('Skiing-ramNoFrameskip-v4', EnvSpec(id='Skiing-ramNoFrameskip-v4', entry_point='ale_py.env.gym:AtariEnv', reward_threshold=None, nondeterministic=False, max_episode_steps=None, order_enforce=True, autoreset=False, disable_env_checker=False, apply_api_compatibility=False, kwargs={'game': 'skiing', 'obs_type': 'ram', 'repeat_action_probability': 0.0, 'full_action_space': False, 'max_num_frames_per_episode': 108000, 'frameskip': 1}, namespace=None, name='Skiing-ramNoFrameskip', version=4)), ('Solaris-v0', EnvSpec(id='Solaris-v0', entry_point='ale_py.env.gym:AtariEnv', reward_threshold=None, nondeterministic=False, max_episode_steps=None, order_enforce=True, autoreset=False, disable_env_checker=False, apply_api_compatibility=False, kwargs={'game': 'solaris', 'obs_type': 'rgb', 'repeat_action_probability': 0.25, 'full_action_space': False, 'max_num_frames_per_episode': 108000, 'frameskip': (2, 5)}, namespace=None, name='Solaris', version=0)), ('SolarisDeterministic-v0', EnvSpec(id='SolarisDeterministic-v0', entry_point='ale_py.env.gym:AtariEnv', reward_threshold=None, nondeterministic=False, max_episode_steps=None, order_enforce=True, autoreset=False, disable_env_checker=False, apply_api_compatibility=False, kwargs={'game': 'solaris', 'obs_type': 'rgb', 'repeat_action_probability': 0.25, 'full_action_space': False, 'max_num_frames_per_episode': 108000, 'frameskip': 4}, namespace=None, name='SolarisDeterministic', version=0)), ('SolarisNoFrameskip-v0', EnvSpec(id='SolarisNoFrameskip-v0', entry_point='ale_py.env.gym:AtariEnv', reward_threshold=None, nondeterministic=False, max_episode_steps=None, order_enforce=True, autoreset=False, disable_env_checker=False, apply_api_compatibility=False, kwargs={'game': 'solaris', 'obs_type': 'rgb', 'repeat_action_probability': 0.25, 'full_action_space': False, 'max_num_frames_per_episode': 108000, 'frameskip': 1}, namespace=None, name='SolarisNoFrameskip', version=0)), ('Solaris-v4', EnvSpec(id='Solaris-v4', entry_point='ale_py.env.gym:AtariEnv', reward_threshold=None, nondeterministic=False, max_episode_steps=None, order_enforce=True, autoreset=False, disable_env_checker=False, apply_api_compatibility=False, kwargs={'game': 'solaris', 'obs_type': 'rgb', 'repeat_action_probability': 0.0, 'full_action_space': False, 'max_num_frames_per_episode': 108000, 'frameskip': (2, 5)}, namespace=None, name='Solaris', version=4)), ('SolarisDeterministic-v4', EnvSpec(id='SolarisDeterministic-v4', entry_point='ale_py.env.gym:AtariEnv', reward_threshold=None, nondeterministic=False, max_episode_steps=None, order_enforce=True, autoreset=False, disable_env_checker=False, apply_api_compatibility=False, kwargs={'game': 'solaris', 'obs_type': 'rgb', 'repeat_action_probability': 0.0, 'full_action_space': False, 'max_num_frames_per_episode': 108000, 'frameskip': 4}, namespace=None, name='SolarisDeterministic', version=4)), ('SolarisNoFrameskip-v4', EnvSpec(id='SolarisNoFrameskip-v4', entry_point='ale_py.env.gym:AtariEnv', reward_threshold=None, nondeterministic=False, max_episode_steps=None, order_enforce=True, autoreset=False, disable_env_checker=False, apply_api_compatibility=False, kwargs={'game': 'solaris', 'obs_type': 'rgb', 'repeat_action_probability': 0.0, 'full_action_space': False, 'max_num_frames_per_episode': 108000, 'frameskip': 1}, namespace=None, name='SolarisNoFrameskip', version=4)), ('Solaris-ram-v0', EnvSpec(id='Solaris-ram-v0', entry_point='ale_py.env.gym:AtariEnv', reward_threshold=None, nondeterministic=False, max_episode_steps=None, order_enforce=True, autoreset=False, disable_env_checker=False, apply_api_compatibility=False, kwargs={'game': 'solaris', 'obs_type': 'ram', 'repeat_action_probability': 0.25, 'full_action_space': False, 'max_num_frames_per_episode': 108000, 'frameskip': (2, 5)}, namespace=None, name='Solaris-ram', version=0)), ('Solaris-ramDeterministic-v0', EnvSpec(id='Solaris-ramDeterministic-v0', entry_point='ale_py.env.gym:AtariEnv', reward_threshold=None, nondeterministic=False, max_episode_steps=None, order_enforce=True, autoreset=False, disable_env_checker=False, apply_api_compatibility=False, kwargs={'game': 'solaris', 'obs_type': 'ram', 'repeat_action_probability': 0.25, 'full_action_space': False, 'max_num_frames_per_episode': 108000, 'frameskip': 4}, namespace=None, name='Solaris-ramDeterministic', version=0)), ('Solaris-ramNoFrameskip-v0', EnvSpec(id='Solaris-ramNoFrameskip-v0', entry_point='ale_py.env.gym:AtariEnv', reward_threshold=None, nondeterministic=False, max_episode_steps=None, order_enforce=True, autoreset=False, disable_env_checker=False, apply_api_compatibility=False, kwargs={'game': 'solaris', 'obs_type': 'ram', 'repeat_action_probability': 0.25, 'full_action_space': False, 'max_num_frames_per_episode': 108000, 'frameskip': 1}, namespace=None, name='Solaris-ramNoFrameskip', version=0)), ('Solaris-ram-v4', EnvSpec(id='Solaris-ram-v4', entry_point='ale_py.env.gym:AtariEnv', reward_threshold=None, nondeterministic=False, max_episode_steps=None, order_enforce=True, autoreset=False, disable_env_checker=False, apply_api_compatibility=False, kwargs={'game': 'solaris', 'obs_type': 'ram', 'repeat_action_probability': 0.0, 'full_action_space': False, 'max_num_frames_per_episode': 108000, 'frameskip': (2, 5)}, namespace=None, name='Solaris-ram', version=4)), ('Solaris-ramDeterministic-v4', EnvSpec(id='Solaris-ramDeterministic-v4', entry_point='ale_py.env.gym:AtariEnv', reward_threshold=None, nondeterministic=False, max_episode_steps=None, order_enforce=True, autoreset=False, disable_env_checker=False, apply_api_compatibility=False, kwargs={'game': 'solaris', 'obs_type': 'ram', 'repeat_action_probability': 0.0, 'full_action_space': False, 'max_num_frames_per_episode': 108000, 'frameskip': 4}, namespace=None, name='Solaris-ramDeterministic', version=4)), ('Solaris-ramNoFrameskip-v4', EnvSpec(id='Solaris-ramNoFrameskip-v4', entry_point='ale_py.env.gym:AtariEnv', reward_threshold=None, nondeterministic=False, max_episode_steps=None, order_enforce=True, autoreset=False, disable_env_checker=False, apply_api_compatibility=False, kwargs={'game': 'solaris', 'obs_type': 'ram', 'repeat_action_probability': 0.0, 'full_action_space': False, 'max_num_frames_per_episode': 108000, 'frameskip': 1}, namespace=None, name='Solaris-ramNoFrameskip', version=4)), ('SpaceInvaders-v0', EnvSpec(id='SpaceInvaders-v0', entry_point='ale_py.env.gym:AtariEnv', reward_threshold=None, nondeterministic=False, max_episode_steps=None, order_enforce=True, autoreset=False, disable_env_checker=False, apply_api_compatibility=False, kwargs={'game': 'space_invaders', 'obs_type': 'rgb', 'repeat_action_probability': 0.25, 'full_action_space': False, 'max_num_frames_per_episode': 108000, 'frameskip': (2, 5)}, namespace=None, name='SpaceInvaders', version=0)), ('SpaceInvadersDeterministic-v0', EnvSpec(id='SpaceInvadersDeterministic-v0', entry_point='ale_py.env.gym:AtariEnv', reward_threshold=None, nondeterministic=False, max_episode_steps=None, order_enforce=True, autoreset=False, disable_env_checker=False, apply_api_compatibility=False, kwargs={'game': 'space_invaders', 'obs_type': 'rgb', 'repeat_action_probability': 0.25, 'full_action_space': False, 'max_num_frames_per_episode': 108000, 'frameskip': 3}, namespace=None, name='SpaceInvadersDeterministic', version=0)), ('SpaceInvadersNoFrameskip-v0', EnvSpec(id='SpaceInvadersNoFrameskip-v0', entry_point='ale_py.env.gym:AtariEnv', reward_threshold=None, nondeterministic=False, max_episode_steps=None, order_enforce=True, autoreset=False, disable_env_checker=False, apply_api_compatibility=False, kwargs={'game': 'space_invaders', 'obs_type': 'rgb', 'repeat_action_probability': 0.25, 'full_action_space': False, 'max_num_frames_per_episode': 108000, 'frameskip': 1}, namespace=None, name='SpaceInvadersNoFrameskip', version=0)), ('SpaceInvaders-v4', EnvSpec(id='SpaceInvaders-v4', entry_point='ale_py.env.gym:AtariEnv', reward_threshold=None, nondeterministic=False, max_episode_steps=None, order_enforce=True, autoreset=False, disable_env_checker=False, apply_api_compatibility=False, kwargs={'game': 'space_invaders', 'obs_type': 'rgb', 'repeat_action_probability': 0.0, 'full_action_space': False, 'max_num_frames_per_episode': 108000, 'frameskip': (2, 5)}, namespace=None, name='SpaceInvaders', version=4)), ('SpaceInvadersDeterministic-v4', EnvSpec(id='SpaceInvadersDeterministic-v4', entry_point='ale_py.env.gym:AtariEnv', reward_threshold=None, nondeterministic=False, max_episode_steps=None, order_enforce=True, autoreset=False, disable_env_checker=False, apply_api_compatibility=False, kwargs={'game': 'space_invaders', 'obs_type': 'rgb', 'repeat_action_probability': 0.0, 'full_action_space': False, 'max_num_frames_per_episode': 108000, 'frameskip': 3}, namespace=None, name='SpaceInvadersDeterministic', version=4)), ('SpaceInvadersNoFrameskip-v4', EnvSpec(id='SpaceInvadersNoFrameskip-v4', entry_point='ale_py.env.gym:AtariEnv', reward_threshold=None, nondeterministic=False, max_episode_steps=None, order_enforce=True, autoreset=False, disable_env_checker=False, apply_api_compatibility=False, kwargs={'game': 'space_invaders', 'obs_type': 'rgb', 'repeat_action_probability': 0.0, 'full_action_space': False, 'max_num_frames_per_episode': 108000, 'frameskip': 1}, namespace=None, name='SpaceInvadersNoFrameskip', version=4)), ('SpaceInvaders-ram-v0', EnvSpec(id='SpaceInvaders-ram-v0', entry_point='ale_py.env.gym:AtariEnv', reward_threshold=None, nondeterministic=False, max_episode_steps=None, order_enforce=True, autoreset=False, disable_env_checker=False, apply_api_compatibility=False, kwargs={'game': 'space_invaders', 'obs_type': 'ram', 'repeat_action_probability': 0.25, 'full_action_space': False, 'max_num_frames_per_episode': 108000, 'frameskip': (2, 5)}, namespace=None, name='SpaceInvaders-ram', version=0)), ('SpaceInvaders-ramDeterministic-v0', EnvSpec(id='SpaceInvaders-ramDeterministic-v0', entry_point='ale_py.env.gym:AtariEnv', reward_threshold=None, nondeterministic=False, max_episode_steps=None, order_enforce=True, autoreset=False, disable_env_checker=False, apply_api_compatibility=False, kwargs={'game': 'space_invaders', 'obs_type': 'ram', 'repeat_action_probability': 0.25, 'full_action_space': False, 'max_num_frames_per_episode': 108000, 'frameskip': 3}, namespace=None, name='SpaceInvaders-ramDeterministic', version=0)), ('SpaceInvaders-ramNoFrameskip-v0', EnvSpec(id='SpaceInvaders-ramNoFrameskip-v0', entry_point='ale_py.env.gym:AtariEnv', reward_threshold=None, nondeterministic=False, max_episode_steps=None, order_enforce=True, autoreset=False, disable_env_checker=False, apply_api_compatibility=False, kwargs={'game': 'space_invaders', 'obs_type': 'ram', 'repeat_action_probability': 0.25, 'full_action_space': False, 'max_num_frames_per_episode': 108000, 'frameskip': 1}, namespace=None, name='SpaceInvaders-ramNoFrameskip', version=0)), ('SpaceInvaders-ram-v4', EnvSpec(id='SpaceInvaders-ram-v4', entry_point='ale_py.env.gym:AtariEnv', reward_threshold=None, nondeterministic=False, max_episode_steps=None, order_enforce=True, autoreset=False, disable_env_checker=False, apply_api_compatibility=False, kwargs={'game': 'space_invaders', 'obs_type': 'ram', 'repeat_action_probability': 0.0, 'full_action_space': False, 'max_num_frames_per_episode': 108000, 'frameskip': (2, 5)}, namespace=None, name='SpaceInvaders-ram', version=4)), ('SpaceInvaders-ramDeterministic-v4', EnvSpec(id='SpaceInvaders-ramDeterministic-v4', entry_point='ale_py.env.gym:AtariEnv', reward_threshold=None, nondeterministic=False, max_episode_steps=None, order_enforce=True, autoreset=False, disable_env_checker=False, apply_api_compatibility=False, kwargs={'game': 'space_invaders', 'obs_type': 'ram', 'repeat_action_probability': 0.0, 'full_action_space': False, 'max_num_frames_per_episode': 108000, 'frameskip': 3}, namespace=None, name='SpaceInvaders-ramDeterministic', version=4)), ('SpaceInvaders-ramNoFrameskip-v4', EnvSpec(id='SpaceInvaders-ramNoFrameskip-v4', entry_point='ale_py.env.gym:AtariEnv', reward_threshold=None, nondeterministic=False, max_episode_steps=None, order_enforce=True, autoreset=False, disable_env_checker=False, apply_api_compatibility=False, kwargs={'game': 'space_invaders', 'obs_type': 'ram', 'repeat_action_probability': 0.0, 'full_action_space': False, 'max_num_frames_per_episode': 108000, 'frameskip': 1}, namespace=None, name='SpaceInvaders-ramNoFrameskip', version=4)), ('StarGunner-v0', EnvSpec(id='StarGunner-v0', entry_point='ale_py.env.gym:AtariEnv', reward_threshold=None, nondeterministic=False, max_episode_steps=None, order_enforce=True, autoreset=False, disable_env_checker=False, apply_api_compatibility=False, kwargs={'game': 'star_gunner', 'obs_type': 'rgb', 'repeat_action_probability': 0.25, 'full_action_space': False, 'max_num_frames_per_episode': 108000, 'frameskip': (2, 5)}, namespace=None, name='StarGunner', version=0)), ('StarGunnerDeterministic-v0', EnvSpec(id='StarGunnerDeterministic-v0', entry_point='ale_py.env.gym:AtariEnv', reward_threshold=None, nondeterministic=False, max_episode_steps=None, order_enforce=True, autoreset=False, disable_env_checker=False, apply_api_compatibility=False, kwargs={'game': 'star_gunner', 'obs_type': 'rgb', 'repeat_action_probability': 0.25, 'full_action_space': False, 'max_num_frames_per_episode': 108000, 'frameskip': 4}, namespace=None, name='StarGunnerDeterministic', version=0)), ('StarGunnerNoFrameskip-v0', EnvSpec(id='StarGunnerNoFrameskip-v0', entry_point='ale_py.env.gym:AtariEnv', reward_threshold=None, nondeterministic=False, max_episode_steps=None, order_enforce=True, autoreset=False, disable_env_checker=False, apply_api_compatibility=False, kwargs={'game': 'star_gunner', 'obs_type': 'rgb', 'repeat_action_probability': 0.25, 'full_action_space': False, 'max_num_frames_per_episode': 108000, 'frameskip': 1}, namespace=None, name='StarGunnerNoFrameskip', version=0)), ('StarGunner-v4', EnvSpec(id='StarGunner-v4', entry_point='ale_py.env.gym:AtariEnv', reward_threshold=None, nondeterministic=False, max_episode_steps=None, order_enforce=True, autoreset=False, disable_env_checker=False, apply_api_compatibility=False, kwargs={'game': 'star_gunner', 'obs_type': 'rgb', 'repeat_action_probability': 0.0, 'full_action_space': False, 'max_num_frames_per_episode': 108000, 'frameskip': (2, 5)}, namespace=None, name='StarGunner', version=4)), ('StarGunnerDeterministic-v4', EnvSpec(id='StarGunnerDeterministic-v4', entry_point='ale_py.env.gym:AtariEnv', reward_threshold=None, nondeterministic=False, max_episode_steps=None, order_enforce=True, autoreset=False, disable_env_checker=False, apply_api_compatibility=False, kwargs={'game': 'star_gunner', 'obs_type': 'rgb', 'repeat_action_probability': 0.0, 'full_action_space': False, 'max_num_frames_per_episode': 108000, 'frameskip': 4}, namespace=None, name='StarGunnerDeterministic', version=4)), ('StarGunnerNoFrameskip-v4', EnvSpec(id='StarGunnerNoFrameskip-v4', entry_point='ale_py.env.gym:AtariEnv', reward_threshold=None, nondeterministic=False, max_episode_steps=None, order_enforce=True, autoreset=False, disable_env_checker=False, apply_api_compatibility=False, kwargs={'game': 'star_gunner', 'obs_type': 'rgb', 'repeat_action_probability': 0.0, 'full_action_space': False, 'max_num_frames_per_episode': 108000, 'frameskip': 1}, namespace=None, name='StarGunnerNoFrameskip', version=4)), ('StarGunner-ram-v0', EnvSpec(id='StarGunner-ram-v0', entry_point='ale_py.env.gym:AtariEnv', reward_threshold=None, nondeterministic=False, max_episode_steps=None, order_enforce=True, autoreset=False, disable_env_checker=False, apply_api_compatibility=False, kwargs={'game': 'star_gunner', 'obs_type': 'ram', 'repeat_action_probability': 0.25, 'full_action_space': False, 'max_num_frames_per_episode': 108000, 'frameskip': (2, 5)}, namespace=None, name='StarGunner-ram', version=0)), ('StarGunner-ramDeterministic-v0', EnvSpec(id='StarGunner-ramDeterministic-v0', entry_point='ale_py.env.gym:AtariEnv', reward_threshold=None, nondeterministic=False, max_episode_steps=None, order_enforce=True, autoreset=False, disable_env_checker=False, apply_api_compatibility=False, kwargs={'game': 'star_gunner', 'obs_type': 'ram', 'repeat_action_probability': 0.25, 'full_action_space': False, 'max_num_frames_per_episode': 108000, 'frameskip': 4}, namespace=None, name='StarGunner-ramDeterministic', version=0)), ('StarGunner-ramNoFrameskip-v0', EnvSpec(id='StarGunner-ramNoFrameskip-v0', entry_point='ale_py.env.gym:AtariEnv', reward_threshold=None, nondeterministic=False, max_episode_steps=None, order_enforce=True, autoreset=False, disable_env_checker=False, apply_api_compatibility=False, kwargs={'game': 'star_gunner', 'obs_type': 'ram', 'repeat_action_probability': 0.25, 'full_action_space': False, 'max_num_frames_per_episode': 108000, 'frameskip': 1}, namespace=None, name='StarGunner-ramNoFrameskip', version=0)), ('StarGunner-ram-v4', EnvSpec(id='StarGunner-ram-v4', entry_point='ale_py.env.gym:AtariEnv', reward_threshold=None, nondeterministic=False, max_episode_steps=None, order_enforce=True, autoreset=False, disable_env_checker=False, apply_api_compatibility=False, kwargs={'game': 'star_gunner', 'obs_type': 'ram', 'repeat_action_probability': 0.0, 'full_action_space': False, 'max_num_frames_per_episode': 108000, 'frameskip': (2, 5)}, namespace=None, name='StarGunner-ram', version=4)), ('StarGunner-ramDeterministic-v4', EnvSpec(id='StarGunner-ramDeterministic-v4', entry_point='ale_py.env.gym:AtariEnv', reward_threshold=None, nondeterministic=False, max_episode_steps=None, order_enforce=True, autoreset=False, disable_env_checker=False, apply_api_compatibility=False, kwargs={'game': 'star_gunner', 'obs_type': 'ram', 'repeat_action_probability': 0.0, 'full_action_space': False, 'max_num_frames_per_episode': 108000, 'frameskip': 4}, namespace=None, name='StarGunner-ramDeterministic', version=4)), ('StarGunner-ramNoFrameskip-v4', EnvSpec(id='StarGunner-ramNoFrameskip-v4', entry_point='ale_py.env.gym:AtariEnv', reward_threshold=None, nondeterministic=False, max_episode_steps=None, order_enforce=True, autoreset=False, disable_env_checker=False, apply_api_compatibility=False, kwargs={'game': 'star_gunner', 'obs_type': 'ram', 'repeat_action_probability': 0.0, 'full_action_space': False, 'max_num_frames_per_episode': 108000, 'frameskip': 1}, namespace=None, name='StarGunner-ramNoFrameskip', version=4)), ('Tennis-v0', EnvSpec(id='Tennis-v0', entry_point='ale_py.env.gym:AtariEnv', reward_threshold=None, nondeterministic=False, max_episode_steps=None, order_enforce=True, autoreset=False, disable_env_checker=False, apply_api_compatibility=False, kwargs={'game': 'tennis', 'obs_type': 'rgb', 'repeat_action_probability': 0.25, 'full_action_space': False, 'max_num_frames_per_episode': 108000, 'frameskip': (2, 5)}, namespace=None, name='Tennis', version=0)), ('TennisDeterministic-v0', EnvSpec(id='TennisDeterministic-v0', entry_point='ale_py.env.gym:AtariEnv', reward_threshold=None, nondeterministic=False, max_episode_steps=None, order_enforce=True, autoreset=False, disable_env_checker=False, apply_api_compatibility=False, kwargs={'game': 'tennis', 'obs_type': 'rgb', 'repeat_action_probability': 0.25, 'full_action_space': False, 'max_num_frames_per_episode': 108000, 'frameskip': 4}, namespace=None, name='TennisDeterministic', version=0)), ('TennisNoFrameskip-v0', EnvSpec(id='TennisNoFrameskip-v0', entry_point='ale_py.env.gym:AtariEnv', reward_threshold=None, nondeterministic=False, max_episode_steps=None, order_enforce=True, autoreset=False, disable_env_checker=False, apply_api_compatibility=False, kwargs={'game': 'tennis', 'obs_type': 'rgb', 'repeat_action_probability': 0.25, 'full_action_space': False, 'max_num_frames_per_episode': 108000, 'frameskip': 1}, namespace=None, name='TennisNoFrameskip', version=0)), ('Tennis-v4', EnvSpec(id='Tennis-v4', entry_point='ale_py.env.gym:AtariEnv', reward_threshold=None, nondeterministic=False, max_episode_steps=None, order_enforce=True, autoreset=False, disable_env_checker=False, apply_api_compatibility=False, kwargs={'game': 'tennis', 'obs_type': 'rgb', 'repeat_action_probability': 0.0, 'full_action_space': False, 'max_num_frames_per_episode': 108000, 'frameskip': (2, 5)}, namespace=None, name='Tennis', version=4)), ('TennisDeterministic-v4', EnvSpec(id='TennisDeterministic-v4', entry_point='ale_py.env.gym:AtariEnv', reward_threshold=None, nondeterministic=False, max_episode_steps=None, order_enforce=True, autoreset=False, disable_env_checker=False, apply_api_compatibility=False, kwargs={'game': 'tennis', 'obs_type': 'rgb', 'repeat_action_probability': 0.0, 'full_action_space': False, 'max_num_frames_per_episode': 108000, 'frameskip': 4}, namespace=None, name='TennisDeterministic', version=4)), ('TennisNoFrameskip-v4', EnvSpec(id='TennisNoFrameskip-v4', entry_point='ale_py.env.gym:AtariEnv', reward_threshold=None, nondeterministic=False, max_episode_steps=None, order_enforce=True, autoreset=False, disable_env_checker=False, apply_api_compatibility=False, kwargs={'game': 'tennis', 'obs_type': 'rgb', 'repeat_action_probability': 0.0, 'full_action_space': False, 'max_num_frames_per_episode': 108000, 'frameskip': 1}, namespace=None, name='TennisNoFrameskip', version=4)), ('Tennis-ram-v0', EnvSpec(id='Tennis-ram-v0', entry_point='ale_py.env.gym:AtariEnv', reward_threshold=None, nondeterministic=False, max_episode_steps=None, order_enforce=True, autoreset=False, disable_env_checker=False, apply_api_compatibility=False, kwargs={'game': 'tennis', 'obs_type': 'ram', 'repeat_action_probability': 0.25, 'full_action_space': False, 'max_num_frames_per_episode': 108000, 'frameskip': (2, 5)}, namespace=None, name='Tennis-ram', version=0)), ('Tennis-ramDeterministic-v0', EnvSpec(id='Tennis-ramDeterministic-v0', entry_point='ale_py.env.gym:AtariEnv', reward_threshold=None, nondeterministic=False, max_episode_steps=None, order_enforce=True, autoreset=False, disable_env_checker=False, apply_api_compatibility=False, kwargs={'game': 'tennis', 'obs_type': 'ram', 'repeat_action_probability': 0.25, 'full_action_space': False, 'max_num_frames_per_episode': 108000, 'frameskip': 4}, namespace=None, name='Tennis-ramDeterministic', version=0)), ('Tennis-ramNoFrameskip-v0', EnvSpec(id='Tennis-ramNoFrameskip-v0', entry_point='ale_py.env.gym:AtariEnv', reward_threshold=None, nondeterministic=False, max_episode_steps=None, order_enforce=True, autoreset=False, disable_env_checker=False, apply_api_compatibility=False, kwargs={'game': 'tennis', 'obs_type': 'ram', 'repeat_action_probability': 0.25, 'full_action_space': False, 'max_num_frames_per_episode': 108000, 'frameskip': 1}, namespace=None, name='Tennis-ramNoFrameskip', version=0)), ('Tennis-ram-v4', EnvSpec(id='Tennis-ram-v4', entry_point='ale_py.env.gym:AtariEnv', reward_threshold=None, nondeterministic=False, max_episode_steps=None, order_enforce=True, autoreset=False, disable_env_checker=False, apply_api_compatibility=False, kwargs={'game': 'tennis', 'obs_type': 'ram', 'repeat_action_probability': 0.0, 'full_action_space': False, 'max_num_frames_per_episode': 108000, 'frameskip': (2, 5)}, namespace=None, name='Tennis-ram', version=4)), ('Tennis-ramDeterministic-v4', EnvSpec(id='Tennis-ramDeterministic-v4', entry_point='ale_py.env.gym:AtariEnv', reward_threshold=None, nondeterministic=False, max_episode_steps=None, order_enforce=True, autoreset=False, disable_env_checker=False, apply_api_compatibility=False, kwargs={'game': 'tennis', 'obs_type': 'ram', 'repeat_action_probability': 0.0, 'full_action_space': False, 'max_num_frames_per_episode': 108000, 'frameskip': 4}, namespace=None, name='Tennis-ramDeterministic', version=4)), ('Tennis-ramNoFrameskip-v4', EnvSpec(id='Tennis-ramNoFrameskip-v4', entry_point='ale_py.env.gym:AtariEnv', reward_threshold=None, nondeterministic=False, max_episode_steps=None, order_enforce=True, autoreset=False, disable_env_checker=False, apply_api_compatibility=False, kwargs={'game': 'tennis', 'obs_type': 'ram', 'repeat_action_probability': 0.0, 'full_action_space': False, 'max_num_frames_per_episode': 108000, 'frameskip': 1}, namespace=None, name='Tennis-ramNoFrameskip', version=4)), ('TimePilot-v0', EnvSpec(id='TimePilot-v0', entry_point='ale_py.env.gym:AtariEnv', reward_threshold=None, nondeterministic=False, max_episode_steps=None, order_enforce=True, autoreset=False, disable_env_checker=False, apply_api_compatibility=False, kwargs={'game': 'time_pilot', 'obs_type': 'rgb', 'repeat_action_probability': 0.25, 'full_action_space': False, 'max_num_frames_per_episode': 108000, 'frameskip': (2, 5)}, namespace=None, name='TimePilot', version=0)), ('TimePilotDeterministic-v0', EnvSpec(id='TimePilotDeterministic-v0', entry_point='ale_py.env.gym:AtariEnv', reward_threshold=None, nondeterministic=False, max_episode_steps=None, order_enforce=True, autoreset=False, disable_env_checker=False, apply_api_compatibility=False, kwargs={'game': 'time_pilot', 'obs_type': 'rgb', 'repeat_action_probability': 0.25, 'full_action_space': False, 'max_num_frames_per_episode': 108000, 'frameskip': 4}, namespace=None, name='TimePilotDeterministic', version=0)), ('TimePilotNoFrameskip-v0', EnvSpec(id='TimePilotNoFrameskip-v0', entry_point='ale_py.env.gym:AtariEnv', reward_threshold=None, nondeterministic=False, max_episode_steps=None, order_enforce=True, autoreset=False, disable_env_checker=False, apply_api_compatibility=False, kwargs={'game': 'time_pilot', 'obs_type': 'rgb', 'repeat_action_probability': 0.25, 'full_action_space': False, 'max_num_frames_per_episode': 108000, 'frameskip': 1}, namespace=None, name='TimePilotNoFrameskip', version=0)), ('TimePilot-v4', EnvSpec(id='TimePilot-v4', entry_point='ale_py.env.gym:AtariEnv', reward_threshold=None, nondeterministic=False, max_episode_steps=None, order_enforce=True, autoreset=False, disable_env_checker=False, apply_api_compatibility=False, kwargs={'game': 'time_pilot', 'obs_type': 'rgb', 'repeat_action_probability': 0.0, 'full_action_space': False, 'max_num_frames_per_episode': 108000, 'frameskip': (2, 5)}, namespace=None, name='TimePilot', version=4)), ('TimePilotDeterministic-v4', EnvSpec(id='TimePilotDeterministic-v4', entry_point='ale_py.env.gym:AtariEnv', reward_threshold=None, nondeterministic=False, max_episode_steps=None, order_enforce=True, autoreset=False, disable_env_checker=False, apply_api_compatibility=False, kwargs={'game': 'time_pilot', 'obs_type': 'rgb', 'repeat_action_probability': 0.0, 'full_action_space': False, 'max_num_frames_per_episode': 108000, 'frameskip': 4}, namespace=None, name='TimePilotDeterministic', version=4)), ('TimePilotNoFrameskip-v4', EnvSpec(id='TimePilotNoFrameskip-v4', entry_point='ale_py.env.gym:AtariEnv', reward_threshold=None, nondeterministic=False, max_episode_steps=None, order_enforce=True, autoreset=False, disable_env_checker=False, apply_api_compatibility=False, kwargs={'game': 'time_pilot', 'obs_type': 'rgb', 'repeat_action_probability': 0.0, 'full_action_space': False, 'max_num_frames_per_episode': 108000, 'frameskip': 1}, namespace=None, name='TimePilotNoFrameskip', version=4)), ('TimePilot-ram-v0', EnvSpec(id='TimePilot-ram-v0', entry_point='ale_py.env.gym:AtariEnv', reward_threshold=None, nondeterministic=False, max_episode_steps=None, order_enforce=True, autoreset=False, disable_env_checker=False, apply_api_compatibility=False, kwargs={'game': 'time_pilot', 'obs_type': 'ram', 'repeat_action_probability': 0.25, 'full_action_space': False, 'max_num_frames_per_episode': 108000, 'frameskip': (2, 5)}, namespace=None, name='TimePilot-ram', version=0)), ('TimePilot-ramDeterministic-v0', EnvSpec(id='TimePilot-ramDeterministic-v0', entry_point='ale_py.env.gym:AtariEnv', reward_threshold=None, nondeterministic=False, max_episode_steps=None, order_enforce=True, autoreset=False, disable_env_checker=False, apply_api_compatibility=False, kwargs={'game': 'time_pilot', 'obs_type': 'ram', 'repeat_action_probability': 0.25, 'full_action_space': False, 'max_num_frames_per_episode': 108000, 'frameskip': 4}, namespace=None, name='TimePilot-ramDeterministic', version=0)), ('TimePilot-ramNoFrameskip-v0', EnvSpec(id='TimePilot-ramNoFrameskip-v0', entry_point='ale_py.env.gym:AtariEnv', reward_threshold=None, nondeterministic=False, max_episode_steps=None, order_enforce=True, autoreset=False, disable_env_checker=False, apply_api_compatibility=False, kwargs={'game': 'time_pilot', 'obs_type': 'ram', 'repeat_action_probability': 0.25, 'full_action_space': False, 'max_num_frames_per_episode': 108000, 'frameskip': 1}, namespace=None, name='TimePilot-ramNoFrameskip', version=0)), ('TimePilot-ram-v4', EnvSpec(id='TimePilot-ram-v4', entry_point='ale_py.env.gym:AtariEnv', reward_threshold=None, nondeterministic=False, max_episode_steps=None, order_enforce=True, autoreset=False, disable_env_checker=False, apply_api_compatibility=False, kwargs={'game': 'time_pilot', 'obs_type': 'ram', 'repeat_action_probability': 0.0, 'full_action_space': False, 'max_num_frames_per_episode': 108000, 'frameskip': (2, 5)}, namespace=None, name='TimePilot-ram', version=4)), ('TimePilot-ramDeterministic-v4', EnvSpec(id='TimePilot-ramDeterministic-v4', entry_point='ale_py.env.gym:AtariEnv', reward_threshold=None, nondeterministic=False, max_episode_steps=None, order_enforce=True, autoreset=False, disable_env_checker=False, apply_api_compatibility=False, kwargs={'game': 'time_pilot', 'obs_type': 'ram', 'repeat_action_probability': 0.0, 'full_action_space': False, 'max_num_frames_per_episode': 108000, 'frameskip': 4}, namespace=None, name='TimePilot-ramDeterministic', version=4)), ('TimePilot-ramNoFrameskip-v4', EnvSpec(id='TimePilot-ramNoFrameskip-v4', entry_point='ale_py.env.gym:AtariEnv', reward_threshold=None, nondeterministic=False, max_episode_steps=None, order_enforce=True, autoreset=False, disable_env_checker=False, apply_api_compatibility=False, kwargs={'game': 'time_pilot', 'obs_type': 'ram', 'repeat_action_probability': 0.0, 'full_action_space': False, 'max_num_frames_per_episode': 108000, 'frameskip': 1}, namespace=None, name='TimePilot-ramNoFrameskip', version=4)), ('Tutankham-v0', EnvSpec(id='Tutankham-v0', entry_point='ale_py.env.gym:AtariEnv', reward_threshold=None, nondeterministic=False, max_episode_steps=None, order_enforce=True, autoreset=False, disable_env_checker=False, apply_api_compatibility=False, kwargs={'game': 'tutankham', 'obs_type': 'rgb', 'repeat_action_probability': 0.25, 'full_action_space': False, 'max_num_frames_per_episode': 108000, 'frameskip': (2, 5)}, namespace=None, name='Tutankham', version=0)), ('TutankhamDeterministic-v0', EnvSpec(id='TutankhamDeterministic-v0', entry_point='ale_py.env.gym:AtariEnv', reward_threshold=None, nondeterministic=False, max_episode_steps=None, order_enforce=True, autoreset=False, disable_env_checker=False, apply_api_compatibility=False, kwargs={'game': 'tutankham', 'obs_type': 'rgb', 'repeat_action_probability': 0.25, 'full_action_space': False, 'max_num_frames_per_episode': 108000, 'frameskip': 4}, namespace=None, name='TutankhamDeterministic', version=0)), ('TutankhamNoFrameskip-v0', EnvSpec(id='TutankhamNoFrameskip-v0', entry_point='ale_py.env.gym:AtariEnv', reward_threshold=None, nondeterministic=False, max_episode_steps=None, order_enforce=True, autoreset=False, disable_env_checker=False, apply_api_compatibility=False, kwargs={'game': 'tutankham', 'obs_type': 'rgb', 'repeat_action_probability': 0.25, 'full_action_space': False, 'max_num_frames_per_episode': 108000, 'frameskip': 1}, namespace=None, name='TutankhamNoFrameskip', version=0)), ('Tutankham-v4', EnvSpec(id='Tutankham-v4', entry_point='ale_py.env.gym:AtariEnv', reward_threshold=None, nondeterministic=False, max_episode_steps=None, order_enforce=True, autoreset=False, disable_env_checker=False, apply_api_compatibility=False, kwargs={'game': 'tutankham', 'obs_type': 'rgb', 'repeat_action_probability': 0.0, 'full_action_space': False, 'max_num_frames_per_episode': 108000, 'frameskip': (2, 5)}, namespace=None, name='Tutankham', version=4)), ('TutankhamDeterministic-v4', EnvSpec(id='TutankhamDeterministic-v4', entry_point='ale_py.env.gym:AtariEnv', reward_threshold=None, nondeterministic=False, max_episode_steps=None, order_enforce=True, autoreset=False, disable_env_checker=False, apply_api_compatibility=False, kwargs={'game': 'tutankham', 'obs_type': 'rgb', 'repeat_action_probability': 0.0, 'full_action_space': False, 'max_num_frames_per_episode': 108000, 'frameskip': 4}, namespace=None, name='TutankhamDeterministic', version=4)), ('TutankhamNoFrameskip-v4', EnvSpec(id='TutankhamNoFrameskip-v4', entry_point='ale_py.env.gym:AtariEnv', reward_threshold=None, nondeterministic=False, max_episode_steps=None, order_enforce=True, autoreset=False, disable_env_checker=False, apply_api_compatibility=False, kwargs={'game': 'tutankham', 'obs_type': 'rgb', 'repeat_action_probability': 0.0, 'full_action_space': False, 'max_num_frames_per_episode': 108000, 'frameskip': 1}, namespace=None, name='TutankhamNoFrameskip', version=4)), ('Tutankham-ram-v0', EnvSpec(id='Tutankham-ram-v0', entry_point='ale_py.env.gym:AtariEnv', reward_threshold=None, nondeterministic=False, max_episode_steps=None, order_enforce=True, autoreset=False, disable_env_checker=False, apply_api_compatibility=False, kwargs={'game': 'tutankham', 'obs_type': 'ram', 'repeat_action_probability': 0.25, 'full_action_space': False, 'max_num_frames_per_episode': 108000, 'frameskip': (2, 5)}, namespace=None, name='Tutankham-ram', version=0)), ('Tutankham-ramDeterministic-v0', EnvSpec(id='Tutankham-ramDeterministic-v0', entry_point='ale_py.env.gym:AtariEnv', reward_threshold=None, nondeterministic=False, max_episode_steps=None, order_enforce=True, autoreset=False, disable_env_checker=False, apply_api_compatibility=False, kwargs={'game': 'tutankham', 'obs_type': 'ram', 'repeat_action_probability': 0.25, 'full_action_space': False, 'max_num_frames_per_episode': 108000, 'frameskip': 4}, namespace=None, name='Tutankham-ramDeterministic', version=0)), ('Tutankham-ramNoFrameskip-v0', EnvSpec(id='Tutankham-ramNoFrameskip-v0', entry_point='ale_py.env.gym:AtariEnv', reward_threshold=None, nondeterministic=False, max_episode_steps=None, order_enforce=True, autoreset=False, disable_env_checker=False, apply_api_compatibility=False, kwargs={'game': 'tutankham', 'obs_type': 'ram', 'repeat_action_probability': 0.25, 'full_action_space': False, 'max_num_frames_per_episode': 108000, 'frameskip': 1}, namespace=None, name='Tutankham-ramNoFrameskip', version=0)), ('Tutankham-ram-v4', EnvSpec(id='Tutankham-ram-v4', entry_point='ale_py.env.gym:AtariEnv', reward_threshold=None, nondeterministic=False, max_episode_steps=None, order_enforce=True, autoreset=False, disable_env_checker=False, apply_api_compatibility=False, kwargs={'game': 'tutankham', 'obs_type': 'ram', 'repeat_action_probability': 0.0, 'full_action_space': False, 'max_num_frames_per_episode': 108000, 'frameskip': (2, 5)}, namespace=None, name='Tutankham-ram', version=4)), ('Tutankham-ramDeterministic-v4', EnvSpec(id='Tutankham-ramDeterministic-v4', entry_point='ale_py.env.gym:AtariEnv', reward_threshold=None, nondeterministic=False, max_episode_steps=None, order_enforce=True, autoreset=False, disable_env_checker=False, apply_api_compatibility=False, kwargs={'game': 'tutankham', 'obs_type': 'ram', 'repeat_action_probability': 0.0, 'full_action_space': False, 'max_num_frames_per_episode': 108000, 'frameskip': 4}, namespace=None, name='Tutankham-ramDeterministic', version=4)), ('Tutankham-ramNoFrameskip-v4', EnvSpec(id='Tutankham-ramNoFrameskip-v4', entry_point='ale_py.env.gym:AtariEnv', reward_threshold=None, nondeterministic=False, max_episode_steps=None, order_enforce=True, autoreset=False, disable_env_checker=False, apply_api_compatibility=False, kwargs={'game': 'tutankham', 'obs_type': 'ram', 'repeat_action_probability': 0.0, 'full_action_space': False, 'max_num_frames_per_episode': 108000, 'frameskip': 1}, namespace=None, name='Tutankham-ramNoFrameskip', version=4)), ('UpNDown-v0', EnvSpec(id='UpNDown-v0', entry_point='ale_py.env.gym:AtariEnv', reward_threshold=None, nondeterministic=False, max_episode_steps=None, order_enforce=True, autoreset=False, disable_env_checker=False, apply_api_compatibility=False, kwargs={'game': 'up_n_down', 'obs_type': 'rgb', 'repeat_action_probability': 0.25, 'full_action_space': False, 'max_num_frames_per_episode': 108000, 'frameskip': (2, 5)}, namespace=None, name='UpNDown', version=0)), ('UpNDownDeterministic-v0', EnvSpec(id='UpNDownDeterministic-v0', entry_point='ale_py.env.gym:AtariEnv', reward_threshold=None, nondeterministic=False, max_episode_steps=None, order_enforce=True, autoreset=False, disable_env_checker=False, apply_api_compatibility=False, kwargs={'game': 'up_n_down', 'obs_type': 'rgb', 'repeat_action_probability': 0.25, 'full_action_space': False, 'max_num_frames_per_episode': 108000, 'frameskip': 4}, namespace=None, name='UpNDownDeterministic', version=0)), ('UpNDownNoFrameskip-v0', EnvSpec(id='UpNDownNoFrameskip-v0', entry_point='ale_py.env.gym:AtariEnv', reward_threshold=None, nondeterministic=False, max_episode_steps=None, order_enforce=True, autoreset=False, disable_env_checker=False, apply_api_compatibility=False, kwargs={'game': 'up_n_down', 'obs_type': 'rgb', 'repeat_action_probability': 0.25, 'full_action_space': False, 'max_num_frames_per_episode': 108000, 'frameskip': 1}, namespace=None, name='UpNDownNoFrameskip', version=0)), ('UpNDown-v4', EnvSpec(id='UpNDown-v4', entry_point='ale_py.env.gym:AtariEnv', reward_threshold=None, nondeterministic=False, max_episode_steps=None, order_enforce=True, autoreset=False, disable_env_checker=False, apply_api_compatibility=False, kwargs={'game': 'up_n_down', 'obs_type': 'rgb', 'repeat_action_probability': 0.0, 'full_action_space': False, 'max_num_frames_per_episode': 108000, 'frameskip': (2, 5)}, namespace=None, name='UpNDown', version=4)), ('UpNDownDeterministic-v4', EnvSpec(id='UpNDownDeterministic-v4', entry_point='ale_py.env.gym:AtariEnv', reward_threshold=None, nondeterministic=False, max_episode_steps=None, order_enforce=True, autoreset=False, disable_env_checker=False, apply_api_compatibility=False, kwargs={'game': 'up_n_down', 'obs_type': 'rgb', 'repeat_action_probability': 0.0, 'full_action_space': False, 'max_num_frames_per_episode': 108000, 'frameskip': 4}, namespace=None, name='UpNDownDeterministic', version=4)), ('UpNDownNoFrameskip-v4', EnvSpec(id='UpNDownNoFrameskip-v4', entry_point='ale_py.env.gym:AtariEnv', reward_threshold=None, nondeterministic=False, max_episode_steps=None, order_enforce=True, autoreset=False, disable_env_checker=False, apply_api_compatibility=False, kwargs={'game': 'up_n_down', 'obs_type': 'rgb', 'repeat_action_probability': 0.0, 'full_action_space': False, 'max_num_frames_per_episode': 108000, 'frameskip': 1}, namespace=None, name='UpNDownNoFrameskip', version=4)), ('UpNDown-ram-v0', EnvSpec(id='UpNDown-ram-v0', entry_point='ale_py.env.gym:AtariEnv', reward_threshold=None, nondeterministic=False, max_episode_steps=None, order_enforce=True, autoreset=False, disable_env_checker=False, apply_api_compatibility=False, kwargs={'game': 'up_n_down', 'obs_type': 'ram', 'repeat_action_probability': 0.25, 'full_action_space': False, 'max_num_frames_per_episode': 108000, 'frameskip': (2, 5)}, namespace=None, name='UpNDown-ram', version=0)), ('UpNDown-ramDeterministic-v0', EnvSpec(id='UpNDown-ramDeterministic-v0', entry_point='ale_py.env.gym:AtariEnv', reward_threshold=None, nondeterministic=False, max_episode_steps=None, order_enforce=True, autoreset=False, disable_env_checker=False, apply_api_compatibility=False, kwargs={'game': 'up_n_down', 'obs_type': 'ram', 'repeat_action_probability': 0.25, 'full_action_space': False, 'max_num_frames_per_episode': 108000, 'frameskip': 4}, namespace=None, name='UpNDown-ramDeterministic', version=0)), ('UpNDown-ramNoFrameskip-v0', EnvSpec(id='UpNDown-ramNoFrameskip-v0', entry_point='ale_py.env.gym:AtariEnv', reward_threshold=None, nondeterministic=False, max_episode_steps=None, order_enforce=True, autoreset=False, disable_env_checker=False, apply_api_compatibility=False, kwargs={'game': 'up_n_down', 'obs_type': 'ram', 'repeat_action_probability': 0.25, 'full_action_space': False, 'max_num_frames_per_episode': 108000, 'frameskip': 1}, namespace=None, name='UpNDown-ramNoFrameskip', version=0)), ('UpNDown-ram-v4', EnvSpec(id='UpNDown-ram-v4', entry_point='ale_py.env.gym:AtariEnv', reward_threshold=None, nondeterministic=False, max_episode_steps=None, order_enforce=True, autoreset=False, disable_env_checker=False, apply_api_compatibility=False, kwargs={'game': 'up_n_down', 'obs_type': 'ram', 'repeat_action_probability': 0.0, 'full_action_space': False, 'max_num_frames_per_episode': 108000, 'frameskip': (2, 5)}, namespace=None, name='UpNDown-ram', version=4)), ('UpNDown-ramDeterministic-v4', EnvSpec(id='UpNDown-ramDeterministic-v4', entry_point='ale_py.env.gym:AtariEnv', reward_threshold=None, nondeterministic=False, max_episode_steps=None, order_enforce=True, autoreset=False, disable_env_checker=False, apply_api_compatibility=False, kwargs={'game': 'up_n_down', 'obs_type': 'ram', 'repeat_action_probability': 0.0, 'full_action_space': False, 'max_num_frames_per_episode': 108000, 'frameskip': 4}, namespace=None, name='UpNDown-ramDeterministic', version=4)), ('UpNDown-ramNoFrameskip-v4', EnvSpec(id='UpNDown-ramNoFrameskip-v4', entry_point='ale_py.env.gym:AtariEnv', reward_threshold=None, nondeterministic=False, max_episode_steps=None, order_enforce=True, autoreset=False, disable_env_checker=False, apply_api_compatibility=False, kwargs={'game': 'up_n_down', 'obs_type': 'ram', 'repeat_action_probability': 0.0, 'full_action_space': False, 'max_num_frames_per_episode': 108000, 'frameskip': 1}, namespace=None, name='UpNDown-ramNoFrameskip', version=4)), ('Venture-v0', EnvSpec(id='Venture-v0', entry_point='ale_py.env.gym:AtariEnv', reward_threshold=None, nondeterministic=False, max_episode_steps=None, order_enforce=True, autoreset=False, disable_env_checker=False, apply_api_compatibility=False, kwargs={'game': 'venture', 'obs_type': 'rgb', 'repeat_action_probability': 0.25, 'full_action_space': False, 'max_num_frames_per_episode': 108000, 'frameskip': (2, 5)}, namespace=None, name='Venture', version=0)), ('VentureDeterministic-v0', EnvSpec(id='VentureDeterministic-v0', entry_point='ale_py.env.gym:AtariEnv', reward_threshold=None, nondeterministic=False, max_episode_steps=None, order_enforce=True, autoreset=False, disable_env_checker=False, apply_api_compatibility=False, kwargs={'game': 'venture', 'obs_type': 'rgb', 'repeat_action_probability': 0.25, 'full_action_space': False, 'max_num_frames_per_episode': 108000, 'frameskip': 4}, namespace=None, name='VentureDeterministic', version=0)), ('VentureNoFrameskip-v0', EnvSpec(id='VentureNoFrameskip-v0', entry_point='ale_py.env.gym:AtariEnv', reward_threshold=None, nondeterministic=False, max_episode_steps=None, order_enforce=True, autoreset=False, disable_env_checker=False, apply_api_compatibility=False, kwargs={'game': 'venture', 'obs_type': 'rgb', 'repeat_action_probability': 0.25, 'full_action_space': False, 'max_num_frames_per_episode': 108000, 'frameskip': 1}, namespace=None, name='VentureNoFrameskip', version=0)), ('Venture-v4', EnvSpec(id='Venture-v4', entry_point='ale_py.env.gym:AtariEnv', reward_threshold=None, nondeterministic=False, max_episode_steps=None, order_enforce=True, autoreset=False, disable_env_checker=False, apply_api_compatibility=False, kwargs={'game': 'venture', 'obs_type': 'rgb', 'repeat_action_probability': 0.0, 'full_action_space': False, 'max_num_frames_per_episode': 108000, 'frameskip': (2, 5)}, namespace=None, name='Venture', version=4)), ('VentureDeterministic-v4', EnvSpec(id='VentureDeterministic-v4', entry_point='ale_py.env.gym:AtariEnv', reward_threshold=None, nondeterministic=False, max_episode_steps=None, order_enforce=True, autoreset=False, disable_env_checker=False, apply_api_compatibility=False, kwargs={'game': 'venture', 'obs_type': 'rgb', 'repeat_action_probability': 0.0, 'full_action_space': False, 'max_num_frames_per_episode': 108000, 'frameskip': 4}, namespace=None, name='VentureDeterministic', version=4)), ('VentureNoFrameskip-v4', EnvSpec(id='VentureNoFrameskip-v4', entry_point='ale_py.env.gym:AtariEnv', reward_threshold=None, nondeterministic=False, max_episode_steps=None, order_enforce=True, autoreset=False, disable_env_checker=False, apply_api_compatibility=False, kwargs={'game': 'venture', 'obs_type': 'rgb', 'repeat_action_probability': 0.0, 'full_action_space': False, 'max_num_frames_per_episode': 108000, 'frameskip': 1}, namespace=None, name='VentureNoFrameskip', version=4)), ('Venture-ram-v0', EnvSpec(id='Venture-ram-v0', entry_point='ale_py.env.gym:AtariEnv', reward_threshold=None, nondeterministic=False, max_episode_steps=None, order_enforce=True, autoreset=False, disable_env_checker=False, apply_api_compatibility=False, kwargs={'game': 'venture', 'obs_type': 'ram', 'repeat_action_probability': 0.25, 'full_action_space': False, 'max_num_frames_per_episode': 108000, 'frameskip': (2, 5)}, namespace=None, name='Venture-ram', version=0)), ('Venture-ramDeterministic-v0', EnvSpec(id='Venture-ramDeterministic-v0', entry_point='ale_py.env.gym:AtariEnv', reward_threshold=None, nondeterministic=False, max_episode_steps=None, order_enforce=True, autoreset=False, disable_env_checker=False, apply_api_compatibility=False, kwargs={'game': 'venture', 'obs_type': 'ram', 'repeat_action_probability': 0.25, 'full_action_space': False, 'max_num_frames_per_episode': 108000, 'frameskip': 4}, namespace=None, name='Venture-ramDeterministic', version=0)), ('Venture-ramNoFrameskip-v0', EnvSpec(id='Venture-ramNoFrameskip-v0', entry_point='ale_py.env.gym:AtariEnv', reward_threshold=None, nondeterministic=False, max_episode_steps=None, order_enforce=True, autoreset=False, disable_env_checker=False, apply_api_compatibility=False, kwargs={'game': 'venture', 'obs_type': 'ram', 'repeat_action_probability': 0.25, 'full_action_space': False, 'max_num_frames_per_episode': 108000, 'frameskip': 1}, namespace=None, name='Venture-ramNoFrameskip', version=0)), ('Venture-ram-v4', EnvSpec(id='Venture-ram-v4', entry_point='ale_py.env.gym:AtariEnv', reward_threshold=None, nondeterministic=False, max_episode_steps=None, order_enforce=True, autoreset=False, disable_env_checker=False, apply_api_compatibility=False, kwargs={'game': 'venture', 'obs_type': 'ram', 'repeat_action_probability': 0.0, 'full_action_space': False, 'max_num_frames_per_episode': 108000, 'frameskip': (2, 5)}, namespace=None, name='Venture-ram', version=4)), ('Venture-ramDeterministic-v4', EnvSpec(id='Venture-ramDeterministic-v4', entry_point='ale_py.env.gym:AtariEnv', reward_threshold=None, nondeterministic=False, max_episode_steps=None, order_enforce=True, autoreset=False, disable_env_checker=False, apply_api_compatibility=False, kwargs={'game': 'venture', 'obs_type': 'ram', 'repeat_action_probability': 0.0, 'full_action_space': False, 'max_num_frames_per_episode': 108000, 'frameskip': 4}, namespace=None, name='Venture-ramDeterministic', version=4)), ('Venture-ramNoFrameskip-v4', EnvSpec(id='Venture-ramNoFrameskip-v4', entry_point='ale_py.env.gym:AtariEnv', reward_threshold=None, nondeterministic=False, max_episode_steps=None, order_enforce=True, autoreset=False, disable_env_checker=False, apply_api_compatibility=False, kwargs={'game': 'venture', 'obs_type': 'ram', 'repeat_action_probability': 0.0, 'full_action_space': False, 'max_num_frames_per_episode': 108000, 'frameskip': 1}, namespace=None, name='Venture-ramNoFrameskip', version=4)), ('VideoPinball-v0', EnvSpec(id='VideoPinball-v0', entry_point='ale_py.env.gym:AtariEnv', reward_threshold=None, nondeterministic=False, max_episode_steps=None, order_enforce=True, autoreset=False, disable_env_checker=False, apply_api_compatibility=False, kwargs={'game': 'video_pinball', 'obs_type': 'rgb', 'repeat_action_probability': 0.25, 'full_action_space': False, 'max_num_frames_per_episode': 108000, 'frameskip': (2, 5)}, namespace=None, name='VideoPinball', version=0)), ('VideoPinballDeterministic-v0', EnvSpec(id='VideoPinballDeterministic-v0', entry_point='ale_py.env.gym:AtariEnv', reward_threshold=None, nondeterministic=False, max_episode_steps=None, order_enforce=True, autoreset=False, disable_env_checker=False, apply_api_compatibility=False, kwargs={'game': 'video_pinball', 'obs_type': 'rgb', 'repeat_action_probability': 0.25, 'full_action_space': False, 'max_num_frames_per_episode': 108000, 'frameskip': 4}, namespace=None, name='VideoPinballDeterministic', version=0)), ('VideoPinballNoFrameskip-v0', EnvSpec(id='VideoPinballNoFrameskip-v0', entry_point='ale_py.env.gym:AtariEnv', reward_threshold=None, nondeterministic=False, max_episode_steps=None, order_enforce=True, autoreset=False, disable_env_checker=False, apply_api_compatibility=False, kwargs={'game': 'video_pinball', 'obs_type': 'rgb', 'repeat_action_probability': 0.25, 'full_action_space': False, 'max_num_frames_per_episode': 108000, 'frameskip': 1}, namespace=None, name='VideoPinballNoFrameskip', version=0)), ('VideoPinball-v4', EnvSpec(id='VideoPinball-v4', entry_point='ale_py.env.gym:AtariEnv', reward_threshold=None, nondeterministic=False, max_episode_steps=None, order_enforce=True, autoreset=False, disable_env_checker=False, apply_api_compatibility=False, kwargs={'game': 'video_pinball', 'obs_type': 'rgb', 'repeat_action_probability': 0.0, 'full_action_space': False, 'max_num_frames_per_episode': 108000, 'frameskip': (2, 5)}, namespace=None, name='VideoPinball', version=4)), ('VideoPinballDeterministic-v4', EnvSpec(id='VideoPinballDeterministic-v4', entry_point='ale_py.env.gym:AtariEnv', reward_threshold=None, nondeterministic=False, max_episode_steps=None, order_enforce=True, autoreset=False, disable_env_checker=False, apply_api_compatibility=False, kwargs={'game': 'video_pinball', 'obs_type': 'rgb', 'repeat_action_probability': 0.0, 'full_action_space': False, 'max_num_frames_per_episode': 108000, 'frameskip': 4}, namespace=None, name='VideoPinballDeterministic', version=4)), ('VideoPinballNoFrameskip-v4', EnvSpec(id='VideoPinballNoFrameskip-v4', entry_point='ale_py.env.gym:AtariEnv', reward_threshold=None, nondeterministic=False, max_episode_steps=None, order_enforce=True, autoreset=False, disable_env_checker=False, apply_api_compatibility=False, kwargs={'game': 'video_pinball', 'obs_type': 'rgb', 'repeat_action_probability': 0.0, 'full_action_space': False, 'max_num_frames_per_episode': 108000, 'frameskip': 1}, namespace=None, name='VideoPinballNoFrameskip', version=4)), ('VideoPinball-ram-v0', EnvSpec(id='VideoPinball-ram-v0', entry_point='ale_py.env.gym:AtariEnv', reward_threshold=None, nondeterministic=False, max_episode_steps=None, order_enforce=True, autoreset=False, disable_env_checker=False, apply_api_compatibility=False, kwargs={'game': 'video_pinball', 'obs_type': 'ram', 'repeat_action_probability': 0.25, 'full_action_space': False, 'max_num_frames_per_episode': 108000, 'frameskip': (2, 5)}, namespace=None, name='VideoPinball-ram', version=0)), ('VideoPinball-ramDeterministic-v0', EnvSpec(id='VideoPinball-ramDeterministic-v0', entry_point='ale_py.env.gym:AtariEnv', reward_threshold=None, nondeterministic=False, max_episode_steps=None, order_enforce=True, autoreset=False, disable_env_checker=False, apply_api_compatibility=False, kwargs={'game': 'video_pinball', 'obs_type': 'ram', 'repeat_action_probability': 0.25, 'full_action_space': False, 'max_num_frames_per_episode': 108000, 'frameskip': 4}, namespace=None, name='VideoPinball-ramDeterministic', version=0)), ('VideoPinball-ramNoFrameskip-v0', EnvSpec(id='VideoPinball-ramNoFrameskip-v0', entry_point='ale_py.env.gym:AtariEnv', reward_threshold=None, nondeterministic=False, max_episode_steps=None, order_enforce=True, autoreset=False, disable_env_checker=False, apply_api_compatibility=False, kwargs={'game': 'video_pinball', 'obs_type': 'ram', 'repeat_action_probability': 0.25, 'full_action_space': False, 'max_num_frames_per_episode': 108000, 'frameskip': 1}, namespace=None, name='VideoPinball-ramNoFrameskip', version=0)), ('VideoPinball-ram-v4', EnvSpec(id='VideoPinball-ram-v4', entry_point='ale_py.env.gym:AtariEnv', reward_threshold=None, nondeterministic=False, max_episode_steps=None, order_enforce=True, autoreset=False, disable_env_checker=False, apply_api_compatibility=False, kwargs={'game': 'video_pinball', 'obs_type': 'ram', 'repeat_action_probability': 0.0, 'full_action_space': False, 'max_num_frames_per_episode': 108000, 'frameskip': (2, 5)}, namespace=None, name='VideoPinball-ram', version=4)), ('VideoPinball-ramDeterministic-v4', EnvSpec(id='VideoPinball-ramDeterministic-v4', entry_point='ale_py.env.gym:AtariEnv', reward_threshold=None, nondeterministic=False, max_episode_steps=None, order_enforce=True, autoreset=False, disable_env_checker=False, apply_api_compatibility=False, kwargs={'game': 'video_pinball', 'obs_type': 'ram', 'repeat_action_probability': 0.0, 'full_action_space': False, 'max_num_frames_per_episode': 108000, 'frameskip': 4}, namespace=None, name='VideoPinball-ramDeterministic', version=4)), ('VideoPinball-ramNoFrameskip-v4', EnvSpec(id='VideoPinball-ramNoFrameskip-v4', entry_point='ale_py.env.gym:AtariEnv', reward_threshold=None, nondeterministic=False, max_episode_steps=None, order_enforce=True, autoreset=False, disable_env_checker=False, apply_api_compatibility=False, kwargs={'game': 'video_pinball', 'obs_type': 'ram', 'repeat_action_probability': 0.0, 'full_action_space': False, 'max_num_frames_per_episode': 108000, 'frameskip': 1}, namespace=None, name='VideoPinball-ramNoFrameskip', version=4)), ('WizardOfWor-v0', EnvSpec(id='WizardOfWor-v0', entry_point='ale_py.env.gym:AtariEnv', reward_threshold=None, nondeterministic=False, max_episode_steps=None, order_enforce=True, autoreset=False, disable_env_checker=False, apply_api_compatibility=False, kwargs={'game': 'wizard_of_wor', 'obs_type': 'rgb', 'repeat_action_probability': 0.25, 'full_action_space': False, 'max_num_frames_per_episode': 108000, 'frameskip': (2, 5)}, namespace=None, name='WizardOfWor', version=0)), ('WizardOfWorDeterministic-v0', EnvSpec(id='WizardOfWorDeterministic-v0', entry_point='ale_py.env.gym:AtariEnv', reward_threshold=None, nondeterministic=False, max_episode_steps=None, order_enforce=True, autoreset=False, disable_env_checker=False, apply_api_compatibility=False, kwargs={'game': 'wizard_of_wor', 'obs_type': 'rgb', 'repeat_action_probability': 0.25, 'full_action_space': False, 'max_num_frames_per_episode': 108000, 'frameskip': 4}, namespace=None, name='WizardOfWorDeterministic', version=0)), ('WizardOfWorNoFrameskip-v0', EnvSpec(id='WizardOfWorNoFrameskip-v0', entry_point='ale_py.env.gym:AtariEnv', reward_threshold=None, nondeterministic=False, max_episode_steps=None, order_enforce=True, autoreset=False, disable_env_checker=False, apply_api_compatibility=False, kwargs={'game': 'wizard_of_wor', 'obs_type': 'rgb', 'repeat_action_probability': 0.25, 'full_action_space': False, 'max_num_frames_per_episode': 108000, 'frameskip': 1}, namespace=None, name='WizardOfWorNoFrameskip', version=0)), ('WizardOfWor-v4', EnvSpec(id='WizardOfWor-v4', entry_point='ale_py.env.gym:AtariEnv', reward_threshold=None, nondeterministic=False, max_episode_steps=None, order_enforce=True, autoreset=False, disable_env_checker=False, apply_api_compatibility=False, kwargs={'game': 'wizard_of_wor', 'obs_type': 'rgb', 'repeat_action_probability': 0.0, 'full_action_space': False, 'max_num_frames_per_episode': 108000, 'frameskip': (2, 5)}, namespace=None, name='WizardOfWor', version=4)), ('WizardOfWorDeterministic-v4', EnvSpec(id='WizardOfWorDeterministic-v4', entry_point='ale_py.env.gym:AtariEnv', reward_threshold=None, nondeterministic=False, max_episode_steps=None, order_enforce=True, autoreset=False, disable_env_checker=False, apply_api_compatibility=False, kwargs={'game': 'wizard_of_wor', 'obs_type': 'rgb', 'repeat_action_probability': 0.0, 'full_action_space': False, 'max_num_frames_per_episode': 108000, 'frameskip': 4}, namespace=None, name='WizardOfWorDeterministic', version=4)), ('WizardOfWorNoFrameskip-v4', EnvSpec(id='WizardOfWorNoFrameskip-v4', entry_point='ale_py.env.gym:AtariEnv', reward_threshold=None, nondeterministic=False, max_episode_steps=None, order_enforce=True, autoreset=False, disable_env_checker=False, apply_api_compatibility=False, kwargs={'game': 'wizard_of_wor', 'obs_type': 'rgb', 'repeat_action_probability': 0.0, 'full_action_space': False, 'max_num_frames_per_episode': 108000, 'frameskip': 1}, namespace=None, name='WizardOfWorNoFrameskip', version=4)), ('WizardOfWor-ram-v0', EnvSpec(id='WizardOfWor-ram-v0', entry_point='ale_py.env.gym:AtariEnv', reward_threshold=None, nondeterministic=False, max_episode_steps=None, order_enforce=True, autoreset=False, disable_env_checker=False, apply_api_compatibility=False, kwargs={'game': 'wizard_of_wor', 'obs_type': 'ram', 'repeat_action_probability': 0.25, 'full_action_space': False, 'max_num_frames_per_episode': 108000, 'frameskip': (2, 5)}, namespace=None, name='WizardOfWor-ram', version=0)), ('WizardOfWor-ramDeterministic-v0', EnvSpec(id='WizardOfWor-ramDeterministic-v0', entry_point='ale_py.env.gym:AtariEnv', reward_threshold=None, nondeterministic=False, max_episode_steps=None, order_enforce=True, autoreset=False, disable_env_checker=False, apply_api_compatibility=False, kwargs={'game': 'wizard_of_wor', 'obs_type': 'ram', 'repeat_action_probability': 0.25, 'full_action_space': False, 'max_num_frames_per_episode': 108000, 'frameskip': 4}, namespace=None, name='WizardOfWor-ramDeterministic', version=0)), ('WizardOfWor-ramNoFrameskip-v0', EnvSpec(id='WizardOfWor-ramNoFrameskip-v0', entry_point='ale_py.env.gym:AtariEnv', reward_threshold=None, nondeterministic=False, max_episode_steps=None, order_enforce=True, autoreset=False, disable_env_checker=False, apply_api_compatibility=False, kwargs={'game': 'wizard_of_wor', 'obs_type': 'ram', 'repeat_action_probability': 0.25, 'full_action_space': False, 'max_num_frames_per_episode': 108000, 'frameskip': 1}, namespace=None, name='WizardOfWor-ramNoFrameskip', version=0)), ('WizardOfWor-ram-v4', EnvSpec(id='WizardOfWor-ram-v4', entry_point='ale_py.env.gym:AtariEnv', reward_threshold=None, nondeterministic=False, max_episode_steps=None, order_enforce=True, autoreset=False, disable_env_checker=False, apply_api_compatibility=False, kwargs={'game': 'wizard_of_wor', 'obs_type': 'ram', 'repeat_action_probability': 0.0, 'full_action_space': False, 'max_num_frames_per_episode': 108000, 'frameskip': (2, 5)}, namespace=None, name='WizardOfWor-ram', version=4)), ('WizardOfWor-ramDeterministic-v4', EnvSpec(id='WizardOfWor-ramDeterministic-v4', entry_point='ale_py.env.gym:AtariEnv', reward_threshold=None, nondeterministic=False, max_episode_steps=None, order_enforce=True, autoreset=False, disable_env_checker=False, apply_api_compatibility=False, kwargs={'game': 'wizard_of_wor', 'obs_type': 'ram', 'repeat_action_probability': 0.0, 'full_action_space': False, 'max_num_frames_per_episode': 108000, 'frameskip': 4}, namespace=None, name='WizardOfWor-ramDeterministic', version=4)), ('WizardOfWor-ramNoFrameskip-v4', EnvSpec(id='WizardOfWor-ramNoFrameskip-v4', entry_point='ale_py.env.gym:AtariEnv', reward_threshold=None, nondeterministic=False, max_episode_steps=None, order_enforce=True, autoreset=False, disable_env_checker=False, apply_api_compatibility=False, kwargs={'game': 'wizard_of_wor', 'obs_type': 'ram', 'repeat_action_probability': 0.0, 'full_action_space': False, 'max_num_frames_per_episode': 108000, 'frameskip': 1}, namespace=None, name='WizardOfWor-ramNoFrameskip', version=4)), ('YarsRevenge-v0', EnvSpec(id='YarsRevenge-v0', entry_point='ale_py.env.gym:AtariEnv', reward_threshold=None, nondeterministic=False, max_episode_steps=None, order_enforce=True, autoreset=False, disable_env_checker=False, apply_api_compatibility=False, kwargs={'game': 'yars_revenge', 'obs_type': 'rgb', 'repeat_action_probability': 0.25, 'full_action_space': False, 'max_num_frames_per_episode': 108000, 'frameskip': (2, 5)}, namespace=None, name='YarsRevenge', version=0)), ('YarsRevengeDeterministic-v0', EnvSpec(id='YarsRevengeDeterministic-v0', entry_point='ale_py.env.gym:AtariEnv', reward_threshold=None, nondeterministic=False, max_episode_steps=None, order_enforce=True, autoreset=False, disable_env_checker=False, apply_api_compatibility=False, kwargs={'game': 'yars_revenge', 'obs_type': 'rgb', 'repeat_action_probability': 0.25, 'full_action_space': False, 'max_num_frames_per_episode': 108000, 'frameskip': 4}, namespace=None, name='YarsRevengeDeterministic', version=0)), ('YarsRevengeNoFrameskip-v0', EnvSpec(id='YarsRevengeNoFrameskip-v0', entry_point='ale_py.env.gym:AtariEnv', reward_threshold=None, nondeterministic=False, max_episode_steps=None, order_enforce=True, autoreset=False, disable_env_checker=False, apply_api_compatibility=False, kwargs={'game': 'yars_revenge', 'obs_type': 'rgb', 'repeat_action_probability': 0.25, 'full_action_space': False, 'max_num_frames_per_episode': 108000, 'frameskip': 1}, namespace=None, name='YarsRevengeNoFrameskip', version=0)), ('YarsRevenge-v4', EnvSpec(id='YarsRevenge-v4', entry_point='ale_py.env.gym:AtariEnv', reward_threshold=None, nondeterministic=False, max_episode_steps=None, order_enforce=True, autoreset=False, disable_env_checker=False, apply_api_compatibility=False, kwargs={'game': 'yars_revenge', 'obs_type': 'rgb', 'repeat_action_probability': 0.0, 'full_action_space': False, 'max_num_frames_per_episode': 108000, 'frameskip': (2, 5)}, namespace=None, name='YarsRevenge', version=4)), ('YarsRevengeDeterministic-v4', EnvSpec(id='YarsRevengeDeterministic-v4', entry_point='ale_py.env.gym:AtariEnv', reward_threshold=None, nondeterministic=False, max_episode_steps=None, order_enforce=True, autoreset=False, disable_env_checker=False, apply_api_compatibility=False, kwargs={'game': 'yars_revenge', 'obs_type': 'rgb', 'repeat_action_probability': 0.0, 'full_action_space': False, 'max_num_frames_per_episode': 108000, 'frameskip': 4}, namespace=None, name='YarsRevengeDeterministic', version=4)), ('YarsRevengeNoFrameskip-v4', EnvSpec(id='YarsRevengeNoFrameskip-v4', entry_point='ale_py.env.gym:AtariEnv', reward_threshold=None, nondeterministic=False, max_episode_steps=None, order_enforce=True, autoreset=False, disable_env_checker=False, apply_api_compatibility=False, kwargs={'game': 'yars_revenge', 'obs_type': 'rgb', 'repeat_action_probability': 0.0, 'full_action_space': False, 'max_num_frames_per_episode': 108000, 'frameskip': 1}, namespace=None, name='YarsRevengeNoFrameskip', version=4)), ('YarsRevenge-ram-v0', EnvSpec(id='YarsRevenge-ram-v0', entry_point='ale_py.env.gym:AtariEnv', reward_threshold=None, nondeterministic=False, max_episode_steps=None, order_enforce=True, autoreset=False, disable_env_checker=False, apply_api_compatibility=False, kwargs={'game': 'yars_revenge', 'obs_type': 'ram', 'repeat_action_probability': 0.25, 'full_action_space': False, 'max_num_frames_per_episode': 108000, 'frameskip': (2, 5)}, namespace=None, name='YarsRevenge-ram', version=0)), ('YarsRevenge-ramDeterministic-v0', EnvSpec(id='YarsRevenge-ramDeterministic-v0', entry_point='ale_py.env.gym:AtariEnv', reward_threshold=None, nondeterministic=False, max_episode_steps=None, order_enforce=True, autoreset=False, disable_env_checker=False, apply_api_compatibility=False, kwargs={'game': 'yars_revenge', 'obs_type': 'ram', 'repeat_action_probability': 0.25, 'full_action_space': False, 'max_num_frames_per_episode': 108000, 'frameskip': 4}, namespace=None, name='YarsRevenge-ramDeterministic', version=0)), ('YarsRevenge-ramNoFrameskip-v0', EnvSpec(id='YarsRevenge-ramNoFrameskip-v0', entry_point='ale_py.env.gym:AtariEnv', reward_threshold=None, nondeterministic=False, max_episode_steps=None, order_enforce=True, autoreset=False, disable_env_checker=False, apply_api_compatibility=False, kwargs={'game': 'yars_revenge', 'obs_type': 'ram', 'repeat_action_probability': 0.25, 'full_action_space': False, 'max_num_frames_per_episode': 108000, 'frameskip': 1}, namespace=None, name='YarsRevenge-ramNoFrameskip', version=0)), ('YarsRevenge-ram-v4', EnvSpec(id='YarsRevenge-ram-v4', entry_point='ale_py.env.gym:AtariEnv', reward_threshold=None, nondeterministic=False, max_episode_steps=None, order_enforce=True, autoreset=False, disable_env_checker=False, apply_api_compatibility=False, kwargs={'game': 'yars_revenge', 'obs_type': 'ram', 'repeat_action_probability': 0.0, 'full_action_space': False, 'max_num_frames_per_episode': 108000, 'frameskip': (2, 5)}, namespace=None, name='YarsRevenge-ram', version=4)), ('YarsRevenge-ramDeterministic-v4', EnvSpec(id='YarsRevenge-ramDeterministic-v4', entry_point='ale_py.env.gym:AtariEnv', reward_threshold=None, nondeterministic=False, max_episode_steps=None, order_enforce=True, autoreset=False, disable_env_checker=False, apply_api_compatibility=False, kwargs={'game': 'yars_revenge', 'obs_type': 'ram', 'repeat_action_probability': 0.0, 'full_action_space': False, 'max_num_frames_per_episode': 108000, 'frameskip': 4}, namespace=None, name='YarsRevenge-ramDeterministic', version=4)), ('YarsRevenge-ramNoFrameskip-v4', EnvSpec(id='YarsRevenge-ramNoFrameskip-v4', entry_point='ale_py.env.gym:AtariEnv', reward_threshold=None, nondeterministic=False, max_episode_steps=None, order_enforce=True, autoreset=False, disable_env_checker=False, apply_api_compatibility=False, kwargs={'game': 'yars_revenge', 'obs_type': 'ram', 'repeat_action_probability': 0.0, 'full_action_space': False, 'max_num_frames_per_episode': 108000, 'frameskip': 1}, namespace=None, name='YarsRevenge-ramNoFrameskip', version=4)), ('Zaxxon-v0', EnvSpec(id='Zaxxon-v0', entry_point='ale_py.env.gym:AtariEnv', reward_threshold=None, nondeterministic=False, max_episode_steps=None, order_enforce=True, autoreset=False, disable_env_checker=False, apply_api_compatibility=False, kwargs={'game': 'zaxxon', 'obs_type': 'rgb', 'repeat_action_probability': 0.25, 'full_action_space': False, 'max_num_frames_per_episode': 108000, 'frameskip': (2, 5)}, namespace=None, name='Zaxxon', version=0)), ('ZaxxonDeterministic-v0', EnvSpec(id='ZaxxonDeterministic-v0', entry_point='ale_py.env.gym:AtariEnv', reward_threshold=None, nondeterministic=False, max_episode_steps=None, order_enforce=True, autoreset=False, disable_env_checker=False, apply_api_compatibility=False, kwargs={'game': 'zaxxon', 'obs_type': 'rgb', 'repeat_action_probability': 0.25, 'full_action_space': False, 'max_num_frames_per_episode': 108000, 'frameskip': 4}, namespace=None, name='ZaxxonDeterministic', version=0)), ('ZaxxonNoFrameskip-v0', EnvSpec(id='ZaxxonNoFrameskip-v0', entry_point='ale_py.env.gym:AtariEnv', reward_threshold=None, nondeterministic=False, max_episode_steps=None, order_enforce=True, autoreset=False, disable_env_checker=False, apply_api_compatibility=False, kwargs={'game': 'zaxxon', 'obs_type': 'rgb', 'repeat_action_probability': 0.25, 'full_action_space': False, 'max_num_frames_per_episode': 108000, 'frameskip': 1}, namespace=None, name='ZaxxonNoFrameskip', version=0)), ('Zaxxon-v4', EnvSpec(id='Zaxxon-v4', entry_point='ale_py.env.gym:AtariEnv', reward_threshold=None, nondeterministic=False, max_episode_steps=None, order_enforce=True, autoreset=False, disable_env_checker=False, apply_api_compatibility=False, kwargs={'game': 'zaxxon', 'obs_type': 'rgb', 'repeat_action_probability': 0.0, 'full_action_space': False, 'max_num_frames_per_episode': 108000, 'frameskip': (2, 5)}, namespace=None, name='Zaxxon', version=4)), ('ZaxxonDeterministic-v4', EnvSpec(id='ZaxxonDeterministic-v4', entry_point='ale_py.env.gym:AtariEnv', reward_threshold=None, nondeterministic=False, max_episode_steps=None, order_enforce=True, autoreset=False, disable_env_checker=False, apply_api_compatibility=False, kwargs={'game': 'zaxxon', 'obs_type': 'rgb', 'repeat_action_probability': 0.0, 'full_action_space': False, 'max_num_frames_per_episode': 108000, 'frameskip': 4}, namespace=None, name='ZaxxonDeterministic', version=4)), ('ZaxxonNoFrameskip-v4', EnvSpec(id='ZaxxonNoFrameskip-v4', entry_point='ale_py.env.gym:AtariEnv', reward_threshold=None, nondeterministic=False, max_episode_steps=None, order_enforce=True, autoreset=False, disable_env_checker=False, apply_api_compatibility=False, kwargs={'game': 'zaxxon', 'obs_type': 'rgb', 'repeat_action_probability': 0.0, 'full_action_space': False, 'max_num_frames_per_episode': 108000, 'frameskip': 1}, namespace=None, name='ZaxxonNoFrameskip', version=4)), ('Zaxxon-ram-v0', EnvSpec(id='Zaxxon-ram-v0', entry_point='ale_py.env.gym:AtariEnv', reward_threshold=None, nondeterministic=False, max_episode_steps=None, order_enforce=True, autoreset=False, disable_env_checker=False, apply_api_compatibility=False, kwargs={'game': 'zaxxon', 'obs_type': 'ram', 'repeat_action_probability': 0.25, 'full_action_space': False, 'max_num_frames_per_episode': 108000, 'frameskip': (2, 5)}, namespace=None, name='Zaxxon-ram', version=0)), ('Zaxxon-ramDeterministic-v0', EnvSpec(id='Zaxxon-ramDeterministic-v0', entry_point='ale_py.env.gym:AtariEnv', reward_threshold=None, nondeterministic=False, max_episode_steps=None, order_enforce=True, autoreset=False, disable_env_checker=False, apply_api_compatibility=False, kwargs={'game': 'zaxxon', 'obs_type': 'ram', 'repeat_action_probability': 0.25, 'full_action_space': False, 'max_num_frames_per_episode': 108000, 'frameskip': 4}, namespace=None, name='Zaxxon-ramDeterministic', version=0)), ('Zaxxon-ramNoFrameskip-v0', EnvSpec(id='Zaxxon-ramNoFrameskip-v0', entry_point='ale_py.env.gym:AtariEnv', reward_threshold=None, nondeterministic=False, max_episode_steps=None, order_enforce=True, autoreset=False, disable_env_checker=False, apply_api_compatibility=False, kwargs={'game': 'zaxxon', 'obs_type': 'ram', 'repeat_action_probability': 0.25, 'full_action_space': False, 'max_num_frames_per_episode': 108000, 'frameskip': 1}, namespace=None, name='Zaxxon-ramNoFrameskip', version=0)), ('Zaxxon-ram-v4', EnvSpec(id='Zaxxon-ram-v4', entry_point='ale_py.env.gym:AtariEnv', reward_threshold=None, nondeterministic=False, max_episode_steps=None, order_enforce=True, autoreset=False, disable_env_checker=False, apply_api_compatibility=False, kwargs={'game': 'zaxxon', 'obs_type': 'ram', 'repeat_action_probability': 0.0, 'full_action_space': False, 'max_num_frames_per_episode': 108000, 'frameskip': (2, 5)}, namespace=None, name='Zaxxon-ram', version=4)), ('Zaxxon-ramDeterministic-v4', EnvSpec(id='Zaxxon-ramDeterministic-v4', entry_point='ale_py.env.gym:AtariEnv', reward_threshold=None, nondeterministic=False, max_episode_steps=None, order_enforce=True, autoreset=False, disable_env_checker=False, apply_api_compatibility=False, kwargs={'game': 'zaxxon', 'obs_type': 'ram', 'repeat_action_probability': 0.0, 'full_action_space': False, 'max_num_frames_per_episode': 108000, 'frameskip': 4}, namespace=None, name='Zaxxon-ramDeterministic', version=4)), ('Zaxxon-ramNoFrameskip-v4', EnvSpec(id='Zaxxon-ramNoFrameskip-v4', entry_point='ale_py.env.gym:AtariEnv', reward_threshold=None, nondeterministic=False, max_episode_steps=None, order_enforce=True, autoreset=False, disable_env_checker=False, apply_api_compatibility=False, kwargs={'game': 'zaxxon', 'obs_type': 'ram', 'repeat_action_probability': 0.0, 'full_action_space': False, 'max_num_frames_per_episode': 108000, 'frameskip': 1}, namespace=None, name='Zaxxon-ramNoFrameskip', version=4)), ('CartPole-v0', EnvSpec(id='CartPole-v0', entry_point='gym.envs.classic_control.cartpole:CartPoleEnv', reward_threshold=195.0, nondeterministic=False, max_episode_steps=200, order_enforce=True, autoreset=False, disable_env_checker=False, apply_api_compatibility=False, kwargs={}, namespace=None, name='CartPole', version=0)), ('CartPole-v1', EnvSpec(id='CartPole-v1', entry_point='gym.envs.classic_control.cartpole:CartPoleEnv', reward_threshold=475.0, nondeterministic=False, max_episode_steps=500, order_enforce=True, autoreset=False, disable_env_checker=False, apply_api_compatibility=False, kwargs={}, namespace=None, name='CartPole', version=1)), ('MountainCar-v0', EnvSpec(id='MountainCar-v0', entry_point='gym.envs.classic_control.mountain_car:MountainCarEnv', reward_threshold=-110.0, nondeterministic=False, max_episode_steps=200, order_enforce=True, autoreset=False, disable_env_checker=False, apply_api_compatibility=False, kwargs={}, namespace=None, name='MountainCar', version=0)), ('MountainCarContinuous-v0', EnvSpec(id='MountainCarContinuous-v0', entry_point='gym.envs.classic_control.continuous_mountain_car:Continuous_MountainCarEnv', reward_threshold=90.0, nondeterministic=False, max_episode_steps=999, order_enforce=True, autoreset=False, disable_env_checker=False, apply_api_compatibility=False, kwargs={}, namespace=None, name='MountainCarContinuous', version=0)), ('Pendulum-v1', EnvSpec(id='Pendulum-v1', entry_point='gym.envs.classic_control.pendulum:PendulumEnv', reward_threshold=None, nondeterministic=False, max_episode_steps=200, order_enforce=True, autoreset=False, disable_env_checker=False, apply_api_compatibility=False, kwargs={}, namespace=None, name='Pendulum', version=1)), ('Acrobot-v1', EnvSpec(id='Acrobot-v1', entry_point='gym.envs.classic_control.acrobot:AcrobotEnv', reward_threshold=-100.0, nondeterministic=False, max_episode_steps=500, order_enforce=True, autoreset=False, disable_env_checker=False, apply_api_compatibility=False, kwargs={}, namespace=None, name='Acrobot', version=1)), ('LunarLander-v2', EnvSpec(id='LunarLander-v2', entry_point='gym.envs.box2d.lunar_lander:LunarLander', reward_threshold=200, nondeterministic=False, max_episode_steps=1000, order_enforce=True, autoreset=False, disable_env_checker=False, apply_api_compatibility=False, kwargs={}, namespace=None, name='LunarLander', version=2)), ('LunarLanderContinuous-v2', EnvSpec(id='LunarLanderContinuous-v2', entry_point='gym.envs.box2d.lunar_lander:LunarLander', reward_threshold=200, nondeterministic=False, max_episode_steps=1000, order_enforce=True, autoreset=False, disable_env_checker=False, apply_api_compatibility=False, kwargs={'continuous': True}, namespace=None, name='LunarLanderContinuous', version=2)), ('BipedalWalker-v3', EnvSpec(id='BipedalWalker-v3', entry_point='gym.envs.box2d.bipedal_walker:BipedalWalker', reward_threshold=300, nondeterministic=False, max_episode_steps=1600, order_enforce=True, autoreset=False, disable_env_checker=False, apply_api_compatibility=False, kwargs={}, namespace=None, name='BipedalWalker', version=3)), ('BipedalWalkerHardcore-v3', EnvSpec(id='BipedalWalkerHardcore-v3', entry_point='gym.envs.box2d.bipedal_walker:BipedalWalker', reward_threshold=300, nondeterministic=False, max_episode_steps=2000, order_enforce=True, autoreset=False, disable_env_checker=False, apply_api_compatibility=False, kwargs={'hardcore': True}, namespace=None, name='BipedalWalkerHardcore', version=3)), ('CarRacing-v2', EnvSpec(id='CarRacing-v2', entry_point='gym.envs.box2d.car_racing:CarRacing', reward_threshold=900, nondeterministic=False, max_episode_steps=1000, order_enforce=True, autoreset=False, disable_env_checker=False, apply_api_compatibility=False, kwargs={}, namespace=None, name='CarRacing', version=2)), ('Blackjack-v1', EnvSpec(id='Blackjack-v1', entry_point='gym.envs.toy_text.blackjack:BlackjackEnv', reward_threshold=None, nondeterministic=False, max_episode_steps=None, order_enforce=True, autoreset=False, disable_env_checker=False, apply_api_compatibility=False, kwargs={'sab': True, 'natural': False}, namespace=None, name='Blackjack', version=1)), ('FrozenLake-v1', EnvSpec(id='FrozenLake-v1', entry_point='gym.envs.toy_text.frozen_lake:FrozenLakeEnv', reward_threshold=0.7, nondeterministic=False, max_episode_steps=100, order_enforce=True, autoreset=False, disable_env_checker=False, apply_api_compatibility=False, kwargs={'map_name': '4x4'}, namespace=None, name='FrozenLake', version=1)), ('FrozenLake8x8-v1', EnvSpec(id='FrozenLake8x8-v1', entry_point='gym.envs.toy_text.frozen_lake:FrozenLakeEnv', reward_threshold=0.85, nondeterministic=False, max_episode_steps=200, order_enforce=True, autoreset=False, disable_env_checker=False, apply_api_compatibility=False, kwargs={'map_name': '8x8'}, namespace=None, name='FrozenLake8x8', version=1)), ('CliffWalking-v0', EnvSpec(id='CliffWalking-v0', entry_point='gym.envs.toy_text.cliffwalking:CliffWalkingEnv', reward_threshold=None, nondeterministic=False, max_episode_steps=None, order_enforce=True, autoreset=False, disable_env_checker=False, apply_api_compatibility=False, kwargs={}, namespace=None, name='CliffWalking', version=0)), ('Taxi-v3', EnvSpec(id='Taxi-v3', entry_point='gym.envs.toy_text.taxi:TaxiEnv', reward_threshold=8, nondeterministic=False, max_episode_steps=200, order_enforce=True, autoreset=False, disable_env_checker=False, apply_api_compatibility=False, kwargs={}, namespace=None, name='Taxi', version=3)), ('Reacher-v2', EnvSpec(id='Reacher-v2', entry_point='gym.envs.mujoco:ReacherEnv', reward_threshold=-3.75, nondeterministic=False, max_episode_steps=50, order_enforce=True, autoreset=False, disable_env_checker=False, apply_api_compatibility=False, kwargs={}, namespace=None, name='Reacher', version=2)), ('Reacher-v4', EnvSpec(id='Reacher-v4', entry_point='gym.envs.mujoco.reacher_v4:ReacherEnv', reward_threshold=-3.75, nondeterministic=False, max_episode_steps=50, order_enforce=True, autoreset=False, disable_env_checker=False, apply_api_compatibility=False, kwargs={}, namespace=None, name='Reacher', version=4)), ('Pusher-v2', EnvSpec(id='Pusher-v2', entry_point='gym.envs.mujoco:PusherEnv', reward_threshold=0.0, nondeterministic=False, max_episode_steps=100, order_enforce=True, autoreset=False, disable_env_checker=False, apply_api_compatibility=False, kwargs={}, namespace=None, name='Pusher', version=2)), ('Pusher-v4', EnvSpec(id='Pusher-v4', entry_point='gym.envs.mujoco.pusher_v4:PusherEnv', reward_threshold=0.0, nondeterministic=False, max_episode_steps=100, order_enforce=True, autoreset=False, disable_env_checker=False, apply_api_compatibility=False, kwargs={}, namespace=None, name='Pusher', version=4)), ('InvertedPendulum-v2', EnvSpec(id='InvertedPendulum-v2', entry_point='gym.envs.mujoco:InvertedPendulumEnv', reward_threshold=950.0, nondeterministic=False, max_episode_steps=1000, order_enforce=True, autoreset=False, disable_env_checker=False, apply_api_compatibility=False, kwargs={}, namespace=None, name='InvertedPendulum', version=2)), ('InvertedPendulum-v4', EnvSpec(id='InvertedPendulum-v4', entry_point='gym.envs.mujoco.inverted_pendulum_v4:InvertedPendulumEnv', reward_threshold=950.0, nondeterministic=False, max_episode_steps=1000, order_enforce=True, autoreset=False, disable_env_checker=False, apply_api_compatibility=False, kwargs={}, namespace=None, name='InvertedPendulum', version=4)), ('InvertedDoublePendulum-v2', EnvSpec(id='InvertedDoublePendulum-v2', entry_point='gym.envs.mujoco:InvertedDoublePendulumEnv', reward_threshold=9100.0, nondeterministic=False, max_episode_steps=1000, order_enforce=True, autoreset=False, disable_env_checker=False, apply_api_compatibility=False, kwargs={}, namespace=None, name='InvertedDoublePendulum', version=2)), ('InvertedDoublePendulum-v4', EnvSpec(id='InvertedDoublePendulum-v4', entry_point='gym.envs.mujoco.inverted_double_pendulum_v4:InvertedDoublePendulumEnv', reward_threshold=9100.0, nondeterministic=False, max_episode_steps=1000, order_enforce=True, autoreset=False, disable_env_checker=False, apply_api_compatibility=False, kwargs={}, namespace=None, name='InvertedDoublePendulum', version=4)), ('HalfCheetah-v2', EnvSpec(id='HalfCheetah-v2', entry_point='gym.envs.mujoco:HalfCheetahEnv', reward_threshold=4800.0, nondeterministic=False, max_episode_steps=1000, order_enforce=True, autoreset=False, disable_env_checker=False, apply_api_compatibility=False, kwargs={}, namespace=None, name='HalfCheetah', version=2)), ('HalfCheetah-v3', EnvSpec(id='HalfCheetah-v3', entry_point='gym.envs.mujoco.half_cheetah_v3:HalfCheetahEnv', reward_threshold=4800.0, nondeterministic=False, max_episode_steps=1000, order_enforce=True, autoreset=False, disable_env_checker=False, apply_api_compatibility=False, kwargs={}, namespace=None, name='HalfCheetah', version=3)), ('HalfCheetah-v4', EnvSpec(id='HalfCheetah-v4', entry_point='gym.envs.mujoco.half_cheetah_v4:HalfCheetahEnv', reward_threshold=4800.0, nondeterministic=False, max_episode_steps=1000, order_enforce=True, autoreset=False, disable_env_checker=False, apply_api_compatibility=False, kwargs={}, namespace=None, name='HalfCheetah', version=4)), ('Hopper-v2', EnvSpec(id='Hopper-v2', entry_point='gym.envs.mujoco:HopperEnv', reward_threshold=3800.0, nondeterministic=False, max_episode_steps=1000, order_enforce=True, autoreset=False, disable_env_checker=False, apply_api_compatibility=False, kwargs={}, namespace=None, name='Hopper', version=2)), ('Hopper-v3', EnvSpec(id='Hopper-v3', entry_point='gym.envs.mujoco.hopper_v3:HopperEnv', reward_threshold=3800.0, nondeterministic=False, max_episode_steps=1000, order_enforce=True, autoreset=False, disable_env_checker=False, apply_api_compatibility=False, kwargs={}, namespace=None, name='Hopper', version=3)), ('Hopper-v4', EnvSpec(id='Hopper-v4', entry_point='gym.envs.mujoco.hopper_v4:HopperEnv', reward_threshold=3800.0, nondeterministic=False, max_episode_steps=1000, order_enforce=True, autoreset=False, disable_env_checker=False, apply_api_compatibility=False, kwargs={}, namespace=None, name='Hopper', version=4)), ('Swimmer-v2', EnvSpec(id='Swimmer-v2', entry_point='gym.envs.mujoco:SwimmerEnv', reward_threshold=360.0, nondeterministic=False, max_episode_steps=1000, order_enforce=True, autoreset=False, disable_env_checker=False, apply_api_compatibility=False, kwargs={}, namespace=None, name='Swimmer', version=2)), ('Swimmer-v3', EnvSpec(id='Swimmer-v3', entry_point='gym.envs.mujoco.swimmer_v3:SwimmerEnv', reward_threshold=360.0, nondeterministic=False, max_episode_steps=1000, order_enforce=True, autoreset=False, disable_env_checker=False, apply_api_compatibility=False, kwargs={}, namespace=None, name='Swimmer', version=3)), ('Swimmer-v4', EnvSpec(id='Swimmer-v4', entry_point='gym.envs.mujoco.swimmer_v4:SwimmerEnv', reward_threshold=360.0, nondeterministic=False, max_episode_steps=1000, order_enforce=True, autoreset=False, disable_env_checker=False, apply_api_compatibility=False, kwargs={}, namespace=None, name='Swimmer', version=4)), ('Walker2d-v2', EnvSpec(id='Walker2d-v2', entry_point='gym.envs.mujoco:Walker2dEnv', reward_threshold=None, nondeterministic=False, max_episode_steps=1000, order_enforce=True, autoreset=False, disable_env_checker=False, apply_api_compatibility=False, kwargs={}, namespace=None, name='Walker2d', version=2)), ('Walker2d-v3', EnvSpec(id='Walker2d-v3', entry_point='gym.envs.mujoco.walker2d_v3:Walker2dEnv', reward_threshold=None, nondeterministic=False, max_episode_steps=1000, order_enforce=True, autoreset=False, disable_env_checker=False, apply_api_compatibility=False, kwargs={}, namespace=None, name='Walker2d', version=3)), ('Walker2d-v4', EnvSpec(id='Walker2d-v4', entry_point='gym.envs.mujoco.walker2d_v4:Walker2dEnv', reward_threshold=None, nondeterministic=False, max_episode_steps=1000, order_enforce=True, autoreset=False, disable_env_checker=False, apply_api_compatibility=False, kwargs={}, namespace=None, name='Walker2d', version=4)), ('Ant-v2', EnvSpec(id='Ant-v2', entry_point='gym.envs.mujoco:AntEnv', reward_threshold=6000.0, nondeterministic=False, max_episode_steps=1000, order_enforce=True, autoreset=False, disable_env_checker=False, apply_api_compatibility=False, kwargs={}, namespace=None, name='Ant', version=2)), ('Ant-v3', EnvSpec(id='Ant-v3', entry_point='gym.envs.mujoco.ant_v3:AntEnv', reward_threshold=6000.0, nondeterministic=False, max_episode_steps=1000, order_enforce=True, autoreset=False, disable_env_checker=False, apply_api_compatibility=False, kwargs={}, namespace=None, name='Ant', version=3)), ('Ant-v4', EnvSpec(id='Ant-v4', entry_point='gym.envs.mujoco.ant_v4:AntEnv', reward_threshold=6000.0, nondeterministic=False, max_episode_steps=1000, order_enforce=True, autoreset=False, disable_env_checker=False, apply_api_compatibility=False, kwargs={}, namespace=None, name='Ant', version=4)), ('Humanoid-v2', EnvSpec(id='Humanoid-v2', entry_point='gym.envs.mujoco:HumanoidEnv', reward_threshold=None, nondeterministic=False, max_episode_steps=1000, order_enforce=True, autoreset=False, disable_env_checker=False, apply_api_compatibility=False, kwargs={}, namespace=None, name='Humanoid', version=2)), ('Humanoid-v3', EnvSpec(id='Humanoid-v3', entry_point='gym.envs.mujoco.humanoid_v3:HumanoidEnv', reward_threshold=None, nondeterministic=False, max_episode_steps=1000, order_enforce=True, autoreset=False, disable_env_checker=False, apply_api_compatibility=False, kwargs={}, namespace=None, name='Humanoid', version=3)), ('Humanoid-v4', EnvSpec(id='Humanoid-v4', entry_point='gym.envs.mujoco.humanoid_v4:HumanoidEnv', reward_threshold=None, nondeterministic=False, max_episode_steps=1000, order_enforce=True, autoreset=False, disable_env_checker=False, apply_api_compatibility=False, kwargs={}, namespace=None, name='Humanoid', version=4)), ('HumanoidStandup-v2', EnvSpec(id='HumanoidStandup-v2', entry_point='gym.envs.mujoco:HumanoidStandupEnv', reward_threshold=None, nondeterministic=False, max_episode_steps=1000, order_enforce=True, autoreset=False, disable_env_checker=False, apply_api_compatibility=False, kwargs={}, namespace=None, name='HumanoidStandup', version=2)), ('HumanoidStandup-v4', EnvSpec(id='HumanoidStandup-v4', entry_point='gym.envs.mujoco.humanoidstandup_v4:HumanoidStandupEnv', reward_threshold=None, nondeterministic=False, max_episode_steps=1000, order_enforce=True, autoreset=False, disable_env_checker=False, apply_api_compatibility=False, kwargs={}, namespace=None, name='HumanoidStandup', version=4))]\n"
     ]
    }
   ],
   "source": [
    "# 설치된 모든 환경 출력\n",
    "all_envs = list(gym.envs.registry.items())\n",
    "print(\"설치된 환경 목록:\", all_envs)"
   ]
  },
  {
   "cell_type": "code",
   "execution_count": 7,
   "metadata": {},
   "outputs": [
    {
     "name": "stdout",
     "output_type": "stream",
     "text": [
      "cuda, state : 8, action : 4\n"
     ]
    }
   ],
   "source": [
    "env = gym.make('LunarLander-v2')\n",
    "state_size = env.observation_space.shape[0]\n",
    "action_size = env.action_space.n\n",
    "\n",
    "# GPU 사용 확인\n",
    "device = torch.device(\"cuda\" if torch.cuda.is_available() else \"cpu\")\n",
    "print(f\"{device}, state : {state_size}, action : {action_size}\")"
   ]
  },
  {
   "cell_type": "code",
   "execution_count": 9,
   "metadata": {},
   "outputs": [],
   "source": [
    "#%% Policy network\n",
    "class Qnet(nn.Module):\n",
    "\n",
    "    def __init__(self, n_states, n_actions, n_hidden=64):\n",
    "        super(Qnet, self).__init__()\n",
    "\n",
    "        self.fc1 = nn.Linear(n_states, n_hidden)\n",
    "        self.fc2 = nn.Linear(n_hidden, n_hidden)\n",
    "        # self.fc3 = nn.Linear(n_hidden, n_hidden)\n",
    "        # self.fc4 = nn.Linear(n_hidden, n_hidden)\n",
    "        self.fc5 = nn.Linear(n_hidden, n_actions)\n",
    "\n",
    "    def forward(self, x):\n",
    "        x = F.relu(self.fc1(x))\n",
    "        x = F.relu(self.fc2(x))\n",
    "        # x = F.relu(self.fc3(x))\n",
    "        # x = F.relu(self.fc4(x))\n",
    "        x = self.fc5(x)\n",
    "        return x  \n",
    "    "
   ]
  },
  {
   "cell_type": "code",
   "execution_count": 12,
   "metadata": {},
   "outputs": [],
   "source": [
    "class DQN:\n",
    "    def __init__(self, n_states, n_actions, batch_size, lr, gamma, memory_size, learn_step, tau, device=None):\n",
    "        self.n_states = n_states\n",
    "        self.n_actions = n_actions\n",
    "        self.batch_size = batch_size\n",
    "        self.gamma = gamma\n",
    "        self.learn_step = learn_step\n",
    "        self.tau = tau\n",
    "        self.device = device if device is not None else torch.device(\"cuda\" if torch.cuda.is_available() else \"cpu\")\n",
    "\n",
    "        # 가장 좋은 모델 저장을 위한 변수\n",
    "        self.best_score = float('-inf')  # 초기화: 음수 무한대\n",
    "\n",
    "        # 모델\n",
    "        self.net_eval = Qnet(n_states, n_actions).to(device)\n",
    "        self.net_target = Qnet(n_states, n_actions).to(device)\n",
    "        self.optimizer = optim.AdamW(self.net_eval.parameters(), lr=lr)\n",
    "        self.criterion = nn.MSELoss()\n",
    "\n",
    "        # 메모리\n",
    "        self.memory = ReplayBuffer(n_actions, memory_size, batch_size)\n",
    "        self.counter = 0    # 업데이트 주기 카운터\n",
    "\n",
    "        # 에피소드당 평균 보상을 기록할 리스트 초기화\n",
    "        self.avg_score_hist = []\n",
    "\n",
    "        # 총 보상을 기록할 리스트 초기화\n",
    "        self.score_hist = []\n",
    "\n",
    "    def sample_action(self, state, epsilon):\n",
    "        state = torch.from_numpy(state).float().unsqueeze(0).to(self.device)\n",
    "        self.net_eval.eval()\n",
    "        coin = random.random()\n",
    "\n",
    "        with torch.no_grad():\n",
    "            action_values_eval = self.net_eval(state)\n",
    "\n",
    "        if coin < epsilon:\n",
    "            action = random.choice(np.arange(self.n_actions))\n",
    "        else:\n",
    "            # Use net_eval for action selection and net_target for action evaluation\n",
    "            action = np.argmax(self.net_target(state).cpu().data.numpy())\n",
    "\n",
    "        self.net_eval.train()\n",
    "        return action\n",
    "\n",
    "    def save2memory(self, state, action, reward, next_state, done):\n",
    "        self.memory.put(state, action, reward, next_state, done)\n",
    "\n",
    "        self.counter += 1\n",
    "        if self.counter % self.learn_step == 0:\n",
    "            if len(self.memory) >= self.batch_size:\n",
    "                experiences = self.memory.sample()\n",
    "                self.learn(experiences)\n",
    "\n",
    "    def learn(self, experiences):\n",
    "        states, actions, rewards, next_states, dones = experiences\n",
    "\n",
    "        q_target = self.net_target(next_states).detach().max(axis=1)[0].unsqueeze(1)\n",
    "        y_j = rewards + self.gamma * q_target * (1 - dones)  # target, if terminal then y_j = rewards\n",
    "\n",
    "        # 추가 부분\n",
    "        actions = actions.to(torch.int64)\n",
    "        q_eval = self.net_eval(states).gather(1, actions)\n",
    "\n",
    "        # loss backprop\n",
    "        loss = self.criterion(q_eval, y_j)\n",
    "        self.optimizer.zero_grad()\n",
    "        loss.backward()\n",
    "        self.optimizer.step()\n",
    "\n",
    "        # soft update target network\n",
    "        self.soft_update()\n",
    "\n",
    "    def soft_update(self):\n",
    "        for eval_param, target_param in zip(self.net_eval.parameters(), self.net_target.parameters()):\n",
    "            target_param.data.copy_(self.tau * eval_param.data + (1.0 - self.tau) * target_param.data)\n",
    "\n",
    "    def train(self, env, n_episodes=2000, max_steps=1000, eps_start=1.0, eps_end=0.01, eps_decay=0.999, chkpt=False):\n",
    "\n",
    "        epsilon = eps_start\n",
    "        start_time = time.time()\n",
    "        epsilon = eps_start\n",
    "\n",
    "        # Calculate decay factor based on the given eps_decay and number of episodes\n",
    "        decay_factor = np.exp(np.log(eps_end / eps_start) / n_episodes)\n",
    "\n",
    "        for idx_epi in tqdm(range(n_episodes), unit=\"ep\", ascii=True):\n",
    "            state = env.reset()[0]\n",
    "            score = 0\n",
    "\n",
    "            for idx_step in range(max_steps):\n",
    "                action = self.sample_action(state, epsilon)\n",
    "                next_state, reward, done, _, _ = env.step(action)\n",
    "                self.save2memory(state, action, reward, next_state, done)\n",
    "                state = next_state\n",
    "                score += reward\n",
    "\n",
    "                if done:\n",
    "                    break\n",
    "\n",
    "            experiences = self.memory.sample()\n",
    "            self.learn(experiences)\n",
    "\n",
    "            self.score_hist.append(score)\n",
    "            score_avg = np.mean(self.score_hist[-100:])\n",
    "            epsilon = max(eps_end, epsilon * decay_factor)  # Update epsilon using decay factor\n",
    "\n",
    "            self.avg_score_hist.append(score_avg)\n",
    "\n",
    "            if (idx_epi + 1) % 50 == 0:\n",
    "                elapsed_time = time.time() - start_time  # 현재까지 걸린 시간 계산\n",
    "                print(f\"Episode {idx_epi + 1}, Score: {score:.3f}, Avg Score (last 100): {score_avg:.3f}, Epsilon: {epsilon:.3f}, Elapsed Time: {elapsed_time:.2f} seconds\")\n",
    "\n",
    "                if score > self.best_score:\n",
    "                    self.best_score = score\n",
    "                    print(\"====Saving the best model====\")\n",
    "                    torch.save(self.net_eval.state_dict(), 'best_model_DQN_2_layer.pth')\n",
    "\n",
    "        if idx_epi == n_episodes - 1:\n",
    "            print(\"\\nDone!\")\n",
    "\n",
    "        self.save_scores_to_csv()\n",
    "\n",
    "        return self.score_hist, self.avg_score_hist\n",
    "\n",
    "\n",
    "    def soft_update(self):\n",
    "        for eval_param, target_param in zip(self.net_eval.parameters(), self.net_target.parameters()):\n",
    "            target_param.data.copy_(self.tau * eval_param.data + (1.0 - self.tau) * target_param.data)\n",
    "\n",
    "    def load_model(self, path):\n",
    "        self.net_eval.load_state_dict(torch.load(path))\n",
    "        self.net_eval.eval()\n",
    "\n",
    "    def save_scores_to_csv(self, filename='scores_DQN_2_layer.csv'):\n",
    "        df = pd.DataFrame({'Episode': np.arange(1, len(self.score_hist) + 1), 'Score': self.score_hist, 'Avg_Score': self.avg_score_hist})\n",
    "        df.to_csv(filename, index=False)\n"
   ]
  },
  {
   "cell_type": "code",
   "execution_count": 13,
   "metadata": {},
   "outputs": [],
   "source": [
    "class ReplayBuffer:\n",
    "    def __init__(self, n_actions, memory_size, batch_size, device=None):\n",
    "        self.n_actions = n_actions\n",
    "        self.batch_size = batch_size\n",
    "        self.device = device if device is not None else torch.device(\"cuda\" if torch.cuda.is_available() else \"cpu\")\n",
    "        self.memory = collections.deque(maxlen=memory_size)\n",
    "\n",
    "    def put(self, state, action, reward, next_state, done):\n",
    "        transition = (state, action, reward, next_state, done)\n",
    "        self.memory.append(transition)\n",
    "\n",
    "    def sample(self):\n",
    "        mini_batch = random.sample(self.memory, self.batch_size)\n",
    "        s_lst, a_lst, r_lst, s_prime_lst, done_mask_lst = [], [], [], [], []\n",
    "\n",
    "        for transition in mini_batch:\n",
    "            s, a, r, s_prime, done_mask = transition\n",
    "            s_lst.append(s)\n",
    "            a_lst.append([a])\n",
    "            r_lst.append([r])\n",
    "            s_prime_lst.append(s_prime)\n",
    "            done_mask_lst.append([done_mask])\n",
    "\n",
    "        return (\n",
    "            torch.tensor(s_lst, dtype=torch.float, device=self.device),\n",
    "            torch.tensor(a_lst, device=self.device),\n",
    "            torch.tensor(r_lst, dtype=torch.float, device=self.device),\n",
    "            torch.tensor(s_prime_lst, dtype=torch.float, device=self.device),\n",
    "            torch.tensor(done_mask_lst, dtype=torch.float, device=self.device)\n",
    "        )\n",
    "\n",
    "    def __len__(self):\n",
    "        return len(self.memory)"
   ]
  },
  {
   "cell_type": "code",
   "execution_count": 14,
   "metadata": {},
   "outputs": [],
   "source": [
    "def plot_score(scores, moving_avg_scores, save_path=None):\n",
    "    plt.figure(figsize=(15, 4))\n",
    "    \n",
    "    # Plot Episode Score\n",
    "    plt.plot(scores, label='Episode Score')\n",
    "    \n",
    "    # Plot Moving Average Score\n",
    "    plt.plot(moving_avg_scores, label='Moving Average Score', color='r', linestyle='--')\n",
    "\n",
    "    # Plot Overall Mean Score\n",
    "    overall_mean_score = np.mean(scores)\n",
    "    plt.axhline(y=overall_mean_score, color='g', linestyle='-.', label=f'Overall Mean Score: {overall_mean_score:.2f}')\n",
    "\n",
    "    # Find and Plot Maximum Score\n",
    "    max_score = np.max(scores)\n",
    "    plt.scatter(np.argmax(scores), max_score, color='m', label=f'Max Score: {max_score:.2f}', marker='o', s=100)\n",
    "\n",
    "    # Plot Standard Deviation\n",
    "    std_dev_score = np.std(moving_avg_scores)\n",
    "    plt.title(f\"Scores Over Episodes - Standard Deviation: {std_dev_score:.2f}\")\n",
    "\n",
    "    plt.xlabel(\"Episodes\")\n",
    "    plt.ylabel(\"Score\")\n",
    "    plt.legend()\n",
    "\n",
    "    # Save the plot to an image file if save_path is provided\n",
    "    if save_path:\n",
    "        plt.savefig(save_path)\n",
    "    \n",
    "    # Show the plot (either in a window or saved file)\n",
    "    plt.show()\n",
    "\n"
   ]
  },
  {
   "cell_type": "code",
   "execution_count": 15,
   "metadata": {},
   "outputs": [
    {
     "name": "stdout",
     "output_type": "stream",
     "text": [
      "cuda\n"
     ]
    }
   ],
   "source": [
    "batch_size = 64\n",
    "lr = 1e-3\n",
    "episode = 10000\n",
    "gamma = 0.999            # discount factor\n",
    "memory_size = 10000     # max memory buffer size\n",
    "learn_step = 5          # how often to learn\n",
    "tau = 1e-4              # for soft update of target parameters\n",
    "print(device)"
   ]
  },
  {
   "cell_type": "code",
   "execution_count": 16,
   "metadata": {},
   "outputs": [
    {
     "name": "stderr",
     "output_type": "stream",
     "text": [
      "  1%|          | 51/10000 [00:04<16:19, 10.16ep/s]"
     ]
    },
    {
     "name": "stdout",
     "output_type": "stream",
     "text": [
      "Episode 50, Score: -442.913, Avg Score (last 100): -162.675, Epsilon: 0.977, Elapsed Time: 4.73 seconds\n",
      "====Saving the best model====\n"
     ]
    },
    {
     "name": "stderr",
     "output_type": "stream",
     "text": [
      "  1%|1         | 101/10000 [00:10<22:56,  7.19ep/s]"
     ]
    },
    {
     "name": "stdout",
     "output_type": "stream",
     "text": [
      "Episode 100, Score: -177.915, Avg Score (last 100): -182.334, Epsilon: 0.955, Elapsed Time: 10.11 seconds\n",
      "====Saving the best model====\n"
     ]
    },
    {
     "name": "stderr",
     "output_type": "stream",
     "text": [
      "  2%|1         | 150/10000 [00:16<16:27,  9.98ep/s]"
     ]
    },
    {
     "name": "stdout",
     "output_type": "stream",
     "text": [
      "Episode 150, Score: -272.833, Avg Score (last 100): -188.425, Epsilon: 0.933, Elapsed Time: 16.58 seconds\n"
     ]
    },
    {
     "name": "stderr",
     "output_type": "stream",
     "text": [
      "  2%|2         | 201/10000 [00:21<17:17,  9.44ep/s]"
     ]
    },
    {
     "name": "stdout",
     "output_type": "stream",
     "text": [
      "Episode 200, Score: -260.754, Avg Score (last 100): -192.623, Epsilon: 0.912, Elapsed Time: 21.72 seconds\n"
     ]
    },
    {
     "name": "stderr",
     "output_type": "stream",
     "text": [
      "  3%|2         | 251/10000 [00:27<17:59,  9.04ep/s]"
     ]
    },
    {
     "name": "stdout",
     "output_type": "stream",
     "text": [
      "Episode 250, Score: -42.551, Avg Score (last 100): -205.910, Epsilon: 0.891, Elapsed Time: 27.07 seconds\n",
      "====Saving the best model====\n"
     ]
    },
    {
     "name": "stderr",
     "output_type": "stream",
     "text": [
      "  3%|3         | 301/10000 [00:32<16:21,  9.88ep/s]"
     ]
    },
    {
     "name": "stdout",
     "output_type": "stream",
     "text": [
      "Episode 300, Score: -37.977, Avg Score (last 100): -194.294, Epsilon: 0.871, Elapsed Time: 32.40 seconds\n",
      "====Saving the best model====\n"
     ]
    },
    {
     "name": "stderr",
     "output_type": "stream",
     "text": [
      "  4%|3         | 351/10000 [00:38<18:45,  8.58ep/s]"
     ]
    },
    {
     "name": "stdout",
     "output_type": "stream",
     "text": [
      "Episode 350, Score: -68.138, Avg Score (last 100): -189.508, Epsilon: 0.851, Elapsed Time: 38.24 seconds\n"
     ]
    },
    {
     "name": "stderr",
     "output_type": "stream",
     "text": [
      "  4%|4         | 400/10000 [00:43<18:01,  8.88ep/s]"
     ]
    },
    {
     "name": "stdout",
     "output_type": "stream",
     "text": [
      "Episode 400, Score: -135.058, Avg Score (last 100): -187.758, Epsilon: 0.832, Elapsed Time: 43.89 seconds\n"
     ]
    },
    {
     "name": "stderr",
     "output_type": "stream",
     "text": [
      "  5%|4         | 451/10000 [00:50<18:49,  8.46ep/s]"
     ]
    },
    {
     "name": "stdout",
     "output_type": "stream",
     "text": [
      "Episode 450, Score: -84.332, Avg Score (last 100): -183.729, Epsilon: 0.813, Elapsed Time: 50.20 seconds\n"
     ]
    },
    {
     "name": "stderr",
     "output_type": "stream",
     "text": [
      "  5%|5         | 501/10000 [00:57<19:57,  7.93ep/s]"
     ]
    },
    {
     "name": "stdout",
     "output_type": "stream",
     "text": [
      "Episode 500, Score: -231.693, Avg Score (last 100): -172.651, Epsilon: 0.794, Elapsed Time: 57.07 seconds\n"
     ]
    },
    {
     "name": "stderr",
     "output_type": "stream",
     "text": [
      "  6%|5         | 551/10000 [01:03<20:03,  7.85ep/s]"
     ]
    },
    {
     "name": "stdout",
     "output_type": "stream",
     "text": [
      "Episode 550, Score: -81.662, Avg Score (last 100): -159.351, Epsilon: 0.776, Elapsed Time: 63.75 seconds\n"
     ]
    },
    {
     "name": "stderr",
     "output_type": "stream",
     "text": [
      "  6%|6         | 601/10000 [01:10<20:54,  7.49ep/s]"
     ]
    },
    {
     "name": "stdout",
     "output_type": "stream",
     "text": [
      "Episode 600, Score: -71.493, Avg Score (last 100): -146.415, Epsilon: 0.759, Elapsed Time: 70.39 seconds\n"
     ]
    },
    {
     "name": "stderr",
     "output_type": "stream",
     "text": [
      "  7%|6         | 651/10000 [01:18<19:18,  8.07ep/s]  "
     ]
    },
    {
     "name": "stdout",
     "output_type": "stream",
     "text": [
      "Episode 650, Score: -268.231, Avg Score (last 100): -141.358, Epsilon: 0.741, Elapsed Time: 78.67 seconds\n"
     ]
    },
    {
     "name": "stderr",
     "output_type": "stream",
     "text": [
      "  7%|7         | 701/10000 [01:25<23:44,  6.53ep/s]"
     ]
    },
    {
     "name": "stdout",
     "output_type": "stream",
     "text": [
      "Episode 700, Score: -139.544, Avg Score (last 100): -149.863, Epsilon: 0.724, Elapsed Time: 85.65 seconds\n"
     ]
    },
    {
     "name": "stderr",
     "output_type": "stream",
     "text": [
      "  8%|7         | 751/10000 [01:32<19:00,  8.11ep/s]"
     ]
    },
    {
     "name": "stdout",
     "output_type": "stream",
     "text": [
      "Episode 750, Score: -161.528, Avg Score (last 100): -140.893, Epsilon: 0.708, Elapsed Time: 92.84 seconds\n"
     ]
    },
    {
     "name": "stderr",
     "output_type": "stream",
     "text": [
      "  8%|8         | 801/10000 [01:41<24:41,  6.21ep/s]  "
     ]
    },
    {
     "name": "stdout",
     "output_type": "stream",
     "text": [
      "Episode 800, Score: -114.133, Avg Score (last 100): -131.002, Epsilon: 0.692, Elapsed Time: 101.76 seconds\n"
     ]
    },
    {
     "name": "stderr",
     "output_type": "stream",
     "text": [
      "  9%|8         | 851/10000 [01:51<22:41,  6.72ep/s]  "
     ]
    },
    {
     "name": "stdout",
     "output_type": "stream",
     "text": [
      "Episode 850, Score: -91.603, Avg Score (last 100): -133.227, Epsilon: 0.676, Elapsed Time: 111.00 seconds\n"
     ]
    },
    {
     "name": "stderr",
     "output_type": "stream",
     "text": [
      "  9%|9         | 901/10000 [01:59<23:54,  6.35ep/s]"
     ]
    },
    {
     "name": "stdout",
     "output_type": "stream",
     "text": [
      "Episode 900, Score: -274.892, Avg Score (last 100): -134.217, Epsilon: 0.661, Elapsed Time: 119.20 seconds\n"
     ]
    },
    {
     "name": "stderr",
     "output_type": "stream",
     "text": [
      " 10%|9         | 951/10000 [02:09<30:00,  5.03ep/s]  "
     ]
    },
    {
     "name": "stdout",
     "output_type": "stream",
     "text": [
      "Episode 950, Score: -163.675, Avg Score (last 100): -129.712, Epsilon: 0.646, Elapsed Time: 129.41 seconds\n"
     ]
    },
    {
     "name": "stderr",
     "output_type": "stream",
     "text": [
      " 10%|#         | 1000/10000 [02:18<26:56,  5.57ep/s]"
     ]
    },
    {
     "name": "stdout",
     "output_type": "stream",
     "text": [
      "Episode 1000, Score: -31.157, Avg Score (last 100): -124.177, Epsilon: 0.631, Elapsed Time: 138.56 seconds\n",
      "====Saving the best model====\n"
     ]
    },
    {
     "name": "stderr",
     "output_type": "stream",
     "text": [
      " 10%|#         | 1050/10000 [02:28<23:14,  6.42ep/s]"
     ]
    },
    {
     "name": "stdout",
     "output_type": "stream",
     "text": [
      "Episode 1050, Score: -105.128, Avg Score (last 100): -124.175, Epsilon: 0.617, Elapsed Time: 148.33 seconds\n"
     ]
    },
    {
     "name": "stderr",
     "output_type": "stream",
     "text": [
      " 11%|#1        | 1100/10000 [02:37<30:28,  4.87ep/s]"
     ]
    },
    {
     "name": "stdout",
     "output_type": "stream",
     "text": [
      "Episode 1100, Score: -201.066, Avg Score (last 100): -120.440, Epsilon: 0.603, Elapsed Time: 157.20 seconds\n"
     ]
    },
    {
     "name": "stderr",
     "output_type": "stream",
     "text": [
      " 12%|#1        | 1151/10000 [02:48<25:18,  5.83ep/s]  "
     ]
    },
    {
     "name": "stdout",
     "output_type": "stream",
     "text": [
      "Episode 1150, Score: -179.030, Avg Score (last 100): -118.957, Epsilon: 0.589, Elapsed Time: 168.07 seconds\n"
     ]
    },
    {
     "name": "stderr",
     "output_type": "stream",
     "text": [
      " 12%|#2        | 1201/10000 [02:59<37:57,  3.86ep/s]  "
     ]
    },
    {
     "name": "stdout",
     "output_type": "stream",
     "text": [
      "Episode 1200, Score: 3.830, Avg Score (last 100): -119.240, Epsilon: 0.575, Elapsed Time: 179.55 seconds\n",
      "====Saving the best model====\n"
     ]
    },
    {
     "name": "stderr",
     "output_type": "stream",
     "text": [
      " 12%|#2        | 1250/10000 [03:10<30:12,  4.83ep/s]  "
     ]
    },
    {
     "name": "stdout",
     "output_type": "stream",
     "text": [
      "Episode 1250, Score: -130.825, Avg Score (last 100): -111.712, Epsilon: 0.562, Elapsed Time: 190.67 seconds\n"
     ]
    },
    {
     "name": "stderr",
     "output_type": "stream",
     "text": [
      " 13%|#3        | 1301/10000 [03:27<32:35,  4.45ep/s]  "
     ]
    },
    {
     "name": "stdout",
     "output_type": "stream",
     "text": [
      "Episode 1300, Score: -142.931, Avg Score (last 100): -101.000, Epsilon: 0.550, Elapsed Time: 206.84 seconds\n"
     ]
    },
    {
     "name": "stderr",
     "output_type": "stream",
     "text": [
      " 14%|#3        | 1351/10000 [03:37<26:25,  5.46ep/s]"
     ]
    },
    {
     "name": "stdout",
     "output_type": "stream",
     "text": [
      "Episode 1350, Score: -62.766, Avg Score (last 100): -103.253, Epsilon: 0.537, Elapsed Time: 217.34 seconds\n"
     ]
    },
    {
     "name": "stderr",
     "output_type": "stream",
     "text": [
      " 14%|#4        | 1400/10000 [03:50<30:36,  4.68ep/s]  "
     ]
    },
    {
     "name": "stdout",
     "output_type": "stream",
     "text": [
      "Episode 1400, Score: -32.664, Avg Score (last 100): -106.520, Epsilon: 0.525, Elapsed Time: 230.02 seconds\n"
     ]
    },
    {
     "name": "stderr",
     "output_type": "stream",
     "text": [
      " 14%|#4        | 1450/10000 [04:03<32:15,  4.42ep/s]  "
     ]
    },
    {
     "name": "stdout",
     "output_type": "stream",
     "text": [
      "Episode 1450, Score: -168.486, Avg Score (last 100): -101.061, Epsilon: 0.513, Elapsed Time: 243.44 seconds\n"
     ]
    },
    {
     "name": "stderr",
     "output_type": "stream",
     "text": [
      " 15%|#5        | 1501/10000 [04:21<31:40,  4.47ep/s]  "
     ]
    },
    {
     "name": "stdout",
     "output_type": "stream",
     "text": [
      "Episode 1500, Score: -132.484, Avg Score (last 100): -90.264, Epsilon: 0.501, Elapsed Time: 261.76 seconds\n"
     ]
    },
    {
     "name": "stderr",
     "output_type": "stream",
     "text": [
      " 16%|#5        | 1550/10000 [04:37<32:14,  4.37ep/s]  "
     ]
    },
    {
     "name": "stdout",
     "output_type": "stream",
     "text": [
      "Episode 1550, Score: -240.332, Avg Score (last 100): -87.444, Epsilon: 0.490, Elapsed Time: 277.64 seconds\n"
     ]
    },
    {
     "name": "stderr",
     "output_type": "stream",
     "text": [
      " 16%|#6        | 1600/10000 [05:02<53:00,  2.64ep/s]  "
     ]
    },
    {
     "name": "stdout",
     "output_type": "stream",
     "text": [
      "Episode 1600, Score: -12.421, Avg Score (last 100): -70.226, Epsilon: 0.479, Elapsed Time: 302.32 seconds\n"
     ]
    },
    {
     "name": "stderr",
     "output_type": "stream",
     "text": [
      " 16%|#6        | 1650/10000 [05:29<1:03:48,  2.18ep/s]"
     ]
    },
    {
     "name": "stdout",
     "output_type": "stream",
     "text": [
      "Episode 1650, Score: -89.957, Avg Score (last 100): -49.731, Epsilon: 0.468, Elapsed Time: 329.97 seconds\n"
     ]
    },
    {
     "name": "stderr",
     "output_type": "stream",
     "text": [
      " 17%|#7        | 1701/10000 [05:56<1:10:37,  1.96ep/s]"
     ]
    },
    {
     "name": "stdout",
     "output_type": "stream",
     "text": [
      "Episode 1700, Score: 124.389, Avg Score (last 100): -49.419, Epsilon: 0.457, Elapsed Time: 356.64 seconds\n",
      "====Saving the best model====\n"
     ]
    },
    {
     "name": "stderr",
     "output_type": "stream",
     "text": [
      " 18%|#7        | 1750/10000 [06:23<28:58,  4.74ep/s]  "
     ]
    },
    {
     "name": "stdout",
     "output_type": "stream",
     "text": [
      "Episode 1750, Score: -77.789, Avg Score (last 100): -40.485, Epsilon: 0.447, Elapsed Time: 383.22 seconds\n"
     ]
    },
    {
     "name": "stderr",
     "output_type": "stream",
     "text": [
      " 18%|#8        | 1801/10000 [06:51<44:55,  3.04ep/s]  "
     ]
    },
    {
     "name": "stdout",
     "output_type": "stream",
     "text": [
      "Episode 1800, Score: 10.591, Avg Score (last 100): -35.373, Epsilon: 0.437, Elapsed Time: 411.73 seconds\n"
     ]
    },
    {
     "name": "stderr",
     "output_type": "stream",
     "text": [
      " 18%|#8        | 1850/10000 [07:22<57:50,  2.35ep/s]  "
     ]
    },
    {
     "name": "stdout",
     "output_type": "stream",
     "text": [
      "Episode 1850, Score: -3.686, Avg Score (last 100): -26.282, Epsilon: 0.427, Elapsed Time: 442.92 seconds\n"
     ]
    },
    {
     "name": "stderr",
     "output_type": "stream",
     "text": [
      " 19%|#9        | 1900/10000 [07:53<55:43,  2.42ep/s]  "
     ]
    },
    {
     "name": "stdout",
     "output_type": "stream",
     "text": [
      "Episode 1900, Score: -35.671, Avg Score (last 100): -24.727, Epsilon: 0.417, Elapsed Time: 473.11 seconds\n"
     ]
    },
    {
     "name": "stderr",
     "output_type": "stream",
     "text": [
      " 20%|#9        | 1950/10000 [08:26<2:33:49,  1.15s/ep]"
     ]
    },
    {
     "name": "stdout",
     "output_type": "stream",
     "text": [
      "Episode 1950, Score: -63.425, Avg Score (last 100): -30.118, Epsilon: 0.407, Elapsed Time: 506.10 seconds\n"
     ]
    },
    {
     "name": "stderr",
     "output_type": "stream",
     "text": [
      " 20%|##        | 2000/10000 [09:09<1:32:15,  1.45ep/s]"
     ]
    },
    {
     "name": "stdout",
     "output_type": "stream",
     "text": [
      "Episode 2000, Score: -29.938, Avg Score (last 100): -15.654, Epsilon: 0.398, Elapsed Time: 549.32 seconds\n"
     ]
    },
    {
     "name": "stderr",
     "output_type": "stream",
     "text": [
      " 20%|##        | 2050/10000 [09:57<2:26:24,  1.10s/ep]"
     ]
    },
    {
     "name": "stdout",
     "output_type": "stream",
     "text": [
      "Episode 2050, Score: 75.051, Avg Score (last 100): -4.150, Epsilon: 0.389, Elapsed Time: 597.07 seconds\n"
     ]
    },
    {
     "name": "stderr",
     "output_type": "stream",
     "text": [
      " 21%|##1       | 2100/10000 [10:37<1:51:26,  1.18ep/s]"
     ]
    },
    {
     "name": "stdout",
     "output_type": "stream",
     "text": [
      "Episode 2100, Score: 167.642, Avg Score (last 100): -4.542, Epsilon: 0.380, Elapsed Time: 637.51 seconds\n",
      "====Saving the best model====\n"
     ]
    },
    {
     "name": "stderr",
     "output_type": "stream",
     "text": [
      " 22%|##1       | 2151/10000 [11:16<1:14:47,  1.75ep/s]"
     ]
    },
    {
     "name": "stdout",
     "output_type": "stream",
     "text": [
      "Episode 2150, Score: -10.470, Avg Score (last 100): -4.142, Epsilon: 0.372, Elapsed Time: 676.63 seconds\n"
     ]
    },
    {
     "name": "stderr",
     "output_type": "stream",
     "text": [
      " 22%|##2       | 2200/10000 [11:49<1:33:00,  1.40ep/s]"
     ]
    },
    {
     "name": "stdout",
     "output_type": "stream",
     "text": [
      "Episode 2200, Score: -52.425, Avg Score (last 100): -15.965, Epsilon: 0.363, Elapsed Time: 709.47 seconds\n"
     ]
    },
    {
     "name": "stderr",
     "output_type": "stream",
     "text": [
      " 23%|##2       | 2251/10000 [12:30<2:08:34,  1.00ep/s]"
     ]
    },
    {
     "name": "stdout",
     "output_type": "stream",
     "text": [
      "Episode 2250, Score: 47.008, Avg Score (last 100): -20.542, Epsilon: 0.355, Elapsed Time: 750.20 seconds\n"
     ]
    },
    {
     "name": "stderr",
     "output_type": "stream",
     "text": [
      " 23%|##3       | 2300/10000 [13:07<1:46:28,  1.21ep/s]"
     ]
    },
    {
     "name": "stdout",
     "output_type": "stream",
     "text": [
      "Episode 2300, Score: 119.920, Avg Score (last 100): -14.511, Epsilon: 0.347, Elapsed Time: 787.08 seconds\n"
     ]
    },
    {
     "name": "stderr",
     "output_type": "stream",
     "text": [
      " 24%|##3       | 2350/10000 [14:03<3:56:39,  1.86s/ep]"
     ]
    },
    {
     "name": "stdout",
     "output_type": "stream",
     "text": [
      "Episode 2350, Score: 35.718, Avg Score (last 100): 11.602, Epsilon: 0.339, Elapsed Time: 843.81 seconds\n"
     ]
    },
    {
     "name": "stderr",
     "output_type": "stream",
     "text": [
      " 24%|##4       | 2400/10000 [15:03<2:03:04,  1.03ep/s]"
     ]
    },
    {
     "name": "stdout",
     "output_type": "stream",
     "text": [
      "Episode 2400, Score: -10.038, Avg Score (last 100): 36.447, Epsilon: 0.331, Elapsed Time: 903.83 seconds\n"
     ]
    },
    {
     "name": "stderr",
     "output_type": "stream",
     "text": [
      " 24%|##4       | 2450/10000 [15:47<2:38:53,  1.26s/ep]"
     ]
    },
    {
     "name": "stdout",
     "output_type": "stream",
     "text": [
      "Episode 2450, Score: 63.781, Avg Score (last 100): 30.706, Epsilon: 0.324, Elapsed Time: 947.90 seconds\n"
     ]
    },
    {
     "name": "stderr",
     "output_type": "stream",
     "text": [
      " 25%|##5       | 2500/10000 [16:46<2:29:18,  1.19s/ep]"
     ]
    },
    {
     "name": "stdout",
     "output_type": "stream",
     "text": [
      "Episode 2500, Score: 123.829, Avg Score (last 100): 27.729, Epsilon: 0.316, Elapsed Time: 1006.22 seconds\n"
     ]
    },
    {
     "name": "stderr",
     "output_type": "stream",
     "text": [
      " 26%|##5       | 2550/10000 [18:02<4:21:17,  2.10s/ep]"
     ]
    },
    {
     "name": "stdout",
     "output_type": "stream",
     "text": [
      "Episode 2550, Score: 12.790, Avg Score (last 100): 20.474, Epsilon: 0.309, Elapsed Time: 1082.56 seconds\n"
     ]
    },
    {
     "name": "stderr",
     "output_type": "stream",
     "text": [
      " 26%|##6       | 2600/10000 [19:22<4:24:26,  2.14s/ep]"
     ]
    },
    {
     "name": "stdout",
     "output_type": "stream",
     "text": [
      "Episode 2600, Score: -44.906, Avg Score (last 100): 23.523, Epsilon: 0.302, Elapsed Time: 1162.34 seconds\n"
     ]
    },
    {
     "name": "stderr",
     "output_type": "stream",
     "text": [
      " 26%|##6       | 2650/10000 [20:49<2:30:48,  1.23s/ep]"
     ]
    },
    {
     "name": "stdout",
     "output_type": "stream",
     "text": [
      "Episode 2650, Score: -19.603, Avg Score (last 100): 36.793, Epsilon: 0.295, Elapsed Time: 1249.17 seconds\n"
     ]
    },
    {
     "name": "stderr",
     "output_type": "stream",
     "text": [
      " 27%|##7       | 2700/10000 [22:25<4:02:55,  2.00s/ep]"
     ]
    },
    {
     "name": "stdout",
     "output_type": "stream",
     "text": [
      "Episode 2700, Score: 18.394, Avg Score (last 100): 24.614, Epsilon: 0.288, Elapsed Time: 1345.96 seconds\n"
     ]
    },
    {
     "name": "stderr",
     "output_type": "stream",
     "text": [
      " 28%|##7       | 2750/10000 [24:08<4:22:32,  2.17s/ep]"
     ]
    },
    {
     "name": "stdout",
     "output_type": "stream",
     "text": [
      "Episode 2750, Score: 150.135, Avg Score (last 100): 16.373, Epsilon: 0.282, Elapsed Time: 1448.12 seconds\n"
     ]
    },
    {
     "name": "stderr",
     "output_type": "stream",
     "text": [
      " 28%|##8       | 2801/10000 [25:42<2:51:51,  1.43s/ep]"
     ]
    },
    {
     "name": "stdout",
     "output_type": "stream",
     "text": [
      "Episode 2800, Score: 18.285, Avg Score (last 100): 28.733, Epsilon: 0.275, Elapsed Time: 1542.62 seconds\n"
     ]
    },
    {
     "name": "stderr",
     "output_type": "stream",
     "text": [
      " 28%|##8       | 2850/10000 [27:06<3:39:08,  1.84s/ep]"
     ]
    },
    {
     "name": "stdout",
     "output_type": "stream",
     "text": [
      "Episode 2850, Score: 54.241, Avg Score (last 100): 30.803, Epsilon: 0.269, Elapsed Time: 1626.83 seconds\n"
     ]
    },
    {
     "name": "stderr",
     "output_type": "stream",
     "text": [
      " 29%|##9       | 2900/10000 [28:34<2:57:08,  1.50s/ep]"
     ]
    },
    {
     "name": "stdout",
     "output_type": "stream",
     "text": [
      "Episode 2900, Score: 78.729, Avg Score (last 100): 36.782, Epsilon: 0.263, Elapsed Time: 1714.12 seconds\n"
     ]
    },
    {
     "name": "stderr",
     "output_type": "stream",
     "text": [
      " 30%|##9       | 2950/10000 [29:56<2:57:03,  1.51s/ep]"
     ]
    },
    {
     "name": "stdout",
     "output_type": "stream",
     "text": [
      "Episode 2950, Score: 233.719, Avg Score (last 100): 53.186, Epsilon: 0.257, Elapsed Time: 1796.91 seconds\n",
      "====Saving the best model====\n"
     ]
    },
    {
     "name": "stderr",
     "output_type": "stream",
     "text": [
      " 30%|###       | 3000/10000 [31:11<3:01:29,  1.56s/ep]"
     ]
    },
    {
     "name": "stdout",
     "output_type": "stream",
     "text": [
      "Episode 3000, Score: 74.765, Avg Score (last 100): 45.778, Epsilon: 0.251, Elapsed Time: 1871.38 seconds\n"
     ]
    },
    {
     "name": "stderr",
     "output_type": "stream",
     "text": [
      " 30%|###       | 3050/10000 [32:30<2:24:26,  1.25s/ep]"
     ]
    },
    {
     "name": "stdout",
     "output_type": "stream",
     "text": [
      "Episode 3050, Score: 161.191, Avg Score (last 100): 35.997, Epsilon: 0.245, Elapsed Time: 1950.88 seconds\n"
     ]
    },
    {
     "name": "stderr",
     "output_type": "stream",
     "text": [
      " 31%|###1      | 3100/10000 [33:44<2:33:19,  1.33s/ep]"
     ]
    },
    {
     "name": "stdout",
     "output_type": "stream",
     "text": [
      "Episode 3100, Score: -71.006, Avg Score (last 100): 46.648, Epsilon: 0.240, Elapsed Time: 2024.03 seconds\n"
     ]
    },
    {
     "name": "stderr",
     "output_type": "stream",
     "text": [
      " 32%|###1      | 3151/10000 [34:55<1:47:36,  1.06ep/s]"
     ]
    },
    {
     "name": "stdout",
     "output_type": "stream",
     "text": [
      "Episode 3150, Score: 156.051, Avg Score (last 100): 62.727, Epsilon: 0.234, Elapsed Time: 2095.17 seconds\n"
     ]
    },
    {
     "name": "stderr",
     "output_type": "stream",
     "text": [
      " 32%|###2      | 3200/10000 [36:01<3:11:16,  1.69s/ep]"
     ]
    },
    {
     "name": "stdout",
     "output_type": "stream",
     "text": [
      "Episode 3200, Score: 154.074, Avg Score (last 100): 71.998, Epsilon: 0.229, Elapsed Time: 2161.58 seconds\n"
     ]
    },
    {
     "name": "stderr",
     "output_type": "stream",
     "text": [
      " 32%|###2      | 3250/10000 [37:19<2:23:24,  1.27s/ep]"
     ]
    },
    {
     "name": "stdout",
     "output_type": "stream",
     "text": [
      "Episode 3250, Score: 220.136, Avg Score (last 100): 81.736, Epsilon: 0.224, Elapsed Time: 2239.84 seconds\n"
     ]
    },
    {
     "name": "stderr",
     "output_type": "stream",
     "text": [
      " 33%|###3      | 3300/10000 [38:31<1:37:29,  1.15ep/s]"
     ]
    },
    {
     "name": "stdout",
     "output_type": "stream",
     "text": [
      "Episode 3300, Score: 181.661, Avg Score (last 100): 92.291, Epsilon: 0.219, Elapsed Time: 2311.03 seconds\n"
     ]
    },
    {
     "name": "stderr",
     "output_type": "stream",
     "text": [
      " 34%|###3      | 3350/10000 [39:39<3:17:25,  1.78s/ep]"
     ]
    },
    {
     "name": "stdout",
     "output_type": "stream",
     "text": [
      "Episode 3350, Score: 213.412, Avg Score (last 100): 73.027, Epsilon: 0.214, Elapsed Time: 2379.68 seconds\n"
     ]
    },
    {
     "name": "stderr",
     "output_type": "stream",
     "text": [
      " 34%|###4      | 3400/10000 [40:52<3:16:38,  1.79s/ep]"
     ]
    },
    {
     "name": "stdout",
     "output_type": "stream",
     "text": [
      "Episode 3400, Score: 62.873, Avg Score (last 100): 74.028, Epsilon: 0.209, Elapsed Time: 2452.60 seconds\n"
     ]
    },
    {
     "name": "stderr",
     "output_type": "stream",
     "text": [
      " 34%|###4      | 3450/10000 [42:05<3:46:36,  2.08s/ep]"
     ]
    },
    {
     "name": "stdout",
     "output_type": "stream",
     "text": [
      "Episode 3450, Score: 109.859, Avg Score (last 100): 87.170, Epsilon: 0.204, Elapsed Time: 2525.91 seconds\n"
     ]
    },
    {
     "name": "stderr",
     "output_type": "stream",
     "text": [
      " 35%|###5      | 3500/10000 [43:19<2:12:11,  1.22s/ep]"
     ]
    },
    {
     "name": "stdout",
     "output_type": "stream",
     "text": [
      "Episode 3500, Score: 109.839, Avg Score (last 100): 98.371, Epsilon: 0.200, Elapsed Time: 2599.28 seconds\n"
     ]
    },
    {
     "name": "stderr",
     "output_type": "stream",
     "text": [
      " 36%|###5      | 3550/10000 [44:21<2:12:36,  1.23s/ep]"
     ]
    },
    {
     "name": "stdout",
     "output_type": "stream",
     "text": [
      "Episode 3550, Score: 176.839, Avg Score (last 100): 118.688, Epsilon: 0.195, Elapsed Time: 2661.72 seconds\n"
     ]
    },
    {
     "name": "stderr",
     "output_type": "stream",
     "text": [
      " 36%|###6      | 3600/10000 [45:15<1:19:54,  1.33ep/s]"
     ]
    },
    {
     "name": "stdout",
     "output_type": "stream",
     "text": [
      "Episode 3600, Score: -5.744, Avg Score (last 100): 97.923, Epsilon: 0.191, Elapsed Time: 2715.55 seconds\n"
     ]
    },
    {
     "name": "stderr",
     "output_type": "stream",
     "text": [
      " 36%|###6      | 3650/10000 [46:08<1:46:21,  1.00s/ep]"
     ]
    },
    {
     "name": "stdout",
     "output_type": "stream",
     "text": [
      "Episode 3650, Score: 77.910, Avg Score (last 100): 85.854, Epsilon: 0.186, Elapsed Time: 2768.94 seconds\n"
     ]
    },
    {
     "name": "stderr",
     "output_type": "stream",
     "text": [
      " 37%|###7      | 3700/10000 [47:02<2:15:32,  1.29s/ep]"
     ]
    },
    {
     "name": "stdout",
     "output_type": "stream",
     "text": [
      "Episode 3700, Score: 86.117, Avg Score (last 100): 107.785, Epsilon: 0.182, Elapsed Time: 2822.55 seconds\n"
     ]
    },
    {
     "name": "stderr",
     "output_type": "stream",
     "text": [
      " 38%|###7      | 3751/10000 [48:01<1:37:30,  1.07ep/s]"
     ]
    },
    {
     "name": "stdout",
     "output_type": "stream",
     "text": [
      "Episode 3750, Score: -164.568, Avg Score (last 100): 114.733, Epsilon: 0.178, Elapsed Time: 2881.33 seconds\n"
     ]
    },
    {
     "name": "stderr",
     "output_type": "stream",
     "text": [
      " 38%|###8      | 3800/10000 [48:51<2:29:00,  1.44s/ep]"
     ]
    },
    {
     "name": "stdout",
     "output_type": "stream",
     "text": [
      "Episode 3800, Score: 99.234, Avg Score (last 100): 121.127, Epsilon: 0.174, Elapsed Time: 2931.09 seconds\n"
     ]
    },
    {
     "name": "stderr",
     "output_type": "stream",
     "text": [
      " 38%|###8      | 3850/10000 [49:50<2:40:35,  1.57s/ep]"
     ]
    },
    {
     "name": "stdout",
     "output_type": "stream",
     "text": [
      "Episode 3850, Score: 175.090, Avg Score (last 100): 140.120, Epsilon: 0.170, Elapsed Time: 2990.98 seconds\n"
     ]
    },
    {
     "name": "stderr",
     "output_type": "stream",
     "text": [
      " 39%|###9      | 3900/10000 [50:48<1:44:47,  1.03s/ep]"
     ]
    },
    {
     "name": "stdout",
     "output_type": "stream",
     "text": [
      "Episode 3900, Score: 213.840, Avg Score (last 100): 127.054, Epsilon: 0.166, Elapsed Time: 3048.27 seconds\n"
     ]
    },
    {
     "name": "stderr",
     "output_type": "stream",
     "text": [
      " 39%|###9      | 3949/10000 [51:38<2:08:50,  1.28s/ep]"
     ]
    },
    {
     "name": "stdout",
     "output_type": "stream",
     "text": [
      "Episode 3950, Score: 14.527, Avg Score (last 100): 104.106, Epsilon: 0.162, Elapsed Time: 3098.52 seconds\n"
     ]
    },
    {
     "name": "stderr",
     "output_type": "stream",
     "text": [
      " 40%|####      | 4000/10000 [52:36<1:02:04,  1.61ep/s]"
     ]
    },
    {
     "name": "stdout",
     "output_type": "stream",
     "text": [
      "Episode 4000, Score: -33.716, Avg Score (last 100): 101.264, Epsilon: 0.158, Elapsed Time: 3156.34 seconds\n"
     ]
    },
    {
     "name": "stderr",
     "output_type": "stream",
     "text": [
      " 40%|####      | 4050/10000 [53:23<1:14:06,  1.34ep/s]"
     ]
    },
    {
     "name": "stdout",
     "output_type": "stream",
     "text": [
      "Episode 4050, Score: 264.030, Avg Score (last 100): 111.863, Epsilon: 0.155, Elapsed Time: 3203.79 seconds\n",
      "====Saving the best model====\n"
     ]
    },
    {
     "name": "stderr",
     "output_type": "stream",
     "text": [
      " 41%|####1     | 4100/10000 [54:09<1:34:55,  1.04ep/s]"
     ]
    },
    {
     "name": "stdout",
     "output_type": "stream",
     "text": [
      "Episode 4100, Score: 209.766, Avg Score (last 100): 128.394, Epsilon: 0.151, Elapsed Time: 3249.27 seconds\n"
     ]
    },
    {
     "name": "stderr",
     "output_type": "stream",
     "text": [
      " 42%|####1     | 4150/10000 [54:52<1:24:39,  1.15ep/s]"
     ]
    },
    {
     "name": "stdout",
     "output_type": "stream",
     "text": [
      "Episode 4150, Score: -31.408, Avg Score (last 100): 125.874, Epsilon: 0.148, Elapsed Time: 3292.37 seconds\n"
     ]
    },
    {
     "name": "stderr",
     "output_type": "stream",
     "text": [
      " 42%|####2     | 4200/10000 [55:47<1:45:37,  1.09s/ep]"
     ]
    },
    {
     "name": "stdout",
     "output_type": "stream",
     "text": [
      "Episode 4200, Score: 138.417, Avg Score (last 100): 114.610, Epsilon: 0.145, Elapsed Time: 3347.98 seconds\n"
     ]
    },
    {
     "name": "stderr",
     "output_type": "stream",
     "text": [
      " 42%|####2     | 4250/10000 [56:38<1:57:25,  1.23s/ep]"
     ]
    },
    {
     "name": "stdout",
     "output_type": "stream",
     "text": [
      "Episode 4250, Score: 198.804, Avg Score (last 100): 105.421, Epsilon: 0.141, Elapsed Time: 3398.35 seconds\n"
     ]
    },
    {
     "name": "stderr",
     "output_type": "stream",
     "text": [
      " 43%|####3     | 4300/10000 [57:26<1:08:06,  1.39ep/s]"
     ]
    },
    {
     "name": "stdout",
     "output_type": "stream",
     "text": [
      "Episode 4300, Score: 183.269, Avg Score (last 100): 106.264, Epsilon: 0.138, Elapsed Time: 3446.18 seconds\n"
     ]
    },
    {
     "name": "stderr",
     "output_type": "stream",
     "text": [
      " 44%|####3     | 4350/10000 [58:05<2:02:08,  1.30s/ep]"
     ]
    },
    {
     "name": "stdout",
     "output_type": "stream",
     "text": [
      "Episode 4350, Score: 214.394, Avg Score (last 100): 117.002, Epsilon: 0.135, Elapsed Time: 3485.82 seconds\n"
     ]
    },
    {
     "name": "stderr",
     "output_type": "stream",
     "text": [
      " 44%|####4     | 4400/10000 [58:49<1:24:31,  1.10ep/s]"
     ]
    },
    {
     "name": "stdout",
     "output_type": "stream",
     "text": [
      "Episode 4400, Score: 205.851, Avg Score (last 100): 135.572, Epsilon: 0.132, Elapsed Time: 3529.63 seconds\n"
     ]
    },
    {
     "name": "stderr",
     "output_type": "stream",
     "text": [
      " 44%|####4     | 4450/10000 [59:25<47:13,  1.96ep/s]  "
     ]
    },
    {
     "name": "stdout",
     "output_type": "stream",
     "text": [
      "Episode 4450, Score: 229.829, Avg Score (last 100): 132.752, Epsilon: 0.129, Elapsed Time: 3565.11 seconds\n"
     ]
    },
    {
     "name": "stderr",
     "output_type": "stream",
     "text": [
      " 45%|####5     | 4501/10000 [1:00:10<1:02:41,  1.46ep/s]"
     ]
    },
    {
     "name": "stdout",
     "output_type": "stream",
     "text": [
      "Episode 4500, Score: 210.689, Avg Score (last 100): 120.216, Epsilon: 0.126, Elapsed Time: 3610.68 seconds\n"
     ]
    },
    {
     "name": "stderr",
     "output_type": "stream",
     "text": [
      " 46%|####5     | 4550/10000 [1:00:48<56:56,  1.59ep/s]  "
     ]
    },
    {
     "name": "stdout",
     "output_type": "stream",
     "text": [
      "Episode 4550, Score: -37.742, Avg Score (last 100): 121.934, Epsilon: 0.123, Elapsed Time: 3648.42 seconds\n"
     ]
    },
    {
     "name": "stderr",
     "output_type": "stream",
     "text": [
      " 46%|####6     | 4600/10000 [1:01:22<1:30:10,  1.00s/ep]"
     ]
    },
    {
     "name": "stdout",
     "output_type": "stream",
     "text": [
      "Episode 4600, Score: 173.759, Avg Score (last 100): 116.665, Epsilon: 0.120, Elapsed Time: 3682.99 seconds\n"
     ]
    },
    {
     "name": "stderr",
     "output_type": "stream",
     "text": [
      " 46%|####6     | 4650/10000 [1:02:10<1:15:17,  1.18ep/s]"
     ]
    },
    {
     "name": "stdout",
     "output_type": "stream",
     "text": [
      "Episode 4650, Score: 214.058, Avg Score (last 100): 118.616, Epsilon: 0.117, Elapsed Time: 3730.71 seconds\n"
     ]
    },
    {
     "name": "stderr",
     "output_type": "stream",
     "text": [
      " 47%|####7     | 4701/10000 [1:03:01<48:08,  1.83ep/s]  "
     ]
    },
    {
     "name": "stdout",
     "output_type": "stream",
     "text": [
      "Episode 4700, Score: -370.474, Avg Score (last 100): 133.971, Epsilon: 0.115, Elapsed Time: 3781.28 seconds\n"
     ]
    },
    {
     "name": "stderr",
     "output_type": "stream",
     "text": [
      " 48%|####7     | 4750/10000 [1:03:36<1:12:32,  1.21ep/s]"
     ]
    },
    {
     "name": "stdout",
     "output_type": "stream",
     "text": [
      "Episode 4750, Score: 181.205, Avg Score (last 100): 137.462, Epsilon: 0.112, Elapsed Time: 3816.62 seconds\n"
     ]
    },
    {
     "name": "stderr",
     "output_type": "stream",
     "text": [
      " 48%|####8     | 4800/10000 [1:04:12<54:46,  1.58ep/s]  "
     ]
    },
    {
     "name": "stdout",
     "output_type": "stream",
     "text": [
      "Episode 4800, Score: 252.717, Avg Score (last 100): 141.927, Epsilon: 0.110, Elapsed Time: 3852.12 seconds\n"
     ]
    },
    {
     "name": "stderr",
     "output_type": "stream",
     "text": [
      " 48%|####8     | 4850/10000 [1:04:46<45:57,  1.87ep/s]  "
     ]
    },
    {
     "name": "stdout",
     "output_type": "stream",
     "text": [
      "Episode 4850, Score: 207.504, Avg Score (last 100): 135.346, Epsilon: 0.107, Elapsed Time: 3886.42 seconds\n"
     ]
    },
    {
     "name": "stderr",
     "output_type": "stream",
     "text": [
      " 49%|####9     | 4900/10000 [1:05:16<1:00:43,  1.40ep/s]"
     ]
    },
    {
     "name": "stdout",
     "output_type": "stream",
     "text": [
      "Episode 4900, Score: 215.495, Avg Score (last 100): 109.624, Epsilon: 0.105, Elapsed Time: 3916.31 seconds\n"
     ]
    },
    {
     "name": "stderr",
     "output_type": "stream",
     "text": [
      " 50%|####9     | 4950/10000 [1:05:46<36:58,  2.28ep/s]  "
     ]
    },
    {
     "name": "stdout",
     "output_type": "stream",
     "text": [
      "Episode 4950, Score: -172.740, Avg Score (last 100): 113.923, Epsilon: 0.102, Elapsed Time: 3946.92 seconds\n"
     ]
    },
    {
     "name": "stderr",
     "output_type": "stream",
     "text": [
      " 50%|#####     | 5000/10000 [1:06:15<36:50,  2.26ep/s]  "
     ]
    },
    {
     "name": "stdout",
     "output_type": "stream",
     "text": [
      "Episode 5000, Score: 30.758, Avg Score (last 100): 118.499, Epsilon: 0.100, Elapsed Time: 3975.55 seconds\n"
     ]
    },
    {
     "name": "stderr",
     "output_type": "stream",
     "text": [
      " 50%|#####     | 5050/10000 [1:06:54<1:34:10,  1.14s/ep]"
     ]
    },
    {
     "name": "stdout",
     "output_type": "stream",
     "text": [
      "Episode 5050, Score: -56.483, Avg Score (last 100): 116.478, Epsilon: 0.098, Elapsed Time: 4014.09 seconds\n"
     ]
    },
    {
     "name": "stderr",
     "output_type": "stream",
     "text": [
      " 51%|#####1    | 5100/10000 [1:07:25<1:12:35,  1.12ep/s]"
     ]
    },
    {
     "name": "stdout",
     "output_type": "stream",
     "text": [
      "Episode 5100, Score: 167.595, Avg Score (last 100): 130.708, Epsilon: 0.095, Elapsed Time: 4046.00 seconds\n"
     ]
    },
    {
     "name": "stderr",
     "output_type": "stream",
     "text": [
      " 52%|#####1    | 5150/10000 [1:08:03<1:25:27,  1.06s/ep]"
     ]
    },
    {
     "name": "stdout",
     "output_type": "stream",
     "text": [
      "Episode 5150, Score: 87.328, Avg Score (last 100): 153.977, Epsilon: 0.093, Elapsed Time: 4083.23 seconds\n"
     ]
    },
    {
     "name": "stderr",
     "output_type": "stream",
     "text": [
      " 52%|#####2    | 5200/10000 [1:08:32<27:47,  2.88ep/s]  "
     ]
    },
    {
     "name": "stdout",
     "output_type": "stream",
     "text": [
      "Episode 5200, Score: -48.275, Avg Score (last 100): 138.212, Epsilon: 0.091, Elapsed Time: 4112.42 seconds\n"
     ]
    },
    {
     "name": "stderr",
     "output_type": "stream",
     "text": [
      " 52%|#####2    | 5250/10000 [1:09:03<37:24,  2.12ep/s]  "
     ]
    },
    {
     "name": "stdout",
     "output_type": "stream",
     "text": [
      "Episode 5250, Score: 245.333, Avg Score (last 100): 117.116, Epsilon: 0.089, Elapsed Time: 4143.58 seconds\n"
     ]
    },
    {
     "name": "stderr",
     "output_type": "stream",
     "text": [
      " 53%|#####3    | 5300/10000 [1:09:37<44:56,  1.74ep/s]  "
     ]
    },
    {
     "name": "stdout",
     "output_type": "stream",
     "text": [
      "Episode 5300, Score: -273.723, Avg Score (last 100): 133.272, Epsilon: 0.087, Elapsed Time: 4177.49 seconds\n"
     ]
    },
    {
     "name": "stderr",
     "output_type": "stream",
     "text": [
      " 54%|#####3    | 5350/10000 [1:10:20<1:11:32,  1.08ep/s]"
     ]
    },
    {
     "name": "stdout",
     "output_type": "stream",
     "text": [
      "Episode 5350, Score: 185.221, Avg Score (last 100): 131.801, Epsilon: 0.085, Elapsed Time: 4220.67 seconds\n"
     ]
    },
    {
     "name": "stderr",
     "output_type": "stream",
     "text": [
      " 54%|#####4    | 5400/10000 [1:10:55<59:19,  1.29ep/s]  "
     ]
    },
    {
     "name": "stdout",
     "output_type": "stream",
     "text": [
      "Episode 5400, Score: 227.087, Avg Score (last 100): 129.315, Epsilon: 0.083, Elapsed Time: 4255.17 seconds\n"
     ]
    },
    {
     "name": "stderr",
     "output_type": "stream",
     "text": [
      " 55%|#####4    | 5450/10000 [1:11:33<1:18:11,  1.03s/ep]"
     ]
    },
    {
     "name": "stdout",
     "output_type": "stream",
     "text": [
      "Episode 5450, Score: -6.592, Avg Score (last 100): 152.749, Epsilon: 0.081, Elapsed Time: 4293.59 seconds\n"
     ]
    },
    {
     "name": "stderr",
     "output_type": "stream",
     "text": [
      " 55%|#####5    | 5500/10000 [1:12:01<45:34,  1.65ep/s]  "
     ]
    },
    {
     "name": "stdout",
     "output_type": "stream",
     "text": [
      "Episode 5500, Score: 33.615, Avg Score (last 100): 176.110, Epsilon: 0.079, Elapsed Time: 4321.99 seconds\n"
     ]
    },
    {
     "name": "stderr",
     "output_type": "stream",
     "text": [
      " 56%|#####5    | 5550/10000 [1:12:43<1:46:05,  1.43s/ep]"
     ]
    },
    {
     "name": "stdout",
     "output_type": "stream",
     "text": [
      "Episode 5550, Score: 214.815, Avg Score (last 100): 170.357, Epsilon: 0.078, Elapsed Time: 4363.45 seconds\n"
     ]
    },
    {
     "name": "stderr",
     "output_type": "stream",
     "text": [
      " 56%|#####6    | 5600/10000 [1:13:12<55:43,  1.32ep/s]  "
     ]
    },
    {
     "name": "stdout",
     "output_type": "stream",
     "text": [
      "Episode 5600, Score: -216.259, Avg Score (last 100): 169.070, Epsilon: 0.076, Elapsed Time: 4392.55 seconds\n"
     ]
    },
    {
     "name": "stderr",
     "output_type": "stream",
     "text": [
      " 56%|#####6    | 5650/10000 [1:13:47<51:58,  1.39ep/s]  "
     ]
    },
    {
     "name": "stdout",
     "output_type": "stream",
     "text": [
      "Episode 5650, Score: 149.035, Avg Score (last 100): 189.098, Epsilon: 0.074, Elapsed Time: 4427.65 seconds\n"
     ]
    },
    {
     "name": "stderr",
     "output_type": "stream",
     "text": [
      " 57%|#####6    | 5700/10000 [1:14:20<40:58,  1.75ep/s]  "
     ]
    },
    {
     "name": "stdout",
     "output_type": "stream",
     "text": [
      "Episode 5700, Score: 222.490, Avg Score (last 100): 201.981, Epsilon: 0.072, Elapsed Time: 4460.59 seconds\n"
     ]
    },
    {
     "name": "stderr",
     "output_type": "stream",
     "text": [
      " 57%|#####7    | 5750/10000 [1:14:49<29:41,  2.39ep/s]  "
     ]
    },
    {
     "name": "stdout",
     "output_type": "stream",
     "text": [
      "Episode 5750, Score: 226.921, Avg Score (last 100): 205.833, Epsilon: 0.071, Elapsed Time: 4489.93 seconds\n"
     ]
    },
    {
     "name": "stderr",
     "output_type": "stream",
     "text": [
      " 58%|#####8    | 5800/10000 [1:15:20<53:29,  1.31ep/s]  "
     ]
    },
    {
     "name": "stdout",
     "output_type": "stream",
     "text": [
      "Episode 5800, Score: 238.329, Avg Score (last 100): 211.908, Epsilon: 0.069, Elapsed Time: 4520.60 seconds\n"
     ]
    },
    {
     "name": "stderr",
     "output_type": "stream",
     "text": [
      " 58%|#####8    | 5850/10000 [1:15:54<45:55,  1.51ep/s]  "
     ]
    },
    {
     "name": "stdout",
     "output_type": "stream",
     "text": [
      "Episode 5850, Score: -183.276, Avg Score (last 100): 205.308, Epsilon: 0.068, Elapsed Time: 4554.03 seconds\n"
     ]
    },
    {
     "name": "stderr",
     "output_type": "stream",
     "text": [
      " 59%|#####8    | 5900/10000 [1:16:21<33:49,  2.02ep/s]  "
     ]
    },
    {
     "name": "stdout",
     "output_type": "stream",
     "text": [
      "Episode 5900, Score: 216.599, Avg Score (last 100): 191.099, Epsilon: 0.066, Elapsed Time: 4581.27 seconds\n"
     ]
    },
    {
     "name": "stderr",
     "output_type": "stream",
     "text": [
      " 60%|#####9    | 5950/10000 [1:16:46<29:33,  2.28ep/s]"
     ]
    },
    {
     "name": "stdout",
     "output_type": "stream",
     "text": [
      "Episode 5950, Score: 225.253, Avg Score (last 100): 189.110, Epsilon: 0.065, Elapsed Time: 4606.26 seconds\n"
     ]
    },
    {
     "name": "stderr",
     "output_type": "stream",
     "text": [
      " 60%|######    | 6000/10000 [1:17:17<46:34,  1.43ep/s]  "
     ]
    },
    {
     "name": "stdout",
     "output_type": "stream",
     "text": [
      "Episode 6000, Score: 207.579, Avg Score (last 100): 195.425, Epsilon: 0.063, Elapsed Time: 4637.62 seconds\n"
     ]
    },
    {
     "name": "stderr",
     "output_type": "stream",
     "text": [
      " 60%|######    | 6050/10000 [1:17:43<35:45,  1.84ep/s]"
     ]
    },
    {
     "name": "stdout",
     "output_type": "stream",
     "text": [
      "Episode 6050, Score: 12.978, Avg Score (last 100): 200.002, Epsilon: 0.062, Elapsed Time: 4663.91 seconds\n"
     ]
    },
    {
     "name": "stderr",
     "output_type": "stream",
     "text": [
      " 61%|######1   | 6100/10000 [1:18:11<50:16,  1.29ep/s]"
     ]
    },
    {
     "name": "stdout",
     "output_type": "stream",
     "text": [
      "Episode 6100, Score: 231.689, Avg Score (last 100): 199.711, Epsilon: 0.060, Elapsed Time: 4691.21 seconds\n"
     ]
    },
    {
     "name": "stderr",
     "output_type": "stream",
     "text": [
      " 62%|######1   | 6150/10000 [1:18:39<25:35,  2.51ep/s]  "
     ]
    },
    {
     "name": "stdout",
     "output_type": "stream",
     "text": [
      "Episode 6150, Score: 13.026, Avg Score (last 100): 195.997, Epsilon: 0.059, Elapsed Time: 4719.60 seconds\n"
     ]
    },
    {
     "name": "stderr",
     "output_type": "stream",
     "text": [
      " 62%|######2   | 6200/10000 [1:19:11<43:39,  1.45ep/s]  "
     ]
    },
    {
     "name": "stdout",
     "output_type": "stream",
     "text": [
      "Episode 6200, Score: 167.039, Avg Score (last 100): 198.375, Epsilon: 0.058, Elapsed Time: 4751.39 seconds\n"
     ]
    },
    {
     "name": "stderr",
     "output_type": "stream",
     "text": [
      " 62%|######2   | 6250/10000 [1:19:37<24:59,  2.50ep/s]"
     ]
    },
    {
     "name": "stdout",
     "output_type": "stream",
     "text": [
      "Episode 6250, Score: 253.014, Avg Score (last 100): 193.553, Epsilon: 0.056, Elapsed Time: 4777.81 seconds\n"
     ]
    },
    {
     "name": "stderr",
     "output_type": "stream",
     "text": [
      " 63%|######3   | 6300/10000 [1:20:01<30:34,  2.02ep/s]  "
     ]
    },
    {
     "name": "stdout",
     "output_type": "stream",
     "text": [
      "Episode 6300, Score: 28.813, Avg Score (last 100): 183.303, Epsilon: 0.055, Elapsed Time: 4801.66 seconds\n"
     ]
    },
    {
     "name": "stderr",
     "output_type": "stream",
     "text": [
      " 64%|######3   | 6350/10000 [1:20:32<47:40,  1.28ep/s]  "
     ]
    },
    {
     "name": "stdout",
     "output_type": "stream",
     "text": [
      "Episode 6350, Score: -244.798, Avg Score (last 100): 187.857, Epsilon: 0.054, Elapsed Time: 4832.61 seconds\n"
     ]
    },
    {
     "name": "stderr",
     "output_type": "stream",
     "text": [
      " 64%|######4   | 6400/10000 [1:21:07<1:15:10,  1.25s/ep]"
     ]
    },
    {
     "name": "stdout",
     "output_type": "stream",
     "text": [
      "Episode 6400, Score: 101.908, Avg Score (last 100): 194.546, Epsilon: 0.052, Elapsed Time: 4867.34 seconds\n"
     ]
    },
    {
     "name": "stderr",
     "output_type": "stream",
     "text": [
      " 64%|######4   | 6450/10000 [1:21:35<23:50,  2.48ep/s]  "
     ]
    },
    {
     "name": "stdout",
     "output_type": "stream",
     "text": [
      "Episode 6450, Score: 206.980, Avg Score (last 100): 204.954, Epsilon: 0.051, Elapsed Time: 4895.92 seconds\n"
     ]
    },
    {
     "name": "stderr",
     "output_type": "stream",
     "text": [
      " 65%|######5   | 6500/10000 [1:22:02<19:23,  3.01ep/s]"
     ]
    },
    {
     "name": "stdout",
     "output_type": "stream",
     "text": [
      "Episode 6500, Score: 300.358, Avg Score (last 100): 217.657, Epsilon: 0.050, Elapsed Time: 4922.30 seconds\n",
      "====Saving the best model====\n"
     ]
    },
    {
     "name": "stderr",
     "output_type": "stream",
     "text": [
      " 66%|######5   | 6550/10000 [1:22:29<24:34,  2.34ep/s]  "
     ]
    },
    {
     "name": "stdout",
     "output_type": "stream",
     "text": [
      "Episode 6550, Score: 248.972, Avg Score (last 100): 215.549, Epsilon: 0.049, Elapsed Time: 4949.73 seconds\n"
     ]
    },
    {
     "name": "stderr",
     "output_type": "stream",
     "text": [
      " 66%|######6   | 6600/10000 [1:22:58<24:30,  2.31ep/s]"
     ]
    },
    {
     "name": "stdout",
     "output_type": "stream",
     "text": [
      "Episode 6600, Score: 185.239, Avg Score (last 100): 205.836, Epsilon: 0.048, Elapsed Time: 4978.12 seconds\n"
     ]
    },
    {
     "name": "stderr",
     "output_type": "stream",
     "text": [
      " 66%|######6   | 6650/10000 [1:23:17<41:13,  1.35ep/s]"
     ]
    },
    {
     "name": "stdout",
     "output_type": "stream",
     "text": [
      "Episode 6650, Score: 117.743, Avg Score (last 100): 207.786, Epsilon: 0.047, Elapsed Time: 4997.07 seconds\n"
     ]
    },
    {
     "name": "stderr",
     "output_type": "stream",
     "text": [
      " 67%|######7   | 6700/10000 [1:23:40<35:57,  1.53ep/s]"
     ]
    },
    {
     "name": "stdout",
     "output_type": "stream",
     "text": [
      "Episode 6700, Score: 268.136, Avg Score (last 100): 209.537, Epsilon: 0.046, Elapsed Time: 5020.89 seconds\n"
     ]
    },
    {
     "name": "stderr",
     "output_type": "stream",
     "text": [
      " 68%|######7   | 6750/10000 [1:24:04<18:54,  2.86ep/s]"
     ]
    },
    {
     "name": "stdout",
     "output_type": "stream",
     "text": [
      "Episode 6750, Score: 20.195, Avg Score (last 100): 208.704, Epsilon: 0.045, Elapsed Time: 5044.68 seconds\n"
     ]
    },
    {
     "name": "stderr",
     "output_type": "stream",
     "text": [
      " 68%|######8   | 6800/10000 [1:24:25<20:01,  2.66ep/s]"
     ]
    },
    {
     "name": "stdout",
     "output_type": "stream",
     "text": [
      "Episode 6800, Score: 258.172, Avg Score (last 100): 217.672, Epsilon: 0.044, Elapsed Time: 5065.41 seconds\n"
     ]
    },
    {
     "name": "stderr",
     "output_type": "stream",
     "text": [
      " 68%|######8   | 6850/10000 [1:24:51<23:15,  2.26ep/s]  "
     ]
    },
    {
     "name": "stdout",
     "output_type": "stream",
     "text": [
      "Episode 6850, Score: 231.676, Avg Score (last 100): 216.617, Epsilon: 0.043, Elapsed Time: 5091.18 seconds\n"
     ]
    },
    {
     "name": "stderr",
     "output_type": "stream",
     "text": [
      " 69%|######9   | 6901/10000 [1:25:16<19:07,  2.70ep/s]"
     ]
    },
    {
     "name": "stdout",
     "output_type": "stream",
     "text": [
      "Episode 6900, Score: 232.328, Avg Score (last 100): 214.327, Epsilon: 0.042, Elapsed Time: 5116.68 seconds\n"
     ]
    },
    {
     "name": "stderr",
     "output_type": "stream",
     "text": [
      " 70%|######9   | 6950/10000 [1:25:43<35:19,  1.44ep/s]"
     ]
    },
    {
     "name": "stdout",
     "output_type": "stream",
     "text": [
      "Episode 6950, Score: 268.066, Avg Score (last 100): 224.933, Epsilon: 0.041, Elapsed Time: 5143.43 seconds\n"
     ]
    },
    {
     "name": "stderr",
     "output_type": "stream",
     "text": [
      " 70%|#######   | 7000/10000 [1:26:04<15:36,  3.20ep/s]"
     ]
    },
    {
     "name": "stdout",
     "output_type": "stream",
     "text": [
      "Episode 7000, Score: 240.976, Avg Score (last 100): 229.952, Epsilon: 0.040, Elapsed Time: 5164.53 seconds\n"
     ]
    },
    {
     "name": "stderr",
     "output_type": "stream",
     "text": [
      " 70%|#######   | 7050/10000 [1:26:34<41:51,  1.17ep/s]"
     ]
    },
    {
     "name": "stdout",
     "output_type": "stream",
     "text": [
      "Episode 7050, Score: 231.114, Avg Score (last 100): 226.642, Epsilon: 0.039, Elapsed Time: 5194.98 seconds\n"
     ]
    },
    {
     "name": "stderr",
     "output_type": "stream",
     "text": [
      " 71%|#######1  | 7100/10000 [1:26:56<19:34,  2.47ep/s]"
     ]
    },
    {
     "name": "stdout",
     "output_type": "stream",
     "text": [
      "Episode 7100, Score: 232.157, Avg Score (last 100): 221.224, Epsilon: 0.038, Elapsed Time: 5216.47 seconds\n"
     ]
    },
    {
     "name": "stderr",
     "output_type": "stream",
     "text": [
      " 72%|#######1  | 7151/10000 [1:27:16<15:06,  3.14ep/s]"
     ]
    },
    {
     "name": "stdout",
     "output_type": "stream",
     "text": [
      "Episode 7150, Score: 29.000, Avg Score (last 100): 212.671, Epsilon: 0.037, Elapsed Time: 5236.43 seconds\n"
     ]
    },
    {
     "name": "stderr",
     "output_type": "stream",
     "text": [
      " 72%|#######2  | 7200/10000 [1:27:35<32:48,  1.42ep/s]"
     ]
    },
    {
     "name": "stdout",
     "output_type": "stream",
     "text": [
      "Episode 7200, Score: 209.206, Avg Score (last 100): 195.455, Epsilon: 0.036, Elapsed Time: 5255.28 seconds\n"
     ]
    },
    {
     "name": "stderr",
     "output_type": "stream",
     "text": [
      " 72%|#######2  | 7250/10000 [1:27:54<22:51,  2.00ep/s]"
     ]
    },
    {
     "name": "stdout",
     "output_type": "stream",
     "text": [
      "Episode 7250, Score: 215.713, Avg Score (last 100): 200.767, Epsilon: 0.035, Elapsed Time: 5274.97 seconds\n"
     ]
    },
    {
     "name": "stderr",
     "output_type": "stream",
     "text": [
      " 73%|#######3  | 7300/10000 [1:28:17<18:58,  2.37ep/s]"
     ]
    },
    {
     "name": "stdout",
     "output_type": "stream",
     "text": [
      "Episode 7300, Score: 248.735, Avg Score (last 100): 201.837, Epsilon: 0.035, Elapsed Time: 5297.92 seconds\n"
     ]
    },
    {
     "name": "stderr",
     "output_type": "stream",
     "text": [
      " 74%|#######3  | 7350/10000 [1:28:36<18:14,  2.42ep/s]"
     ]
    },
    {
     "name": "stdout",
     "output_type": "stream",
     "text": [
      "Episode 7350, Score: 232.410, Avg Score (last 100): 196.576, Epsilon: 0.034, Elapsed Time: 5316.70 seconds\n"
     ]
    },
    {
     "name": "stderr",
     "output_type": "stream",
     "text": [
      " 74%|#######4  | 7400/10000 [1:28:54<10:35,  4.09ep/s]"
     ]
    },
    {
     "name": "stdout",
     "output_type": "stream",
     "text": [
      "Episode 7400, Score: 235.702, Avg Score (last 100): 192.218, Epsilon: 0.033, Elapsed Time: 5334.89 seconds\n"
     ]
    },
    {
     "name": "stderr",
     "output_type": "stream",
     "text": [
      " 74%|#######4  | 7450/10000 [1:29:10<09:48,  4.33ep/s]"
     ]
    },
    {
     "name": "stdout",
     "output_type": "stream",
     "text": [
      "Episode 7450, Score: -21.431, Avg Score (last 100): 163.190, Epsilon: 0.032, Elapsed Time: 5350.11 seconds\n"
     ]
    },
    {
     "name": "stderr",
     "output_type": "stream",
     "text": [
      " 75%|#######5  | 7500/10000 [1:29:21<06:53,  6.04ep/s]"
     ]
    },
    {
     "name": "stdout",
     "output_type": "stream",
     "text": [
      "Episode 7500, Score: -20.882, Avg Score (last 100): 133.896, Epsilon: 0.032, Elapsed Time: 5361.31 seconds\n"
     ]
    },
    {
     "name": "stderr",
     "output_type": "stream",
     "text": [
      " 76%|#######5  | 7551/10000 [1:29:36<07:41,  5.31ep/s]"
     ]
    },
    {
     "name": "stdout",
     "output_type": "stream",
     "text": [
      "Episode 7550, Score: -8.602, Avg Score (last 100): 118.879, Epsilon: 0.031, Elapsed Time: 5376.25 seconds\n"
     ]
    },
    {
     "name": "stderr",
     "output_type": "stream",
     "text": [
      " 76%|#######6  | 7601/10000 [1:29:46<08:20,  4.80ep/s]"
     ]
    },
    {
     "name": "stdout",
     "output_type": "stream",
     "text": [
      "Episode 7600, Score: 270.241, Avg Score (last 100): 116.665, Epsilon: 0.030, Elapsed Time: 5386.07 seconds\n"
     ]
    },
    {
     "name": "stderr",
     "output_type": "stream",
     "text": [
      " 76%|#######6  | 7649/10000 [1:29:55<08:41,  4.51ep/s]"
     ]
    },
    {
     "name": "stdout",
     "output_type": "stream",
     "text": [
      "Episode 7650, Score: -55.497, Avg Score (last 100): 115.407, Epsilon: 0.030, Elapsed Time: 5395.64 seconds\n"
     ]
    },
    {
     "name": "stderr",
     "output_type": "stream",
     "text": [
      " 77%|#######7  | 7700/10000 [1:30:08<06:30,  5.89ep/s]"
     ]
    },
    {
     "name": "stdout",
     "output_type": "stream",
     "text": [
      "Episode 7700, Score: 268.449, Avg Score (last 100): 124.382, Epsilon: 0.029, Elapsed Time: 5408.76 seconds\n"
     ]
    },
    {
     "name": "stderr",
     "output_type": "stream",
     "text": [
      " 78%|#######7  | 7750/10000 [1:30:24<19:42,  1.90ep/s]"
     ]
    },
    {
     "name": "stdout",
     "output_type": "stream",
     "text": [
      "Episode 7750, Score: -2.641, Avg Score (last 100): 112.510, Epsilon: 0.028, Elapsed Time: 5424.33 seconds\n"
     ]
    },
    {
     "name": "stderr",
     "output_type": "stream",
     "text": [
      " 78%|#######8  | 7801/10000 [1:30:39<07:57,  4.61ep/s]"
     ]
    },
    {
     "name": "stdout",
     "output_type": "stream",
     "text": [
      "Episode 7800, Score: 242.069, Avg Score (last 100): 102.042, Epsilon: 0.028, Elapsed Time: 5438.96 seconds\n"
     ]
    },
    {
     "name": "stderr",
     "output_type": "stream",
     "text": [
      " 78%|#######8  | 7850/10000 [1:30:56<14:03,  2.55ep/s]"
     ]
    },
    {
     "name": "stdout",
     "output_type": "stream",
     "text": [
      "Episode 7850, Score: 173.090, Avg Score (last 100): 146.630, Epsilon: 0.027, Elapsed Time: 5456.27 seconds\n"
     ]
    },
    {
     "name": "stderr",
     "output_type": "stream",
     "text": [
      " 79%|#######9  | 7900/10000 [1:31:20<26:05,  1.34ep/s]"
     ]
    },
    {
     "name": "stdout",
     "output_type": "stream",
     "text": [
      "Episode 7900, Score: 227.804, Avg Score (last 100): 165.417, Epsilon: 0.026, Elapsed Time: 5480.87 seconds\n"
     ]
    },
    {
     "name": "stderr",
     "output_type": "stream",
     "text": [
      " 80%|#######9  | 7950/10000 [1:31:36<05:50,  5.85ep/s]"
     ]
    },
    {
     "name": "stdout",
     "output_type": "stream",
     "text": [
      "Episode 7950, Score: -3.331, Avg Score (last 100): 130.664, Epsilon: 0.026, Elapsed Time: 5496.67 seconds\n"
     ]
    },
    {
     "name": "stderr",
     "output_type": "stream",
     "text": [
      " 80%|########  | 8001/10000 [1:31:47<05:53,  5.66ep/s]"
     ]
    },
    {
     "name": "stdout",
     "output_type": "stream",
     "text": [
      "Episode 8000, Score: 27.357, Avg Score (last 100): 104.495, Epsilon: 0.025, Elapsed Time: 5507.69 seconds\n"
     ]
    },
    {
     "name": "stderr",
     "output_type": "stream",
     "text": [
      " 81%|########  | 8051/10000 [1:32:02<05:46,  5.62ep/s]"
     ]
    },
    {
     "name": "stdout",
     "output_type": "stream",
     "text": [
      "Episode 8050, Score: 267.724, Avg Score (last 100): 111.296, Epsilon: 0.025, Elapsed Time: 5521.95 seconds\n"
     ]
    },
    {
     "name": "stderr",
     "output_type": "stream",
     "text": [
      " 81%|########1 | 8101/10000 [1:32:09<04:37,  6.85ep/s]"
     ]
    },
    {
     "name": "stdout",
     "output_type": "stream",
     "text": [
      "Episode 8100, Score: 220.533, Avg Score (last 100): 82.790, Epsilon: 0.024, Elapsed Time: 5529.34 seconds\n"
     ]
    },
    {
     "name": "stderr",
     "output_type": "stream",
     "text": [
      " 82%|########1 | 8150/10000 [1:32:17<03:42,  8.31ep/s]"
     ]
    },
    {
     "name": "stdout",
     "output_type": "stream",
     "text": [
      "Episode 8150, Score: 1.537, Avg Score (last 100): 53.103, Epsilon: 0.023, Elapsed Time: 5537.59 seconds\n"
     ]
    },
    {
     "name": "stderr",
     "output_type": "stream",
     "text": [
      " 82%|########2 | 8201/10000 [1:32:29<10:21,  2.90ep/s]"
     ]
    },
    {
     "name": "stdout",
     "output_type": "stream",
     "text": [
      "Episode 8200, Score: 20.224, Avg Score (last 100): 72.243, Epsilon: 0.023, Elapsed Time: 5549.71 seconds\n"
     ]
    },
    {
     "name": "stderr",
     "output_type": "stream",
     "text": [
      " 83%|########2 | 8252/10000 [1:32:39<08:41,  3.35ep/s]"
     ]
    },
    {
     "name": "stdout",
     "output_type": "stream",
     "text": [
      "Episode 8250, Score: 17.764, Avg Score (last 100): 76.203, Epsilon: 0.022, Elapsed Time: 5559.69 seconds\n"
     ]
    },
    {
     "name": "stderr",
     "output_type": "stream",
     "text": [
      " 83%|########2 | 8300/10000 [1:32:49<04:09,  6.80ep/s]"
     ]
    },
    {
     "name": "stdout",
     "output_type": "stream",
     "text": [
      "Episode 8300, Score: 219.391, Avg Score (last 100): 44.790, Epsilon: 0.022, Elapsed Time: 5569.28 seconds\n"
     ]
    },
    {
     "name": "stderr",
     "output_type": "stream",
     "text": [
      " 84%|########3 | 8351/10000 [1:32:59<06:24,  4.29ep/s]"
     ]
    },
    {
     "name": "stdout",
     "output_type": "stream",
     "text": [
      "Episode 8350, Score: 178.951, Avg Score (last 100): 40.946, Epsilon: 0.021, Elapsed Time: 5579.23 seconds\n"
     ]
    },
    {
     "name": "stderr",
     "output_type": "stream",
     "text": [
      " 84%|########4 | 8400/10000 [1:33:13<07:14,  3.68ep/s]"
     ]
    },
    {
     "name": "stdout",
     "output_type": "stream",
     "text": [
      "Episode 8400, Score: 19.206, Avg Score (last 100): 74.046, Epsilon: 0.021, Elapsed Time: 5593.26 seconds\n"
     ]
    },
    {
     "name": "stderr",
     "output_type": "stream",
     "text": [
      " 84%|########4 | 8450/10000 [1:33:30<06:37,  3.90ep/s]"
     ]
    },
    {
     "name": "stdout",
     "output_type": "stream",
     "text": [
      "Episode 8450, Score: -56.226, Avg Score (last 100): 96.662, Epsilon: 0.020, Elapsed Time: 5610.17 seconds\n"
     ]
    },
    {
     "name": "stderr",
     "output_type": "stream",
     "text": [
      " 85%|########5 | 8500/10000 [1:33:47<06:35,  3.79ep/s]"
     ]
    },
    {
     "name": "stdout",
     "output_type": "stream",
     "text": [
      "Episode 8500, Score: 249.709, Avg Score (last 100): 119.419, Epsilon: 0.020, Elapsed Time: 5627.70 seconds\n"
     ]
    },
    {
     "name": "stderr",
     "output_type": "stream",
     "text": [
      " 86%|########5 | 8551/10000 [1:34:00<04:35,  5.25ep/s]"
     ]
    },
    {
     "name": "stdout",
     "output_type": "stream",
     "text": [
      "Episode 8550, Score: 192.578, Avg Score (last 100): 74.676, Epsilon: 0.019, Elapsed Time: 5640.35 seconds\n"
     ]
    },
    {
     "name": "stderr",
     "output_type": "stream",
     "text": [
      " 86%|########6 | 8600/10000 [1:34:18<08:17,  2.82ep/s]"
     ]
    },
    {
     "name": "stdout",
     "output_type": "stream",
     "text": [
      "Episode 8600, Score: 245.915, Avg Score (last 100): 82.837, Epsilon: 0.019, Elapsed Time: 5658.15 seconds\n"
     ]
    },
    {
     "name": "stderr",
     "output_type": "stream",
     "text": [
      " 86%|########6 | 8650/10000 [1:34:35<05:42,  3.94ep/s]"
     ]
    },
    {
     "name": "stdout",
     "output_type": "stream",
     "text": [
      "Episode 8650, Score: 6.738, Avg Score (last 100): 170.911, Epsilon: 0.019, Elapsed Time: 5675.02 seconds\n"
     ]
    },
    {
     "name": "stderr",
     "output_type": "stream",
     "text": [
      " 87%|########7 | 8701/10000 [1:35:01<07:22,  2.93ep/s]"
     ]
    },
    {
     "name": "stdout",
     "output_type": "stream",
     "text": [
      "Episode 8700, Score: 269.112, Avg Score (last 100): 179.455, Epsilon: 0.018, Elapsed Time: 5701.43 seconds\n"
     ]
    },
    {
     "name": "stderr",
     "output_type": "stream",
     "text": [
      " 88%|########7 | 8750/10000 [1:35:19<13:45,  1.51ep/s]"
     ]
    },
    {
     "name": "stdout",
     "output_type": "stream",
     "text": [
      "Episode 8750, Score: 208.546, Avg Score (last 100): 134.616, Epsilon: 0.018, Elapsed Time: 5719.35 seconds\n"
     ]
    },
    {
     "name": "stderr",
     "output_type": "stream",
     "text": [
      " 88%|########8 | 8800/10000 [1:35:38<09:45,  2.05ep/s]"
     ]
    },
    {
     "name": "stdout",
     "output_type": "stream",
     "text": [
      "Episode 8800, Score: -18.568, Avg Score (last 100): 130.828, Epsilon: 0.017, Elapsed Time: 5738.55 seconds\n"
     ]
    },
    {
     "name": "stderr",
     "output_type": "stream",
     "text": [
      " 88%|########8 | 8850/10000 [1:35:58<09:59,  1.92ep/s]"
     ]
    },
    {
     "name": "stdout",
     "output_type": "stream",
     "text": [
      "Episode 8850, Score: 211.212, Avg Score (last 100): 144.724, Epsilon: 0.017, Elapsed Time: 5758.60 seconds\n"
     ]
    },
    {
     "name": "stderr",
     "output_type": "stream",
     "text": [
      " 89%|########9 | 8900/10000 [1:36:18<09:11,  2.00ep/s]"
     ]
    },
    {
     "name": "stdout",
     "output_type": "stream",
     "text": [
      "Episode 8900, Score: 257.442, Avg Score (last 100): 158.895, Epsilon: 0.017, Elapsed Time: 5778.24 seconds\n"
     ]
    },
    {
     "name": "stderr",
     "output_type": "stream",
     "text": [
      " 90%|########9 | 8950/10000 [1:36:42<05:45,  3.04ep/s]"
     ]
    },
    {
     "name": "stdout",
     "output_type": "stream",
     "text": [
      "Episode 8950, Score: 258.690, Avg Score (last 100): 170.593, Epsilon: 0.016, Elapsed Time: 5802.13 seconds\n"
     ]
    },
    {
     "name": "stderr",
     "output_type": "stream",
     "text": [
      " 90%|######### | 9000/10000 [1:36:59<03:13,  5.18ep/s]"
     ]
    },
    {
     "name": "stdout",
     "output_type": "stream",
     "text": [
      "Episode 9000, Score: -36.830, Avg Score (last 100): 90.606, Epsilon: 0.016, Elapsed Time: 5819.24 seconds\n"
     ]
    },
    {
     "name": "stderr",
     "output_type": "stream",
     "text": [
      " 90%|######### | 9050/10000 [1:37:17<05:25,  2.92ep/s]"
     ]
    },
    {
     "name": "stdout",
     "output_type": "stream",
     "text": [
      "Episode 9050, Score: 240.777, Avg Score (last 100): 75.243, Epsilon: 0.015, Elapsed Time: 5837.45 seconds\n"
     ]
    },
    {
     "name": "stderr",
     "output_type": "stream",
     "text": [
      " 91%|#########1| 9100/10000 [1:37:47<13:00,  1.15ep/s]"
     ]
    },
    {
     "name": "stdout",
     "output_type": "stream",
     "text": [
      "Episode 9100, Score: 102.994, Avg Score (last 100): 158.200, Epsilon: 0.015, Elapsed Time: 5867.42 seconds\n"
     ]
    },
    {
     "name": "stderr",
     "output_type": "stream",
     "text": [
      " 92%|#########1| 9150/10000 [1:38:08<04:09,  3.41ep/s]"
     ]
    },
    {
     "name": "stdout",
     "output_type": "stream",
     "text": [
      "Episode 9150, Score: 225.739, Avg Score (last 100): 204.855, Epsilon: 0.015, Elapsed Time: 5888.52 seconds\n"
     ]
    },
    {
     "name": "stderr",
     "output_type": "stream",
     "text": [
      " 92%|#########2| 9200/10000 [1:38:33<12:23,  1.08ep/s]"
     ]
    },
    {
     "name": "stdout",
     "output_type": "stream",
     "text": [
      "Episode 9200, Score: -65.282, Avg Score (last 100): 217.429, Epsilon: 0.014, Elapsed Time: 5913.82 seconds\n"
     ]
    },
    {
     "name": "stderr",
     "output_type": "stream",
     "text": [
      " 92%|#########2| 9250/10000 [1:38:57<05:41,  2.20ep/s]"
     ]
    },
    {
     "name": "stdout",
     "output_type": "stream",
     "text": [
      "Episode 9250, Score: 189.479, Avg Score (last 100): 206.028, Epsilon: 0.014, Elapsed Time: 5937.03 seconds\n"
     ]
    },
    {
     "name": "stderr",
     "output_type": "stream",
     "text": [
      " 93%|#########3| 9301/10000 [1:39:16<02:30,  4.64ep/s]"
     ]
    },
    {
     "name": "stdout",
     "output_type": "stream",
     "text": [
      "Episode 9300, Score: 247.284, Avg Score (last 100): 176.366, Epsilon: 0.014, Elapsed Time: 5955.94 seconds\n"
     ]
    },
    {
     "name": "stderr",
     "output_type": "stream",
     "text": [
      " 94%|#########3| 9350/10000 [1:39:33<02:25,  4.45ep/s]"
     ]
    },
    {
     "name": "stdout",
     "output_type": "stream",
     "text": [
      "Episode 9350, Score: -47.959, Avg Score (last 100): 152.469, Epsilon: 0.013, Elapsed Time: 5973.96 seconds\n"
     ]
    },
    {
     "name": "stderr",
     "output_type": "stream",
     "text": [
      " 94%|#########3| 9400/10000 [1:39:49<02:09,  4.64ep/s]"
     ]
    },
    {
     "name": "stdout",
     "output_type": "stream",
     "text": [
      "Episode 9400, Score: -220.519, Avg Score (last 100): 145.636, Epsilon: 0.013, Elapsed Time: 5989.42 seconds\n"
     ]
    },
    {
     "name": "stderr",
     "output_type": "stream",
     "text": [
      " 94%|#########4| 9450/10000 [1:40:05<02:08,  4.29ep/s]"
     ]
    },
    {
     "name": "stdout",
     "output_type": "stream",
     "text": [
      "Episode 9450, Score: 250.494, Avg Score (last 100): 134.957, Epsilon: 0.013, Elapsed Time: 6005.09 seconds\n"
     ]
    },
    {
     "name": "stderr",
     "output_type": "stream",
     "text": [
      " 95%|#########5| 9500/10000 [1:40:23<03:02,  2.74ep/s]"
     ]
    },
    {
     "name": "stdout",
     "output_type": "stream",
     "text": [
      "Episode 9500, Score: 265.009, Avg Score (last 100): 148.749, Epsilon: 0.013, Elapsed Time: 6023.90 seconds\n"
     ]
    },
    {
     "name": "stderr",
     "output_type": "stream",
     "text": [
      " 96%|#########5| 9550/10000 [1:40:41<03:02,  2.46ep/s]"
     ]
    },
    {
     "name": "stdout",
     "output_type": "stream",
     "text": [
      "Episode 9550, Score: 261.433, Avg Score (last 100): 202.704, Epsilon: 0.012, Elapsed Time: 6041.63 seconds\n"
     ]
    },
    {
     "name": "stderr",
     "output_type": "stream",
     "text": [
      " 96%|#########6| 9600/10000 [1:41:00<02:35,  2.57ep/s]"
     ]
    },
    {
     "name": "stdout",
     "output_type": "stream",
     "text": [
      "Episode 9600, Score: 228.250, Avg Score (last 100): 230.025, Epsilon: 0.012, Elapsed Time: 6060.01 seconds\n"
     ]
    },
    {
     "name": "stderr",
     "output_type": "stream",
     "text": [
      " 96%|#########6| 9650/10000 [1:41:18<01:41,  3.46ep/s]"
     ]
    },
    {
     "name": "stdout",
     "output_type": "stream",
     "text": [
      "Episode 9650, Score: 56.474, Avg Score (last 100): 224.639, Epsilon: 0.012, Elapsed Time: 6078.65 seconds\n"
     ]
    },
    {
     "name": "stderr",
     "output_type": "stream",
     "text": [
      " 97%|#########7| 9700/10000 [1:41:44<04:02,  1.24ep/s]"
     ]
    },
    {
     "name": "stdout",
     "output_type": "stream",
     "text": [
      "Episode 9700, Score: 123.744, Avg Score (last 100): 220.711, Epsilon: 0.011, Elapsed Time: 6104.55 seconds\n"
     ]
    },
    {
     "name": "stderr",
     "output_type": "stream",
     "text": [
      " 98%|#########7| 9751/10000 [1:42:06<02:46,  1.49ep/s]"
     ]
    },
    {
     "name": "stdout",
     "output_type": "stream",
     "text": [
      "Episode 9750, Score: 137.888, Avg Score (last 100): 218.522, Epsilon: 0.011, Elapsed Time: 6126.79 seconds\n"
     ]
    },
    {
     "name": "stderr",
     "output_type": "stream",
     "text": [
      " 98%|#########8| 9800/10000 [1:42:30<01:43,  1.93ep/s]"
     ]
    },
    {
     "name": "stdout",
     "output_type": "stream",
     "text": [
      "Episode 9800, Score: 265.941, Avg Score (last 100): 218.022, Epsilon: 0.011, Elapsed Time: 6150.33 seconds\n"
     ]
    },
    {
     "name": "stderr",
     "output_type": "stream",
     "text": [
      " 98%|#########8| 9850/10000 [1:42:48<01:08,  2.19ep/s]"
     ]
    },
    {
     "name": "stdout",
     "output_type": "stream",
     "text": [
      "Episode 9850, Score: 267.855, Avg Score (last 100): 218.302, Epsilon: 0.011, Elapsed Time: 6168.36 seconds\n"
     ]
    },
    {
     "name": "stderr",
     "output_type": "stream",
     "text": [
      " 99%|#########9| 9900/10000 [1:43:05<00:27,  3.70ep/s]"
     ]
    },
    {
     "name": "stdout",
     "output_type": "stream",
     "text": [
      "Episode 9900, Score: 244.968, Avg Score (last 100): 226.719, Epsilon: 0.010, Elapsed Time: 6185.03 seconds\n"
     ]
    },
    {
     "name": "stderr",
     "output_type": "stream",
     "text": [
      "100%|#########9| 9950/10000 [1:43:23<00:15,  3.21ep/s]"
     ]
    },
    {
     "name": "stdout",
     "output_type": "stream",
     "text": [
      "Episode 9950, Score: 315.598, Avg Score (last 100): 206.494, Epsilon: 0.010, Elapsed Time: 6203.90 seconds\n",
      "====Saving the best model====\n"
     ]
    },
    {
     "name": "stderr",
     "output_type": "stream",
     "text": [
      "100%|##########| 10000/10000 [1:43:43<00:00,  1.61ep/s]"
     ]
    },
    {
     "name": "stdout",
     "output_type": "stream",
     "text": [
      "Episode 10000, Score: 260.471, Avg Score (last 100): 184.861, Epsilon: 0.010, Elapsed Time: 6223.03 seconds\n",
      "\n",
      "Done!\n"
     ]
    },
    {
     "name": "stderr",
     "output_type": "stream",
     "text": [
      "\n"
     ]
    }
   ],
   "source": [
    "env = gym.make('LunarLander-v2')\n",
    "num_states = env.observation_space.shape[0]\n",
    "num_actions = env.action_space.n\n",
    "\n",
    "agent = DQN(\n",
    "    n_states=num_states,\n",
    "    n_actions=num_actions,\n",
    "    batch_size=batch_size,\n",
    "    lr=lr,\n",
    "    gamma=gamma,\n",
    "    memory_size=memory_size,\n",
    "    learn_step=learn_step,\n",
    "    tau=tau,\n",
    "    device=device\n",
    ")\n",
    "\n",
    "score_hist, avg_score_hist = agent.train(env, n_episodes=episode)\n"
   ]
  },
  {
   "cell_type": "code",
   "execution_count": 17,
   "metadata": {},
   "outputs": [
    {
     "data": {
      "image/png": "[encoded data removed]",
      "text/plain": [
       "<Figure size 1500x400 with 1 Axes>"
      ]
     },
     "metadata": {},
     "output_type": "display_data"
    }
   ],
   "source": [
    "plot_score(score_hist, avg_score_hist, save_path='DQN_2_layer.png')\n",
    "\n",
    "if str(device) == \"cuda\":\n",
    "    torch.cuda.empty_cache()"
   ]
  },
  {
   "cell_type": "code",
   "execution_count": 13,
   "metadata": {},
   "outputs": [],
   "source": [
    "if str(device) == \"cuda\":\n",
    "    torch.cuda.empty_cache()"
   ]
  },
  {
   "cell_type": "code",
   "execution_count": 34,
   "metadata": {},
   "outputs": [
    {
     "data": {
      "text/plain": [
       "<function torch.nn.modules.module.Module.named_children(self) -> Iterator[Tuple[str, ForwardRef('Module')]]>"
      ]
     },
     "execution_count": 34,
     "metadata": {},
     "output_type": "execute_result"
    }
   ],
   "source": [
    "Qnet."
   ]
  },
  {
   "cell_type": "code",
   "execution_count": null,
   "metadata": {},
   "outputs": [],
   "source": []
  },
  {
   "cell_type": "code",
   "execution_count": null,
   "metadata": {},
   "outputs": [],
   "source": []
  },
  {
   "cell_type": "code",
   "execution_count": null,
   "metadata": {},
   "outputs": [],
   "source": []
  },
  {
   "cell_type": "code",
   "execution_count": null,
   "metadata": {},
   "outputs": [],
   "source": []
  },
  {
   "cell_type": "code",
   "execution_count": null,
   "metadata": {},
   "outputs": [],
   "source": []
  },
  {
   "cell_type": "code",
   "execution_count": 9,
   "metadata": {},
   "outputs": [],
   "source": [
    "from pyvirtualdisplay import Display\n",
    "from moviepy.editor import ImageSequenceClip"
   ]
  },
  {
   "cell_type": "code",
   "execution_count": 10,
   "metadata": {},
   "outputs": [
    {
     "name": "stdout",
     "output_type": "stream",
     "text": [
      "cuda\n"
     ]
    }
   ],
   "source": [
    "batch_size = 64\n",
    "lr = 1e-3\n",
    "episode = 10000\n",
    "gamma = 0.999            # discount factor\n",
    "memory_size = 10000     # max memory buffer size\n",
    "learn_step = 5          # how often to learn\n",
    "tau = 1e-4              # for soft update of target parameters\n",
    "num_states = env.observation_space.shape[0]\n",
    "num_actions = env.action_space.n\n",
    "print(device)"
   ]
  },
  {
   "cell_type": "code",
   "execution_count": 11,
   "metadata": {},
   "outputs": [],
   "source": [
    "loaded_agent = DQN(num_states, num_actions, batch_size, lr, gamma,\n",
    "                   memory_size, learn_step, tau, device)"
   ]
  },
  {
   "cell_type": "code",
   "execution_count": 42,
   "metadata": {},
   "outputs": [],
   "source": [
    "# 저장된 모델 불러오기\n",
    "loaded_agent = DQN(num_states, num_actions, batch_size, lr, gamma,\n",
    "                   memory_size, learn_step, tau, device)\n",
    "model_path = \"best_model.pth\"\n",
    "\n",
    "# 모델을 초기화하고 상태를 불러옴\n",
    "loaded_agent.net_eval.load_state_dict(torch.load(model_path))\n",
    "loaded_agent.net_eval.eval()  # 평가 모드로 설정\n",
    "\n",
    "env = gym.make('LunarLander-v2') "
   ]
  },
  {
   "cell_type": "code",
   "execution_count": 43,
   "metadata": {},
   "outputs": [],
   "source": [
    "import os\n",
    "import imageio\n",
    "from PIL import Image, ImageDraw, ImageFont\n",
    "\n",
    "# Function to create a GIF from a list of frames\n",
    "def create_gif(frames, filename, fps=60):\n",
    "    imageio.mimsave(filename, frames, fps=fps)\n",
    "\n",
    "# Function to add text to an image\n",
    "def add_text_to_image(img, text, position=(20, 20), font_size=18, fill_color=(255, 255, 255)):\n",
    "    img = Image.fromarray(img)\n",
    "    font = ImageFont.truetype('arial.ttf', font_size)\n",
    "    draw = ImageDraw.Draw(img)\n",
    "    draw.text(position, text, font=font, fill=fill_color)\n",
    "    return np.array(img)"
   ]
  },
  {
   "cell_type": "code",
   "execution_count": 56,
   "metadata": {},
   "outputs": [
    {
     "name": "stdout",
     "output_type": "stream",
     "text": [
      "Rendering skipped. Trying again...\n",
      "Rendering skipped. Trying again...\n",
      "Rendering skipped. Trying again...\n",
      "Rendering skipped. Trying again...\n",
      "Rendering skipped. Trying again...\n",
      "Rendering skipped. Trying again...\n",
      "Rendering skipped. Trying again...\n",
      "Rendering skipped. Trying again...\n",
      "Rendering skipped. Trying again...\n",
      "Rendering skipped. Trying again...\n",
      "Rendering skipped. Trying again...\n",
      "Rendering skipped. Trying again...\n",
      "Rendering skipped. Trying again...\n",
      "Rendering skipped. Trying again...\n",
      "Rendering skipped. Trying again...\n",
      "Rendering skipped. Trying again...\n",
      "Rendering skipped. Trying again...\n",
      "Rendering skipped. Trying again...\n",
      "Rendering skipped. Trying again...\n",
      "Rendering skipped. Trying again...\n",
      "Rendering skipped. Trying again...\n",
      "Rendering skipped. Trying again...\n",
      "Rendering skipped. Trying again...\n",
      "Rendering skipped. Trying again...\n",
      "Rendering skipped. Trying again...\n",
      "Rendering skipped. Trying again...\n",
      "Rendering skipped. Trying again...\n",
      "Rendering skipped. Trying again...\n",
      "Rendering skipped. Trying again...\n",
      "Rendering skipped. Trying again...\n",
      "Rendering skipped. Trying again...\n",
      "Rendering skipped. Trying again...\n",
      "Rendering skipped. Trying again...\n",
      "Rendering skipped. Trying again...\n",
      "Rendering skipped. Trying again...\n",
      "Rendering skipped. Trying again...\n",
      "Rendering skipped. Trying again...\n",
      "Rendering skipped. Trying again...\n",
      "Rendering skipped. Trying again...\n",
      "Rendering skipped. Trying again...\n",
      "Rendering skipped. Trying again...\n",
      "Rendering skipped. Trying again...\n",
      "Rendering skipped. Trying again...\n",
      "Rendering skipped. Trying again...\n",
      "Rendering skipped. Trying again...\n",
      "Rendering skipped. Trying again...\n",
      "Rendering skipped. Trying again...\n",
      "Rendering skipped. Trying again...\n",
      "Rendering skipped. Trying again...\n",
      "Rendering skipped. Trying again...\n",
      "Rendering skipped. Trying again...\n",
      "Rendering skipped. Trying again...\n",
      "Rendering skipped. Trying again...\n",
      "Rendering skipped. Trying again...\n",
      "Rendering skipped. Trying again...\n",
      "Rendering skipped. Trying again...\n",
      "Rendering skipped. Trying again...\n",
      "Rendering skipped. Trying again...\n",
      "Rendering skipped. Trying again...\n",
      "Rendering skipped. Trying again...\n",
      "Rendering skipped. Trying again...\n",
      "Rendering skipped. Trying again...\n",
      "Rendering skipped. Trying again...\n",
      "Rendering skipped. Trying again...\n",
      "Rendering skipped. Trying again...\n",
      "Rendering skipped. Trying again...\n",
      "Rendering skipped. Trying again...\n",
      "Rendering skipped. Trying again...\n",
      "Rendering skipped. Trying again...\n",
      "Rendering skipped. Trying again...\n",
      "Rendering skipped. Trying again...\n",
      "Rendering skipped. Trying again...\n",
      "Rendering skipped. Trying again...\n",
      "Rendering skipped. Trying again...\n",
      "Rendering skipped. Trying again...\n",
      "Rendering skipped. Trying again...\n",
      "Rendering skipped. Trying again...\n",
      "Rendering skipped. Trying again...\n",
      "Rendering skipped. Trying again...\n",
      "Rendering skipped. Trying again...\n",
      "Rendering skipped. Trying again...\n",
      "Rendering skipped. Trying again...\n",
      "Rendering skipped. Trying again...\n",
      "Rendering skipped. Trying again...\n",
      "Rendering skipped. Trying again...\n",
      "Rendering skipped. Trying again...\n",
      "Rendering skipped. Trying again...\n",
      "Rendering skipped. Trying again...\n",
      "Rendering skipped. Trying again...\n",
      "Rendering skipped. Trying again...\n",
      "Rendering skipped. Trying again...\n",
      "Rendering skipped. Trying again...\n",
      "Rendering skipped. Trying again...\n",
      "Rendering skipped. Trying again...\n",
      "Rendering skipped. Trying again...\n",
      "Rendering skipped. Trying again...\n",
      "Rendering skipped. Trying again...\n",
      "Rendering skipped. Trying again...\n",
      "Rendering skipped. Trying again...\n",
      "Rendering skipped. Trying again...\n",
      "Rendering skipped. Trying again...\n",
      "Rendering skipped. Trying again...\n",
      "Rendering skipped. Trying again...\n",
      "Rendering skipped. Trying again...\n",
      "Rendering skipped. Trying again...\n",
      "Rendering skipped. Trying again...\n",
      "Rendering skipped. Trying again...\n",
      "Rendering skipped. Trying again...\n",
      "Rendering skipped. Trying again...\n",
      "Rendering skipped. Trying again...\n",
      "Rendering skipped. Trying again...\n",
      "Rendering skipped. Trying again...\n",
      "Rendering skipped. Trying again...\n",
      "Rendering skipped. Trying again...\n",
      "Rendering skipped. Trying again...\n",
      "Rendering skipped. Trying again...\n",
      "Rendering skipped. Trying again...\n",
      "Rendering skipped. Trying again...\n",
      "Rendering skipped. Trying again...\n",
      "Rendering skipped. Trying again...\n",
      "Rendering skipped. Trying again...\n",
      "Rendering skipped. Trying again...\n",
      "Rendering skipped. Trying again...\n",
      "Rendering skipped. Trying again...\n",
      "Rendering skipped. Trying again...\n",
      "Rendering skipped. Trying again...\n",
      "Rendering skipped. Trying again...\n",
      "Rendering skipped. Trying again...\n",
      "Rendering skipped. Trying again...\n",
      "Rendering skipped. Trying again...\n",
      "Rendering skipped. Trying again...\n",
      "Rendering skipped. Trying again...\n",
      "Rendering skipped. Trying again...\n",
      "Rendering skipped. Trying again...\n",
      "Rendering skipped. Trying again...\n",
      "Rendering skipped. Trying again...\n",
      "Rendering skipped. Trying again...\n",
      "Rendering skipped. Trying again...\n",
      "Rendering skipped. Trying again...\n",
      "Rendering skipped. Trying again...\n",
      "Rendering skipped. Trying again...\n",
      "Rendering skipped. Trying again...\n",
      "Rendering skipped. Trying again...\n",
      "Rendering skipped. Trying again...\n",
      "Rendering skipped. Trying again...\n",
      "Rendering skipped. Trying again...\n",
      "Rendering skipped. Trying again...\n",
      "Rendering skipped. Trying again...\n",
      "Rendering skipped. Trying again...\n",
      "Rendering skipped. Trying again...\n",
      "Rendering skipped. Trying again...\n",
      "Rendering skipped. Trying again...\n",
      "Rendering skipped. Trying again...\n",
      "Rendering skipped. Trying again...\n",
      "Rendering skipped. Trying again...\n",
      "Rendering skipped. Trying again...\n",
      "Rendering skipped. Trying again...\n",
      "Rendering skipped. Trying again...\n",
      "Rendering skipped. Trying again...\n",
      "Rendering skipped. Trying again...\n",
      "Rendering skipped. Trying again...\n",
      "Rendering skipped. Trying again...\n",
      "Rendering skipped. Trying again...\n",
      "Rendering skipped. Trying again...\n",
      "Rendering skipped. Trying again...\n",
      "Rendering skipped. Trying again...\n",
      "Rendering skipped. Trying again...\n",
      "Rendering skipped. Trying again...\n",
      "Rendering skipped. Trying again...\n",
      "Rendering skipped. Trying again...\n",
      "Rendering skipped. Trying again...\n",
      "Rendering skipped. Trying again...\n",
      "Rendering skipped. Trying again...\n",
      "Rendering skipped. Trying again...\n",
      "Rendering skipped. Trying again...\n",
      "Rendering skipped. Trying again...\n",
      "Rendering skipped. Trying again...\n",
      "Rendering skipped. Trying again...\n",
      "Rendering skipped. Trying again...\n",
      "Rendering skipped. Trying again...\n",
      "Rendering skipped. Trying again...\n",
      "Rendering skipped. Trying again...\n",
      "Rendering skipped. Trying again...\n",
      "Rendering skipped. Trying again...\n",
      "Rendering skipped. Trying again...\n",
      "Rendering skipped. Trying again...\n",
      "Rendering skipped. Trying again...\n",
      "Rendering skipped. Trying again...\n",
      "Rendering skipped. Trying again...\n",
      "Rendering skipped. Trying again...\n",
      "Rendering skipped. Trying again...\n",
      "Rendering skipped. Trying again...\n",
      "Rendering skipped. Trying again...\n",
      "Rendering skipped. Trying again...\n",
      "Rendering skipped. Trying again...\n",
      "Rendering skipped. Trying again...\n",
      "Rendering skipped. Trying again...\n",
      "Rendering skipped. Trying again...\n",
      "Rendering skipped. Trying again...\n",
      "Rendering skipped. Trying again...\n",
      "Rendering skipped. Trying again...\n",
      "Rendering skipped. Trying again...\n",
      "Rendering skipped. Trying again...\n",
      "Rendering skipped. Trying again...\n",
      "Rendering skipped. Trying again...\n",
      "Rendering skipped. Trying again...\n",
      "Rendering skipped. Trying again...\n",
      "Rendering skipped. Trying again...\n",
      "Rendering skipped. Trying again...\n",
      "Rendering skipped. Trying again...\n",
      "Rendering skipped. Trying again...\n",
      "Rendering skipped. Trying again...\n",
      "Rendering skipped. Trying again...\n",
      "Rendering skipped. Trying again...\n",
      "Rendering skipped. Trying again...\n",
      "Rendering skipped. Trying again...\n",
      "Rendering skipped. Trying again...\n",
      "Rendering skipped. Trying again...\n",
      "Rendering skipped. Trying again...\n",
      "Rendering skipped. Trying again...\n",
      "Rendering skipped. Trying again...\n",
      "Rendering skipped. Trying again...\n",
      "Rendering skipped. Trying again...\n",
      "Rendering skipped. Trying again...\n",
      "Rendering skipped. Trying again...\n",
      "Rendering skipped. Trying again...\n",
      "Rendering skipped. Trying again...\n",
      "Rendering skipped. Trying again...\n",
      "Rendering skipped. Trying again...\n",
      "Rendering skipped. Trying again...\n",
      "Rendering skipped. Trying again...\n",
      "Rendering skipped. Trying again...\n",
      "Rendering skipped. Trying again...\n",
      "Rendering skipped. Trying again...\n",
      "Rendering skipped. Trying again...\n",
      "Rendering skipped. Trying again...\n",
      "Rendering skipped. Trying again...\n",
      "Rendering skipped. Trying again...\n",
      "Rendering skipped. Trying again...\n",
      "Rendering skipped. Trying again...\n",
      "Rendering skipped. Trying again...\n",
      "Rendering skipped. Trying again...\n",
      "Rendering skipped. Trying again...\n",
      "Rendering skipped. Trying again...\n",
      "Rendering skipped. Trying again...\n",
      "Rendering skipped. Trying again...\n",
      "Rendering skipped. Trying again...\n",
      "Rendering skipped. Trying again...\n",
      "Rendering skipped. Trying again...\n",
      "Rendering skipped. Trying again...\n",
      "Rendering skipped. Trying again...\n",
      "Rendering skipped. Trying again...\n",
      "Rendering skipped. Trying again...\n",
      "Rendering skipped. Trying again...\n",
      "Rendering skipped. Trying again...\n",
      "Rendering skipped. Trying again...\n",
      "Rendering skipped. Trying again...\n",
      "Rendering skipped. Trying again...\n",
      "Rendering skipped. Trying again...\n",
      "Rendering skipped. Trying again...\n",
      "Rendering skipped. Trying again...\n",
      "Rendering skipped. Trying again...\n",
      "Rendering skipped. Trying again...\n",
      "Rendering skipped. Trying again...\n",
      "Rendering skipped. Trying again...\n",
      "Rendering skipped. Trying again...\n",
      "Rendering skipped. Trying again...\n",
      "Rendering skipped. Trying again...\n",
      "Rendering skipped. Trying again...\n",
      "Rendering skipped. Trying again...\n",
      "Rendering skipped. Trying again...\n",
      "Rendering skipped. Trying again...\n",
      "Rendering skipped. Trying again...\n",
      "Rendering skipped. Trying again...\n",
      "Rendering skipped. Trying again...\n",
      "Rendering skipped. Trying again...\n",
      "Rendering skipped. Trying again...\n",
      "Rendering skipped. Trying again...\n",
      "Rendering skipped. Trying again...\n",
      "Rendering skipped. Trying again...\n",
      "Rendering skipped. Trying again...\n",
      "Rendering skipped. Trying again...\n",
      "Rendering skipped. Trying again...\n",
      "Rendering skipped. Trying again...\n",
      "Rendering skipped. Trying again...\n",
      "Rendering skipped. Trying again...\n",
      "Rendering skipped. Trying again...\n",
      "Rendering skipped. Trying again...\n",
      "Rendering skipped. Trying again...\n",
      "Rendering skipped. Trying again...\n",
      "Rendering skipped. Trying again...\n",
      "Rendering skipped. Trying again...\n",
      "Rendering skipped. Trying again...\n",
      "Rendering skipped. Trying again...\n",
      "Rendering skipped. Trying again...\n",
      "Rendering skipped. Trying again...\n",
      "Rendering skipped. Trying again...\n",
      "Rendering skipped. Trying again...\n",
      "Rendering skipped. Trying again...\n",
      "Rendering skipped. Trying again...\n",
      "Rendering skipped. Trying again...\n",
      "Rendering skipped. Trying again...\n",
      "Rendering skipped. Trying again...\n",
      "Rendering skipped. Trying again...\n",
      "Rendering skipped. Trying again...\n",
      "Rendering skipped. Trying again...\n",
      "Rendering skipped. Trying again...\n",
      "Rendering skipped. Trying again...\n",
      "Rendering skipped. Trying again...\n",
      "Rendering skipped. Trying again...\n",
      "Rendering skipped. Trying again...\n",
      "Rendering skipped. Trying again...\n",
      "Rendering skipped. Trying again...\n",
      "Rendering skipped. Trying again...\n",
      "Rendering skipped. Trying again...\n",
      "Rendering skipped. Trying again...\n",
      "Rendering skipped. Trying again...\n",
      "Rendering skipped. Trying again...\n",
      "Rendering skipped. Trying again...\n",
      "Rendering skipped. Trying again...\n",
      "Rendering skipped. Trying again...\n",
      "Rendering skipped. Trying again...\n",
      "Rendering skipped. Trying again...\n",
      "Rendering skipped. Trying again...\n",
      "Rendering skipped. Trying again...\n",
      "Rendering skipped. Trying again...\n",
      "Rendering skipped. Trying again...\n",
      "Rendering skipped. Trying again...\n",
      "Rendering skipped. Trying again...\n",
      "Rendering skipped. Trying again...\n",
      "Rendering skipped. Trying again...\n",
      "Rendering skipped. Trying again...\n",
      "Rendering skipped. Trying again...\n",
      "Rendering skipped. Trying again...\n",
      "Rendering skipped. Trying again...\n",
      "Rendering skipped. Trying again...\n",
      "Rendering skipped. Trying again...\n",
      "Rendering skipped. Trying again...\n",
      "Rendering skipped. Trying again...\n",
      "Rendering skipped. Trying again...\n",
      "Rendering skipped. Trying again...\n",
      "Rendering skipped. Trying again...\n",
      "Rendering skipped. Trying again...\n",
      "Rendering skipped. Trying again...\n",
      "Rendering skipped. Trying again...\n",
      "Rendering skipped. Trying again...\n",
      "Rendering skipped. Trying again...\n",
      "Rendering skipped. Trying again...\n",
      "Rendering skipped. Trying again...\n",
      "Rendering skipped. Trying again...\n",
      "Rendering skipped. Trying again...\n",
      "Rendering skipped. Trying again...\n",
      "Rendering skipped. Trying again...\n",
      "Rendering skipped. Trying again...\n",
      "Rendering skipped. Trying again...\n",
      "Rendering skipped. Trying again...\n",
      "Rendering skipped. Trying again...\n",
      "Rendering skipped. Trying again...\n",
      "Rendering skipped. Trying again...\n",
      "Rendering skipped. Trying again...\n",
      "Rendering skipped. Trying again...\n",
      "Rendering skipped. Trying again...\n",
      "Rendering skipped. Trying again...\n",
      "Rendering skipped. Trying again...\n",
      "Rendering skipped. Trying again...\n",
      "Rendering skipped. Trying again...\n",
      "Rendering skipped. Trying again...\n",
      "Rendering skipped. Trying again...\n",
      "Rendering skipped. Trying again...\n",
      "Rendering skipped. Trying again...\n",
      "Rendering skipped. Trying again...\n",
      "Rendering skipped. Trying again...\n",
      "Rendering skipped. Trying again...\n",
      "Rendering skipped. Trying again...\n",
      "Rendering skipped. Trying again...\n",
      "Rendering skipped. Trying again...\n",
      "Rendering skipped. Trying again...\n",
      "Rendering skipped. Trying again...\n",
      "Rendering skipped. Trying again...\n",
      "Rendering skipped. Trying again...\n",
      "Rendering skipped. Trying again...\n",
      "Rendering skipped. Trying again...\n",
      "Rendering skipped. Trying again...\n",
      "Rendering skipped. Trying again...\n",
      "Rendering skipped. Trying again...\n",
      "Rendering skipped. Trying again...\n",
      "Rendering skipped. Trying again...\n",
      "Rendering skipped. Trying again...\n",
      "Rendering skipped. Trying again...\n",
      "Rendering skipped. Trying again...\n",
      "Rendering skipped. Trying again...\n",
      "Rendering skipped. Trying again...\n",
      "Rendering skipped. Trying again...\n",
      "Rendering skipped. Trying again...\n",
      "Rendering skipped. Trying again...\n",
      "Rendering skipped. Trying again...\n",
      "Rendering skipped. Trying again...\n",
      "Rendering skipped. Trying again...\n",
      "Rendering skipped. Trying again...\n",
      "Rendering skipped. Trying again...\n",
      "Rendering skipped. Trying again...\n",
      "Rendering skipped. Trying again...\n",
      "Rendering skipped. Trying again...\n",
      "Rendering skipped. Trying again...\n",
      "Rendering skipped. Trying again...\n",
      "Rendering skipped. Trying again...\n",
      "Rendering skipped. Trying again...\n",
      "Rendering skipped. Trying again...\n",
      "Rendering skipped. Trying again...\n",
      "Rendering skipped. Trying again...\n",
      "Rendering skipped. Trying again...\n",
      "Rendering skipped. Trying again...\n",
      "Rendering skipped. Trying again...\n",
      "Rendering skipped. Trying again...\n",
      "Rendering skipped. Trying again...\n",
      "Rendering skipped. Trying again...\n",
      "Rendering skipped. Trying again...\n",
      "Rendering skipped. Trying again...\n",
      "Rendering skipped. Trying again...\n",
      "Rendering skipped. Trying again...\n",
      "Rendering skipped. Trying again...\n",
      "Rendering skipped. Trying again...\n",
      "Rendering skipped. Trying again...\n",
      "Rendering skipped. Trying again...\n",
      "Rendering skipped. Trying again...\n",
      "Rendering skipped. Trying again...\n",
      "Rendering skipped. Trying again...\n",
      "Rendering skipped. Trying again...\n",
      "Rendering skipped. Trying again...\n",
      "Rendering skipped. Trying again...\n",
      "Rendering skipped. Trying again...\n",
      "Rendering skipped. Trying again...\n",
      "Rendering skipped. Trying again...\n",
      "Rendering skipped. Trying again...\n",
      "Rendering skipped. Trying again...\n",
      "Rendering skipped. Trying again...\n",
      "Rendering skipped. Trying again...\n",
      "Rendering skipped. Trying again...\n",
      "Rendering skipped. Trying again...\n",
      "Rendering skipped. Trying again...\n",
      "Rendering skipped. Trying again...\n",
      "Rendering skipped. Trying again...\n",
      "Rendering skipped. Trying again...\n",
      "Rendering skipped. Trying again...\n",
      "Rendering skipped. Trying again...\n",
      "Rendering skipped. Trying again...\n",
      "Rendering skipped. Trying again...\n",
      "Rendering skipped. Trying again...\n",
      "Rendering skipped. Trying again...\n",
      "Rendering skipped. Trying again...\n",
      "Rendering skipped. Trying again...\n",
      "Rendering skipped. Trying again...\n",
      "Rendering skipped. Trying again...\n",
      "Rendering skipped. Trying again...\n",
      "Rendering skipped. Trying again...\n",
      "Rendering skipped. Trying again...\n",
      "Rendering skipped. Trying again...\n",
      "Rendering skipped. Trying again...\n",
      "Rendering skipped. Trying again...\n",
      "Rendering skipped. Trying again...\n",
      "Rendering skipped. Trying again...\n",
      "Rendering skipped. Trying again...\n",
      "Rendering skipped. Trying again...\n",
      "Rendering skipped. Trying again...\n",
      "Rendering skipped. Trying again...\n",
      "Rendering skipped. Trying again...\n",
      "Rendering skipped. Trying again...\n",
      "Rendering skipped. Trying again...\n",
      "Rendering skipped. Trying again...\n",
      "Rendering skipped. Trying again...\n",
      "Rendering skipped. Trying again...\n",
      "Rendering skipped. Trying again...\n",
      "Rendering skipped. Trying again...\n",
      "Rendering skipped. Trying again...\n",
      "Rendering skipped. Trying again...\n",
      "Rendering skipped. Trying again...\n",
      "Rendering skipped. Trying again...\n",
      "Rendering skipped. Trying again...\n",
      "Rendering skipped. Trying again...\n",
      "Rendering skipped. Trying again...\n",
      "Rendering skipped. Trying again...\n",
      "Rendering skipped. Trying again...\n",
      "Rendering skipped. Trying again...\n",
      "Rendering skipped. Trying again...\n",
      "Rendering skipped. Trying again...\n",
      "Rendering skipped. Trying again...\n",
      "Rendering skipped. Trying again...\n",
      "Rendering skipped. Trying again...\n",
      "Rendering skipped. Trying again...\n",
      "Rendering skipped. Trying again...\n",
      "Rendering skipped. Trying again...\n",
      "Rendering skipped. Trying again...\n",
      "Rendering skipped. Trying again...\n",
      "Rendering skipped. Trying again...\n",
      "Rendering skipped. Trying again...\n",
      "Rendering skipped. Trying again...\n",
      "Rendering skipped. Trying again...\n",
      "Rendering skipped. Trying again...\n",
      "Rendering skipped. Trying again...\n",
      "Rendering skipped. Trying again...\n",
      "Rendering skipped. Trying again...\n",
      "Rendering skipped. Trying again...\n",
      "Rendering skipped. Trying again...\n",
      "Rendering skipped. Trying again...\n",
      "Rendering skipped. Trying again...\n",
      "Rendering skipped. Trying again...\n",
      "Rendering skipped. Trying again...\n",
      "Rendering skipped. Trying again...\n",
      "Rendering skipped. Trying again...\n",
      "Rendering skipped. Trying again...\n",
      "Rendering skipped. Trying again...\n",
      "Rendering skipped. Trying again...\n",
      "Rendering skipped. Trying again...\n",
      "Rendering skipped. Trying again...\n",
      "Rendering skipped. Trying again...\n",
      "Rendering skipped. Trying again...\n",
      "Rendering skipped. Trying again...\n",
      "Rendering skipped. Trying again...\n",
      "Rendering skipped. Trying again...\n",
      "Rendering skipped. Trying again...\n",
      "Rendering skipped. Trying again...\n",
      "Rendering skipped. Trying again...\n",
      "Rendering skipped. Trying again...\n",
      "Rendering skipped. Trying again...\n",
      "Rendering skipped. Trying again...\n",
      "Rendering skipped. Trying again...\n",
      "Rendering skipped. Trying again...\n",
      "Rendering skipped. Trying again...\n",
      "Rendering skipped. Trying again...\n",
      "Rendering skipped. Trying again...\n",
      "Rendering skipped. Trying again...\n",
      "Rendering skipped. Trying again...\n",
      "Rendering skipped. Trying again...\n",
      "Rendering skipped. Trying again...\n",
      "Rendering skipped. Trying again...\n",
      "Rendering skipped. Trying again...\n",
      "Rendering skipped. Trying again...\n",
      "Rendering skipped. Trying again...\n",
      "Rendering skipped. Trying again...\n",
      "Rendering skipped. Trying again...\n",
      "Rendering skipped. Trying again...\n",
      "Rendering skipped. Trying again...\n",
      "Rendering skipped. Trying again...\n",
      "Rendering skipped. Trying again...\n",
      "Rendering skipped. Trying again...\n",
      "Rendering skipped. Trying again...\n",
      "Rendering skipped. Trying again...\n",
      "Rendering skipped. Trying again...\n",
      "Rendering skipped. Trying again...\n",
      "Rendering skipped. Trying again...\n",
      "Rendering skipped. Trying again...\n",
      "Rendering skipped. Trying again...\n",
      "Rendering skipped. Trying again...\n",
      "Rendering skipped. Trying again...\n",
      "Rendering skipped. Trying again...\n",
      "Rendering skipped. Trying again...\n",
      "Rendering skipped. Trying again...\n",
      "Rendering skipped. Trying again...\n",
      "Rendering skipped. Trying again...\n",
      "Rendering skipped. Trying again...\n",
      "Rendering skipped. Trying again...\n",
      "Rendering skipped. Trying again...\n",
      "Rendering skipped. Trying again...\n",
      "Rendering skipped. Trying again...\n",
      "Rendering skipped. Trying again...\n",
      "Rendering skipped. Trying again...\n",
      "Rendering skipped. Trying again...\n",
      "Rendering skipped. Trying again...\n",
      "Rendering skipped. Trying again...\n",
      "Rendering skipped. Trying again...\n",
      "Rendering skipped. Trying again...\n",
      "Rendering skipped. Trying again...\n",
      "Rendering skipped. Trying again...\n",
      "Rendering skipped. Trying again...\n",
      "Rendering skipped. Trying again...\n",
      "Rendering skipped. Trying again...\n",
      "Rendering skipped. Trying again...\n",
      "Rendering skipped. Trying again...\n",
      "Rendering skipped. Trying again...\n",
      "Rendering skipped. Trying again...\n",
      "Rendering skipped. Trying again...\n",
      "Rendering skipped. Trying again...\n",
      "Rendering skipped. Trying again...\n",
      "Rendering skipped. Trying again...\n",
      "Rendering skipped. Trying again...\n",
      "Rendering skipped. Trying again...\n",
      "Rendering skipped. Trying again...\n",
      "Rendering skipped. Trying again...\n",
      "Rendering skipped. Trying again...\n",
      "Rendering skipped. Trying again...\n",
      "Rendering skipped. Trying again...\n",
      "Rendering skipped. Trying again...\n",
      "Rendering skipped. Trying again...\n",
      "Rendering skipped. Trying again...\n",
      "Rendering skipped. Trying again...\n",
      "Rendering skipped. Trying again...\n",
      "Rendering skipped. Trying again...\n",
      "Rendering skipped. Trying again...\n",
      "Rendering skipped. Trying again...\n",
      "Rendering skipped. Trying again...\n",
      "Rendering skipped. Trying again...\n",
      "Rendering skipped. Trying again...\n",
      "Rendering skipped. Trying again...\n",
      "Rendering skipped. Trying again...\n",
      "Rendering skipped. Trying again...\n",
      "Rendering skipped. Trying again...\n",
      "Rendering skipped. Trying again...\n",
      "Rendering skipped. Trying again...\n",
      "Rendering skipped. Trying again...\n",
      "Rendering skipped. Trying again...\n",
      "Rendering skipped. Trying again...\n",
      "Rendering skipped. Trying again...\n",
      "Rendering skipped. Trying again...\n",
      "Rendering skipped. Trying again...\n",
      "Rendering skipped. Trying again...\n",
      "Rendering skipped. Trying again...\n",
      "Rendering skipped. Trying again...\n",
      "Rendering skipped. Trying again...\n",
      "Rendering skipped. Trying again...\n",
      "Rendering skipped. Trying again...\n",
      "Rendering skipped. Trying again...\n",
      "Rendering skipped. Trying again...\n",
      "Rendering skipped. Trying again...\n",
      "Rendering skipped. Trying again...\n",
      "Rendering skipped. Trying again...\n",
      "Rendering skipped. Trying again...\n",
      "Rendering skipped. Trying again...\n",
      "Rendering skipped. Trying again...\n",
      "Rendering skipped. Trying again...\n",
      "Rendering skipped. Trying again...\n",
      "Rendering skipped. Trying again...\n",
      "Rendering skipped. Trying again...\n",
      "Rendering skipped. Trying again...\n",
      "Rendering skipped. Trying again...\n",
      "Rendering skipped. Trying again...\n",
      "Rendering skipped. Trying again...\n",
      "Rendering skipped. Trying again...\n",
      "Rendering skipped. Trying again...\n",
      "Rendering skipped. Trying again...\n",
      "Rendering skipped. Trying again...\n",
      "Rendering skipped. Trying again...\n",
      "Rendering skipped. Trying again...\n",
      "Rendering skipped. Trying again...\n",
      "Rendering skipped. Trying again...\n",
      "Rendering skipped. Trying again...\n",
      "Rendering skipped. Trying again...\n",
      "Rendering skipped. Trying again...\n",
      "Rendering skipped. Trying again...\n",
      "Rendering skipped. Trying again...\n",
      "Rendering skipped. Trying again...\n",
      "Rendering skipped. Trying again...\n",
      "Rendering skipped. Trying again...\n",
      "Rendering skipped. Trying again...\n",
      "Rendering skipped. Trying again...\n",
      "Rendering skipped. Trying again...\n",
      "Rendering skipped. Trying again...\n",
      "Rendering skipped. Trying again...\n",
      "Rendering skipped. Trying again...\n",
      "Rendering skipped. Trying again...\n",
      "Rendering skipped. Trying again...\n",
      "Rendering skipped. Trying again...\n",
      "Rendering skipped. Trying again...\n",
      "Rendering skipped. Trying again...\n",
      "Rendering skipped. Trying again...\n",
      "Rendering skipped. Trying again...\n",
      "Rendering skipped. Trying again...\n",
      "Rendering skipped. Trying again...\n",
      "Rendering skipped. Trying again...\n",
      "Rendering skipped. Trying again...\n",
      "Rendering skipped. Trying again...\n",
      "Rendering skipped. Trying again...\n",
      "Rendering skipped. Trying again...\n",
      "Rendering skipped. Trying again...\n",
      "Rendering skipped. Trying again...\n",
      "Rendering skipped. Trying again...\n",
      "Rendering skipped. Trying again...\n",
      "Rendering skipped. Trying again...\n",
      "Rendering skipped. Trying again...\n",
      "Rendering skipped. Trying again...\n",
      "Rendering skipped. Trying again...\n",
      "Rendering skipped. Trying again...\n",
      "Rendering skipped. Trying again...\n",
      "Rendering skipped. Trying again...\n",
      "Rendering skipped. Trying again...\n",
      "Rendering skipped. Trying again...\n",
      "Rendering skipped. Trying again...\n",
      "Rendering skipped. Trying again...\n",
      "Rendering skipped. Trying again...\n",
      "Rendering skipped. Trying again...\n",
      "Rendering skipped. Trying again...\n",
      "Rendering skipped. Trying again...\n",
      "Rendering skipped. Trying again...\n",
      "Rendering skipped. Trying again...\n",
      "Rendering skipped. Trying again...\n",
      "Rendering skipped. Trying again...\n",
      "Rendering skipped. Trying again...\n",
      "Rendering skipped. Trying again...\n",
      "Rendering skipped. Trying again...\n",
      "Rendering skipped. Trying again...\n",
      "Rendering skipped. Trying again...\n",
      "Rendering skipped. Trying again...\n",
      "Rendering skipped. Trying again...\n",
      "Rendering skipped. Trying again...\n",
      "Rendering skipped. Trying again...\n",
      "Rendering skipped. Trying again...\n",
      "Rendering skipped. Trying again...\n",
      "Rendering skipped. Trying again...\n",
      "Rendering skipped. Trying again...\n",
      "Rendering skipped. Trying again...\n",
      "Rendering skipped. Trying again...\n",
      "Rendering skipped. Trying again...\n",
      "Rendering skipped. Trying again...\n",
      "Rendering skipped. Trying again...\n",
      "Rendering skipped. Trying again...\n",
      "Rendering skipped. Trying again...\n",
      "Rendering skipped. Trying again...\n",
      "Rendering skipped. Trying again...\n",
      "Rendering skipped. Trying again...\n",
      "Rendering skipped. Trying again...\n",
      "Rendering skipped. Trying again...\n",
      "Rendering skipped. Trying again...\n",
      "Rendering skipped. Trying again...\n",
      "Rendering skipped. Trying again...\n",
      "Rendering skipped. Trying again...\n",
      "Rendering skipped. Trying again...\n",
      "Rendering skipped. Trying again...\n",
      "Rendering skipped. Trying again...\n",
      "Rendering skipped. Trying again...\n",
      "Rendering skipped. Trying again...\n",
      "Rendering skipped. Trying again...\n",
      "Rendering skipped. Trying again...\n",
      "Rendering skipped. Trying again...\n",
      "Rendering skipped. Trying again...\n",
      "Rendering skipped. Trying again...\n",
      "Rendering skipped. Trying again...\n",
      "Rendering skipped. Trying again...\n",
      "Rendering skipped. Trying again...\n",
      "Rendering skipped. Trying again...\n",
      "Rendering skipped. Trying again...\n",
      "Rendering skipped. Trying again...\n",
      "Rendering skipped. Trying again...\n",
      "Rendering skipped. Trying again...\n",
      "Rendering skipped. Trying again...\n",
      "Rendering skipped. Trying again...\n",
      "Rendering skipped. Trying again...\n",
      "Rendering skipped. Trying again...\n",
      "Rendering skipped. Trying again...\n",
      "Rendering skipped. Trying again...\n",
      "Rendering skipped. Trying again...\n",
      "Rendering skipped. Trying again...\n",
      "Rendering skipped. Trying again...\n",
      "Rendering skipped. Trying again...\n",
      "Rendering skipped. Trying again...\n",
      "Rendering skipped. Trying again...\n",
      "Rendering skipped. Trying again...\n",
      "Rendering skipped. Trying again...\n",
      "Rendering skipped. Trying again...\n",
      "Rendering skipped. Trying again...\n",
      "Rendering skipped. Trying again...\n",
      "Rendering skipped. Trying again...\n",
      "Rendering skipped. Trying again...\n",
      "Rendering skipped. Trying again...\n",
      "Rendering skipped. Trying again...\n",
      "Rendering skipped. Trying again...\n",
      "Rendering skipped. Trying again...\n",
      "Rendering skipped. Trying again...\n",
      "Rendering skipped. Trying again...\n",
      "Rendering skipped. Trying again...\n",
      "Rendering skipped. Trying again...\n",
      "Rendering skipped. Trying again...\n",
      "Rendering skipped. Trying again...\n",
      "Rendering skipped. Trying again...\n",
      "Rendering skipped. Trying again...\n",
      "Rendering skipped. Trying again...\n",
      "Rendering skipped. Trying again...\n",
      "Rendering skipped. Trying again...\n",
      "Rendering skipped. Trying again...\n",
      "Rendering skipped. Trying again...\n",
      "Rendering skipped. Trying again...\n",
      "Rendering skipped. Trying again...\n",
      "Rendering skipped. Trying again...\n",
      "Rendering skipped. Trying again...\n",
      "Rendering skipped. Trying again...\n",
      "Rendering skipped. Trying again...\n",
      "Rendering skipped. Trying again...\n",
      "Rendering skipped. Trying again...\n",
      "Rendering skipped. Trying again...\n",
      "Rendering skipped. Trying again...\n",
      "Rendering skipped. Trying again...\n",
      "Rendering skipped. Trying again...\n",
      "Rendering skipped. Trying again...\n",
      "Rendering skipped. Trying again...\n",
      "Rendering skipped. Trying again...\n",
      "Rendering skipped. Trying again...\n",
      "Rendering skipped. Trying again...\n",
      "Rendering skipped. Trying again...\n",
      "Rendering skipped. Trying again...\n",
      "Rendering skipped. Trying again...\n",
      "Rendering skipped. Trying again...\n",
      "Rendering skipped. Trying again...\n",
      "Rendering skipped. Trying again...\n",
      "Rendering skipped. Trying again...\n",
      "Rendering skipped. Trying again...\n",
      "Rendering skipped. Trying again...\n",
      "Rendering skipped. Trying again...\n",
      "Rendering skipped. Trying again...\n",
      "Rendering skipped. Trying again...\n",
      "Rendering skipped. Trying again...\n",
      "Rendering skipped. Trying again...\n",
      "Rendering skipped. Trying again...\n",
      "Rendering skipped. Trying again...\n",
      "Rendering skipped. Trying again...\n",
      "Rendering skipped. Trying again...\n",
      "Rendering skipped. Trying again...\n",
      "Rendering skipped. Trying again...\n",
      "Rendering skipped. Trying again...\n",
      "Rendering skipped. Trying again...\n",
      "Rendering skipped. Trying again...\n",
      "Rendering skipped. Trying again...\n",
      "Rendering skipped. Trying again...\n",
      "Rendering skipped. Trying again...\n",
      "Rendering skipped. Trying again...\n",
      "Rendering skipped. Trying again...\n",
      "Rendering skipped. Trying again...\n",
      "Rendering skipped. Trying again...\n",
      "Rendering skipped. Trying again...\n",
      "Rendering skipped. Trying again...\n",
      "Rendering skipped. Trying again...\n",
      "Rendering skipped. Trying again...\n",
      "Rendering skipped. Trying again...\n",
      "Rendering skipped. Trying again...\n",
      "Rendering skipped. Trying again...\n",
      "Rendering skipped. Trying again...\n",
      "Rendering skipped. Trying again...\n",
      "Rendering skipped. Trying again...\n",
      "Rendering skipped. Trying again...\n",
      "Rendering skipped. Trying again...\n",
      "Rendering skipped. Trying again...\n",
      "Rendering skipped. Trying again...\n",
      "Rendering skipped. Trying again...\n",
      "Rendering skipped. Trying again...\n",
      "Rendering skipped. Trying again...\n",
      "Rendering skipped. Trying again...\n",
      "Rendering skipped. Trying again...\n",
      "Rendering skipped. Trying again...\n",
      "Rendering skipped. Trying again...\n",
      "Rendering skipped. Trying again...\n",
      "Rendering skipped. Trying again...\n",
      "Rendering skipped. Trying again...\n",
      "Rendering skipped. Trying again...\n",
      "Rendering skipped. Trying again...\n",
      "Rendering skipped. Trying again...\n",
      "Rendering skipped. Trying again...\n",
      "Rendering skipped. Trying again...\n",
      "Rendering skipped. Trying again...\n",
      "Rendering skipped. Trying again...\n",
      "Rendering skipped. Trying again...\n",
      "Rendering skipped. Trying again...\n",
      "Rendering skipped. Trying again...\n",
      "Rendering skipped. Trying again...\n",
      "Rendering skipped. Trying again...\n",
      "Rendering skipped. Trying again...\n",
      "Rendering skipped. Trying again...\n",
      "Rendering skipped. Trying again...\n",
      "Rendering skipped. Trying again...\n",
      "Rendering skipped. Trying again...\n",
      "Rendering skipped. Trying again...\n",
      "Rendering skipped. Trying again...\n",
      "Rendering skipped. Trying again...\n",
      "Rendering skipped. Trying again...\n",
      "Rendering skipped. Trying again...\n",
      "Rendering skipped. Trying again...\n",
      "Rendering skipped. Trying again...\n",
      "Rendering skipped. Trying again...\n",
      "Rendering skipped. Trying again...\n",
      "Rendering skipped. Trying again...\n",
      "Rendering skipped. Trying again...\n",
      "Rendering skipped. Trying again...\n",
      "Rendering skipped. Trying again...\n",
      "Rendering skipped. Trying again...\n",
      "Rendering skipped. Trying again...\n",
      "Rendering skipped. Trying again...\n",
      "Rendering skipped. Trying again...\n",
      "Rendering skipped. Trying again...\n",
      "Rendering skipped. Trying again...\n",
      "Rendering skipped. Trying again...\n",
      "Rendering skipped. Trying again...\n",
      "Rendering skipped. Trying again...\n",
      "Rendering skipped. Trying again...\n",
      "Rendering skipped. Trying again...\n",
      "Rendering skipped. Trying again...\n",
      "Rendering skipped. Trying again...\n",
      "Rendering skipped. Trying again...\n",
      "Rendering skipped. Trying again...\n",
      "Rendering skipped. Trying again...\n",
      "Rendering skipped. Trying again...\n",
      "Rendering skipped. Trying again...\n",
      "Rendering skipped. Trying again...\n",
      "Rendering skipped. Trying again...\n",
      "Rendering skipped. Trying again...\n",
      "Rendering skipped. Trying again...\n",
      "Rendering skipped. Trying again...\n",
      "Rendering skipped. Trying again...\n",
      "Rendering skipped. Trying again...\n",
      "Rendering skipped. Trying again...\n",
      "Rendering skipped. Trying again...\n",
      "Rendering skipped. Trying again...\n",
      "Rendering skipped. Trying again...\n",
      "Rendering skipped. Trying again...\n",
      "Rendering skipped. Trying again...\n",
      "Rendering skipped. Trying again...\n",
      "Rendering skipped. Trying again...\n",
      "Rendering skipped. Trying again...\n",
      "Rendering skipped. Trying again...\n",
      "Rendering skipped. Trying again...\n",
      "Rendering skipped. Trying again...\n",
      "Rendering skipped. Trying again...\n",
      "Rendering skipped. Trying again...\n",
      "Rendering skipped. Trying again...\n",
      "Rendering skipped. Trying again...\n",
      "Rendering skipped. Trying again...\n",
      "Rendering skipped. Trying again...\n",
      "Rendering skipped. Trying again...\n",
      "Rendering skipped. Trying again...\n",
      "Rendering skipped. Trying again...\n",
      "Rendering skipped. Trying again...\n",
      "Rendering skipped. Trying again...\n",
      "Rendering skipped. Trying again...\n",
      "Rendering skipped. Trying again...\n",
      "Rendering skipped. Trying again...\n",
      "Rendering skipped. Trying again...\n",
      "Rendering skipped. Trying again...\n",
      "Rendering skipped. Trying again...\n",
      "Rendering skipped. Trying again...\n",
      "Rendering skipped. Trying again...\n",
      "Rendering skipped. Trying again...\n",
      "Rendering skipped. Trying again...\n",
      "Rendering skipped. Trying again...\n",
      "Rendering skipped. Trying again...\n",
      "Rendering skipped. Trying again...\n",
      "Rendering skipped. Trying again...\n",
      "Rendering skipped. Trying again...\n",
      "Rendering skipped. Trying again...\n",
      "Rendering skipped. Trying again...\n",
      "Rendering skipped. Trying again...\n",
      "Rendering skipped. Trying again...\n",
      "Rendering skipped. Trying again...\n",
      "Rendering skipped. Trying again...\n",
      "Rendering skipped. Trying again...\n",
      "Rendering skipped. Trying again...\n",
      "Rendering skipped. Trying again...\n",
      "Rendering skipped. Trying again...\n",
      "Rendering skipped. Trying again...\n",
      "Rendering skipped. Trying again...\n",
      "Rendering skipped. Trying again...\n",
      "Rendering skipped. Trying again...\n",
      "Rendering skipped. Trying again...\n",
      "Rendering skipped. Trying again...\n",
      "Rendering skipped. Trying again...\n",
      "Rendering skipped. Trying again...\n",
      "Rendering skipped. Trying again...\n",
      "Rendering skipped. Trying again...\n",
      "Rendering skipped. Trying again...\n",
      "Rendering skipped. Trying again...\n",
      "Rendering skipped. Trying again...\n",
      "Rendering skipped. Trying again...\n",
      "Rendering skipped. Trying again...\n",
      "Rendering skipped. Trying again...\n",
      "Rendering skipped. Trying again...\n",
      "Rendering skipped. Trying again...\n",
      "Rendering skipped. Trying again...\n",
      "Rendering skipped. Trying again...\n",
      "Rendering skipped. Trying again...\n",
      "Rendering skipped. Trying again...\n",
      "Rendering skipped. Trying again...\n",
      "Rendering skipped. Trying again...\n",
      "Rendering skipped. Trying again...\n",
      "Rendering skipped. Trying again...\n",
      "Rendering skipped. Trying again...\n",
      "Rendering skipped. Trying again...\n",
      "Rendering skipped. Trying again...\n",
      "Rendering skipped. Trying again...\n",
      "Rendering skipped. Trying again...\n",
      "Rendering skipped. Trying again...\n",
      "Rendering skipped. Trying again...\n",
      "Rendering skipped. Trying again...\n",
      "Rendering skipped. Trying again...\n",
      "Rendering skipped. Trying again...\n",
      "Rendering skipped. Trying again...\n",
      "Rendering skipped. Trying again...\n",
      "Rendering skipped. Trying again...\n",
      "Rendering skipped. Trying again...\n",
      "Rendering skipped. Trying again...\n",
      "Rendering skipped. Trying again...\n",
      "Rendering skipped. Trying again...\n",
      "Rendering skipped. Trying again...\n",
      "Rendering skipped. Trying again...\n",
      "Rendering skipped. Trying again...\n",
      "Rendering skipped. Trying again...\n",
      "Rendering skipped. Trying again...\n",
      "Rendering skipped. Trying again...\n",
      "Rendering skipped. Trying again...\n",
      "Rendering skipped. Trying again...\n",
      "Rendering skipped. Trying again...\n",
      "Rendering skipped. Trying again...\n",
      "Rendering skipped. Trying again...\n",
      "Rendering skipped. Trying again...\n",
      "Rendering skipped. Trying again...\n",
      "Rendering skipped. Trying again...\n",
      "Rendering skipped. Trying again...\n",
      "Rendering skipped. Trying again...\n",
      "Rendering skipped. Trying again...\n",
      "Rendering skipped. Trying again...\n",
      "Rendering skipped. Trying again...\n",
      "Rendering skipped. Trying again...\n",
      "Rendering skipped. Trying again...\n",
      "Rendering skipped. Trying again...\n",
      "Rendering skipped. Trying again...\n",
      "Rendering skipped. Trying again...\n",
      "Rendering skipped. Trying again...\n",
      "Rendering skipped. Trying again...\n",
      "Rendering skipped. Trying again...\n",
      "Rendering skipped. Trying again...\n",
      "Rendering skipped. Trying again...\n",
      "Rendering skipped. Trying again...\n",
      "Rendering skipped. Trying again...\n",
      "Rendering skipped. Trying again...\n",
      "Rendering skipped. Trying again...\n",
      "Rendering skipped. Trying again...\n",
      "Rendering skipped. Trying again...\n",
      "Rendering skipped. Trying again...\n",
      "Rendering skipped. Trying again...\n",
      "Rendering skipped. Trying again...\n",
      "Rendering skipped. Trying again...\n",
      "Rendering skipped. Trying again...\n",
      "Rendering skipped. Trying again...\n",
      "Rendering skipped. Trying again...\n",
      "Rendering skipped. Trying again...\n",
      "Rendering skipped. Trying again...\n",
      "Rendering skipped. Trying again...\n",
      "Rendering skipped. Trying again...\n",
      "Rendering skipped. Trying again...\n",
      "Rendering skipped. Trying again...\n",
      "Rendering skipped. Trying again...\n",
      "Rendering skipped. Trying again...\n",
      "Rendering skipped. Trying again...\n",
      "Rendering skipped. Trying again...\n",
      "Rendering skipped. Trying again...\n",
      "Rendering skipped. Trying again...\n",
      "Rendering skipped. Trying again...\n",
      "Rendering skipped. Trying again...\n",
      "Rendering skipped. Trying again...\n",
      "Rendering skipped. Trying again...\n",
      "Rendering skipped. Trying again...\n",
      "Rendering skipped. Trying again...\n",
      "Rendering skipped. Trying again...\n",
      "Rendering skipped. Trying again...\n",
      "Rendering skipped. Trying again...\n",
      "Rendering skipped. Trying again...\n",
      "Rendering skipped. Trying again...\n",
      "Rendering skipped. Trying again...\n",
      "Rendering skipped. Trying again...\n",
      "Rendering skipped. Trying again...\n",
      "Rendering skipped. Trying again...\n",
      "Rendering skipped. Trying again...\n",
      "Rendering skipped. Trying again...\n",
      "Rendering skipped. Trying again...\n",
      "Rendering skipped. Trying again...\n",
      "Rendering skipped. Trying again...\n",
      "Rendering skipped. Trying again...\n",
      "Rendering skipped. Trying again...\n",
      "Rendering skipped. Trying again...\n",
      "Rendering skipped. Trying again...\n",
      "Rendering skipped. Trying again...\n",
      "Rendering skipped. Trying again...\n",
      "Rendering skipped. Trying again...\n",
      "Rendering skipped. Trying again...\n",
      "Rendering skipped. Trying again...\n",
      "Rendering skipped. Trying again...\n",
      "Rendering skipped. Trying again...\n",
      "Rendering skipped. Trying again...\n",
      "Rendering skipped. Trying again...\n",
      "Rendering skipped. Trying again...\n",
      "Rendering skipped. Trying again...\n",
      "Rendering skipped. Trying again...\n",
      "Rendering skipped. Trying again...\n",
      "Rendering skipped. Trying again...\n",
      "Rendering skipped. Trying again...\n",
      "Rendering skipped. Trying again...\n",
      "Rendering skipped. Trying again...\n",
      "Rendering skipped. Trying again...\n",
      "Rendering skipped. Trying again...\n",
      "Rendering skipped. Trying again...\n",
      "Rendering skipped. Trying again...\n",
      "Rendering skipped. Trying again...\n",
      "Rendering skipped. Trying again...\n",
      "Rendering skipped. Trying again...\n",
      "Rendering skipped. Trying again...\n",
      "Rendering skipped. Trying again...\n",
      "Rendering skipped. Trying again...\n",
      "Rendering skipped. Trying again...\n",
      "Rendering skipped. Trying again...\n",
      "Rendering skipped. Trying again...\n",
      "Rendering skipped. Trying again...\n",
      "Rendering skipped. Trying again...\n",
      "Rendering skipped. Trying again...\n",
      "Rendering skipped. Trying again...\n",
      "Rendering skipped. Trying again...\n",
      "Rendering skipped. Trying again...\n",
      "Rendering skipped. Trying again...\n",
      "Rendering skipped. Trying again...\n",
      "Rendering skipped. Trying again...\n",
      "Rendering skipped. Trying again...\n",
      "Rendering skipped. Trying again...\n",
      "Rendering skipped. Trying again...\n",
      "Rendering skipped. Trying again...\n",
      "Rendering skipped. Trying again...\n",
      "Rendering skipped. Trying again...\n",
      "Rendering skipped. Trying again...\n",
      "Rendering skipped. Trying again...\n",
      "Rendering skipped. Trying again...\n",
      "Rendering skipped. Trying again...\n",
      "Rendering skipped. Trying again...\n",
      "Rendering skipped. Trying again...\n",
      "Rendering skipped. Trying again...\n",
      "Rendering skipped. Trying again...\n",
      "Rendering skipped. Trying again...\n",
      "Rendering skipped. Trying again...\n",
      "Rendering skipped. Trying again...\n",
      "Rendering skipped. Trying again...\n",
      "Rendering skipped. Trying again...\n",
      "Rendering skipped. Trying again...\n",
      "Rendering skipped. Trying again...\n",
      "Rendering skipped. Trying again...\n",
      "Rendering skipped. Trying again...\n",
      "Rendering skipped. Trying again...\n",
      "Rendering skipped. Trying again...\n",
      "Rendering skipped. Trying again...\n",
      "Rendering skipped. Trying again...\n",
      "Rendering skipped. Trying again...\n",
      "Rendering skipped. Trying again...\n",
      "Rendering skipped. Trying again...\n",
      "Rendering skipped. Trying again...\n",
      "Rendering skipped. Trying again...\n",
      "Rendering skipped. Trying again...\n",
      "Rendering skipped. Trying again...\n",
      "Rendering skipped. Trying again...\n",
      "Rendering skipped. Trying again...\n",
      "Rendering skipped. Trying again...\n",
      "Rendering skipped. Trying again...\n",
      "Rendering skipped. Trying again...\n",
      "Rendering skipped. Trying again...\n",
      "Rendering skipped. Trying again...\n",
      "Rendering skipped. Trying again...\n",
      "Rendering skipped. Trying again...\n",
      "Rendering skipped. Trying again...\n",
      "Rendering skipped. Trying again...\n",
      "Rendering skipped. Trying again...\n",
      "Rendering skipped. Trying again...\n",
      "Rendering skipped. Trying again...\n",
      "Rendering skipped. Trying again...\n",
      "Rendering skipped. Trying again...\n",
      "Rendering skipped. Trying again...\n",
      "Rendering skipped. Trying again...\n",
      "Rendering skipped. Trying again...\n",
      "Rendering skipped. Trying again...\n",
      "Rendering skipped. Trying again...\n",
      "Rendering skipped. Trying again...\n",
      "Rendering skipped. Trying again...\n",
      "Rendering skipped. Trying again...\n",
      "Rendering skipped. Trying again...\n",
      "Rendering skipped. Trying again...\n",
      "Rendering skipped. Trying again...\n",
      "Rendering skipped. Trying again...\n",
      "Rendering skipped. Trying again...\n",
      "Rendering skipped. Trying again...\n",
      "Rendering skipped. Trying again...\n",
      "Rendering skipped. Trying again...\n",
      "Rendering skipped. Trying again...\n",
      "Rendering skipped. Trying again...\n",
      "Rendering skipped. Trying again...\n",
      "Rendering skipped. Trying again...\n",
      "Rendering skipped. Trying again...\n",
      "Rendering skipped. Trying again...\n",
      "Rendering skipped. Trying again...\n",
      "Rendering skipped. Trying again...\n",
      "Rendering skipped. Trying again...\n",
      "Rendering skipped. Trying again...\n",
      "Rendering skipped. Trying again...\n",
      "Rendering skipped. Trying again...\n",
      "Rendering skipped. Trying again...\n",
      "Rendering skipped. Trying again...\n",
      "Rendering skipped. Trying again...\n",
      "Rendering skipped. Trying again...\n",
      "Rendering skipped. Trying again...\n",
      "Rendering skipped. Trying again...\n",
      "Rendering skipped. Trying again...\n",
      "Rendering skipped. Trying again...\n",
      "Rendering skipped. Trying again...\n",
      "Rendering skipped. Trying again...\n",
      "Rendering skipped. Trying again...\n",
      "Rendering skipped. Trying again...\n",
      "Rendering skipped. Trying again...\n",
      "Rendering skipped. Trying again...\n",
      "Rendering skipped. Trying again...\n",
      "Rendering skipped. Trying again...\n",
      "Rendering skipped. Trying again...\n",
      "Rendering skipped. Trying again...\n",
      "Rendering skipped. Trying again...\n",
      "Rendering skipped. Trying again...\n",
      "Rendering skipped. Trying again...\n",
      "Rendering skipped. Trying again...\n",
      "Rendering skipped. Trying again...\n",
      "Rendering skipped. Trying again...\n",
      "Rendering skipped. Trying again...\n",
      "Rendering skipped. Trying again...\n",
      "Rendering skipped. Trying again...\n",
      "Rendering skipped. Trying again...\n",
      "Rendering skipped. Trying again...\n",
      "Rendering skipped. Trying again...\n",
      "Rendering skipped. Trying again...\n",
      "Rendering skipped. Trying again...\n",
      "Rendering skipped. Trying again...\n",
      "Rendering skipped. Trying again...\n",
      "Rendering skipped. Trying again...\n",
      "Rendering skipped. Trying again...\n",
      "Rendering skipped. Trying again...\n",
      "Rendering skipped. Trying again...\n",
      "Rendering skipped. Trying again...\n",
      "Rendering skipped. Trying again...\n",
      "Rendering skipped. Trying again...\n",
      "Rendering skipped. Trying again...\n",
      "Rendering skipped. Trying again...\n",
      "Rendering skipped. Trying again...\n",
      "Rendering skipped. Trying again...\n",
      "Rendering skipped. Trying again...\n",
      "Rendering skipped. Trying again...\n",
      "Rendering skipped. Trying again...\n",
      "Rendering skipped. Trying again...\n",
      "Rendering skipped. Trying again...\n",
      "Rendering skipped. Trying again...\n",
      "Rendering skipped. Trying again...\n",
      "Rendering skipped. Trying again...\n",
      "Rendering skipped. Trying again...\n",
      "Rendering skipped. Trying again...\n",
      "Rendering skipped. Trying again...\n",
      "Rendering skipped. Trying again...\n",
      "Rendering skipped. Trying again...\n",
      "Rendering skipped. Trying again...\n",
      "Rendering skipped. Trying again...\n",
      "Rendering skipped. Trying again...\n",
      "Rendering skipped. Trying again...\n",
      "Rendering skipped. Trying again...\n",
      "Rendering skipped. Trying again...\n",
      "Rendering skipped. Trying again...\n",
      "Rendering skipped. Trying again...\n",
      "Rendering skipped. Trying again...\n",
      "Rendering skipped. Trying again...\n",
      "Rendering skipped. Trying again...\n",
      "Rendering skipped. Trying again...\n",
      "Rendering skipped. Trying again...\n",
      "Rendering skipped. Trying again...\n",
      "Rendering skipped. Trying again...\n",
      "Rendering skipped. Trying again...\n",
      "Rendering skipped. Trying again...\n",
      "Rendering skipped. Trying again...\n",
      "Rendering skipped. Trying again...\n",
      "Rendering skipped. Trying again...\n",
      "Rendering skipped. Trying again...\n",
      "Rendering skipped. Trying again...\n",
      "Rendering skipped. Trying again...\n",
      "Rendering skipped. Trying again...\n",
      "Rendering skipped. Trying again...\n",
      "Rendering skipped. Trying again...\n",
      "Rendering skipped. Trying again...\n",
      "Rendering skipped. Trying again...\n",
      "Rendering skipped. Trying again...\n",
      "Rendering skipped. Trying again...\n",
      "Rendering skipped. Trying again...\n",
      "Rendering skipped. Trying again...\n",
      "Rendering skipped. Trying again...\n",
      "Rendering skipped. Trying again...\n",
      "Rendering skipped. Trying again...\n",
      "Rendering skipped. Trying again...\n",
      "Rendering skipped. Trying again...\n",
      "Rendering skipped. Trying again...\n",
      "Rendering skipped. Trying again...\n",
      "Rendering skipped. Trying again...\n",
      "Rendering skipped. Trying again...\n",
      "Rendering skipped. Trying again...\n",
      "Rendering skipped. Trying again...\n",
      "Rendering skipped. Trying again...\n",
      "Rendering skipped. Trying again...\n",
      "Rendering skipped. Trying again...\n",
      "Rendering skipped. Trying again...\n",
      "Rendering skipped. Trying again...\n",
      "Rendering skipped. Trying again...\n",
      "Rendering skipped. Trying again...\n",
      "Rendering skipped. Trying again...\n",
      "Rendering skipped. Trying again...\n",
      "Rendering skipped. Trying again...\n",
      "Rendering skipped. Trying again...\n",
      "Rendering skipped. Trying again...\n",
      "Rendering skipped. Trying again...\n",
      "Rendering skipped. Trying again...\n",
      "Rendering skipped. Trying again...\n",
      "Rendering skipped. Trying again...\n",
      "Rendering skipped. Trying again...\n",
      "Rendering skipped. Trying again...\n",
      "Rendering skipped. Trying again...\n",
      "Rendering skipped. Trying again...\n",
      "Rendering skipped. Trying again...\n",
      "Rendering skipped. Trying again...\n",
      "Rendering skipped. Trying again...\n",
      "Rendering skipped. Trying again...\n",
      "Rendering skipped. Trying again...\n",
      "Rendering skipped. Trying again...\n",
      "Rendering skipped. Trying again...\n",
      "Rendering skipped. Trying again...\n",
      "Rendering skipped. Trying again...\n",
      "Rendering skipped. Trying again...\n",
      "Rendering skipped. Trying again...\n",
      "Rendering skipped. Trying again...\n",
      "Rendering skipped. Trying again...\n",
      "Rendering skipped. Trying again...\n",
      "Rendering skipped. Trying again...\n",
      "Rendering skipped. Trying again...\n",
      "Rendering skipped. Trying again...\n",
      "Rendering skipped. Trying again...\n",
      "Rendering skipped. Trying again...\n",
      "Rendering skipped. Trying again...\n",
      "Rendering skipped. Trying again...\n",
      "Rendering skipped. Trying again...\n",
      "Rendering skipped. Trying again...\n",
      "Rendering skipped. Trying again...\n",
      "Rendering skipped. Trying again...\n",
      "Rendering skipped. Trying again...\n",
      "Rendering skipped. Trying again...\n",
      "Rendering skipped. Trying again...\n",
      "Rendering skipped. Trying again...\n",
      "Rendering skipped. Trying again...\n",
      "Rendering skipped. Trying again...\n",
      "Rendering skipped. Trying again...\n",
      "Rendering skipped. Trying again...\n",
      "Rendering skipped. Trying again...\n",
      "Rendering skipped. Trying again...\n",
      "Rendering skipped. Trying again...\n",
      "Rendering skipped. Trying again...\n",
      "Rendering skipped. Trying again...\n",
      "Rendering skipped. Trying again...\n",
      "Rendering skipped. Trying again...\n",
      "Rendering skipped. Trying again...\n",
      "Rendering skipped. Trying again...\n",
      "Rendering skipped. Trying again...\n",
      "Rendering skipped. Trying again...\n",
      "Rendering skipped. Trying again...\n",
      "Rendering skipped. Trying again...\n",
      "Rendering skipped. Trying again...\n",
      "Rendering skipped. Trying again...\n",
      "Rendering skipped. Trying again...\n",
      "Rendering skipped. Trying again...\n",
      "Rendering skipped. Trying again...\n",
      "Rendering skipped. Trying again...\n",
      "Rendering skipped. Trying again...\n",
      "Rendering skipped. Trying again...\n",
      "Rendering skipped. Trying again...\n",
      "Rendering skipped. Trying again...\n",
      "Rendering skipped. Trying again...\n",
      "Rendering skipped. Trying again...\n",
      "Rendering skipped. Trying again...\n",
      "Rendering skipped. Trying again...\n",
      "Rendering skipped. Trying again...\n",
      "Rendering skipped. Trying again...\n",
      "Rendering skipped. Trying again...\n",
      "Rendering skipped. Trying again...\n",
      "Rendering skipped. Trying again...\n",
      "Rendering skipped. Trying again...\n",
      "Rendering skipped. Trying again...\n",
      "Rendering skipped. Trying again...\n",
      "Rendering skipped. Trying again...\n",
      "Rendering skipped. Trying again...\n",
      "Rendering skipped. Trying again...\n",
      "Rendering skipped. Trying again...\n",
      "Rendering skipped. Trying again...\n",
      "Rendering skipped. Trying again...\n",
      "Rendering skipped. Trying again...\n",
      "Rendering skipped. Trying again...\n",
      "Rendering skipped. Trying again...\n",
      "Rendering skipped. Trying again...\n",
      "Rendering skipped. Trying again...\n",
      "Rendering skipped. Trying again...\n",
      "Rendering skipped. Trying again...\n",
      "Rendering skipped. Trying again...\n",
      "Rendering skipped. Trying again...\n",
      "Rendering skipped. Trying again...\n",
      "Rendering skipped. Trying again...\n",
      "Rendering skipped. Trying again...\n",
      "Rendering skipped. Trying again...\n",
      "Rendering skipped. Trying again...\n",
      "Rendering skipped. Trying again...\n",
      "Rendering skipped. Trying again...\n",
      "Rendering skipped. Trying again...\n",
      "Rendering skipped. Trying again...\n",
      "Rendering skipped. Trying again...\n",
      "Rendering skipped. Trying again...\n",
      "Rendering skipped. Trying again...\n",
      "Rendering skipped. Trying again...\n",
      "Rendering skipped. Trying again...\n",
      "Rendering skipped. Trying again...\n",
      "Rendering skipped. Trying again...\n",
      "Rendering skipped. Trying again...\n",
      "Rendering skipped. Trying again...\n",
      "Rendering skipped. Trying again...\n",
      "Rendering skipped. Trying again...\n",
      "Rendering skipped. Trying again...\n",
      "Rendering skipped. Trying again...\n",
      "Rendering skipped. Trying again...\n",
      "Rendering skipped. Trying again...\n",
      "Rendering skipped. Trying again...\n",
      "Rendering skipped. Trying again...\n",
      "Rendering skipped. Trying again...\n",
      "Rendering skipped. Trying again...\n",
      "Rendering skipped. Trying again...\n",
      "Rendering skipped. Trying again...\n",
      "Rendering skipped. Trying again...\n",
      "Rendering skipped. Trying again...\n",
      "Rendering skipped. Trying again...\n",
      "Rendering skipped. Trying again...\n",
      "Rendering skipped. Trying again...\n",
      "Rendering skipped. Trying again...\n",
      "Rendering skipped. Trying again...\n",
      "Rendering skipped. Trying again...\n",
      "Rendering skipped. Trying again...\n",
      "Rendering skipped. Trying again...\n",
      "Rendering skipped. Trying again...\n",
      "Rendering skipped. Trying again...\n",
      "Rendering skipped. Trying again...\n",
      "Rendering skipped. Trying again...\n",
      "Rendering skipped. Trying again...\n",
      "Rendering skipped. Trying again...\n",
      "Rendering skipped. Trying again...\n",
      "Rendering skipped. Trying again...\n",
      "Rendering skipped. Trying again...\n",
      "Rendering skipped. Trying again...\n",
      "Rendering skipped. Trying again...\n",
      "Rendering skipped. Trying again...\n",
      "Rendering skipped. Trying again...\n",
      "Rendering skipped. Trying again...\n",
      "Rendering skipped. Trying again...\n",
      "Rendering skipped. Trying again...\n",
      "Rendering skipped. Trying again...\n",
      "Rendering skipped. Trying again...\n",
      "Rendering skipped. Trying again...\n",
      "Rendering skipped. Trying again...\n",
      "Rendering skipped. Trying again...\n",
      "Rendering skipped. Trying again...\n",
      "Rendering skipped. Trying again...\n",
      "Rendering skipped. Trying again...\n",
      "Rendering skipped. Trying again...\n",
      "Rendering skipped. Trying again...\n",
      "Rendering skipped. Trying again...\n",
      "Rendering skipped. Trying again...\n",
      "Rendering skipped. Trying again...\n",
      "Rendering skipped. Trying again...\n",
      "Rendering skipped. Trying again...\n",
      "Rendering skipped. Trying again...\n",
      "Rendering skipped. Trying again...\n",
      "Rendering skipped. Trying again...\n",
      "Rendering skipped. Trying again...\n",
      "Rendering skipped. Trying again...\n",
      "Rendering skipped. Trying again...\n",
      "Rendering skipped. Trying again...\n",
      "Rendering skipped. Trying again...\n",
      "Rendering skipped. Trying again...\n",
      "Rendering skipped. Trying again...\n",
      "Rendering skipped. Trying again...\n",
      "Rendering skipped. Trying again...\n",
      "Rendering skipped. Trying again...\n",
      "Rendering skipped. Trying again...\n",
      "Rendering skipped. Trying again...\n",
      "Rendering skipped. Trying again...\n",
      "Rendering skipped. Trying again...\n",
      "Rendering skipped. Trying again...\n",
      "Rendering skipped. Trying again...\n",
      "Rendering skipped. Trying again...\n",
      "Rendering skipped. Trying again...\n",
      "Rendering skipped. Trying again...\n",
      "Rendering skipped. Trying again...\n",
      "Rendering skipped. Trying again...\n",
      "Rendering skipped. Trying again...\n",
      "Rendering skipped. Trying again...\n",
      "Rendering skipped. Trying again...\n",
      "Rendering skipped. Trying again...\n",
      "Rendering skipped. Trying again...\n",
      "Rendering skipped. Trying again...\n",
      "Rendering skipped. Trying again...\n",
      "Rendering skipped. Trying again...\n",
      "Rendering skipped. Trying again...\n",
      "Rendering skipped. Trying again...\n",
      "Rendering skipped. Trying again...\n",
      "Rendering skipped. Trying again...\n",
      "Rendering skipped. Trying again...\n",
      "Rendering skipped. Trying again...\n",
      "Rendering skipped. Trying again...\n",
      "Rendering skipped. Trying again...\n",
      "Rendering skipped. Trying again...\n",
      "Rendering skipped. Trying again...\n",
      "Rendering skipped. Trying again...\n",
      "Rendering skipped. Trying again...\n",
      "Rendering skipped. Trying again...\n",
      "Rendering skipped. Trying again...\n",
      "Rendering skipped. Trying again...\n",
      "Rendering skipped. Trying again...\n",
      "Rendering skipped. Trying again...\n",
      "Rendering skipped. Trying again...\n",
      "Rendering skipped. Trying again...\n",
      "Rendering skipped. Trying again...\n",
      "Rendering skipped. Trying again...\n",
      "Rendering skipped. Trying again...\n",
      "Rendering skipped. Trying again...\n",
      "Rendering skipped. Trying again...\n",
      "Rendering skipped. Trying again...\n",
      "Rendering skipped. Trying again...\n",
      "Rendering skipped. Trying again...\n",
      "Rendering skipped. Trying again...\n",
      "Rendering skipped. Trying again...\n",
      "Rendering skipped. Trying again...\n",
      "Rendering skipped. Trying again...\n",
      "Rendering skipped. Trying again...\n",
      "Rendering skipped. Trying again...\n",
      "Rendering skipped. Trying again...\n",
      "Rendering skipped. Trying again...\n",
      "Rendering skipped. Trying again...\n",
      "Rendering skipped. Trying again...\n",
      "Rendering skipped. Trying again...\n",
      "Rendering skipped. Trying again...\n",
      "Rendering skipped. Trying again...\n",
      "Rendering skipped. Trying again...\n",
      "Rendering skipped. Trying again...\n",
      "Rendering skipped. Trying again...\n",
      "Rendering skipped. Trying again...\n",
      "Rendering skipped. Trying again...\n",
      "Rendering skipped. Trying again...\n",
      "Rendering skipped. Trying again...\n",
      "Rendering skipped. Trying again...\n",
      "Rendering skipped. Trying again...\n",
      "Rendering skipped. Trying again...\n",
      "Rendering skipped. Trying again...\n",
      "Rendering skipped. Trying again...\n",
      "Rendering skipped. Trying again...\n",
      "Rendering skipped. Trying again...\n",
      "Rendering skipped. Trying again...\n",
      "Rendering skipped. Trying again...\n",
      "Rendering skipped. Trying again...\n",
      "Rendering skipped. Trying again...\n",
      "Rendering skipped. Trying again...\n",
      "Rendering skipped. Trying again...\n",
      "Rendering skipped. Trying again...\n",
      "Rendering skipped. Trying again...\n",
      "Rendering skipped. Trying again...\n",
      "Rendering skipped. Trying again...\n",
      "Rendering skipped. Trying again...\n",
      "Rendering skipped. Trying again...\n",
      "Rendering skipped. Trying again...\n",
      "Rendering skipped. Trying again...\n",
      "Rendering skipped. Trying again...\n",
      "Rendering skipped. Trying again...\n",
      "Rendering skipped. Trying again...\n",
      "Rendering skipped. Trying again...\n",
      "Rendering skipped. Trying again...\n",
      "Rendering skipped. Trying again...\n",
      "Rendering skipped. Trying again...\n",
      "Rendering skipped. Trying again...\n",
      "Rendering skipped. Trying again...\n",
      "Rendering skipped. Trying again...\n",
      "Rendering skipped. Trying again...\n",
      "Rendering skipped. Trying again...\n",
      "Rendering skipped. Trying again...\n",
      "Rendering skipped. Trying again...\n",
      "Rendering skipped. Trying again...\n",
      "Rendering skipped. Trying again...\n",
      "Rendering skipped. Trying again...\n",
      "Rendering skipped. Trying again...\n",
      "Rendering skipped. Trying again...\n",
      "Rendering skipped. Trying again...\n",
      "Rendering skipped. Trying again...\n",
      "Rendering skipped. Trying again...\n",
      "Rendering skipped. Trying again...\n",
      "Rendering skipped. Trying again...\n",
      "Rendering skipped. Trying again...\n",
      "Rendering skipped. Trying again...\n",
      "Rendering skipped. Trying again...\n",
      "Rendering skipped. Trying again...\n",
      "Rendering skipped. Trying again...\n",
      "Rendering skipped. Trying again...\n",
      "Rendering skipped. Trying again...\n",
      "Rendering skipped. Trying again...\n",
      "Rendering skipped. Trying again...\n",
      "Rendering skipped. Trying again...\n",
      "Rendering skipped. Trying again...\n",
      "Rendering skipped. Trying again...\n",
      "Rendering skipped. Trying again...\n",
      "Rendering skipped. Trying again...\n",
      "Rendering skipped. Trying again...\n",
      "Rendering skipped. Trying again...\n",
      "Rendering skipped. Trying again...\n",
      "Rendering skipped. Trying again...\n",
      "Rendering skipped. Trying again...\n",
      "Rendering skipped. Trying again...\n",
      "Rendering skipped. Trying again...\n",
      "Rendering skipped. Trying again...\n",
      "Rendering skipped. Trying again...\n",
      "Rendering skipped. Trying again...\n",
      "Rendering skipped. Trying again...\n",
      "Rendering skipped. Trying again...\n",
      "Rendering skipped. Trying again...\n",
      "Rendering skipped. Trying again...\n",
      "Rendering skipped. Trying again...\n",
      "Rendering skipped. Trying again...\n",
      "Rendering skipped. Trying again...\n",
      "Rendering skipped. Trying again...\n",
      "Rendering skipped. Trying again...\n",
      "Rendering skipped. Trying again...\n",
      "Rendering skipped. Trying again...\n",
      "Rendering skipped. Trying again...\n",
      "Rendering skipped. Trying again...\n",
      "Rendering skipped. Trying again...\n",
      "Rendering skipped. Trying again...\n",
      "Rendering skipped. Trying again...\n",
      "Rendering skipped. Trying again...\n",
      "Rendering skipped. Trying again...\n",
      "Rendering skipped. Trying again...\n",
      "Rendering skipped. Trying again...\n",
      "Rendering skipped. Trying again...\n",
      "Rendering skipped. Trying again...\n",
      "Rendering skipped. Trying again...\n",
      "Rendering skipped. Trying again...\n",
      "Rendering skipped. Trying again...\n",
      "Rendering skipped. Trying again...\n",
      "Rendering skipped. Trying again...\n",
      "Rendering skipped. Trying again...\n",
      "Rendering skipped. Trying again...\n",
      "Rendering skipped. Trying again...\n",
      "Rendering skipped. Trying again...\n",
      "Rendering skipped. Trying again...\n",
      "Rendering skipped. Trying again...\n",
      "Rendering skipped. Trying again...\n",
      "Rendering skipped. Trying again...\n",
      "Rendering skipped. Trying again...\n",
      "Rendering skipped. Trying again...\n",
      "Rendering skipped. Trying again...\n",
      "Rendering skipped. Trying again...\n",
      "Rendering skipped. Trying again...\n",
      "Rendering skipped. Trying again...\n",
      "Rendering skipped. Trying again...\n",
      "Rendering skipped. Trying again...\n",
      "Rendering skipped. Trying again...\n",
      "Rendering skipped. Trying again...\n",
      "Rendering skipped. Trying again...\n",
      "Rendering skipped. Trying again...\n",
      "Rendering skipped. Trying again...\n",
      "Rendering skipped. Trying again...\n",
      "Rendering skipped. Trying again...\n",
      "Rendering skipped. Trying again...\n",
      "Rendering skipped. Trying again...\n",
      "Rendering skipped. Trying again...\n",
      "Rendering skipped. Trying again...\n",
      "Rendering skipped. Trying again...\n",
      "Rendering skipped. Trying again...\n",
      "Rendering skipped. Trying again...\n",
      "Rendering skipped. Trying again...\n",
      "Rendering skipped. Trying again...\n",
      "Rendering skipped. Trying again...\n",
      "Rendering skipped. Trying again...\n",
      "Rendering skipped. Trying again...\n",
      "Rendering skipped. Trying again...\n",
      "Rendering skipped. Trying again...\n",
      "Rendering skipped. Trying again...\n",
      "Rendering skipped. Trying again...\n",
      "Rendering skipped. Trying again...\n",
      "Rendering skipped. Trying again...\n",
      "Rendering skipped. Trying again...\n",
      "Rendering skipped. Trying again...\n",
      "Rendering skipped. Trying again...\n",
      "Rendering skipped. Trying again...\n",
      "Rendering skipped. Trying again...\n",
      "Rendering skipped. Trying again...\n",
      "Rendering skipped. Trying again...\n",
      "Rendering skipped. Trying again...\n",
      "Rendering skipped. Trying again...\n",
      "Rendering skipped. Trying again...\n",
      "Rendering skipped. Trying again...\n",
      "Rendering skipped. Trying again...\n",
      "Rendering skipped. Trying again...\n",
      "Rendering skipped. Trying again...\n",
      "Rendering skipped. Trying again...\n",
      "Rendering skipped. Trying again...\n",
      "Rendering skipped. Trying again...\n",
      "Rendering skipped. Trying again...\n",
      "Rendering skipped. Trying again...\n",
      "Rendering skipped. Trying again...\n",
      "Rendering skipped. Trying again...\n",
      "Rendering skipped. Trying again...\n",
      "Rendering skipped. Trying again...\n",
      "Rendering skipped. Trying again...\n",
      "Rendering skipped. Trying again...\n",
      "Rendering skipped. Trying again...\n",
      "Rendering skipped. Trying again...\n",
      "Rendering skipped. Trying again...\n",
      "Rendering skipped. Trying again...\n",
      "Rendering skipped. Trying again...\n",
      "Rendering skipped. Trying again...\n",
      "Rendering skipped. Trying again...\n",
      "Rendering skipped. Trying again...\n",
      "Rendering skipped. Trying again...\n",
      "Rendering skipped. Trying again...\n",
      "Rendering skipped. Trying again...\n",
      "Rendering skipped. Trying again...\n",
      "Rendering skipped. Trying again...\n",
      "Rendering skipped. Trying again...\n",
      "Rendering skipped. Trying again...\n",
      "Rendering skipped. Trying again...\n",
      "Rendering skipped. Trying again...\n",
      "Rendering skipped. Trying again...\n",
      "Rendering skipped. Trying again...\n",
      "Rendering skipped. Trying again...\n",
      "Rendering skipped. Trying again...\n",
      "Rendering skipped. Trying again...\n",
      "Rendering skipped. Trying again...\n",
      "Rendering skipped. Trying again...\n",
      "Rendering skipped. Trying again...\n",
      "Rendering skipped. Trying again...\n",
      "Rendering skipped. Trying again...\n",
      "Rendering skipped. Trying again...\n",
      "Rendering skipped. Trying again...\n",
      "Rendering skipped. Trying again...\n",
      "Rendering skipped. Trying again...\n",
      "Rendering skipped. Trying again...\n",
      "Rendering skipped. Trying again...\n",
      "Rendering skipped. Trying again...\n",
      "Rendering skipped. Trying again...\n",
      "Rendering skipped. Trying again...\n",
      "Rendering skipped. Trying again...\n",
      "Rendering skipped. Trying again...\n",
      "Rendering skipped. Trying again...\n",
      "Rendering skipped. Trying again...\n",
      "Rendering skipped. Trying again...\n",
      "Rendering skipped. Trying again...\n",
      "Rendering skipped. Trying again...\n",
      "Rendering skipped. Trying again...\n",
      "Rendering skipped. Trying again...\n",
      "Rendering skipped. Trying again...\n",
      "Rendering skipped. Trying again...\n",
      "Rendering skipped. Trying again...\n",
      "Rendering skipped. Trying again...\n",
      "Rendering skipped. Trying again...\n",
      "Rendering skipped. Trying again...\n",
      "Rendering skipped. Trying again...\n",
      "Rendering skipped. Trying again...\n",
      "Rendering skipped. Trying again...\n",
      "Rendering skipped. Trying again...\n",
      "Rendering skipped. Trying again...\n",
      "Rendering skipped. Trying again...\n",
      "Rendering skipped. Trying again...\n",
      "Rendering skipped. Trying again...\n",
      "Rendering skipped. Trying again...\n",
      "Rendering skipped. Trying again...\n",
      "Rendering skipped. Trying again...\n",
      "Rendering skipped. Trying again...\n",
      "Rendering skipped. Trying again...\n",
      "Rendering skipped. Trying again...\n",
      "Rendering skipped. Trying again...\n",
      "Rendering skipped. Trying again...\n",
      "Rendering skipped. Trying again...\n",
      "Rendering skipped. Trying again...\n",
      "Rendering skipped. Trying again...\n",
      "Rendering skipped. Trying again...\n",
      "Rendering skipped. Trying again...\n",
      "Rendering skipped. Trying again...\n",
      "Rendering skipped. Trying again...\n",
      "Rendering skipped. Trying again...\n",
      "Rendering skipped. Trying again...\n",
      "Rendering skipped. Trying again...\n",
      "Rendering skipped. Trying again...\n",
      "Rendering skipped. Trying again...\n",
      "Rendering skipped. Trying again...\n",
      "Rendering skipped. Trying again...\n",
      "Rendering skipped. Trying again...\n",
      "Rendering skipped. Trying again...\n",
      "Rendering skipped. Trying again...\n",
      "Rendering skipped. Trying again...\n",
      "Rendering skipped. Trying again...\n",
      "Rendering skipped. Trying again...\n",
      "Rendering skipped. Trying again...\n",
      "Rendering skipped. Trying again...\n",
      "Rendering skipped. Trying again...\n",
      "Rendering skipped. Trying again...\n",
      "Rendering skipped. Trying again...\n",
      "Rendering skipped. Trying again...\n",
      "Rendering skipped. Trying again...\n",
      "Rendering skipped. Trying again...\n",
      "Rendering skipped. Trying again...\n",
      "Rendering skipped. Trying again...\n",
      "Rendering skipped. Trying again...\n",
      "Rendering skipped. Trying again...\n",
      "Rendering skipped. Trying again...\n",
      "Rendering skipped. Trying again...\n",
      "Rendering skipped. Trying again...\n",
      "Rendering skipped. Trying again...\n",
      "Rendering skipped. Trying again...\n",
      "Rendering skipped. Trying again...\n",
      "Rendering skipped. Trying again...\n",
      "Rendering skipped. Trying again...\n",
      "Rendering skipped. Trying again...\n",
      "Rendering skipped. Trying again...\n",
      "Rendering skipped. Trying again...\n",
      "Rendering skipped. Trying again...\n",
      "Rendering skipped. Trying again...\n",
      "Rendering skipped. Trying again...\n",
      "Rendering skipped. Trying again...\n",
      "Rendering skipped. Trying again...\n",
      "Rendering skipped. Trying again...\n",
      "Rendering skipped. Trying again...\n",
      "Rendering skipped. Trying again...\n",
      "Rendering skipped. Trying again...\n",
      "Rendering skipped. Trying again...\n",
      "Rendering skipped. Trying again...\n",
      "Rendering skipped. Trying again...\n",
      "Rendering skipped. Trying again...\n",
      "Rendering skipped. Trying again...\n",
      "Rendering skipped. Trying again...\n",
      "Rendering skipped. Trying again...\n",
      "Rendering skipped. Trying again...\n",
      "Rendering skipped. Trying again...\n",
      "Rendering skipped. Trying again...\n",
      "Rendering skipped. Trying again...\n",
      "Rendering skipped. Trying again...\n",
      "Rendering skipped. Trying again...\n",
      "Rendering skipped. Trying again...\n",
      "Rendering skipped. Trying again...\n",
      "Rendering skipped. Trying again...\n",
      "Rendering skipped. Trying again...\n",
      "Rendering skipped. Trying again...\n",
      "Rendering skipped. Trying again...\n",
      "Rendering skipped. Trying again...\n",
      "Rendering skipped. Trying again...\n",
      "Rendering skipped. Trying again...\n",
      "Rendering skipped. Trying again...\n",
      "Rendering skipped. Trying again...\n",
      "Rendering skipped. Trying again...\n",
      "Rendering skipped. Trying again...\n",
      "Rendering skipped. Trying again...\n",
      "Rendering skipped. Trying again...\n",
      "Rendering skipped. Trying again...\n",
      "Rendering skipped. Trying again...\n",
      "Rendering skipped. Trying again...\n",
      "Rendering skipped. Trying again...\n",
      "Rendering skipped. Trying again...\n",
      "Rendering skipped. Trying again...\n",
      "Rendering skipped. Trying again...\n",
      "Rendering skipped. Trying again...\n",
      "Rendering skipped. Trying again...\n",
      "Rendering skipped. Trying again...\n",
      "Rendering skipped. Trying again...\n",
      "Rendering skipped. Trying again...\n",
      "Rendering skipped. Trying again...\n",
      "Rendering skipped. Trying again...\n",
      "Rendering skipped. Trying again...\n",
      "Rendering skipped. Trying again...\n",
      "Rendering skipped. Trying again...\n",
      "Rendering skipped. Trying again...\n",
      "Rendering skipped. Trying again...\n",
      "Rendering skipped. Trying again...\n",
      "Rendering skipped. Trying again...\n",
      "Rendering skipped. Trying again...\n",
      "Rendering skipped. Trying again...\n",
      "Rendering skipped. Trying again...\n",
      "Rendering skipped. Trying again...\n",
      "Rendering skipped. Trying again...\n",
      "Rendering skipped. Trying again...\n",
      "Rendering skipped. Trying again...\n",
      "Rendering skipped. Trying again...\n",
      "Rendering skipped. Trying again...\n",
      "Rendering skipped. Trying again...\n",
      "Rendering skipped. Trying again...\n",
      "Rendering skipped. Trying again...\n",
      "Rendering skipped. Trying again...\n",
      "Rendering skipped. Trying again...\n",
      "Rendering skipped. Trying again...\n",
      "Rendering skipped. Trying again...\n",
      "Rendering skipped. Trying again...\n",
      "Rendering skipped. Trying again...\n",
      "Rendering skipped. Trying again...\n",
      "Rendering skipped. Trying again...\n",
      "Rendering skipped. Trying again...\n",
      "Rendering skipped. Trying again...\n",
      "Rendering skipped. Trying again...\n",
      "Rendering skipped. Trying again...\n",
      "Rendering skipped. Trying again...\n",
      "Rendering skipped. Trying again...\n",
      "Rendering skipped. Trying again...\n",
      "Rendering skipped. Trying again...\n",
      "Rendering skipped. Trying again...\n",
      "Rendering skipped. Trying again...\n",
      "Rendering skipped. Trying again...\n",
      "Rendering skipped. Trying again...\n",
      "Rendering skipped. Trying again...\n",
      "Rendering skipped. Trying again...\n",
      "Rendering skipped. Trying again...\n",
      "Rendering skipped. Trying again...\n",
      "Rendering skipped. Trying again...\n",
      "Rendering skipped. Trying again...\n",
      "Rendering skipped. Trying again...\n",
      "Rendering skipped. Trying again...\n",
      "Rendering skipped. Trying again...\n",
      "Rendering skipped. Trying again...\n",
      "Rendering skipped. Trying again...\n",
      "Rendering skipped. Trying again...\n",
      "Rendering skipped. Trying again...\n",
      "Rendering skipped. Trying again...\n",
      "Rendering skipped. Trying again...\n",
      "Rendering skipped. Trying again...\n",
      "Rendering skipped. Trying again...\n",
      "Rendering skipped. Trying again...\n",
      "Rendering skipped. Trying again...\n",
      "Rendering skipped. Trying again...\n",
      "Rendering skipped. Trying again...\n",
      "Rendering skipped. Trying again...\n",
      "Rendering skipped. Trying again...\n",
      "Rendering skipped. Trying again...\n",
      "Rendering skipped. Trying again...\n",
      "Rendering skipped. Trying again...\n",
      "Rendering skipped. Trying again...\n",
      "Rendering skipped. Trying again...\n",
      "Rendering skipped. Trying again...\n",
      "Rendering skipped. Trying again...\n",
      "Rendering skipped. Trying again...\n",
      "Rendering skipped. Trying again...\n",
      "Rendering skipped. Trying again...\n",
      "Rendering skipped. Trying again...\n",
      "Rendering skipped. Trying again...\n",
      "Rendering skipped. Trying again...\n",
      "Rendering skipped. Trying again...\n",
      "Rendering skipped. Trying again...\n",
      "Rendering skipped. Trying again...\n",
      "Rendering skipped. Trying again...\n",
      "Rendering skipped. Trying again...\n",
      "Rendering skipped. Trying again...\n",
      "Rendering skipped. Trying again...\n",
      "Rendering skipped. Trying again...\n",
      "Rendering skipped. Trying again...\n",
      "Rendering skipped. Trying again...\n",
      "Rendering skipped. Trying again...\n",
      "Rendering skipped. Trying again...\n",
      "Rendering skipped. Trying again...\n",
      "Rendering skipped. Trying again...\n",
      "Rendering skipped. Trying again...\n",
      "Rendering skipped. Trying again...\n",
      "Rendering skipped. Trying again...\n",
      "Rendering skipped. Trying again...\n",
      "Rendering skipped. Trying again...\n",
      "Rendering skipped. Trying again...\n",
      "Rendering skipped. Trying again...\n",
      "Rendering skipped. Trying again...\n",
      "Rendering skipped. Trying again...\n",
      "Rendering skipped. Trying again...\n",
      "Rendering skipped. Trying again...\n",
      "Rendering skipped. Trying again...\n",
      "Rendering skipped. Trying again...\n",
      "Rendering skipped. Trying again...\n",
      "Rendering skipped. Trying again...\n",
      "Rendering skipped. Trying again...\n",
      "Rendering skipped. Trying again...\n",
      "Rendering skipped. Trying again...\n",
      "Rendering skipped. Trying again...\n",
      "Rendering skipped. Trying again...\n",
      "Rendering skipped. Trying again...\n",
      "Rendering skipped. Trying again...\n",
      "Rendering skipped. Trying again...\n",
      "Rendering skipped. Trying again...\n",
      "Rendering skipped. Trying again...\n",
      "Rendering skipped. Trying again...\n",
      "Rendering skipped. Trying again...\n",
      "Rendering skipped. Trying again...\n",
      "Rendering skipped. Trying again...\n",
      "Rendering skipped. Trying again...\n",
      "Rendering skipped. Trying again...\n",
      "Rendering skipped. Trying again...\n",
      "Rendering skipped. Trying again...\n",
      "Rendering skipped. Trying again...\n",
      "Rendering skipped. Trying again...\n",
      "Rendering skipped. Trying again...\n",
      "Rendering skipped. Trying again...\n",
      "Rendering skipped. Trying again...\n",
      "Rendering skipped. Trying again...\n",
      "Rendering skipped. Trying again...\n",
      "Rendering skipped. Trying again...\n",
      "Rendering skipped. Trying again...\n",
      "Rendering skipped. Trying again...\n",
      "Rendering skipped. Trying again...\n",
      "Rendering skipped. Trying again...\n",
      "Rendering skipped. Trying again...\n",
      "Rendering skipped. Trying again...\n",
      "Rendering skipped. Trying again...\n",
      "Rendering skipped. Trying again...\n",
      "Rendering skipped. Trying again...\n",
      "Rendering skipped. Trying again...\n",
      "Rendering skipped. Trying again...\n",
      "Rendering skipped. Trying again...\n",
      "Rendering skipped. Trying again...\n",
      "Rendering skipped. Trying again...\n",
      "Rendering skipped. Trying again...\n",
      "Rendering skipped. Trying again...\n",
      "Rendering skipped. Trying again...\n",
      "Rendering skipped. Trying again...\n",
      "Rendering skipped. Trying again...\n",
      "Rendering skipped. Trying again...\n",
      "Rendering skipped. Trying again...\n",
      "Rendering skipped. Trying again...\n",
      "Rendering skipped. Trying again...\n",
      "Rendering skipped. Trying again...\n",
      "Rendering skipped. Trying again...\n",
      "Rendering skipped. Trying again...\n",
      "Rendering skipped. Trying again...\n",
      "Rendering skipped. Trying again...\n",
      "Rendering skipped. Trying again...\n",
      "Rendering skipped. Trying again...\n",
      "Rendering skipped. Trying again...\n",
      "Rendering skipped. Trying again...\n",
      "Rendering skipped. Trying again...\n",
      "Rendering skipped. Trying again...\n",
      "Rendering skipped. Trying again...\n",
      "Rendering skipped. Trying again...\n",
      "Rendering skipped. Trying again...\n",
      "Rendering skipped. Trying again...\n",
      "Rendering skipped. Trying again...\n",
      "Rendering skipped. Trying again...\n",
      "Rendering skipped. Trying again...\n",
      "Rendering skipped. Trying again...\n",
      "Rendering skipped. Trying again...\n",
      "Rendering skipped. Trying again...\n",
      "Rendering skipped. Trying again...\n",
      "Rendering skipped. Trying again...\n",
      "Rendering skipped. Trying again...\n",
      "Rendering skipped. Trying again...\n",
      "Rendering skipped. Trying again...\n",
      "Rendering skipped. Trying again...\n",
      "Rendering skipped. Trying again...\n",
      "Rendering skipped. Trying again...\n",
      "Rendering skipped. Trying again...\n",
      "Rendering skipped. Trying again...\n",
      "Rendering skipped. Trying again...\n",
      "Rendering skipped. Trying again...\n",
      "Rendering skipped. Trying again...\n",
      "Rendering skipped. Trying again...\n",
      "Rendering skipped. Trying again...\n",
      "Rendering skipped. Trying again...\n",
      "Rendering skipped. Trying again...\n",
      "Rendering skipped. Trying again...\n",
      "Rendering skipped. Trying again...\n",
      "Rendering skipped. Trying again...\n",
      "Rendering skipped. Trying again...\n",
      "Rendering skipped. Trying again...\n",
      "Rendering skipped. Trying again...\n",
      "Rendering skipped. Trying again...\n",
      "Rendering skipped. Trying again...\n",
      "Rendering skipped. Trying again...\n",
      "Rendering skipped. Trying again...\n",
      "Rendering skipped. Trying again...\n",
      "Rendering skipped. Trying again...\n",
      "Rendering skipped. Trying again...\n",
      "Rendering skipped. Trying again...\n",
      "Rendering skipped. Trying again...\n",
      "Rendering skipped. Trying again...\n",
      "Rendering skipped. Trying again...\n",
      "Rendering skipped. Trying again...\n",
      "Rendering skipped. Trying again...\n",
      "Rendering skipped. Trying again...\n",
      "Rendering skipped. Trying again...\n",
      "Rendering skipped. Trying again...\n",
      "Rendering skipped. Trying again...\n",
      "Rendering skipped. Trying again...\n",
      "Rendering skipped. Trying again...\n",
      "Rendering skipped. Trying again...\n",
      "Rendering skipped. Trying again...\n",
      "Rendering skipped. Trying again...\n",
      "Rendering skipped. Trying again...\n",
      "Rendering skipped. Trying again...\n",
      "Rendering skipped. Trying again...\n",
      "Rendering skipped. Trying again...\n",
      "Rendering skipped. Trying again...\n",
      "Rendering skipped. Trying again...\n",
      "Rendering skipped. Trying again...\n",
      "Rendering skipped. Trying again...\n",
      "Rendering skipped. Trying again...\n",
      "Rendering skipped. Trying again...\n",
      "Rendering skipped. Trying again...\n",
      "Rendering skipped. Trying again...\n",
      "Rendering skipped. Trying again...\n",
      "Rendering skipped. Trying again...\n",
      "Rendering skipped. Trying again...\n",
      "Rendering skipped. Trying again...\n",
      "Rendering skipped. Trying again...\n",
      "Rendering skipped. Trying again...\n",
      "Rendering skipped. Trying again...\n",
      "Rendering skipped. Trying again...\n",
      "Rendering skipped. Trying again...\n",
      "Rendering skipped. Trying again...\n",
      "Rendering skipped. Trying again...\n",
      "Rendering skipped. Trying again...\n",
      "Rendering skipped. Trying again...\n",
      "Rendering skipped. Trying again...\n",
      "Rendering skipped. Trying again...\n",
      "Rendering skipped. Trying again...\n",
      "Rendering skipped. Trying again...\n",
      "Rendering skipped. Trying again...\n",
      "Rendering skipped. Trying again...\n",
      "Rendering skipped. Trying again...\n",
      "Rendering skipped. Trying again...\n",
      "Rendering skipped. Trying again...\n",
      "Rendering skipped. Trying again...\n",
      "Rendering skipped. Trying again...\n",
      "Rendering skipped. Trying again...\n",
      "Rendering skipped. Trying again...\n",
      "Rendering skipped. Trying again...\n",
      "Rendering skipped. Trying again...\n",
      "Rendering skipped. Trying again...\n",
      "Rendering skipped. Trying again...\n",
      "Rendering skipped. Trying again...\n",
      "Rendering skipped. Trying again...\n",
      "Rendering skipped. Trying again...\n",
      "Rendering skipped. Trying again...\n",
      "Rendering skipped. Trying again...\n",
      "Rendering skipped. Trying again...\n",
      "Rendering skipped. Trying again...\n",
      "Rendering skipped. Trying again...\n",
      "Rendering skipped. Trying again...\n",
      "Rendering skipped. Trying again...\n",
      "Rendering skipped. Trying again...\n",
      "Rendering skipped. Trying again...\n",
      "Rendering skipped. Trying again...\n",
      "Rendering skipped. Trying again...\n",
      "Rendering skipped. Trying again...\n",
      "Rendering skipped. Trying again...\n",
      "Rendering skipped. Trying again...\n",
      "Rendering skipped. Trying again...\n",
      "Rendering skipped. Trying again...\n",
      "Rendering skipped. Trying again...\n",
      "Rendering skipped. Trying again...\n",
      "Rendering skipped. Trying again...\n",
      "Rendering skipped. Trying again...\n",
      "Rendering skipped. Trying again...\n",
      "Rendering skipped. Trying again...\n",
      "Rendering skipped. Trying again...\n",
      "Rendering skipped. Trying again...\n",
      "Rendering skipped. Trying again...\n",
      "Rendering skipped. Trying again...\n",
      "Rendering skipped. Trying again...\n",
      "Rendering skipped. Trying again...\n",
      "Rendering skipped. Trying again...\n",
      "Rendering skipped. Trying again...\n",
      "Rendering skipped. Trying again...\n",
      "Rendering skipped. Trying again...\n",
      "Rendering skipped. Trying again...\n",
      "Rendering skipped. Trying again...\n",
      "Rendering skipped. Trying again...\n",
      "Rendering skipped. Trying again...\n",
      "Rendering skipped. Trying again...\n",
      "Rendering skipped. Trying again...\n",
      "Rendering skipped. Trying again...\n",
      "Rendering skipped. Trying again...\n",
      "Rendering skipped. Trying again...\n",
      "Rendering skipped. Trying again...\n",
      "Rendering skipped. Trying again...\n",
      "Rendering skipped. Trying again...\n",
      "Rendering skipped. Trying again...\n",
      "Rendering skipped. Trying again...\n",
      "Rendering skipped. Trying again...\n",
      "Rendering skipped. Trying again...\n",
      "Rendering skipped. Trying again...\n",
      "Rendering skipped. Trying again...\n",
      "Rendering skipped. Trying again...\n",
      "Rendering skipped. Trying again...\n",
      "Rendering skipped. Trying again...\n",
      "Rendering skipped. Trying again...\n",
      "Rendering skipped. Trying again...\n",
      "Rendering skipped. Trying again...\n",
      "Rendering skipped. Trying again...\n",
      "Rendering skipped. Trying again...\n",
      "Rendering skipped. Trying again...\n",
      "Rendering skipped. Trying again...\n",
      "Rendering skipped. Trying again...\n",
      "Rendering skipped. Trying again...\n",
      "Rendering skipped. Trying again...\n",
      "Rendering skipped. Trying again...\n",
      "Rendering skipped. Trying again...\n",
      "Rendering skipped. Trying again...\n",
      "Rendering skipped. Trying again...\n",
      "Rendering skipped. Trying again...\n",
      "Rendering skipped. Trying again...\n",
      "Rendering skipped. Trying again...\n",
      "Rendering skipped. Trying again...\n",
      "Rendering skipped. Trying again...\n",
      "Rendering skipped. Trying again...\n",
      "Rendering skipped. Trying again...\n",
      "Rendering skipped. Trying again...\n",
      "Rendering skipped. Trying again...\n",
      "Rendering skipped. Trying again...\n",
      "Rendering skipped. Trying again...\n",
      "Rendering skipped. Trying again...\n",
      "Rendering skipped. Trying again...\n",
      "Rendering skipped. Trying again...\n",
      "Rendering skipped. Trying again...\n",
      "Rendering skipped. Trying again...\n",
      "Rendering skipped. Trying again...\n",
      "Rendering skipped. Trying again...\n",
      "Rendering skipped. Trying again...\n",
      "Rendering skipped. Trying again...\n",
      "Rendering skipped. Trying again...\n",
      "Rendering skipped. Trying again...\n",
      "Rendering skipped. Trying again...\n",
      "Rendering skipped. Trying again...\n",
      "Rendering skipped. Trying again...\n",
      "Rendering skipped. Trying again...\n",
      "Rendering skipped. Trying again...\n",
      "Rendering skipped. Trying again...\n",
      "Rendering skipped. Trying again...\n",
      "Rendering skipped. Trying again...\n",
      "Rendering skipped. Trying again...\n",
      "Rendering skipped. Trying again...\n",
      "Rendering skipped. Trying again...\n",
      "Rendering skipped. Trying again...\n",
      "Rendering skipped. Trying again...\n",
      "Rendering skipped. Trying again...\n",
      "Rendering skipped. Trying again...\n",
      "Rendering skipped. Trying again...\n",
      "Rendering skipped. Trying again...\n",
      "Rendering skipped. Trying again...\n",
      "Rendering skipped. Trying again...\n",
      "Rendering skipped. Trying again...\n",
      "Rendering skipped. Trying again...\n",
      "Rendering skipped. Trying again...\n",
      "Rendering skipped. Trying again...\n",
      "Rendering skipped. Trying again...\n",
      "Rendering skipped. Trying again...\n",
      "Rendering skipped. Trying again...\n",
      "Rendering skipped. Trying again...\n",
      "Rendering skipped. Trying again...\n",
      "Rendering skipped. Trying again...\n",
      "Rendering skipped. Trying again...\n",
      "Rendering skipped. Trying again...\n",
      "Rendering skipped. Trying again...\n",
      "Rendering skipped. Trying again...\n",
      "Rendering skipped. Trying again...\n",
      "Rendering skipped. Trying again...\n",
      "Rendering skipped. Trying again...\n",
      "Rendering skipped. Trying again...\n",
      "Rendering skipped. Trying again...\n",
      "Rendering skipped. Trying again...\n",
      "Rendering skipped. Trying again...\n",
      "Rendering skipped. Trying again...\n",
      "Rendering skipped. Trying again...\n",
      "Rendering skipped. Trying again...\n",
      "Rendering skipped. Trying again...\n",
      "Rendering skipped. Trying again...\n",
      "Rendering skipped. Trying again...\n",
      "Rendering skipped. Trying again...\n",
      "Rendering skipped. Trying again...\n",
      "Rendering skipped. Trying again...\n",
      "Rendering skipped. Trying again...\n",
      "Rendering skipped. Trying again...\n",
      "Rendering skipped. Trying again...\n",
      "Rendering skipped. Trying again...\n",
      "Rendering skipped. Trying again...\n",
      "Rendering skipped. Trying again...\n",
      "Rendering skipped. Trying again...\n",
      "Rendering skipped. Trying again...\n",
      "Rendering skipped. Trying again...\n",
      "Rendering skipped. Trying again...\n",
      "Rendering skipped. Trying again...\n",
      "Rendering skipped. Trying again...\n",
      "Rendering skipped. Trying again...\n",
      "Rendering skipped. Trying again...\n",
      "Rendering skipped. Trying again...\n",
      "Rendering skipped. Trying again...\n",
      "Rendering skipped. Trying again...\n",
      "Rendering skipped. Trying again...\n",
      "Rendering skipped. Trying again...\n",
      "Rendering skipped. Trying again...\n",
      "Rendering skipped. Trying again...\n",
      "Rendering skipped. Trying again...\n",
      "Rendering skipped. Trying again...\n",
      "Rendering skipped. Trying again...\n",
      "Rendering skipped. Trying again...\n",
      "Rendering skipped. Trying again...\n",
      "Rendering skipped. Trying again...\n",
      "Rendering skipped. Trying again...\n",
      "Rendering skipped. Trying again...\n",
      "Rendering skipped. Trying again...\n",
      "Rendering skipped. Trying again...\n",
      "Rendering skipped. Trying again...\n",
      "Rendering skipped. Trying again...\n",
      "Rendering skipped. Trying again...\n",
      "Rendering skipped. Trying again...\n",
      "Rendering skipped. Trying again...\n",
      "Rendering skipped. Trying again...\n",
      "Rendering skipped. Trying again...\n",
      "Rendering skipped. Trying again...\n",
      "Rendering skipped. Trying again...\n",
      "Rendering skipped. Trying again...\n",
      "Rendering skipped. Trying again...\n",
      "Rendering skipped. Trying again...\n",
      "Rendering skipped. Trying again...\n",
      "Rendering skipped. Trying again...\n",
      "Rendering skipped. Trying again...\n",
      "Rendering skipped. Trying again...\n",
      "Rendering skipped. Trying again...\n",
      "Rendering skipped. Trying again...\n",
      "Rendering skipped. Trying again...\n",
      "Rendering skipped. Trying again...\n",
      "Rendering skipped. Trying again...\n",
      "Rendering skipped. Trying again...\n",
      "Rendering skipped. Trying again...\n",
      "Rendering skipped. Trying again...\n",
      "Rendering skipped. Trying again...\n",
      "Rendering skipped. Trying again...\n",
      "Rendering skipped. Trying again...\n",
      "Rendering skipped. Trying again...\n",
      "Rendering skipped. Trying again...\n",
      "Rendering skipped. Trying again...\n",
      "Rendering skipped. Trying again...\n",
      "Rendering skipped. Trying again...\n",
      "Rendering skipped. Trying again...\n",
      "Rendering skipped. Trying again...\n",
      "Rendering skipped. Trying again...\n",
      "Rendering skipped. Trying again...\n",
      "Rendering skipped. Trying again...\n",
      "Rendering skipped. Trying again...\n",
      "Rendering skipped. Trying again...\n",
      "Rendering skipped. Trying again...\n",
      "Rendering skipped. Trying again...\n",
      "Rendering skipped. Trying again...\n",
      "Rendering skipped. Trying again...\n",
      "Rendering skipped. Trying again...\n",
      "Rendering skipped. Trying again...\n",
      "Rendering skipped. Trying again...\n",
      "Rendering skipped. Trying again...\n",
      "Rendering skipped. Trying again...\n",
      "Rendering skipped. Trying again...\n",
      "Rendering skipped. Trying again...\n",
      "Rendering skipped. Trying again...\n",
      "Rendering skipped. Trying again...\n",
      "Rendering skipped. Trying again...\n",
      "Rendering skipped. Trying again...\n",
      "Rendering skipped. Trying again...\n",
      "Rendering skipped. Trying again...\n",
      "Rendering skipped. Trying again...\n",
      "Rendering skipped. Trying again...\n",
      "Rendering skipped. Trying again...\n",
      "Rendering skipped. Trying again...\n",
      "Rendering skipped. Trying again...\n",
      "Rendering skipped. Trying again...\n",
      "Rendering skipped. Trying again...\n",
      "Rendering skipped. Trying again...\n",
      "Rendering skipped. Trying again...\n",
      "Rendering skipped. Trying again...\n",
      "Rendering skipped. Trying again...\n",
      "Rendering skipped. Trying again...\n",
      "Rendering skipped. Trying again...\n",
      "Rendering skipped. Trying again...\n",
      "Rendering skipped. Trying again...\n",
      "Rendering skipped. Trying again...\n",
      "Rendering skipped. Trying again...\n",
      "Rendering skipped. Trying again...\n",
      "Rendering skipped. Trying again...\n",
      "Rendering skipped. Trying again...\n",
      "Rendering skipped. Trying again...\n",
      "Rendering skipped. Trying again...\n",
      "Rendering skipped. Trying again...\n",
      "Rendering skipped. Trying again...\n",
      "Rendering skipped. Trying again...\n",
      "Rendering skipped. Trying again...\n",
      "Rendering skipped. Trying again...\n",
      "Rendering skipped. Trying again...\n",
      "Rendering skipped. Trying again...\n",
      "Rendering skipped. Trying again...\n",
      "Rendering skipped. Trying again...\n",
      "Rendering skipped. Trying again...\n",
      "Rendering skipped. Trying again...\n",
      "Rendering skipped. Trying again...\n",
      "Rendering skipped. Trying again...\n",
      "Rendering skipped. Trying again...\n",
      "Rendering skipped. Trying again...\n",
      "Rendering skipped. Trying again...\n",
      "Rendering skipped. Trying again...\n",
      "Rendering skipped. Trying again...\n",
      "Rendering skipped. Trying again...\n",
      "Rendering skipped. Trying again...\n",
      "Rendering skipped. Trying again...\n",
      "Rendering skipped. Trying again...\n",
      "Rendering skipped. Trying again...\n",
      "Rendering skipped. Trying again...\n",
      "Rendering skipped. Trying again...\n",
      "Rendering skipped. Trying again...\n",
      "Rendering skipped. Trying again...\n",
      "Rendering skipped. Trying again...\n",
      "Rendering skipped. Trying again...\n",
      "Rendering skipped. Trying again...\n",
      "Rendering skipped. Trying again...\n",
      "Rendering skipped. Trying again...\n",
      "Rendering skipped. Trying again...\n",
      "Rendering skipped. Trying again...\n",
      "Rendering skipped. Trying again...\n",
      "Rendering skipped. Trying again...\n",
      "Rendering skipped. Trying again...\n",
      "Rendering skipped. Trying again...\n",
      "Rendering skipped. Trying again...\n",
      "Rendering skipped. Trying again...\n",
      "Rendering skipped. Trying again...\n",
      "Rendering skipped. Trying again...\n",
      "Rendering skipped. Trying again...\n",
      "Rendering skipped. Trying again...\n",
      "Rendering skipped. Trying again...\n",
      "Rendering skipped. Trying again...\n",
      "Rendering skipped. Trying again...\n",
      "Rendering skipped. Trying again...\n",
      "Rendering skipped. Trying again...\n",
      "Rendering skipped. Trying again...\n",
      "Rendering skipped. Trying again...\n",
      "Rendering skipped. Trying again...\n",
      "Rendering skipped. Trying again...\n",
      "Rendering skipped. Trying again...\n",
      "Rendering skipped. Trying again...\n",
      "Rendering skipped. Trying again...\n",
      "Rendering skipped. Trying again...\n",
      "Rendering skipped. Trying again...\n",
      "Rendering skipped. Trying again...\n",
      "Rendering skipped. Trying again...\n",
      "Rendering skipped. Trying again...\n",
      "Rendering skipped. Trying again...\n",
      "Rendering skipped. Trying again...\n",
      "Rendering skipped. Trying again...\n",
      "Rendering skipped. Trying again...\n",
      "Rendering skipped. Trying again...\n",
      "Rendering skipped. Trying again...\n",
      "Rendering skipped. Trying again...\n",
      "Rendering skipped. Trying again...\n",
      "Rendering skipped. Trying again...\n",
      "Rendering skipped. Trying again...\n",
      "Rendering skipped. Trying again...\n",
      "Rendering skipped. Trying again...\n",
      "Rendering skipped. Trying again...\n",
      "Rendering skipped. Trying again...\n",
      "Rendering skipped. Trying again...\n",
      "Rendering skipped. Trying again...\n",
      "Rendering skipped. Trying again...\n",
      "Rendering skipped. Trying again...\n",
      "Rendering skipped. Trying again...\n",
      "Rendering skipped. Trying again...\n",
      "Rendering skipped. Trying again...\n",
      "Rendering skipped. Trying again...\n",
      "Rendering skipped. Trying again...\n",
      "Rendering skipped. Trying again...\n",
      "Rendering skipped. Trying again...\n",
      "Rendering skipped. Trying again...\n",
      "Rendering skipped. Trying again...\n",
      "Rendering skipped. Trying again...\n",
      "Rendering skipped. Trying again...\n",
      "Rendering skipped. Trying again...\n",
      "Rendering skipped. Trying again...\n",
      "Rendering skipped. Trying again...\n",
      "Rendering skipped. Trying again...\n",
      "Rendering skipped. Trying again...\n",
      "Rendering skipped. Trying again...\n",
      "Rendering skipped. Trying again...\n",
      "Rendering skipped. Trying again...\n",
      "Rendering skipped. Trying again...\n",
      "Rendering skipped. Trying again...\n",
      "Rendering skipped. Trying again...\n",
      "Rendering skipped. Trying again...\n",
      "Rendering skipped. Trying again...\n",
      "Rendering skipped. Trying again...\n",
      "Rendering skipped. Trying again...\n",
      "Rendering skipped. Trying again...\n",
      "Rendering skipped. Trying again...\n",
      "Rendering skipped. Trying again...\n",
      "Rendering skipped. Trying again...\n",
      "Rendering skipped. Trying again...\n",
      "Rendering skipped. Trying again...\n",
      "Rendering skipped. Trying again...\n",
      "Rendering skipped. Trying again...\n",
      "Rendering skipped. Trying again...\n",
      "Rendering skipped. Trying again...\n",
      "Rendering skipped. Trying again...\n",
      "Rendering skipped. Trying again...\n",
      "Rendering skipped. Trying again...\n",
      "Rendering skipped. Trying again...\n",
      "Rendering skipped. Trying again...\n",
      "Rendering skipped. Trying again...\n",
      "Rendering skipped. Trying again...\n",
      "No frames to save. Rendering issue.\n"
     ]
    }
   ],
   "source": [
    "import gym\n",
    "import torch\n",
    "from PIL import Image, ImageDraw, ImageFont\n",
    "import imageio\n",
    "import numpy as np\n",
    "\n",
    "# Add this function to your code\n",
    "def add_text_to_image(img, text, position=(20, 20), font_size=18, fill_color=(255, 255, 255)):\n",
    "    img = Image.fromarray(img)\n",
    "    font = ImageFont.truetype('arial.ttf', font_size)\n",
    "    draw = ImageDraw.Draw(img)\n",
    "    draw.text(position, text, font=font, fill=fill_color)\n",
    "    return np.array(img)\n",
    "\n",
    "# Add this function to your code\n",
    "def create_gif(frames, filename, path=\"gifs/\", fps=60):\n",
    "    if not frames:\n",
    "        print(\"No frames to save. Rendering issue.\")\n",
    "        return\n",
    "\n",
    "    if not os.path.exists(path):\n",
    "        os.makedirs(path)\n",
    "\n",
    "    print(\"Saving gif...\", end=\"\")\n",
    "    imageio.mimsave(path + filename + \".gif\", frames, fps=fps)\n",
    "    print(\"Done!\")\n",
    "\n",
    "# Parameters\n",
    "num_episodes = 5\n",
    "max_steps_per_episode = 500\n",
    "\n",
    "# Generate GIF frames\n",
    "# Generate GIF frames\n",
    "# Generate GIF frames\n",
    "gif_frames = []\n",
    "for episode in range(num_episodes):\n",
    "    state = env.reset()\n",
    "    episode_score = 0\n",
    "\n",
    "    for step in range(max_steps_per_episode):\n",
    "        # Render the environment\n",
    "        frame = env.render()\n",
    "        if frame is not None:\n",
    "            # Add score text to the frame\n",
    "            frame_with_text = add_text_to_image(frame, f\"Score: {episode_score:.2f}\")\n",
    "\n",
    "            # Append the frame to the list of frames\n",
    "            gif_frames.append(frame_with_text)\n",
    "\n",
    "            # Choose an action using the trained DQN model\n",
    "            state_tensor = torch.FloatTensor(state)\n",
    "            action = torch.argmax(model(state_tensor)).item()\n",
    "\n",
    "            # Take the chosen action\n",
    "            next_state, reward, done, _, _ = env.step(action)\n",
    "            state = next_state\n",
    "            episode_score += reward\n",
    "\n",
    "            # Break if the episode is done\n",
    "            if done:\n",
    "                break\n",
    "        else:\n",
    "            print(\"Rendering skipped. Trying again...\")\n",
    "\n",
    "# Close the environment\n",
    "env.close()\n",
    "\n",
    "# Create and save the GIF\n",
    "create_gif(gif_frames, \"lunarlander_animation.gif\")\n"
   ]
  },
  {
   "cell_type": "code",
   "execution_count": 51,
   "metadata": {},
   "outputs": [
    {
     "data": {
      "text/plain": [
       "tensor([ 0.0020,  1.4194,  0.2018,  0.3763, -0.0023, -0.0457,  0.0000,  0.0000])"
      ]
     },
     "execution_count": 51,
     "metadata": {},
     "output_type": "execute_result"
    }
   ],
   "source": [
    "state_tensor = torch.FloatTensor(state[0])\n",
    "state_tensor"
   ]
  },
  {
   "cell_type": "code",
   "execution_count": null,
   "metadata": {},
   "outputs": [],
   "source": []
  },
  {
   "cell_type": "code",
   "execution_count": null,
   "metadata": {},
   "outputs": [],
   "source": []
  }
 ],
 "metadata": {
  "kernelspec": {
   "display_name": "test_ai",
   "language": "python",
   "name": "python3"
  },
  "language_info": {
   "codemirror_mode": {
    "name": "ipython",
    "version": 3
   },
   "file_extension": ".py",
   "mimetype": "text/x-python",
   "name": "python",
   "nbconvert_exporter": "python",
   "pygments_lexer": "ipython3",
   "version": "3.8.17"
  },
  "orig_nbformat": 4
 },
 "nbformat": 4,
 "nbformat_minor": 2
}
